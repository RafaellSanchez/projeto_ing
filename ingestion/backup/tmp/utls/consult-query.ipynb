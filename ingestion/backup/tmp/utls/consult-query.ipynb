{
 "cells": [
  {
   "cell_type": "code",
   "execution_count": 1,
   "metadata": {},
   "outputs": [],
   "source": [
    "import sqlite3\n",
    "import pandas as pd"
   ]
  },
  {
   "cell_type": "code",
   "execution_count": 2,
   "metadata": {},
   "outputs": [
    {
     "name": "stdout",
     "output_type": "stream",
     "text": [
      "Tabelas no banco de dados:\n",
      "(\"New Year's Day\", 'New Year’s Day is the first day of the year, or January 1, in the Gregorian calendar.', '2024-01-01', 2024, 1, 1)\n",
      "('Carnival Friday', 'Carnival Friday is a observance in Brazil', '2024-02-09', 2024, 2, 9)\n",
      "('Carnival Saturday', 'Carnival Saturday is a observance in Brazil', '2024-02-10', 2024, 2, 10)\n",
      "('Carnival Sunday', 'Carnival Sunday is a observance in Brazil', '2024-02-11', 2024, 2, 11)\n",
      "('Carnival Monday', 'Carnival Monday is a government holiday in Brazil', '2024-02-12', 2024, 2, 12)\n",
      "('Carnival Tuesday', 'Carnival has several long-standing traditions in Brazil.', '2024-02-13', 2024, 2, 13)\n",
      "('Carnival end (until 2pm)', 'Ash Wednesday marks the first day of Lent in western Christian churches.', '2024-02-14', 2024, 2, 14)\n",
      "('March Equinox', 'March Equinox in Brazil (Brasilia)', '2024-03-20T00:06:28-03:00', 2024, 3, 20)\n",
      "('Good Friday', 'Good Friday is a global Christian observance two days before Easter Sunday.', '2024-03-29', 2024, 3, 29)\n",
      "('Easter Sunday', 'Easter Sunday commemorates Jesus Christ’s resurrection, according to Christian belief.', '2024-03-31', 2024, 3, 31)\n",
      "('Tiradentes Day', 'Tiradentes Day is a national holiday in Brazil', '2024-04-21', 2024, 4, 21)\n",
      "('Labor Day / May Day', \"Labor Day, International Workers' Day, and May Day, is a day off for workers in many countries around the world.\", '2024-05-01', 2024, 5, 1)\n",
      "(\"Mother's Day\", 'Mother’s Day celebrates the achievements and efforts of mothers and mother figures.', '2024-05-12', 2024, 5, 12)\n",
      "('Corpus Christi', 'Corpus Christi is a Christian feast in honor of the Holy Eucharist.', '2024-05-30', 2024, 5, 30)\n",
      "(\"Brazilian Valentine's Day\", \"Brazilian Valentine's Day is a observance in Brazil\", '2024-06-12', 2024, 6, 12)\n",
      "('June Solstice', 'June Solstice in Brazil (Brasilia)', '2024-06-20T17:50:59-03:00', 2024, 6, 20)\n",
      "(\"Father's Day\", 'Father’s Day celebrates fatherhood and male parenting on different dates worldwide.', '2024-08-11', 2024, 8, 11)\n",
      "('Independence Day', 'Independence Day is a national holiday in Brazil', '2024-09-07', 2024, 9, 7)\n",
      "('September Equinox', 'September Equinox in Brazil (Brasilia)', '2024-09-22T09:43:33-03:00', 2024, 9, 22)\n",
      "(\"Our Lady of Aparecida / Children's Day\", \"Our Lady of Aparecida / Children's Day is a national holiday in Brazil\", '2024-10-12', 2024, 10, 12)\n",
      "(\"Teacher's Day\", \"Teacher's Day is a observance in Brazil\", '2024-10-15', 2024, 10, 15)\n",
      "('Public Service Holiday', 'Public Service Holiday is a government holiday in Brazil', '2024-10-28', 2024, 10, 28)\n",
      "(\"All Souls' Day\", 'All Souls’ Day falls on November 2 each year. It is a day of alms giving and prayers for the dead.', '2024-11-02', 2024, 11, 2)\n",
      "('Republic Proclamation Day', 'Republic Proclamation Day is a national holiday in Brazil', '2024-11-15', 2024, 11, 15)\n",
      "('Black Awareness Day', 'Black Awareness Day is a national holiday in Brazil', '2024-11-20', 2024, 11, 20)\n",
      "('December Solstice', 'December Solstice in Brazil (Brasilia)', '2024-12-21T06:20:34-03:00', 2024, 12, 21)\n",
      "('Christmas Eve (from 2pm)', 'Christmas Eve is the day before Christmas Day and falls on December 24 in the Gregorian calendar.', '2024-12-24', 2024, 12, 24)\n",
      "('Christmas Day', 'Christmas Day is one of the biggest Christian celebrations and falls on December 25 in the Gregorian calendar.', '2024-12-25', 2024, 12, 25)\n",
      "(\"New Year's Eve (from 2pm)\", 'New Year’s Eve is the last day of the year, December 31, in the Gregorian calendar.', '2024-12-31', 2024, 12, 31)\n"
     ]
    }
   ],
   "source": [
    "banco = \"banco_calendario.db\"\n",
    "banco_caminho = f'/workspaces/projeto_ing/INGESTION/database/{banco}'\n",
    "conn = sqlite3.connect(banco_caminho)\n",
    "cursor = conn.cursor()\n",
    "\n",
    "query = 'select * from tabela_calendario'\n",
    "\n",
    "cursor.execute(query)\n",
    "\n",
    "# Recuperando e imprimindo o resultado\n",
    "tables = cursor.fetchall()\n",
    "\n",
    "print(\"Tabelas no banco de dados:\")\n",
    "for table in tables:\n",
    "    print(table)\n",
    "\n",
    "# Fechando a conexão\n",
    "conn.close()"
   ]
  }
 ],
 "metadata": {
  "kernelspec": {
   "display_name": "Python 3",
   "language": "python",
   "name": "python3"
  },
  "language_info": {
   "codemirror_mode": {
    "name": "ipython",
    "version": 3
   },
   "file_extension": ".py",
   "mimetype": "text/x-python",
   "name": "python",
   "nbconvert_exporter": "python",
   "pygments_lexer": "ipython3",
   "version": "3.10.13"
  }
 },
 "nbformat": 4,
 "nbformat_minor": 2
}
