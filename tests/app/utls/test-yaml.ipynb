{
 "cells": [
  {
   "cell_type": "code",
   "execution_count": null,
   "id": "24f252ea",
   "metadata": {},
   "outputs": [
    {
     "name": "stdout",
     "output_type": "stream",
     "text": [
      "Tabela: usuarios\n",
      "Coluna obrigatória: id (inteiro)\n",
      "Coluna obrigatória: nome (texto)\n"
     ]
    }
   ],
   "source": [
    "import yaml\n",
    "\n",
    "# Lê o YAML\n",
    "with open('/workspaces/projeto_ing/tests/app/utls/test.yaml', 'r') as f:\n",
    "    layout = yaml.safe_load(f)\n",
    "\n",
    "# Exemplo: pegar nome da tabela e colunas obrigatórias\n",
    "print(f\"Tabela: {layout['tabela']}\")\n",
    "for coluna in layout['colunas']:\n",
    "    if coluna['obrigatorio']:\n",
    "        print(f\"Coluna obrigatória: {coluna['nome']} ({coluna['tipo']})\")\n",
    "        \n"
   ]
  },
  {
   "cell_type": "code",
   "execution_count": null,
   "id": "8b1e6555",
   "metadata": {},
   "outputs": [],
   "source": []
  }
 ],
 "metadata": {
  "kernelspec": {
   "display_name": "Python 3",
   "language": "python",
   "name": "python3"
  },
  "language_info": {
   "codemirror_mode": {
    "name": "ipython",
    "version": 3
   },
   "file_extension": ".py",
   "mimetype": "text/x-python",
   "name": "python",
   "nbconvert_exporter": "python",
   "pygments_lexer": "ipython3",
   "version": "3.10.13"
  }
 },
 "nbformat": 4,
 "nbformat_minor": 5
}
