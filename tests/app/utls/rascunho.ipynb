{
 "cells": [
  {
   "cell_type": "code",
   "execution_count": null,
   "metadata": {},
   "outputs": [],
   "source": [
    "\n",
    "\n",
    "# #transformacao df\n",
    "# df = pd.read_csv(f'{src_arquivo}', delimiter=';', usecols=lambda column: column !='Unnamed: 0')\n",
    "# df['nome_arquivo'] = nome_arquivo\n",
    "# data = nome_arquivo[17:32]\n",
    "# df['data_arquivo'] = data\n",
    "\n",
    "# df_ccep = df['cep'].str.replace(r'-', '')\n",
    "# df_cep =df['cep'].str.extract(r'(\\d{5})-\\d{3}')\n",
    "# df_cep_compl = df['cep'].str.extract(r'(-\\d{3})')\n",
    "# df['ccep'] = df_ccep\n",
    "# df['cep_loc'] = df_cep\n",
    "# df['cep_compl'] = df_cep_compl\n",
    "# df_rplc = df['cep_compl'].str.replace('-', '')\n",
    "# df['ccep_compl'] = df_rplc\n",
    "# columns = ['cep', 'cep_compl']\n",
    "# df.drop(columns, inplace=True, axis=1)\n",
    "\n",
    "# df['ccep'].astype(int)\n",
    "# df['cep_loc'].astype(int)\n",
    "# df['ccep_compl'].astype(int)\n",
    "# conn_bronze.close()\n",
    "\n",
    "# silver = '/workspaces/projeto_ing/database/sqlite/silver/bank.db'\n",
    "# conn_silver = sqlite3.connect(silver)"
   ]
  }
 ],
 "metadata": {
  "language_info": {
   "name": "python"
  }
 },
 "nbformat": 4,
 "nbformat_minor": 2
}
