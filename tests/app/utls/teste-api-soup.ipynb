{
 "cells": [
  {
   "cell_type": "code",
   "execution_count": null,
   "metadata": {},
   "outputs": [
    {
     "name": "stdout",
     "output_type": "stream",
     "text": [
      "b'<html>\\r\\n<head><title>403 Forbidden</title></head>\\r\\n<body>\\r\\n<center><h1>403 Forbidden</h1></center>\\r\\n<hr><center>nginx</center>\\r\\n</body>\\r\\n</html>\\r\\n'\n",
      "403\n"
     ]
    }
   ],
   "source": [
    "import requests\n",
    "url = 'https://www.indeed.com/jobs?q=web+developer&l=New+York'\n",
    "page = requests.get(url)\n",
    "print(page.content)\n",
    "print(page.status_code)"
   ]
  },
  {
   "cell_type": "code",
   "execution_count": 58,
   "metadata": {},
   "outputs": [
    {
     "name": "stdout",
     "output_type": "stream",
     "text": [
      "[<div class=\"gnav-links\"> <button aria-label=\"Primary navigation\" class=\"gnav-links-button\" tabindex=\"0\"> <img height=\"24\" src=\"data:image/svg+xml;base64,PHN2ZyB3aWR0aD0iMjQiIGhlaWdodD0iMjQiIGZpbGw9Im5vbmUiIHhtbG5zPSJodHRwOi8vd3d3LnczLm9yZy8yMDAwL3N2ZyI+PHBhdGggZD0iTTMuNSA2aDE3YS41LjUgMCAwIDEgLjUuNXYxYS41LjUgMCAwIDEtLjUuNWgtMTdhLjUuNSAwIDAgMS0uNS0uNXYtMWEuNS41IDAgMCAxIC41LS41Wk0yMC41IDExaC0xN2EuNS41IDAgMCAwLS41LjV2MWEuNS41IDAgMCAwIC41LjVoMTdhLjUuNSAwIDAgMCAuNS0uNXYtMWEuNS41IDAgMCAwLS41LS41Wk0yMC41IDE2aC0xN2EuNS41IDAgMCAwLS41LjV2MWEuNS41IDAgMCAwIC41LjVoMTdhLjUuNSAwIDAgMCAuNS0uNXYtMWEuNS41IDAgMCAwLS41LS41WiIgZmlsbD0iIzJEMkQyRCIvPjwvc3ZnPg==\" width=\"24\"/> </button> <ul class=\"gnav-links-list\"> <li> <a href=\"https://www.indeed.com/promo/resume\">Upload your resume</a> </li> <li class=\"link-signin\"> <a href=\"https://secure.indeed.com/account/login?hl=en_US&amp;co=US&amp;continue=https%3A%2F%2Fwww.indeed.com\">Sign in</a> </li> <li> <a href=\"https://www.indeed.com/hire?co=US&amp;hl=en&amp;ikw=gnav-header-hire&amp;isid=employerlink-US\">Employers / Post Job</a> </li> <li class=\"gnav-mobile-link\"> <a href=\"https://www.indeed.com/\">Find jobs</a> </li> <li class=\"gnav-mobile-link\"> <a href=\"https://www.indeed.com/companies\">Company reviews</a> </li> <li class=\"gnav-mobile-link\"> <a href=\"https://www.indeed.com/career/salaries\">Find salaries</a> </li> </ul> </div>]\n",
      "<div class=\"gnav-links\"> <button aria-label=\"Primary navigation\" class=\"gnav-links-button\" tabindex=\"0\"> <img height=\"24\" src=\"data:image/svg+xml;base64,PHN2ZyB3aWR0aD0iMjQiIGhlaWdodD0iMjQiIGZpbGw9Im5vbmUiIHhtbG5zPSJodHRwOi8vd3d3LnczLm9yZy8yMDAwL3N2ZyI+PHBhdGggZD0iTTMuNSA2aDE3YS41LjUgMCAwIDEgLjUuNXYxYS41LjUgMCAwIDEtLjUuNWgtMTdhLjUuNSAwIDAgMS0uNS0uNXYtMWEuNS41IDAgMCAxIC41LS41Wk0yMC41IDExaC0xN2EuNS41IDAgMCAwLS41LjV2MWEuNS41IDAgMCAwIC41LjVoMTdhLjUuNSAwIDAgMCAuNS0uNXYtMWEuNS41IDAgMCAwLS41LS41Wk0yMC41IDE2aC0xN2EuNS41IDAgMCAwLS41LjV2MWEuNS41IDAgMCAwIC41LjVoMTdhLjUuNSAwIDAgMCAuNS0uNXYtMWEuNS41IDAgMCAwLS41LS41WiIgZmlsbD0iIzJEMkQyRCIvPjwvc3ZnPg==\" width=\"24\"/> </button> <ul class=\"gnav-links-list\"> <li> <a href=\"https://www.indeed.com/promo/resume\">Upload your resume</a> </li> <li class=\"link-signin\"> <a href=\"https://secure.indeed.com/account/login?hl=en_US&amp;co=US&amp;continue=https%3A%2F%2Fwww.indeed.com\">Sign in</a> </li> <li> <a href=\"https://www.indeed.com/hire?co=US&amp;hl=en&amp;ikw=gnav-header-hire&amp;isid=employerlink-US\">Employers / Post Job</a> </li> <li class=\"gnav-mobile-link\"> <a href=\"https://www.indeed.com/\">Find jobs</a> </li> <li class=\"gnav-mobile-link\"> <a href=\"https://www.indeed.com/companies\">Company reviews</a> </li> <li class=\"gnav-mobile-link\"> <a href=\"https://www.indeed.com/career/salaries\">Find salaries</a> </li> </ul> </div>\n",
      "=========================================\n",
      "<button aria-label=\"Primary navigation\" class=\"gnav-links-button\" tabindex=\"0\"> <img height=\"24\" src=\"data:image/svg+xml;base64,PHN2ZyB3aWR0aD0iMjQiIGhlaWdodD0iMjQiIGZpbGw9Im5vbmUiIHhtbG5zPSJodHRwOi8vd3d3LnczLm9yZy8yMDAwL3N2ZyI+PHBhdGggZD0iTTMuNSA2aDE3YS41LjUgMCAwIDEgLjUuNXYxYS41LjUgMCAwIDEtLjUuNWgtMTdhLjUuNSAwIDAgMS0uNS0uNXYtMWEuNS41IDAgMCAxIC41LS41Wk0yMC41IDExaC0xN2EuNS41IDAgMCAwLS41LjV2MWEuNS41IDAgMCAwIC41LjVoMTdhLjUuNSAwIDAgMCAuNS0uNXYtMWEuNS41IDAgMCAwLS41LS41Wk0yMC41IDE2aC0xN2EuNS41IDAgMCAwLS41LjV2MWEuNS41IDAgMCAwIC41LjVoMTdhLjUuNSAwIDAgMCAuNS0uNXYtMWEuNS41IDAgMCAwLS41LS41WiIgZmlsbD0iIzJEMkQyRCIvPjwvc3ZnPg==\" width=\"24\"/> </button>\n",
      "Upload your resume   Sign in   Employers / Post Job   Find jobs   Company reviews   Find salaries\n",
      "Find jobs\n",
      "==================================\n",
      "https://www.indeed.com/promo/resume\n"
     ]
    }
   ],
   "source": [
    "import requests\n",
    "from bs4 import BeautifulSoup\n",
    "url = 'https://www.indeed.com/jobs?q=web+developer&l=New+York'\n",
    "page = requests.get(url)\n",
    "soup = BeautifulSoup(page.content, 'html.parser')\n",
    "# print(soup)\n",
    "# print(soup.prettify())\n",
    "\n",
    "results = soup.find(dir=\"ltr\")\n",
    "# print(results.prettify())\n",
    "\n",
    "indeed_jobs = results.find_all('div', class_=\"gnav-links\")\n",
    "print(indeed_jobs)\n",
    "\n",
    "for search in indeed_jobs:\n",
    "    print(search)\n",
    "    title = search.find(\"button\", class_= \"gnav-links-button\")\n",
    "    resume = search.find(\"ul\", class_= \"gnav-links-list\")\n",
    "    ref = search.find(\"li\", class_=\"gnav-mobile-link\")\n",
    "    job_url = search.find('a')['href']\n",
    "    print(\"=========================================\")\n",
    "    print(title)\n",
    "    print(resume.text.strip())\n",
    "    print(ref.text.strip())\n",
    "    print(\"==================================\")\n",
    "    print(job_url)\n",
    "# results = soup.find(id='resultsCol')\n",
    "# indeed_jobs = soup.find_all('div', class_='jobsearch-SerpJobCard unifiedRow row result clickcard')\n",
    "\n",
    "# indeed_jobs = soup.select('div.jobsearch-SerpJobCard.unifiedRow.row.result')\n",
    "# print(indeed_jobs)\n",
    "\n",
    "# print(results.prettify())\n",
    "# print(results)"
   ]
  },
  {
   "cell_type": "code",
   "execution_count": 77,
   "metadata": {},
   "outputs": [
    {
     "name": "stdout",
     "output_type": "stream",
     "text": [
      "[<div class=\"gnav-links\"> <button aria-label=\"Primary navigation\" class=\"gnav-links-button\" tabindex=\"0\"> <img height=\"24\" src=\"data:image/svg+xml;base64,PHN2ZyB3aWR0aD0iMjQiIGhlaWdodD0iMjQiIGZpbGw9Im5vbmUiIHhtbG5zPSJodHRwOi8vd3d3LnczLm9yZy8yMDAwL3N2ZyI+PHBhdGggZD0iTTMuNSA2aDE3YS41LjUgMCAwIDEgLjUuNXYxYS41LjUgMCAwIDEtLjUuNWgtMTdhLjUuNSAwIDAgMS0uNS0uNXYtMWEuNS41IDAgMCAxIC41LS41Wk0yMC41IDExaC0xN2EuNS41IDAgMCAwLS41LjV2MWEuNS41IDAgMCAwIC41LjVoMTdhLjUuNSAwIDAgMCAuNS0uNXYtMWEuNS41IDAgMCAwLS41LS41Wk0yMC41IDE2aC0xN2EuNS41IDAgMCAwLS41LjV2MWEuNS41IDAgMCAwIC41LjVoMTdhLjUuNSAwIDAgMCAuNS0uNXYtMWEuNS41IDAgMCAwLS41LS41WiIgZmlsbD0iIzJEMkQyRCIvPjwvc3ZnPg==\" width=\"24\"/> </button> <ul class=\"gnav-links-list\"> <li> <a href=\"https://www.indeed.com/promo/resume\">Upload your resume</a> </li> <li class=\"link-signin\"> <a href=\"https://secure.indeed.com/account/login?hl=en_US&amp;co=US&amp;continue=https%3A%2F%2Fwww.indeed.com\">Sign in</a> </li> <li> <a href=\"https://www.indeed.com/hire?co=US&amp;hl=en&amp;ikw=gnav-header-hire&amp;isid=employerlink-US\">Employers / Post Job</a> </li> <li class=\"gnav-mobile-link\"> <a href=\"https://www.indeed.com/\">Find jobs</a> </li> <li class=\"gnav-mobile-link\"> <a href=\"https://www.indeed.com/companies\">Company reviews</a> </li> <li class=\"gnav-mobile-link\"> <a href=\"https://www.indeed.com/career/salaries\">Find salaries</a> </li> </ul> </div>]\n",
      "<div class=\"gnav-links\"> <button aria-label=\"Primary navigation\" class=\"gnav-links-button\" tabindex=\"0\"> <img height=\"24\" src=\"data:image/svg+xml;base64,PHN2ZyB3aWR0aD0iMjQiIGhlaWdodD0iMjQiIGZpbGw9Im5vbmUiIHhtbG5zPSJodHRwOi8vd3d3LnczLm9yZy8yMDAwL3N2ZyI+PHBhdGggZD0iTTMuNSA2aDE3YS41LjUgMCAwIDEgLjUuNXYxYS41LjUgMCAwIDEtLjUuNWgtMTdhLjUuNSAwIDAgMS0uNS0uNXYtMWEuNS41IDAgMCAxIC41LS41Wk0yMC41IDExaC0xN2EuNS41IDAgMCAwLS41LjV2MWEuNS41IDAgMCAwIC41LjVoMTdhLjUuNSAwIDAgMCAuNS0uNXYtMWEuNS41IDAgMCAwLS41LS41Wk0yMC41IDE2aC0xN2EuNS41IDAgMCAwLS41LjV2MWEuNS41IDAgMCAwIC41LjVoMTdhLjUuNSAwIDAgMCAuNS0uNXYtMWEuNS41IDAgMCAwLS41LS41WiIgZmlsbD0iIzJEMkQyRCIvPjwvc3ZnPg==\" width=\"24\"/> </button> <ul class=\"gnav-links-list\"> <li> <a href=\"https://www.indeed.com/promo/resume\">Upload your resume</a> </li> <li class=\"link-signin\"> <a href=\"https://secure.indeed.com/account/login?hl=en_US&amp;co=US&amp;continue=https%3A%2F%2Fwww.indeed.com\">Sign in</a> </li> <li> <a href=\"https://www.indeed.com/hire?co=US&amp;hl=en&amp;ikw=gnav-header-hire&amp;isid=employerlink-US\">Employers / Post Job</a> </li> <li class=\"gnav-mobile-link\"> <a href=\"https://www.indeed.com/\">Find jobs</a> </li> <li class=\"gnav-mobile-link\"> <a href=\"https://www.indeed.com/companies\">Company reviews</a> </li> <li class=\"gnav-mobile-link\"> <a href=\"https://www.indeed.com/career/salaries\">Find salaries</a> </li> </ul> </div>\n",
      "=========================================\n",
      "<button aria-label=\"Primary navigation\" class=\"gnav-links-button\" tabindex=\"0\"> <img height=\"24\" src=\"data:image/svg+xml;base64,PHN2ZyB3aWR0aD0iMjQiIGhlaWdodD0iMjQiIGZpbGw9Im5vbmUiIHhtbG5zPSJodHRwOi8vd3d3LnczLm9yZy8yMDAwL3N2ZyI+PHBhdGggZD0iTTMuNSA2aDE3YS41LjUgMCAwIDEgLjUuNXYxYS41LjUgMCAwIDEtLjUuNWgtMTdhLjUuNSAwIDAgMS0uNS0uNXYtMWEuNS41IDAgMCAxIC41LS41Wk0yMC41IDExaC0xN2EuNS41IDAgMCAwLS41LjV2MWEuNS41IDAgMCAwIC41LjVoMTdhLjUuNSAwIDAgMCAuNS0uNXYtMWEuNS41IDAgMCAwLS41LS41Wk0yMC41IDE2aC0xN2EuNS41IDAgMCAwLS41LjV2MWEuNS41IDAgMCAwIC41LjVoMTdhLjUuNSAwIDAgMCAuNS0uNXYtMWEuNS41IDAgMCAwLS41LS41WiIgZmlsbD0iIzJEMkQyRCIvPjwvc3ZnPg==\" width=\"24\"/> </button>\n",
      "Upload your resume   Sign in   Employers / Post Job   Find jobs   Company reviews   Find salaries\n",
      "Find jobs\n",
      "https://www.indeed.com/promo/resume\n",
      "==================================\n",
      " \n",
      "<button aria-label=\"Primary navigation\" class=\"gnav-links-button\" tabindex=\"0\"> <img height=\"24\" src=\"data:image/svg+xml;base64,PHN2ZyB3aWR0aD0iMjQiIGhlaWdodD0iMjQiIGZpbGw9Im5vbmUiIHhtbG5zPSJodHRwOi8vd3d3LnczLm9yZy8yMDAwL3N2ZyI+PHBhdGggZD0iTTMuNSA2aDE3YS41LjUgMCAwIDEgLjUuNXYxYS41LjUgMCAwIDEtLjUuNWgtMTdhLjUuNSAwIDAgMS0uNS0uNXYtMWEuNS41IDAgMCAxIC41LS41Wk0yMC41IDExaC0xN2EuNS41IDAgMCAwLS41LjV2MWEuNS41IDAgMCAwIC41LjVoMTdhLjUuNSAwIDAgMCAuNS0uNXYtMWEuNS41IDAgMCAwLS41LS41Wk0yMC41IDE2aC0xN2EuNS41IDAgMCAwLS41LjV2MWEuNS41IDAgMCAwIC41LjVoMTdhLjUuNSAwIDAgMCAuNS0uNXYtMWEuNS41IDAgMCAwLS41LS41WiIgZmlsbD0iIzJEMkQyRCIvPjwvc3ZnPg==\" width=\"24\"/> </button>\n",
      " \n",
      "<ul class=\"gnav-links-list\"> <li> <a href=\"https://www.indeed.com/promo/resume\">Upload your resume</a> </li> <li class=\"link-signin\"> <a href=\"https://secure.indeed.com/account/login?hl=en_US&amp;co=US&amp;continue=https%3A%2F%2Fwww.indeed.com\">Sign in</a> </li> <li> <a href=\"https://www.indeed.com/hire?co=US&amp;hl=en&amp;ikw=gnav-header-hire&amp;isid=employerlink-US\">Employers / Post Job</a> </li> <li class=\"gnav-mobile-link\"> <a href=\"https://www.indeed.com/\">Find jobs</a> </li> <li class=\"gnav-mobile-link\"> <a href=\"https://www.indeed.com/companies\">Company reviews</a> </li> <li class=\"gnav-mobile-link\"> <a href=\"https://www.indeed.com/career/salaries\">Find salaries</a> </li> </ul>\n",
      " \n"
     ]
    }
   ],
   "source": [
    "import requests\n",
    "from bs4 import BeautifulSoup\n",
    "url = 'https://www.indeed.com/jobs?q=web+developer&l=New+York'\n",
    "page = requests.get(url)\n",
    "soup = BeautifulSoup(page.content, 'html.parser')\n",
    "\n",
    "results = soup.find(dir=\"ltr\")\n",
    "\n",
    "\n",
    "indeed_jobs = results.find_all('div', class_=\"gnav-links\")\n",
    "print(indeed_jobs)\n",
    "\n",
    "for search in indeed_jobs:\n",
    "    print(search)\n",
    "    title = search.find(\"button\", class_= \"gnav-links-button\")\n",
    "    resume = search.find(\"ul\", class_= \"gnav-links-list\")\n",
    "    ref = search.find(\"li\", class_=\"gnav-mobile-link\")\n",
    "\n",
    "    \n",
    "    print(\"=========================================\")\n",
    "    print(title)\n",
    "    print(resume.text.strip())\n",
    "    print(ref.text.strip())\n",
    "    print(job_url)\n",
    "    print(\"==================================\")\n",
    "    for jobs in search:\n",
    "        ref = jobs\n",
    "        print(ref)\n",
    "\n"
   ]
  },
  {
   "cell_type": "code",
   "execution_count": 87,
   "metadata": {},
   "outputs": [
    {
     "name": "stdout",
     "output_type": "stream",
     "text": [
      "[<div class=\"gnav-links\"> <button aria-label=\"Primary navigation\" class=\"gnav-links-button\" tabindex=\"0\"> <img height=\"24\" src=\"data:image/svg+xml;base64,PHN2ZyB3aWR0aD0iMjQiIGhlaWdodD0iMjQiIGZpbGw9Im5vbmUiIHhtbG5zPSJodHRwOi8vd3d3LnczLm9yZy8yMDAwL3N2ZyI+PHBhdGggZD0iTTMuNSA2aDE3YS41LjUgMCAwIDEgLjUuNXYxYS41LjUgMCAwIDEtLjUuNWgtMTdhLjUuNSAwIDAgMS0uNS0uNXYtMWEuNS41IDAgMCAxIC41LS41Wk0yMC41IDExaC0xN2EuNS41IDAgMCAwLS41LjV2MWEuNS41IDAgMCAwIC41LjVoMTdhLjUuNSAwIDAgMCAuNS0uNXYtMWEuNS41IDAgMCAwLS41LS41Wk0yMC41IDE2aC0xN2EuNS41IDAgMCAwLS41LjV2MWEuNS41IDAgMCAwIC41LjVoMTdhLjUuNSAwIDAgMCAuNS0uNXYtMWEuNS41IDAgMCAwLS41LS41WiIgZmlsbD0iIzJEMkQyRCIvPjwvc3ZnPg==\" width=\"24\"/> </button> <ul class=\"gnav-links-list\"> <li> <a href=\"https://www.indeed.com/promo/resume\">Upload your resume</a> </li> <li class=\"link-signin\"> <a href=\"https://secure.indeed.com/account/login?hl=en_US&amp;co=US&amp;continue=https%3A%2F%2Fwww.indeed.com\">Sign in</a> </li> <li> <a href=\"https://www.indeed.com/hire?co=US&amp;hl=en&amp;ikw=gnav-header-hire&amp;isid=employerlink-US\">Employers / Post Job</a> </li> <li class=\"gnav-mobile-link\"> <a href=\"https://www.indeed.com/\">Find jobs</a> </li> <li class=\"gnav-mobile-link\"> <a href=\"https://www.indeed.com/companies\">Company reviews</a> </li> <li class=\"gnav-mobile-link\"> <a href=\"https://www.indeed.com/career/salaries\">Find salaries</a> </li> </ul> </div>]\n",
      "<div class=\"gnav-links\"> <button aria-label=\"Primary navigation\" class=\"gnav-links-button\" tabindex=\"0\"> <img height=\"24\" src=\"data:image/svg+xml;base64,PHN2ZyB3aWR0aD0iMjQiIGhlaWdodD0iMjQiIGZpbGw9Im5vbmUiIHhtbG5zPSJodHRwOi8vd3d3LnczLm9yZy8yMDAwL3N2ZyI+PHBhdGggZD0iTTMuNSA2aDE3YS41LjUgMCAwIDEgLjUuNXYxYS41LjUgMCAwIDEtLjUuNWgtMTdhLjUuNSAwIDAgMS0uNS0uNXYtMWEuNS41IDAgMCAxIC41LS41Wk0yMC41IDExaC0xN2EuNS41IDAgMCAwLS41LjV2MWEuNS41IDAgMCAwIC41LjVoMTdhLjUuNSAwIDAgMCAuNS0uNXYtMWEuNS41IDAgMCAwLS41LS41Wk0yMC41IDE2aC0xN2EuNS41IDAgMCAwLS41LjV2MWEuNS41IDAgMCAwIC41LjVoMTdhLjUuNSAwIDAgMCAuNS0uNXYtMWEuNS41IDAgMCAwLS41LS41WiIgZmlsbD0iIzJEMkQyRCIvPjwvc3ZnPg==\" width=\"24\"/> </button> <ul class=\"gnav-links-list\"> <li> <a href=\"https://www.indeed.com/promo/resume\">Upload your resume</a> </li> <li class=\"link-signin\"> <a href=\"https://secure.indeed.com/account/login?hl=en_US&amp;co=US&amp;continue=https%3A%2F%2Fwww.indeed.com\">Sign in</a> </li> <li> <a href=\"https://www.indeed.com/hire?co=US&amp;hl=en&amp;ikw=gnav-header-hire&amp;isid=employerlink-US\">Employers / Post Job</a> </li> <li class=\"gnav-mobile-link\"> <a href=\"https://www.indeed.com/\">Find jobs</a> </li> <li class=\"gnav-mobile-link\"> <a href=\"https://www.indeed.com/companies\">Company reviews</a> </li> <li class=\"gnav-mobile-link\"> <a href=\"https://www.indeed.com/career/salaries\">Find salaries</a> </li> </ul> </div>\n",
      "---------\n",
      "<li class=\"link-signin\"> <a href=\"https://secure.indeed.com/account/login?hl=en_US&amp;co=US&amp;continue=https%3A%2F%2Fwww.indeed.com\">Sign in</a> </li>\n",
      " \n",
      "-------\n",
      "<a href=\"https://secure.indeed.com/account/login?hl=en_US&amp;co=US&amp;continue=https%3A%2F%2Fwww.indeed.com\">Sign in</a>\n",
      "-------\n",
      " \n",
      "-------\n",
      "=========================================\n",
      "<button aria-label=\"Primary navigation\" class=\"gnav-links-button\" tabindex=\"0\"> <img height=\"24\" src=\"data:image/svg+xml;base64,PHN2ZyB3aWR0aD0iMjQiIGhlaWdodD0iMjQiIGZpbGw9Im5vbmUiIHhtbG5zPSJodHRwOi8vd3d3LnczLm9yZy8yMDAwL3N2ZyI+PHBhdGggZD0iTTMuNSA2aDE3YS41LjUgMCAwIDEgLjUuNXYxYS41LjUgMCAwIDEtLjUuNWgtMTdhLjUuNSAwIDAgMS0uNS0uNXYtMWEuNS41IDAgMCAxIC41LS41Wk0yMC41IDExaC0xN2EuNS41IDAgMCAwLS41LjV2MWEuNS41IDAgMCAwIC41LjVoMTdhLjUuNSAwIDAgMCAuNS0uNXYtMWEuNS41IDAgMCAwLS41LS41Wk0yMC41IDE2aC0xN2EuNS41IDAgMCAwLS41LjV2MWEuNS41IDAgMCAwIC41LjVoMTdhLjUuNSAwIDAgMCAuNS0uNXYtMWEuNS41IDAgMCAwLS41LS41WiIgZmlsbD0iIzJEMkQyRCIvPjwvc3ZnPg==\" width=\"24\"/> </button>\n",
      "Upload your resume   Sign in   Employers / Post Job   Find jobs   Company reviews   Find salaries\n",
      "Find jobs\n",
      "https://www.indeed.com/promo/resume\n",
      "==================================\n",
      " \n",
      "<button aria-label=\"Primary navigation\" class=\"gnav-links-button\" tabindex=\"0\"> <img height=\"24\" src=\"data:image/svg+xml;base64,PHN2ZyB3aWR0aD0iMjQiIGhlaWdodD0iMjQiIGZpbGw9Im5vbmUiIHhtbG5zPSJodHRwOi8vd3d3LnczLm9yZy8yMDAwL3N2ZyI+PHBhdGggZD0iTTMuNSA2aDE3YS41LjUgMCAwIDEgLjUuNXYxYS41LjUgMCAwIDEtLjUuNWgtMTdhLjUuNSAwIDAgMS0uNS0uNXYtMWEuNS41IDAgMCAxIC41LS41Wk0yMC41IDExaC0xN2EuNS41IDAgMCAwLS41LjV2MWEuNS41IDAgMCAwIC41LjVoMTdhLjUuNSAwIDAgMCAuNS0uNXYtMWEuNS41IDAgMCAwLS41LS41Wk0yMC41IDE2aC0xN2EuNS41IDAgMCAwLS41LjV2MWEuNS41IDAgMCAwIC41LjVoMTdhLjUuNSAwIDAgMCAuNS0uNXYtMWEuNS41IDAgMCAwLS41LS41WiIgZmlsbD0iIzJEMkQyRCIvPjwvc3ZnPg==\" width=\"24\"/> </button>\n",
      " \n",
      "<ul class=\"gnav-links-list\"> <li> <a href=\"https://www.indeed.com/promo/resume\">Upload your resume</a> </li> <li class=\"link-signin\"> <a href=\"https://secure.indeed.com/account/login?hl=en_US&amp;co=US&amp;continue=https%3A%2F%2Fwww.indeed.com\">Sign in</a> </li> <li> <a href=\"https://www.indeed.com/hire?co=US&amp;hl=en&amp;ikw=gnav-header-hire&amp;isid=employerlink-US\">Employers / Post Job</a> </li> <li class=\"gnav-mobile-link\"> <a href=\"https://www.indeed.com/\">Find jobs</a> </li> <li class=\"gnav-mobile-link\"> <a href=\"https://www.indeed.com/companies\">Company reviews</a> </li> <li class=\"gnav-mobile-link\"> <a href=\"https://www.indeed.com/career/salaries\">Find salaries</a> </li> </ul>\n",
      " \n"
     ]
    }
   ],
   "source": [
    "import requests\n",
    "from bs4 import BeautifulSoup\n",
    "url = 'https://www.indeed.com/jobs?q=web+developer&l=New+York'\n",
    "page = requests.get(url)\n",
    "soup = BeautifulSoup(page.content, 'html.parser')\n",
    "\n",
    "results = soup.find(dir=\"ltr\")\n",
    "\n",
    "\n",
    "indeed_jobs = results.find_all('div', class_=\"gnav-links\")\n",
    "print(indeed_jobs)\n",
    "\n",
    "for search in indeed_jobs:\n",
    "    print(search)\n",
    "    title = search.find(\"button\", class_= \"gnav-links-button\")\n",
    "    resume = search.find(\"ul\", class_= \"gnav-links-list\")\n",
    "    ref = search.find(\"li\", class_=\"gnav-mobile-link\")\n",
    "    \n",
    "    urls = search.find(\"li\", class_=\"link-signin\")\n",
    "    print('---------')\n",
    "    print(urls)\n",
    "    for src in urls:\n",
    "        rf = src\n",
    "        print(rf)\n",
    "        print('-------')\n",
    "\n",
    "    \n",
    "    print(\"=========================================\")\n",
    "    print(title)\n",
    "    print(resume.text.strip())\n",
    "    print(ref.text.strip())\n",
    "    print(job_url)\n",
    "    print(\"==================================\")\n",
    "    for jobs in search:\n",
    "        ref = jobs\n",
    "        print(ref)\n",
    "\n"
   ]
  },
  {
   "cell_type": "code",
   "execution_count": null,
   "metadata": {},
   "outputs": [
    {
     "name": "stdout",
     "output_type": "stream",
     "text": [
      "https://www.indeed.com/promo/resume\n",
      "https://secure.indeed.com/account/login?hl=en_US&co=US&continue=https%3A%2F%2Fwww.indeed.com\n",
      "https://www.indeed.com/hire?co=US&hl=en&ikw=gnav-header-hire&isid=employerlink-US\n",
      "https://www.indeed.com/\n",
      "https://www.indeed.com/companies\n",
      "https://www.indeed.com/career/salaries\n"
     ]
    }
   ],
   "source": [
    "import requests\n",
    "from bs4 import BeautifulSoup\n",
    "\n",
    "url = 'https://www.indeed.com/jobs?q=web+developer&l=New+York'\n",
    "page = requests.get(url)\n",
    "soup = BeautifulSoup(page.content, 'html.parser')\n",
    "\n",
    "gnav_links_div = soup.find('div', class_='gnav-links')\n",
    "\n",
    "if gnav_links_div:\n",
    "    links = gnav_links_div.find_all('a', href=True)\n",
    "    \n",
    "    for link in links:\n",
    "        href = link['href']\n",
    "        if href.startswith(\"https\"):\n",
    "            print(href)\n",
    "            \n",
    "else:\n",
    "    print(\"Não foi possível encontrar a div com classe 'gnav-links'.\")\n"
   ]
  },
  {
   "cell_type": "code",
   "execution_count": 125,
   "metadata": {},
   "outputs": [
    {
     "name": "stdout",
     "output_type": "stream",
     "text": [
      "[<div class=\"gnav-links\"> <button aria-label=\"Primary navigation\" class=\"gnav-links-button\" tabindex=\"0\"> <img height=\"24\" src=\"data:image/svg+xml;base64,PHN2ZyB3aWR0aD0iMjQiIGhlaWdodD0iMjQiIGZpbGw9Im5vbmUiIHhtbG5zPSJodHRwOi8vd3d3LnczLm9yZy8yMDAwL3N2ZyI+PHBhdGggZD0iTTMuNSA2aDE3YS41LjUgMCAwIDEgLjUuNXYxYS41LjUgMCAwIDEtLjUuNWgtMTdhLjUuNSAwIDAgMS0uNS0uNXYtMWEuNS41IDAgMCAxIC41LS41Wk0yMC41IDExaC0xN2EuNS41IDAgMCAwLS41LjV2MWEuNS41IDAgMCAwIC41LjVoMTdhLjUuNSAwIDAgMCAuNS0uNXYtMWEuNS41IDAgMCAwLS41LS41Wk0yMC41IDE2aC0xN2EuNS41IDAgMCAwLS41LjV2MWEuNS41IDAgMCAwIC41LjVoMTdhLjUuNSAwIDAgMCAuNS0uNXYtMWEuNS41IDAgMCAwLS41LS41WiIgZmlsbD0iIzJEMkQyRCIvPjwvc3ZnPg==\" width=\"24\"/> </button> <ul class=\"gnav-links-list\"> <li> <a href=\"https://www.indeed.com/promo/resume\">Upload your resume</a> </li> <li class=\"link-signin\"> <a href=\"https://secure.indeed.com/account/login?hl=en_US&amp;co=US&amp;continue=https%3A%2F%2Fwww.indeed.com\">Sign in</a> </li> <li> <a href=\"https://www.indeed.com/hire?co=US&amp;hl=en&amp;ikw=gnav-header-hire&amp;isid=employerlink-US\">Employers / Post Job</a> </li> <li class=\"gnav-mobile-link\"> <a href=\"https://www.indeed.com/\">Find jobs</a> </li> <li class=\"gnav-mobile-link\"> <a href=\"https://www.indeed.com/companies\">Company reviews</a> </li> <li class=\"gnav-mobile-link\"> <a href=\"https://www.indeed.com/career/salaries\">Find salaries</a> </li> </ul> </div>]\n",
      "<li class=\"link-signin\"> <a href=\"https://secure.indeed.com/account/login?hl=en_US&amp;co=US&amp;continue=https%3A%2F%2Fwww.indeed.com\">Sign in</a> </li>\n",
      "https://www.indeed.com/promo/resume\n",
      "https://secure.indeed.com/account/login?hl=en_US&co=US&continue=https%3A%2F%2Fwww.indeed.com\n",
      "Upload your resume\n"
     ]
    }
   ],
   "source": [
    "import requests\n",
    "from bs4 import BeautifulSoup\n",
    "url = 'https://www.indeed.com/jobs?q=web+developer&l=New+York'\n",
    "page = requests.get(url)\n",
    "soup = BeautifulSoup(page.content, 'html.parser')\n",
    "\n",
    "results = soup.find(dir=\"ltr\")\n",
    "\n",
    "\n",
    "indeed_jobs = results.find_all('div', class_=\"gnav-links\")\n",
    "print(indeed_jobs)\n",
    "\n",
    "for search in indeed_jobs:\n",
    "    # title = search.find(\"button\", class_= \"gnav-links-button\").text.strip()\n",
    "    # resume = search.find(\"ul\", class_= \"gnav-links-list\").text.strip()\n",
    "    # ref = search.find(\"li\", class_=\"gnav-mobile-link\").text.strip()\n",
    "    k = search.find(\"li\", class_=\"link-signin\")\n",
    "    print(k)\n",
    "    job_url = search.find('a')['href']\n",
    "    print(job_url)\n",
    "    x = k.find('a')['href']\n",
    "    print(x)\n",
    "    for l in search.find('a'):\n",
    "        print(l)\n",
    "    # l = search.find(\"href\")\n",
    "    # print(l)\n",
    "    \n",
    "    # print(title)\n",
    "    # print(resume)\n",
    "    # print(ref)\n",
    "    \n",
    "    \n",
    "    # urls = search.find(\"li\", class_=\"link-signin\")\n",
    "    # print('---------')\n",
    "    # print(urls)\n",
    "    # for src in urls:\n",
    "    #     rf = src\n",
    "    #     print(rf)\n",
    "    #     print('-------')\n",
    "\n",
    "    \n",
    "    # print(\"=========================================\")\n",
    "    # print(title)\n",
    "    # print(resume.text.strip())\n",
    "    # print(ref.text.strip())\n",
    "    # print(job_url)\n",
    "    # print(\"==================================\")\n",
    "    \n",
    "    \n",
    "    # for jobs in search:\n",
    "    #     if jobs.startswith(\"href=\"):\n",
    "    #         print(jobs)\n",
    "\n"
   ]
  },
  {
   "cell_type": "code",
   "execution_count": null,
   "metadata": {},
   "outputs": [
    {
     "ename": "TypeError",
     "evalue": "'int' object is not callable",
     "output_type": "error",
     "traceback": [
      "\u001b[0;31m---------------------------------------------------------------------------\u001b[0m",
      "\u001b[0;31mTypeError\u001b[0m                                 Traceback (most recent call last)",
      "Cell \u001b[0;32mIn[4], line 7\u001b[0m\n\u001b[1;32m      4\u001b[0m url \u001b[38;5;241m=\u001b[39m \u001b[38;5;124m'\u001b[39m\u001b[38;5;124mhttps://www.indeed.com/jobs?q=web+developer&l=New+York\u001b[39m\u001b[38;5;124m'\u001b[39m\n\u001b[1;32m      6\u001b[0m page \u001b[38;5;241m=\u001b[39m requests\u001b[38;5;241m.\u001b[39mget(url)\n\u001b[0;32m----> 7\u001b[0m \u001b[43mpage\u001b[49m\u001b[38;5;241;43m.\u001b[39;49m\u001b[43mstatus_code\u001b[49m\u001b[43m(\u001b[49m\u001b[43m)\u001b[49m\n\u001b[1;32m      8\u001b[0m \u001b[38;5;66;03m# soup = BeautifulSoup(page.content, 'html.parser')\u001b[39;00m\n\u001b[1;32m      9\u001b[0m \u001b[38;5;66;03m# results = soup.find(id='resultsCol')\u001b[39;00m\n\u001b[1;32m     10\u001b[0m \n\u001b[1;32m     11\u001b[0m \u001b[38;5;66;03m# print(results.prettify())\u001b[39;00m\n",
      "\u001b[0;31mTypeError\u001b[0m: 'int' object is not callable"
     ]
    }
   ],
   "source": [
    "import requests \n",
    "from bs4 import BeautifulSoup\n",
    "\n",
    "url = 'https://www.indeed.com/jobs?q=web+developer&l=New+York'\n",
    "\n",
    "page = requests.get(url)\n",
    "page.status_code()\n",
    "\n",
    "# soup = BeautifulSoup(page.content, 'html.parser')\n",
    "# results = soup.find(id='resultsCol')\n",
    "\n",
    "# print(results.prettify())"
   ]
  }
 ],
 "metadata": {
  "kernelspec": {
   "display_name": "Python 3",
   "language": "python",
   "name": "python3"
  },
  "language_info": {
   "codemirror_mode": {
    "name": "ipython",
    "version": 3
   },
   "file_extension": ".py",
   "mimetype": "text/x-python",
   "name": "python",
   "nbconvert_exporter": "python",
   "pygments_lexer": "ipython3",
   "version": "3.10.13"
  }
 },
 "nbformat": 4,
 "nbformat_minor": 2
}
