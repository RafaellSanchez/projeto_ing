{
 "cells": [
  {
   "cell_type": "code",
   "execution_count": 1,
   "metadata": {},
   "outputs": [
    {
     "name": "stdout",
     "output_type": "stream",
     "text": [
      "20241230\n"
     ]
    }
   ],
   "source": [
    "import pandas as pd\n",
    "import os\n",
    "from datetime import datetime\n",
    "import shutil\n",
    "timestamp = datetime.now().strftime('%Y%m%d_%H%M%S')\n",
    "data = datetime.now().strftime('%Y%m%d')\n",
    "datahoje = str(data)\n",
    "print(datahoje)"
   ]
  },
  {
   "cell_type": "code",
   "execution_count": 3,
   "metadata": {},
   "outputs": [
    {
     "name": "stdout",
     "output_type": "stream",
     "text": [
      "['files']\n",
      "/workspaces/projeto_ing/ingestion/backup/archiving_ctrl/arquivo_controle.txt\n"
     ]
    }
   ],
   "source": [
    "landing = '/workspaces/projeto_ing/tests/app/src/teste_landing/'\n",
    "files = '/workspaces/projeto_ing/tests/app/src/teste/'\n",
    "# controle = '/workspaces/projeto_ing/tests/app/src/backp/controle_envio.txt'\n",
    "controle = '/workspaces/projeto_ing/ingestion/backup/archiving_ctrl/arquivo_controle.txt'\n",
    "list = os.listdir(files)\n",
    "print(list)\n",
    "print(controle)"
   ]
  },
  {
   "cell_type": "code",
   "execution_count": 4,
   "metadata": {},
   "outputs": [
    {
     "name": "stdout",
     "output_type": "stream",
     "text": [
      "item encontrado no diretório: files\n",
      "conteudo: ['dados_cript.bin', 'resultado_cep_mairiporã_20241014_231236.txt']\n",
      "--------------------------------------\n",
      "proncurando em: /workspaces/projeto_ing/tests/app/src/teste/\n",
      "----------------------\n",
      "dirs: ['files']\n",
      "proncurando em: /workspaces/projeto_ing/tests/app/src/teste/files\n",
      "----------------------\n",
      "dirs: []\n",
      "verificando nome do arquivo: dados_cript.bin\n",
      "caminho completo: /workspaces/projeto_ing/tests/app/src/teste/files/dados_cript.bin\n",
      "nome separado do arquivo: dados_cript.bin\n",
      "------------------------------------\n",
      "separando data: []\n",
      "conteudo do arquivo de controle: ['resultado_teste2_20242306_215405.txt\\n', 'resultado_teste_20242506_202032.txt\\n', 'resultado_cepavenidamairipora_20240711_121430.txt\\n', 'dados_bank_20240713172538.txt\\n', 'dados_geo_2024-07-14.txt\\n', 'resultado_marcas_20240719_134627.txt\\n', 'modelo_vw_20240719_140024.txt\\n', 'resultado_calendario_20240719_145047.txt\\n', 'modelo_vw_20240821_225259.txt\\n', 'dados_geo_2024-07-15.txt\\n', 'dados_geo_2024-07-16.txt\\n', 'dados_cep_concat_20241115_124729.txt\\n', 'resultado_marcas_20241124_181228.txt\\n', 'modelo_vw_20241130_020640.txt\\n', 'resultado_calendario_20241130_022248.txt\\n', 'dados_detalhegeo_2024-11-30.txt\\n', 'dados_detalhegeo_2024-11-30.txt\\n', 'dados_bank_20241209172538.txt\\n', 'dados_fakes_20241227214359.txt\\n']\n",
      "salvando nome do arquivo no controle\n",
      "arquivo que sera movido: dados_cript.bin\n",
      "Arquivo enviado: /workspaces/projeto_ing/tests/app/src/teste/files/dados_cript.bin\n",
      "Destino: /workspaces/projeto_ing/tests/app/src/teste_landing/\n",
      "verificando nome do arquivo: resultado_cep_mairiporã_20241014_231236.txt\n",
      "caminho completo: /workspaces/projeto_ing/tests/app/src/teste/files/resultado_cep_mairiporã_20241014_231236.txt\n",
      "nome separado do arquivo: resultado_cep_mairiporã_20241014_231236.txt\n",
      "------------------------------------\n",
      "separando data: ['20241014']\n",
      "conteudo do arquivo de controle: ['resultado_teste2_20242306_215405.txt\\n', 'resultado_teste_20242506_202032.txt\\n', 'resultado_cepavenidamairipora_20240711_121430.txt\\n', 'dados_bank_20240713172538.txt\\n', 'dados_geo_2024-07-14.txt\\n', 'resultado_marcas_20240719_134627.txt\\n', 'modelo_vw_20240719_140024.txt\\n', 'resultado_calendario_20240719_145047.txt\\n', 'modelo_vw_20240821_225259.txt\\n', 'dados_geo_2024-07-15.txt\\n', 'dados_geo_2024-07-16.txt\\n', 'dados_cep_concat_20241115_124729.txt\\n', 'resultado_marcas_20241124_181228.txt\\n', 'modelo_vw_20241130_020640.txt\\n', 'resultado_calendario_20241130_022248.txt\\n', 'dados_detalhegeo_2024-11-30.txt\\n', 'dados_detalhegeo_2024-11-30.txt\\n', 'dados_bank_20241209172538.txt\\n', 'dados_fakes_20241227214359.txt\\n', 'dados_cript.bin\\n']\n",
      "salvando nome do arquivo no controle\n",
      "arquivo que sera movido: resultado_cep_mairiporã_20241014_231236.txt\n",
      "Arquivo enviado: /workspaces/projeto_ing/tests/app/src/teste/files/resultado_cep_mairiporã_20241014_231236.txt\n",
      "Destino: /workspaces/projeto_ing/tests/app/src/teste_landing/\n",
      "codigo finalizado!\n"
     ]
    }
   ],
   "source": [
    "for item in list:\n",
    "    accept = os.path.join(files, item)\n",
    "    print(f'item encontrado no diretório: {item}')\n",
    "    subconteudo = os.listdir(accept)\n",
    "    print(f'conteudo: {subconteudo}')\n",
    "    print('--------------------------------------')\n",
    "\n",
    "    for root, dirs, lista in os.walk(files):\n",
    "        print(f'proncurando em: {root}')\n",
    "        print(f'----------------------')\n",
    "        print(f'dirs: {dirs}')\n",
    "        for nome_arquivo in lista:\n",
    "            print(f'verificando nome do arquivo: {nome_arquivo}')\n",
    "            if nome_arquivo in nome_arquivo:\n",
    "                caminho_completo = os.path.join(root, nome_arquivo)\n",
    "                print(f'caminho completo: {caminho_completo}')\n",
    "                \n",
    "                sep_name = os.path.basename(nome_arquivo)\n",
    "                print(f'nome separado do arquivo: {sep_name}')\n",
    "                print(f'------------------------------------')\n",
    "                \n",
    "                sep_data = sep_name.split('_')[3:4]\n",
    "                print(f'separando data: {sep_data}')\n",
    "                if str(sep_data) >= str(datahoje):\n",
    "                    with open(controle, 'r+') as ctrl:\n",
    "                        conteudo_ctrl = ctrl.readlines()\n",
    "                        print(f'conteudo do arquivo de controle: {conteudo_ctrl}')\n",
    "                        \n",
    "                        if sep_name + '\\n' not in conteudo_ctrl:            \n",
    "                            with open(controle, 'a') as control_move:\n",
    "                                control_move.write(f'{nome_arquivo}\\n')\n",
    "                                print('salvando nome do arquivo no controle')\n",
    "\n",
    "                            print(f'arquivo que sera movido: {nome_arquivo}')\n",
    "                            shutil.copy(caminho_completo, landing)\n",
    "                            print(f'Arquivo enviado: {caminho_completo}')\n",
    "                            print(f'Destino: {landing}')\n",
    "                        else:\n",
    "                            print('----------------------------------------------')\n",
    "                            print(f'Arquivo já existe no controle: {nome_arquivo}')\n",
    "                               \n",
    "                else:\n",
    "                    print('Erro no formato do arquivo')\n",
    "print('codigo finalizado!')\n",
    "    \n",
    "\n",
    "            "
   ]
  },
  {
   "cell_type": "code",
   "execution_count": null,
   "metadata": {},
   "outputs": [],
   "source": [
    "def envio_arquivos()"
   ]
  }
 ],
 "metadata": {
  "kernelspec": {
   "display_name": "Python 3",
   "language": "python",
   "name": "python3"
  },
  "language_info": {
   "codemirror_mode": {
    "name": "ipython",
    "version": 3
   },
   "file_extension": ".py",
   "mimetype": "text/x-python",
   "name": "python",
   "nbconvert_exporter": "python",
   "pygments_lexer": "ipython3",
   "version": "3.10.13"
  }
 },
 "nbformat": 4,
 "nbformat_minor": 2
}
