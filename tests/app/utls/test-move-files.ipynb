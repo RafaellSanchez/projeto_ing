{
 "cells": [
  {
   "cell_type": "code",
   "execution_count": 35,
   "metadata": {},
   "outputs": [],
   "source": [
    "import pandas as pd\n",
    "import os\n",
    "from datetime import datetime\n",
    "import shutil\n",
    "timestamp = datetime.now().strftime('%Y%m%d_%H%M%S')"
   ]
  },
  {
   "cell_type": "code",
   "execution_count": 36,
   "metadata": {},
   "outputs": [
    {
     "name": "stdout",
     "output_type": "stream",
     "text": [
      "['files']\n"
     ]
    }
   ],
   "source": [
    "landing = '/workspaces/projeto_ing/tests/app/src/teste_landing/'\n",
    "files = '/workspaces/projeto_ing/tests/app/src/teste/'\n",
    "list = os.listdir(files)\n",
    "print(list)"
   ]
  },
  {
   "cell_type": "code",
   "execution_count": 53,
   "metadata": {},
   "outputs": [
    {
     "name": "stdout",
     "output_type": "stream",
     "text": [
      "verificando nome do arquivo: dados_cript.bin\n",
      "caminho completo: /workspaces/projeto_ing/tests/app/src/teste/files/dados_cript.bin\n",
      "nome separado do arquivo: dados_cript.bin\n",
      "------------------------------------\n",
      "separando data: []\n",
      "verificando nome do arquivo: resultado_cep_mairiporã_20241014_231236.txt\n",
      "caminho completo: /workspaces/projeto_ing/tests/app/src/teste/files/resultado_cep_mairiporã_20241014_231236.txt\n",
      "nome separado do arquivo: resultado_cep_mairiporã_20241014_231236.txt\n",
      "------------------------------------\n",
      "separando data: ['20241014']\n"
     ]
    }
   ],
   "source": [
    "for item in list:\n",
    "    accept = os.path.join(files, item)\n",
    "    # print(f'item encontrado no diretório: {item}')\n",
    "    subconteudo = os.listdir(accept)\n",
    "    # print(f'conteudo: {subconteudo}')\n",
    "    # print('--------------------------------------')\n",
    "\n",
    "    for root, dirs, lista in os.walk(files):\n",
    "        # print(f'proncurando em: {root}')\n",
    "        # print(f'----------------------')\n",
    "        # print(f'dirs: {dirs}')\n",
    "        for nome_arquivo in lista:\n",
    "            print(f'verificando nome do arquivo: {nome_arquivo}')\n",
    "            if nome_arquivo in nome_arquivo:\n",
    "                caminho_completo = os.path.join(root, nome_arquivo)\n",
    "                print(f'caminho completo: {caminho_completo}')\n",
    "                \n",
    "                sep_name = os.path.basename(nome_arquivo)\n",
    "                print(f'nome separado do arquivo: {sep_name}')\n",
    "                print(f'------------------------------------')\n",
    "                \n",
    "                sep_data = sep_name.split('_')[3:4]\n",
    "                print(f'separando data: {sep_data}')\n",
    "                # shutil.copy(caminho_completo, landing)\n",
    "                # print(f'Arquivo enviado para landing: {caminho_completo}')\n",
    "                # print(f'Destino: {landing}')\n",
    "            \n",
    "            \n",
    "\n",
    "    \n",
    "\n",
    "            "
   ]
  }
 ],
 "metadata": {
  "kernelspec": {
   "display_name": "Python 3",
   "language": "python",
   "name": "python3"
  },
  "language_info": {
   "codemirror_mode": {
    "name": "ipython",
    "version": 3
   },
   "file_extension": ".py",
   "mimetype": "text/x-python",
   "name": "python",
   "nbconvert_exporter": "python",
   "pygments_lexer": "ipython3",
   "version": "3.10.13"
  }
 },
 "nbformat": 4,
 "nbformat_minor": 2
}
