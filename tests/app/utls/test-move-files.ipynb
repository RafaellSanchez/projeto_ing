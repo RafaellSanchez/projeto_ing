{
 "cells": [
  {
   "cell_type": "code",
   "execution_count": 26,
   "metadata": {},
   "outputs": [
    {
     "name": "stdout",
     "output_type": "stream",
     "text": [
      "20241230\n"
     ]
    }
   ],
   "source": [
    "import pandas as pd\n",
    "import os\n",
    "from datetime import datetime\n",
    "import shutil\n",
    "timestamp = datetime.now().strftime('%Y%m%d_%H%M%S')\n",
    "data = datetime.now().strftime('%Y%m%d')\n",
    "datahoje = str(data)\n",
    "print(datahoje)"
   ]
  },
  {
   "cell_type": "code",
   "execution_count": 27,
   "metadata": {},
   "outputs": [
    {
     "name": "stdout",
     "output_type": "stream",
     "text": [
      "['files']\n",
      "/workspaces/projeto_ing/ingestion/backup/archiving_ctrl/arquivo_controle.txt\n"
     ]
    }
   ],
   "source": [
    "landing = '/workspaces/projeto_ing/tests/app/src/teste_landing/'\n",
    "files = '/workspaces/projeto_ing/tests/app/src/teste/'\n",
    "# controle = '/workspaces/projeto_ing/tests/app/src/backp/controle_envio.txt'\n",
    "controle = '/workspaces/projeto_ing/ingestion/backup/archiving_ctrl/arquivo_controle.txt'\n",
    "list = os.listdir(files)\n",
    "print(list)\n",
    "print(controle)"
   ]
  },
  {
   "cell_type": "code",
   "execution_count": 28,
   "metadata": {},
   "outputs": [
    {
     "name": "stdout",
     "output_type": "stream",
     "text": [
      "item encontrado no diretório: files\n",
      "conteudo: ['dados_cript.bin', 'resultado_cep_mairiporã_20241014_231236.txt']\n",
      "--------------------------------------\n",
      "proncurando em: /workspaces/projeto_ing/tests/app/src/teste/\n",
      "----------------------\n",
      "dirs: ['files']\n",
      "proncurando em: /workspaces/projeto_ing/tests/app/src/teste/files\n",
      "----------------------\n",
      "dirs: []\n",
      "verificando nome do arquivo: dados_cript.bin\n",
      "caminho completo: /workspaces/projeto_ing/tests/app/src/teste/files/dados_cript.bin\n",
      "nome separado do arquivo: dados_cript.bin\n",
      "------------------------------------\n",
      "separando data: []\n",
      "conteudo do arquivo de controle: ['resultado_teste2_20242306_215405.txt\\n', 'resultado_teste_20242506_202032.txt\\n', 'resultado_cepavenidamairipora_20240711_121430.txt\\n', 'dados_bank_20240713172538.txt\\n', 'dados_geo_2024-07-14.txt\\n', 'resultado_marcas_20240719_134627.txt\\n', 'modelo_vw_20240719_140024.txt\\n', 'resultado_calendario_20240719_145047.txt\\n', 'modelo_vw_20240821_225259.txt\\n', 'dados_geo_2024-07-15.txt\\n', 'dados_geo_2024-07-16.txt\\n', 'dados_cep_concat_20241115_124729.txt\\n', 'resultado_marcas_20241124_181228.txt\\n', 'modelo_vw_20241130_020640.txt\\n', 'resultado_calendario_20241130_022248.txt\\n', 'dados_detalhegeo_2024-11-30.txt\\n', 'dados_detalhegeo_2024-11-30.txt\\n', 'dados_bank_20241209172538.txt\\n', 'dados_fakes_20241227214359.txt\\n', 'dados_cript.bin\\n', 'resultado_cep_mairiporã_20241014_231236.txt\\n']\n",
      "----------------------------------------------\n",
      "Arquivo já existe no controle: dados_cript.bin\n",
      "verificando nome do arquivo: resultado_cep_mairiporã_20241014_231236.txt\n",
      "caminho completo: /workspaces/projeto_ing/tests/app/src/teste/files/resultado_cep_mairiporã_20241014_231236.txt\n",
      "nome separado do arquivo: resultado_cep_mairiporã_20241014_231236.txt\n",
      "------------------------------------\n",
      "separando data: ['20241014']\n",
      "conteudo do arquivo de controle: ['resultado_teste2_20242306_215405.txt\\n', 'resultado_teste_20242506_202032.txt\\n', 'resultado_cepavenidamairipora_20240711_121430.txt\\n', 'dados_bank_20240713172538.txt\\n', 'dados_geo_2024-07-14.txt\\n', 'resultado_marcas_20240719_134627.txt\\n', 'modelo_vw_20240719_140024.txt\\n', 'resultado_calendario_20240719_145047.txt\\n', 'modelo_vw_20240821_225259.txt\\n', 'dados_geo_2024-07-15.txt\\n', 'dados_geo_2024-07-16.txt\\n', 'dados_cep_concat_20241115_124729.txt\\n', 'resultado_marcas_20241124_181228.txt\\n', 'modelo_vw_20241130_020640.txt\\n', 'resultado_calendario_20241130_022248.txt\\n', 'dados_detalhegeo_2024-11-30.txt\\n', 'dados_detalhegeo_2024-11-30.txt\\n', 'dados_bank_20241209172538.txt\\n', 'dados_fakes_20241227214359.txt\\n', 'dados_cript.bin\\n', 'resultado_cep_mairiporã_20241014_231236.txt\\n']\n",
      "----------------------------------------------\n",
      "Arquivo já existe no controle: resultado_cep_mairiporã_20241014_231236.txt\n",
      "codigo finalizado!\n"
     ]
    }
   ],
   "source": [
    "for item in list:\n",
    "    accept = os.path.join(files, item)\n",
    "    print(f'item encontrado no diretório: {item}')\n",
    "    subconteudo = os.listdir(accept)\n",
    "    print(f'conteudo: {subconteudo}')\n",
    "    print('--------------------------------------')\n",
    "\n",
    "    for root, dirs, lista in os.walk(files):\n",
    "        print(f'proncurando em: {root}')\n",
    "        print(f'----------------------')\n",
    "        print(f'dirs: {dirs}')\n",
    "        for nome_arquivo in lista:\n",
    "            print(f'verificando nome do arquivo: {nome_arquivo}')\n",
    "            if nome_arquivo in nome_arquivo:\n",
    "                caminho_completo = os.path.join(root, nome_arquivo)\n",
    "                print(f'caminho completo: {caminho_completo}')\n",
    "                \n",
    "                sep_name = os.path.basename(nome_arquivo)\n",
    "                print(f'nome separado do arquivo: {sep_name}')\n",
    "                print(f'------------------------------------')\n",
    "                \n",
    "                sep_data = sep_name.split('_')[3:4]\n",
    "                print(f'separando data: {sep_data}')\n",
    "                if str(sep_data) >= str(datahoje):\n",
    "                    with open(controle, 'r+') as ctrl:\n",
    "                        conteudo_ctrl = ctrl.readlines()\n",
    "                        print(f'conteudo do arquivo de controle: {conteudo_ctrl}')\n",
    "                        \n",
    "                        if sep_name + '\\n' not in conteudo_ctrl:            \n",
    "                            with open(controle, 'a') as control_move:\n",
    "                                control_move.write(f'{nome_arquivo}\\n')\n",
    "                                print('salvando nome do arquivo no controle')\n",
    "\n",
    "                            print(f'arquivo que sera movido: {nome_arquivo}')\n",
    "                            shutil.copy(caminho_completo, landing)\n",
    "                            print(f'Arquivo enviado: {caminho_completo}')\n",
    "                            print(f'Destino: {landing}')\n",
    "                        else:\n",
    "                            print('----------------------------------------------')\n",
    "                            print(f'Arquivo já existe no controle: {nome_arquivo}')\n",
    "                               \n",
    "                else:\n",
    "                    print('Erro no formato do arquivo')\n",
    "print('codigo finalizado!')\n",
    "    \n",
    "\n",
    "            "
   ]
  },
  {
   "cell_type": "code",
   "execution_count": 37,
   "metadata": {},
   "outputs": [
    {
     "name": "stdout",
     "output_type": "stream",
     "text": [
      "/workspaces/projeto_ing/ingestion/app/src/landing/dados_cep_mairipora_Estrada_20241108_180126.txt\n",
      "movendo arquivos para o backup\n",
      "/workspaces/projeto_ing/ingestion/app/src/landing/dados_cep_mairipora_20241108_180303.txt\n",
      "movendo arquivos para o backup\n",
      "/workspaces/projeto_ing/ingestion/app/src/landing/dados_cep_mairipora_Mairipora_20241115_124729.txt\n",
      "movendo arquivos para o backup\n",
      "/workspaces/projeto_ing/ingestion/app/src/landing/dados_cep_mairipora_Rodovia_20241115_124729.txt\n",
      "movendo arquivos para o backup\n",
      "/workspaces/projeto_ing/ingestion/app/src/landing/dados_cep_mairipora_Rua.txt\n",
      "movendo arquivos para o backup\n",
      "/workspaces/projeto_ing/ingestion/app/src/landing/dados_cep_mairipora_Estrada Armando_20241115_124729.txt\n",
      "movendo arquivos para o backup\n",
      "/workspaces/projeto_ing/ingestion/app/src/landing/tempo_Atibaia_20240928.txt\n",
      "movendo arquivos para o backup\n",
      "/workspaces/projeto_ing/ingestion/app/src/landing/dados_cep_mairipora_Rodovia_20241108_180126.txt\n",
      "movendo arquivos para o backup\n",
      "/workspaces/projeto_ing/ingestion/app/src/landing/tempo_São Paulo_20240928164640.txt\n",
      "movendo arquivos para o backup\n",
      "/workspaces/projeto_ing/ingestion/app/src/landing/dados_cep_mairipora_Estrada Armando_20241108_180126.txt\n",
      "movendo arquivos para o backup\n",
      "/workspaces/projeto_ing/ingestion/app/src/landing/tempo_Mairiporã_20240928164640.txt\n",
      "movendo arquivos para o backup\n",
      "/workspaces/projeto_ing/ingestion/app/src/landing/dados_cep_mairipora_Rua_20241115_124729.txt\n",
      "movendo arquivos para o backup\n",
      "/workspaces/projeto_ing/ingestion/app/src/landing/tempo_mairipora.txt\n",
      "movendo arquivos para o backup\n",
      "/workspaces/projeto_ing/ingestion/app/src/landing/dados_cep_mairipora_Estrada.txt\n",
      "movendo arquivos para o backup\n",
      "/workspaces/projeto_ing/ingestion/app/src/landing/dados_cep_mairipora_Estrada Armando.txt\n",
      "movendo arquivos para o backup\n",
      "/workspaces/projeto_ing/ingestion/app/src/landing/tempo_São Paulo_20240928.txt\n",
      "movendo arquivos para o backup\n",
      "/workspaces/projeto_ing/ingestion/app/src/landing/dados_cep_mairipora_Rio Abaixo_20241115_124729.txt\n",
      "movendo arquivos para o backup\n",
      "/workspaces/projeto_ing/ingestion/app/src/landing/tempo_Mairiporã_20240928.txt\n",
      "movendo arquivos para o backup\n",
      "/workspaces/projeto_ing/ingestion/app/src/landing/dados_cep_mairipora_Avenida_20241108_180126.txt\n",
      "movendo arquivos para o backup\n",
      "/workspaces/projeto_ing/ingestion/app/src/landing/dados_cep_mairipora_Estrada Rio Acima_20241115_124729.txt\n",
      "movendo arquivos para o backup\n",
      "/workspaces/projeto_ing/ingestion/app/src/landing/dados_cep_mairipora_Mairipora.txt\n",
      "movendo arquivos para o backup\n",
      "/workspaces/projeto_ing/ingestion/app/src/landing/dados_cep_mairipora_Rodovia.txt\n",
      "movendo arquivos para o backup\n",
      "/workspaces/projeto_ing/ingestion/app/src/landing/dados_cep_mairipora_Avenida_20241115_124729.txt\n",
      "movendo arquivos para o backup\n",
      "/workspaces/projeto_ing/ingestion/app/src/landing/tempo_Atibaia_20240928164640.txt\n",
      "movendo arquivos para o backup\n",
      "/workspaces/projeto_ing/ingestion/app/src/landing/arquivo_temp_20241005_154103.txt\n",
      "movendo arquivos para o backup\n",
      "/workspaces/projeto_ing/ingestion/app/src/landing/tempo_São Paulo_2024-09-28.txt\n",
      "movendo arquivos para o backup\n",
      "/workspaces/projeto_ing/ingestion/app/src/landing/tempo_Rio de Janeiro_20240928164640.txt\n",
      "movendo arquivos para o backup\n",
      "/workspaces/projeto_ing/ingestion/app/src/landing/tempo_Rio de Janeiro_20240928.txt\n",
      "movendo arquivos para o backup\n",
      "/workspaces/projeto_ing/ingestion/app/src/landing/dados_cep_mairipora_Rua_20241108_180126.txt\n",
      "movendo arquivos para o backup\n",
      "/workspaces/projeto_ing/ingestion/app/src/landing/dados_cep_mairipora_Estrada_20241115_124729.txt\n",
      "movendo arquivos para o backup\n",
      "/workspaces/projeto_ing/ingestion/app/src/landing/dados_cep_mairipora_Avenida.txt\n",
      "movendo arquivos para o backup\n"
     ]
    }
   ],
   "source": [
    "import shutil\n",
    "import os \n",
    "\n",
    "\n",
    "landing_mov = '/workspaces/projeto_ing/ingestion/app/src/landing/'\n",
    "backup = '/workspaces/projeto_ing/ingestion/backup/backp/'\n",
    "\n",
    "list = os.listdir(landing_mov)\n",
    "\n",
    "for items in list:\n",
    "    # print(items)\n",
    "    \n",
    "    accpt = os.path.join(landing_mov, items)\n",
    "    print(accpt)\n",
    "    shutil.move(accpt, backup)\n",
    "    print('movendo arquivos para o backup')\n",
    "\n",
    "# for items in list:\n",
    "#     accpt = os.path.join(landing_mov, items)\n",
    "#     print(f'item encontrado no diretório: {items}')\n",
    "#     sub = os.listdir(accpt)\n",
    "#     print(f'conteudo: {sub}')\n",
    "#     print('--------------------------------------')\n",
    "\n"
   ]
  },
  {
   "cell_type": "code",
   "execution_count": null,
   "metadata": {},
   "outputs": [],
   "source": []
  },
  {
   "cell_type": "code",
   "execution_count": null,
   "metadata": {},
   "outputs": [],
   "source": [
    "import os\n",
    "import shutil\n",
    "from datetime import datetime\n",
    "\n",
    "def envio_arquivos(files_dir, landing_dir, controle_path):\n",
    "    \"\"\"\n",
    "    Função para enviar arquivos para um diretório de destino (landing),\n",
    "    verificando um arquivo de controle para evitar duplicatas.\n",
    "    \n",
    "    Args:\n",
    "        files_dir (str): Diretório onde os arquivos estão localizados.\n",
    "        landing_dir (str): Diretório de destino para envio dos arquivos.\n",
    "        controle_path (str): Caminho para o arquivo de controle.\n",
    "    \"\"\"\n",
    "    # Gerar timestamp e data atual\n",
    "    timestamp = datetime.now().strftime('%Y%m%d_%H%M%S')\n",
    "    datahoje = datetime.now().strftime('%Y%m%d')\n",
    "    print(f\"Data de hoje: {datahoje}\")\n",
    "\n",
    "    # Listar subdiretórios no diretório de origem\n",
    "    subdirs = os.listdir(files_dir)\n",
    "    print(f\"Subdiretórios encontrados: {subdirs}\")\n",
    "\n",
    "    for item in subdirs:\n",
    "        item_path = os.path.join(files_dir, item)\n",
    "        print(f\"Verificando item no diretório: {item}\")\n",
    "        \n",
    "        if os.path.isdir(item_path):\n",
    "            subconteudo = os.listdir(item_path)\n",
    "            print(f\"Conteúdo do subdiretório {item}: {subconteudo}\")\n",
    "        print('--------------------------------------')\n",
    "\n",
    "    # Processar arquivos\n",
    "    for root, _, files in os.walk(files_dir):\n",
    "        print(f\"Procurando em: {root}\")\n",
    "        for nome_arquivo in files:\n",
    "            print(f\"Verificando arquivo: {nome_arquivo}\")\n",
    "            \n",
    "            caminho_completo = os.path.join(root, nome_arquivo)\n",
    "            sep_name = os.path.basename(nome_arquivo)\n",
    "            print(f\"Nome do arquivo: {sep_name}\")\n",
    "\n",
    "            # Extrair data do nome do arquivo (assume formato esperado)\n",
    "            try:\n",
    "                sep_data = sep_name.split('_')[3]\n",
    "            except IndexError:\n",
    "                print(f\"Erro ao separar data no nome do arquivo: {sep_name}\")\n",
    "                continue\n",
    "\n",
    "            print(f\"Data extraída: {sep_data}\")\n",
    "            if sep_data >= datahoje:\n",
    "                with open(controle_path, 'r+') as ctrl:\n",
    "                    conteudo_ctrl = ctrl.readlines()\n",
    "                    print(f\"Conteúdo do arquivo de controle: {conteudo_ctrl}\")\n",
    "\n",
    "                    if sep_name + '\\n' not in conteudo_ctrl:\n",
    "                        with open(controle_path, 'a') as control_move:\n",
    "                            control_move.write(f\"{sep_name}\\n\")\n",
    "                            print(\"Salvando nome do arquivo no controle\")\n",
    "\n",
    "                        # Mover arquivo para o diretório de destino\n",
    "                        shutil.copy(caminho_completo, landing_dir)\n",
    "                        print(f\"Arquivo enviado: {caminho_completo}\")\n",
    "                        print(f\"Destino: {landing_dir}\")\n",
    "                    else:\n",
    "                        print(f\"Arquivo já existe no controle: {sep_name}\")\n",
    "            else:\n",
    "                print(f\"Erro no formato ou data do arquivo: {sep_name}\")\n",
    "    print(\"Processo finalizado!\")\n"
   ]
  },
  {
   "cell_type": "code",
   "execution_count": null,
   "metadata": {},
   "outputs": [],
   "source": [
    "if __name__ == \"__main__\":\n",
    "    # Diretórios e arquivo de controle\n",
    "    files_dir = '/workspaces/projeto_ing/tests/app/src/teste/'\n",
    "    landing_dir = '/workspaces/projeto_ing/tests/app/src/teste_landing/'\n",
    "    controle_path = '/workspaces/projeto_ing/ingestion/backup/archiving_ctrl/arquivo_controle.txt'\n",
    "    \n",
    "    # Chamada da função\n",
    "    envio_arquivos(files_dir, landing_dir, controle_path)\n"
   ]
  },
  {
   "cell_type": "code",
   "execution_count": null,
   "metadata": {},
   "outputs": [],
   "source": []
  },
  {
   "cell_type": "code",
   "execution_count": 24,
   "metadata": {},
   "outputs": [],
   "source": [
    "import sys\n",
    "\n",
    "sys.path.append(\"/../../utils/\")\n",
    "from helpers import envio_arquivos"
   ]
  },
  {
   "cell_type": "code",
   "execution_count": 25,
   "metadata": {},
   "outputs": [
    {
     "name": "stdout",
     "output_type": "stream",
     "text": [
      "Data de hoje: 20241230\n",
      "Subdiretórios encontrados: ['files']\n",
      "Verificando item no diretório: files\n",
      "Conteúdo do subdiretório files: ['dados_cript.bin', 'resultado_cep_mairiporã_20241014_231236.txt']\n",
      "--------------------------------------\n",
      "Procurando em: /workspaces/projeto_ing/tests/app/src/teste/\n",
      "Procurando em: /workspaces/projeto_ing/tests/app/src/teste/files\n",
      "Verificando arquivo: dados_cript.bin\n",
      "Nome do arquivo: dados_cript.bin\n",
      "Erro ao separar data no nome do arquivo: dados_cript.bin\n",
      "Verificando arquivo: resultado_cep_mairiporã_20241014_231236.txt\n",
      "Nome do arquivo: resultado_cep_mairiporã_20241014_231236.txt\n",
      "Data extraída: 20241014\n",
      "Erro no formato ou data do arquivo: resultado_cep_mairiporã_20241014_231236.txt\n",
      "Processo finalizado!\n"
     ]
    }
   ],
   "source": [
    "envio_arquivos(files_dir, landing_dir, controle_path)"
   ]
  },
  {
   "cell_type": "code",
   "execution_count": null,
   "metadata": {},
   "outputs": [],
   "source": []
  },
  {
   "cell_type": "code",
   "execution_count": null,
   "metadata": {},
   "outputs": [],
   "source": [
    "from utils import envio_arquivos\n",
    "\n",
    "# Diretórios e arquivo de controle\n",
    "files_dir = '/workspaces/projeto_ing/tests/app/src/teste/'\n",
    "landing_dir = '/workspaces/projeto_ing/tests/app/src/teste_landing/'\n",
    "controle_path = '/workspaces/projeto_ing/ingestion/backup/archiving_ctrl/arquivo_controle.txt'\n",
    "\n",
    "# Usar a função\n",
    "envio_arquivos(files_dir, landing_dir, controle_path)\n"
   ]
  },
  {
   "cell_type": "code",
   "execution_count": 22,
   "metadata": {},
   "outputs": [],
   "source": [
    "import sys\n",
    "\n",
    "sys.path.append(\"/../../utils/\")\n",
    "from helpers import envio_arquivos"
   ]
  },
  {
   "cell_type": "code",
   "execution_count": 23,
   "metadata": {},
   "outputs": [
    {
     "name": "stdout",
     "output_type": "stream",
     "text": [
      "Data de hoje: 20241230\n",
      "Subdiretórios encontrados: ['files']\n",
      "Verificando item no diretório: files\n",
      "Conteúdo do subdiretório files: ['dados_cript.bin', 'resultado_cep_mairiporã_20241014_231236.txt']\n",
      "--------------------------------------\n",
      "Procurando em: /workspaces/projeto_ing/tests/app/src/teste/\n",
      "Procurando em: /workspaces/projeto_ing/tests/app/src/teste/files\n",
      "Verificando arquivo: dados_cript.bin\n",
      "Nome do arquivo: dados_cript.bin\n",
      "Erro ao separar data no nome do arquivo: dados_cript.bin\n",
      "Verificando arquivo: resultado_cep_mairiporã_20241014_231236.txt\n",
      "Nome do arquivo: resultado_cep_mairiporã_20241014_231236.txt\n",
      "Data extraída: 20241014\n",
      "Erro no formato ou data do arquivo: resultado_cep_mairiporã_20241014_231236.txt\n",
      "Processo finalizado!\n"
     ]
    }
   ],
   "source": [
    "# Diretórios e arquivo de controle\n",
    "# files_dir = '/workspaces/projeto_ing/tests/app/src/teste/'\n",
    "# landing_dir = '/workspaces/projeto_ing/tests/app/src/teste_landing/'\n",
    "# controle_path = '/workspaces/projeto_ing/ingestion/backup/archiving_ctrl/arquivo_controle.txt'\n",
    "\n",
    "# Usar a função\n",
    "envio_arquivos(files_dir, landing_dir, controle_path)"
   ]
  },
  {
   "cell_type": "code",
   "execution_count": null,
   "metadata": {},
   "outputs": [],
   "source": []
  },
  {
   "cell_type": "code",
   "execution_count": null,
   "metadata": {},
   "outputs": [],
   "source": []
  },
  {
   "cell_type": "code",
   "execution_count": 9,
   "metadata": {},
   "outputs": [
    {
     "ename": "ModuleNotFoundError",
     "evalue": "No module named 'helpers'",
     "output_type": "error",
     "traceback": [
      "\u001b[0;31m---------------------------------------------------------------------------\u001b[0m",
      "\u001b[0;31mModuleNotFoundError\u001b[0m                       Traceback (most recent call last)",
      "Cell \u001b[0;32mIn[9], line 2\u001b[0m\n\u001b[1;32m      1\u001b[0m \u001b[38;5;28;01mimport\u001b[39;00m \u001b[38;5;21;01mimportlib\u001b[39;00m\n\u001b[0;32m----> 2\u001b[0m \u001b[38;5;28;01mimport\u001b[39;00m \u001b[38;5;21;01mhelpers\u001b[39;00m\n\u001b[1;32m      3\u001b[0m importlib\u001b[38;5;241m.\u001b[39mreload(helpers)\n",
      "\u001b[0;31mModuleNotFoundError\u001b[0m: No module named 'helpers'"
     ]
    }
   ],
   "source": [
    "import importlib\n",
    "import helpers\n",
    "importlib.reload(helpers)"
   ]
  },
  {
   "cell_type": "code",
   "execution_count": 16,
   "metadata": {},
   "outputs": [],
   "source": [
    "import sys\n",
    "\n",
    "sys.path.append(\"/../../utils/\")\n",
    "from helpers import envio_arquivos"
   ]
  },
  {
   "cell_type": "code",
   "execution_count": 13,
   "metadata": {},
   "outputs": [
    {
     "ename": "ModuleNotFoundError",
     "evalue": "No module named 'utils'",
     "output_type": "error",
     "traceback": [
      "\u001b[0;31m---------------------------------------------------------------------------\u001b[0m",
      "\u001b[0;31mModuleNotFoundError\u001b[0m                       Traceback (most recent call last)",
      "Cell \u001b[0;32mIn[13], line 1\u001b[0m\n\u001b[0;32m----> 1\u001b[0m \u001b[38;5;28;01mfrom\u001b[39;00m \u001b[38;5;21;01mutils\u001b[39;00m\u001b[38;5;21;01m.\u001b[39;00m\u001b[38;5;21;01mhelpers\u001b[39;00m \u001b[38;5;28;01mimport\u001b[39;00m envio_arquivos\n",
      "\u001b[0;31mModuleNotFoundError\u001b[0m: No module named 'utils'"
     ]
    }
   ],
   "source": [
    "from utils.helpers import envio_arquivos"
   ]
  },
  {
   "cell_type": "code",
   "execution_count": 15,
   "metadata": {},
   "outputs": [],
   "source": [
    "import sys\n",
    "import os\n",
    "\n",
    "# Adiciona o caminho raiz do projeto ao sys.path\n",
    "sys.path.append(os.path.abspath('/workspaces/projeto_ing/utils/'))\n",
    "\n",
    "# Agora importe a função\n",
    "from utils.helpers import envio_arquivos\n"
   ]
  }
 ],
 "metadata": {
  "kernelspec": {
   "display_name": "Python 3",
   "language": "python",
   "name": "python3"
  },
  "language_info": {
   "codemirror_mode": {
    "name": "ipython",
    "version": 3
   },
   "file_extension": ".py",
   "mimetype": "text/x-python",
   "name": "python",
   "nbconvert_exporter": "python",
   "pygments_lexer": "ipython3",
   "version": "3.10.13"
  }
 },
 "nbformat": 4,
 "nbformat_minor": 2
}
