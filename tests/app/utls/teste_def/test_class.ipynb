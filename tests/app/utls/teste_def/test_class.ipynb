{
 "cells": [
  {
   "cell_type": "code",
   "execution_count": 2,
   "id": "8bb59319",
   "metadata": {},
   "outputs": [],
   "source": [
    "class restaurant:\n",
    "    \n",
    "    def __init__(self, restaurant_name, cuisine_type):\n",
    "        self.restaurant_name = restaurant_name\n",
    "        self.cuisine_type = cuisine_type\n",
    "\n",
    "    def describe_restaurant(self):\n",
    "        print(f'nome restaurante: {self.restaurant_name}')\n",
    "        print(f'tipo de cozinha: {self.cuisine_type}')\n",
    "\n",
    "    def open_restaurant(self):\n",
    "        print(f'resturante aberto: {self.restaurant_name}')"
   ]
  },
  {
   "cell_type": "code",
   "execution_count": 2,
   "id": "dbc5cf4f",
   "metadata": {},
   "outputs": [
    {
     "name": "stdout",
     "output_type": "stream",
     "text": [
      "meu restaurante favorito: feijao preto\n",
      "o tipo de comida é: caseira\n"
     ]
    }
   ],
   "source": [
    "meu_restaurante = restaurant('feijao preto', 'caseira')\n",
    "print(f'meu restaurante favorito: {meu_restaurante.restaurant_name}')\n",
    "print(f'o tipo de comida é: {meu_restaurante.cuisine_type}')"
   ]
  },
  {
   "cell_type": "code",
   "execution_count": 3,
   "id": "ff2ab803",
   "metadata": {},
   "outputs": [
    {
     "name": "stdout",
     "output_type": "stream",
     "text": [
      "o resturante um é: feijao preto e o tipo da cozinha é: caseira\n",
      "o resturante dois é: sushi e o tipo da cozinha é: comida japonesa\n",
      "o resturante tres é: forneiro e o tipo da cozinha é: pizzaria\n"
     ]
    }
   ],
   "source": [
    "restaurante1 = restaurant('feijao preto', 'caseira')\n",
    "restaurante2 = restaurant('sushi', 'comida japonesa')\n",
    "restaurante3 = restaurant('forneiro', 'pizzaria')\n",
    "\n",
    "print(f'o resturante um é: {restaurante1.restaurant_name} e o tipo da cozinha é: {restaurante1.cuisine_type}')\n",
    "print(f'o resturante dois é: {restaurante2.restaurant_name} e o tipo da cozinha é: {restaurante2.cuisine_type}')\n",
    "print(f'o resturante tres é: {restaurante3.restaurant_name} e o tipo da cozinha é: {restaurante3.cuisine_type}')"
   ]
  },
  {
   "cell_type": "code",
   "execution_count": null,
   "id": "2569d9a9",
   "metadata": {},
   "outputs": [],
   "source": [
    "class IceCreamStand(restaurant):\n",
    "    \n",
    "    def __init__(self, restaurant_name, cuisine_type, flavors):\n",
    "        super().__init__(restaurant_name, cuisine_type)\n",
    "\n",
    "        lista = []\n",
    "\n",
    "        while flavors:\n",
    "            flvr = flavors.pop()\n",
    "            print(f'adicionando a lista: {flvr}')\n",
    "\n",
    "            lista.append(flvr)\n",
    "\n",
    "\n",
    "\n",
    "\n",
    "        # print(f'sabores: {flavors}')\n",
    "\n",
    "        # for listas in flavors:\n",
    "        #     listas.append(lista)\n",
    "\n",
    "        #     print(f'adicionando a lista: {lista}')\n",
    "\n",
    "\n",
    "\n",
    "\n",
    "    \n",
    "    "
   ]
  },
  {
   "cell_type": "code",
   "execution_count": 13,
   "id": "562e27a1",
   "metadata": {},
   "outputs": [
    {
     "name": "stdout",
     "output_type": "stream",
     "text": [
      "sabores: mel\n"
     ]
    },
    {
     "ename": "AttributeError",
     "evalue": "'str' object has no attribute 'append'",
     "output_type": "error",
     "traceback": [
      "\u001b[0;31m---------------------------------------------------------------------------\u001b[0m",
      "\u001b[0;31mAttributeError\u001b[0m                            Traceback (most recent call last)",
      "Cell \u001b[0;32mIn[13], line 1\u001b[0m\n\u001b[0;32m----> 1\u001b[0m meu_restaurante \u001b[38;5;241m=\u001b[39m \u001b[43mIceCreamStand\u001b[49m\u001b[43m(\u001b[49m\u001b[38;5;124;43m'\u001b[39;49m\u001b[38;5;124;43mfeijao preto\u001b[39;49m\u001b[38;5;124;43m'\u001b[39;49m\u001b[43m,\u001b[49m\u001b[43m \u001b[49m\u001b[38;5;124;43m'\u001b[39;49m\u001b[38;5;124;43mcaseira\u001b[39;49m\u001b[38;5;124;43m'\u001b[39;49m\u001b[43m,\u001b[49m\u001b[43m \u001b[49m\u001b[38;5;124;43m'\u001b[39;49m\u001b[38;5;124;43mmel\u001b[39;49m\u001b[38;5;124;43m'\u001b[39;49m\u001b[43m)\u001b[49m\n\u001b[1;32m      2\u001b[0m \u001b[38;5;28mprint\u001b[39m(\u001b[38;5;124mf\u001b[39m\u001b[38;5;124m'\u001b[39m\u001b[38;5;124mmeu restaurante favorito: \u001b[39m\u001b[38;5;132;01m{\u001b[39;00mmeu_restaurante\u001b[38;5;241m.\u001b[39mrestaurant_name\u001b[38;5;132;01m}\u001b[39;00m\u001b[38;5;124m'\u001b[39m)\n\u001b[1;32m      3\u001b[0m \u001b[38;5;28mprint\u001b[39m(\u001b[38;5;124mf\u001b[39m\u001b[38;5;124m'\u001b[39m\u001b[38;5;124mo tipo de comida é: \u001b[39m\u001b[38;5;132;01m{\u001b[39;00mmeu_restaurante\u001b[38;5;241m.\u001b[39mcuisine_type\u001b[38;5;132;01m}\u001b[39;00m\u001b[38;5;124m'\u001b[39m)\n",
      "Cell \u001b[0;32mIn[12], line 11\u001b[0m, in \u001b[0;36mIceCreamStand.__init__\u001b[0;34m(self, restaurant_name, cuisine_type, flavors)\u001b[0m\n\u001b[1;32m      8\u001b[0m \u001b[38;5;28mprint\u001b[39m(\u001b[38;5;124mf\u001b[39m\u001b[38;5;124m'\u001b[39m\u001b[38;5;124msabores: \u001b[39m\u001b[38;5;132;01m{\u001b[39;00mflavors\u001b[38;5;132;01m}\u001b[39;00m\u001b[38;5;124m'\u001b[39m)\n\u001b[1;32m     10\u001b[0m \u001b[38;5;28;01mfor\u001b[39;00m listas \u001b[38;5;129;01min\u001b[39;00m flavors:\n\u001b[0;32m---> 11\u001b[0m     \u001b[43mlistas\u001b[49m\u001b[38;5;241;43m.\u001b[39;49m\u001b[43mappend\u001b[49m(lista)\n\u001b[1;32m     13\u001b[0m     \u001b[38;5;28mprint\u001b[39m(\u001b[38;5;124mf\u001b[39m\u001b[38;5;124m'\u001b[39m\u001b[38;5;124madicionando a lista: \u001b[39m\u001b[38;5;132;01m{\u001b[39;00mlista\u001b[38;5;132;01m}\u001b[39;00m\u001b[38;5;124m'\u001b[39m)\n",
      "\u001b[0;31mAttributeError\u001b[0m: 'str' object has no attribute 'append'"
     ]
    }
   ],
   "source": [
    "meu_restaurante = IceCreamStand('feijao preto', 'caseira', 'mel')\n",
    "print(f'meu restaurante favorito: {meu_restaurante.restaurant_name}')\n",
    "print(f'o tipo de comida é: {meu_restaurante.cuisine_type}')"
   ]
  },
  {
   "cell_type": "code",
   "execution_count": 37,
   "id": "25c08e1c",
   "metadata": {},
   "outputs": [
    {
     "name": "stdout",
     "output_type": "stream",
     "text": [
      "nome restaurante: sorveteria\n",
      "tipo de cozinha: sorvete\n",
      "None\n"
     ]
    }
   ],
   "source": [
    "class IceCreamStand(restaurant):\n",
    "\n",
    "    def flavors(self, restaurant_name, cuisine_type, sabores):\n",
    "        '''\n",
    "          Inicializa os atributos da classe pai\n",
    "        '''\n",
    "        super().__init__(restaurant_name, cuisine_type)\n",
    "        self.sabores = sabores\n",
    "        print(f'sabores: {sabores}')\n",
    "\n",
    "        self.restaurant_name = restaurant()\n",
    "\n",
    "    def flavor(self):\n",
    "        ''' lista de sabores '''\n",
    "        lista = []\n",
    "        for listas in lista:\n",
    "            sabor = lista.append(listas)\n",
    "        print(f'lista de sabores: {sabor}')\n",
    "\n",
    "        \n",
    "teste = IceCreamStand('sorveteria', 'sorvete')\n",
    "print(teste.describe_restaurant())\n",
    "# print(teste.flavor())\n",
    "\n",
    "# print(teste.flavor())\n"
   ]
  },
  {
   "cell_type": "code",
   "execution_count": null,
   "id": "258026bc",
   "metadata": {},
   "outputs": [],
   "source": []
  },
  {
   "cell_type": "code",
   "execution_count": 69,
   "id": "1b0fc2b0",
   "metadata": {},
   "outputs": [
    {
     "name": "stdout",
     "output_type": "stream",
     "text": [
      "<class '__main__.IceCreamStand'>\n",
      "<class '__main__.restaurant'>\n",
      "nome restaurante: sorveteria\n",
      "tipo de cozinha: sorvete\n"
     ]
    },
    {
     "data": {
      "text/plain": [
       "'lista:[]'"
      ]
     },
     "execution_count": 69,
     "metadata": {},
     "output_type": "execute_result"
    }
   ],
   "source": [
    "class restaurant:\n",
    "    \n",
    "    def __init__(self, restaurant_name, cuisine_type):\n",
    "        self.restaurant_name = restaurant_name\n",
    "        self.cuisine_type = cuisine_type\n",
    "\n",
    "    def describe_restaurant(self):\n",
    "        print(f'nome restaurante: {self.restaurant_name}')\n",
    "        print(f'tipo de cozinha: {self.cuisine_type}')\n",
    "\n",
    "    def open_restaurant(self):\n",
    "        print(f'resturante aberto: {self.restaurant_name}')\n",
    "\n",
    "class IceCreamStand(restaurant):\n",
    "\n",
    "    def __init__(self, restaurant_name, cuisine_type):\n",
    "\n",
    "        super().__init__(restaurant_name, cuisine_type)\n",
    "        self.flavors = ''\n",
    "    \n",
    "    def describe_flavors(self):\n",
    "        self.cuisine_type\n",
    "        self.restaurant_name\n",
    "        compl_list = []\n",
    "        lista = self.describe_restaurant()\n",
    "        while lista:\n",
    "            add = lista.pop()\n",
    "            print(f'lista sabor: {add}')\n",
    "            compl_list.append(add)\n",
    "\n",
    "        return(f'lista:{compl_list}')\n",
    "\n",
    "\n",
    "            \n",
    "            \n",
    "\n",
    "print(IceCreamStand)\n",
    "print(restaurant)\n",
    "# teste1 = IceCreamStand('sorveteria', 'sorvete')\n",
    "# print(teste1.describe_restaurant())\n",
    "# teste1.flavors.describe_restaurant()\n",
    "\n",
    "teste2 = IceCreamStand('sorveteria', 'sorvete')\n",
    "teste2.describe_flavors()\n",
    "\n"
   ]
  },
  {
   "cell_type": "code",
   "execution_count": 73,
   "id": "409f62ed",
   "metadata": {},
   "outputs": [
    {
     "name": "stdout",
     "output_type": "stream",
     "text": [
      "printed: teste3\n",
      "printed: teste2\n",
      "printed: teste\n",
      "lista: teste3\n",
      "lista: teste2\n",
      "lista: teste\n"
     ]
    }
   ],
   "source": [
    "def print_models(unprinted_designs, completed_models):\n",
    "    while unprinted_designs:\n",
    "        current_design = unprinted_designs.pop()\n",
    "        print(f'printed: {current_design}')\n",
    "        completed_models.append(current_design)\n",
    "\n",
    "def show_completed(completed_models):\n",
    "    for completed_model in completed_models:\n",
    "        print(f'lista: {completed_model}')\n",
    "\n",
    "unprinted_designs = ['teste', 'teste2', 'teste3']\n",
    "completed_models = []\n",
    "\n",
    "print_models(unprinted_designs, completed_models)\n",
    "show_completed(completed_models)\n"
   ]
  },
  {
   "cell_type": "code",
   "execution_count": 101,
   "id": "a4b31282",
   "metadata": {},
   "outputs": [
    {
     "name": "stdout",
     "output_type": "stream",
     "text": [
      "teste sabor: sorvete\n",
      "sabor: chocolate\n",
      "teste sabor: sorvete\n",
      "sabor: sorveteria\n"
     ]
    }
   ],
   "source": [
    "class restaurant:\n",
    "    \n",
    "    def __init__(self, restaurant_name, cuisine_type):\n",
    "        self.restaurant_name = restaurant_name\n",
    "        self.cuisine_type = cuisine_type\n",
    "\n",
    "    def describe_restaurant(self):\n",
    "        print(f'nome restaurante: {self.restaurant_name}')\n",
    "        print(f'tipo de cozinha: {self.cuisine_type}')\n",
    "\n",
    "    def open_restaurant(self):\n",
    "        print(f'resturante aberto: {self.restaurant_name}')\n",
    "\n",
    "class IceCreamStand(restaurant):\n",
    "\n",
    "    def __init__(self, restaurant_name, cuisine_type):\n",
    "\n",
    "        super().__init__(restaurant_name, cuisine_type)\n",
    "\n",
    "    def flavors(self, flavor):\n",
    "        self.flavor = flavor\n",
    "        print(f'teste sabor: {self.cuisine_type}')\n",
    "        print(f'sabor: {flavor}')\n",
    "    \n",
    "\n",
    "teste = IceCreamStand('sorveteria', 'sorvete')\n",
    "# print(teste.describe_restaurant())\n",
    "# print(teste.open_restaurant())\n",
    "\n",
    "# teste2 = restaurant('teste3', 'teste4')\n",
    "# print(teste2.describe_restaurant())\n",
    "\n",
    "teste.flavors('chocolate')\n",
    "\n",
    "# teste = IceCreamStand('sorveteria', 'sorvete')\n",
    "# teste2.flavors('sorveteria', 'sorvete', 'chocolate')\n",
    "# print(teste.describe_restaurant())\n",
    "# print(teste2)\n",
    "        "
   ]
  },
  {
   "cell_type": "code",
   "execution_count": 102,
   "id": "012c18a9",
   "metadata": {},
   "outputs": [
    {
     "name": "stdout",
     "output_type": "stream",
     "text": [
      "Sabores disponíveis na Delícias Geladas:\n",
      "- chocolate\n",
      "- baunilha\n",
      "- morango\n",
      "- manga\n"
     ]
    }
   ],
   "source": [
    "class Restaurant:\n",
    "    \n",
    "    def __init__(self, restaurant_name, cuisine_type):\n",
    "        self.restaurant_name = restaurant_name\n",
    "        self.cuisine_type = cuisine_type\n",
    "\n",
    "    def describe_restaurant(self):\n",
    "        print(f'Nome do restaurante: {self.restaurant_name}')\n",
    "        print(f'Tipo de cozinha: {self.cuisine_type}')\n",
    "\n",
    "    def open_restaurant(self):\n",
    "        print(f'Restaurante aberto: {self.restaurant_name}')\n",
    "\n",
    "class IceCreamStand(Restaurant):\n",
    "\n",
    "    def __init__(self, restaurant_name, cuisine_type):\n",
    "        super().__init__(restaurant_name, cuisine_type)\n",
    "        self.flavors = []  # Inicializa a lista de sabores\n",
    "\n",
    "    def set_flavors(self, flavors_list):\n",
    "        self.flavors = flavors_list  # Define a lista de sabores\n",
    "\n",
    "    def display_flavors(self):\n",
    "        print(f'Sabores disponíveis na {self.restaurant_name}:')\n",
    "        for flavor in self.flavors: \n",
    "            print(f'- {flavor}')\n",
    "\n",
    "# Criação da instância\n",
    "sorveteria = IceCreamStand('Delícias Geladas', 'Sorvete')\n",
    "\n",
    "# Definindo os sabores\n",
    "sorveteria.set_flavors(['chocolate', 'baunilha', 'morango', 'manga'])\n",
    "\n",
    "# Chamando o método para exibir os sabores\n",
    "sorveteria.display_flavors()\n"
   ]
  },
  {
   "cell_type": "code",
   "execution_count": null,
   "id": "1bd07a90",
   "metadata": {},
   "outputs": [],
   "source": [
    "\"\"\"\n",
    "criar uma classe chamada 'admin' que herde da classe 'user'\n",
    "adicionar um atributo 'privileges' que armazene uma lista de string como 'can add post', 'can delete post', 'can ban user', e assim por diante. \n",
    "Escrever um metodo chamado 'show_privileges()' que enumere o conjunto de privilegios do administrador.\n",
    "criar uma instancia chamada 'Admin' e chame seu meotodo.\n",
    "\"\"\""
   ]
  },
  {
   "cell_type": "code",
   "execution_count": 105,
   "id": "0f3c3d47",
   "metadata": {},
   "outputs": [
    {
     "name": "stdout",
     "output_type": "stream",
     "text": [
      "meu nome é: rafael\n",
      "tenho 32 anos\n",
      "login new 1\n",
      "reset login: 1\n"
     ]
    },
    {
     "data": {
      "text/plain": [
       "1"
      ]
     },
     "execution_count": 105,
     "metadata": {},
     "output_type": "execute_result"
    }
   ],
   "source": [
    "class user:\n",
    "\n",
    "    def __init__(self, first_name, last_name, age):\n",
    "        self.first_name = first_name\n",
    "        self.last_name = last_name\n",
    "        self.age = age\n",
    "        self.login_attempts = 1\n",
    "\n",
    "    def describe_user(self):\n",
    "        print(f'meu nome é: {self.first_name}')\n",
    "        print(f'tenho {self.age} anos')\n",
    "\n",
    "    def greet_user(self):\n",
    "        print(f'{self.first_name} gosta de praticar programacao')\n",
    "\n",
    "    def increment_login(self, new_longin):\n",
    "\n",
    "        if new_longin >= self.login_attempts:\n",
    "            self.login_attempts = new_longin\n",
    "            print(f'login new {new_longin}')\n",
    "        \n",
    "        else:\n",
    "            print('erro')\n",
    "        \n",
    "        return new_longin\n",
    "    \n",
    "    def reset_login_attempts(self, reset_login):\n",
    "        if reset_login >= self.login_attempts:\n",
    "            self.login_attempts = reset_login\n",
    "            print(f'reset login: {reset_login}')\n",
    "\n",
    "        else:\n",
    "            print('erro no reset')\n",
    "        \n",
    "        return reset_login\n",
    "        \n",
    "        \n",
    "user1 = user('rafael', 'sanchez', '32')\n",
    "user1.describe_user()\n",
    "\n",
    "user1.increment_login(1)\n",
    "user1.reset_login_attempts(1)\n"
   ]
  },
  {
   "cell_type": "code",
   "execution_count": null,
   "id": "355dab5e",
   "metadata": {},
   "outputs": [
    {
     "name": "stdout",
     "output_type": "stream",
     "text": [
      "privilegios admin: rafael\n",
      "0 - can add post\n",
      "1 - can delete post\n",
      "2 - can ban user\n"
     ]
    }
   ],
   "source": [
    "class Admin(user):\n",
    "\n",
    "    def __init__(self, first_name, last_name, age):\n",
    "        super().__init__(first_name, last_name, age)\n",
    "\n",
    "        self.privilage = ['can add post', 'can delete post', 'can ban user']\n",
    "\n",
    "    def show_privilage(self):\n",
    "        print(f'privilegios admin: {self.first_name}')\n",
    "        # print(f'tipo de privilegio: {self.privilage}')\n",
    "\n",
    "        for privilegio, privi in enumerate(self.privilage):\n",
    "            print(f'{privilegio} - {privi}')\n",
    "\n",
    "\n",
    "user3 = Admin('rafael', 'sanchez', '32')\n",
    "user3.show_privilage()"
   ]
  },
  {
   "cell_type": "code",
   "execution_count": null,
   "id": "c10f4fad",
   "metadata": {},
   "outputs": [
    {
     "ename": "TypeError",
     "evalue": "Admin.__init__() missing 2 required positional arguments: 'last_name' and 'age'",
     "output_type": "error",
     "traceback": [
      "\u001b[0;31m---------------------------------------------------------------------------\u001b[0m",
      "\u001b[0;31mTypeError\u001b[0m                                 Traceback (most recent call last)",
      "Cell \u001b[0;32mIn[122], line 19\u001b[0m\n\u001b[1;32m     14\u001b[0m             \u001b[38;5;28mprint\u001b[39m(\u001b[38;5;124mf\u001b[39m\u001b[38;5;124m'\u001b[39m\u001b[38;5;124m- \u001b[39m\u001b[38;5;132;01m{\u001b[39;00mprivilg\u001b[38;5;132;01m}\u001b[39;00m\u001b[38;5;124m'\u001b[39m)\n\u001b[1;32m     17\u001b[0m user \u001b[38;5;241m=\u001b[39m [\u001b[38;5;124m'\u001b[39m\u001b[38;5;124mrafel\u001b[39m\u001b[38;5;124m'\u001b[39m, \u001b[38;5;124m'\u001b[39m\u001b[38;5;124msanchez\u001b[39m\u001b[38;5;124m'\u001b[39m, \u001b[38;5;124m'\u001b[39m\u001b[38;5;124m32\u001b[39m\u001b[38;5;124m'\u001b[39m]\n\u001b[0;32m---> 19\u001b[0m \u001b[43mPrivileges\u001b[49m\u001b[43m(\u001b[49m\u001b[43muser\u001b[49m\u001b[43m)\u001b[49m\n\u001b[1;32m     21\u001b[0m     \u001b[38;5;66;03m# def set_flavors(self, flavors_list):\u001b[39;00m\n\u001b[1;32m     22\u001b[0m     \u001b[38;5;66;03m#     self.flavors = flavors_list  # Define a lista de sabores\u001b[39;00m\n\u001b[1;32m     23\u001b[0m \n\u001b[0;32m   (...)\u001b[0m\n\u001b[1;32m     37\u001b[0m \u001b[38;5;66;03m# # Chamando o método para exibir os sabores\u001b[39;00m\n\u001b[1;32m     38\u001b[0m \u001b[38;5;66;03m# sorveteria.display_flavors()\u001b[39;00m\n",
      "Cell \u001b[0;32mIn[122], line 4\u001b[0m, in \u001b[0;36mPrivileges.__init__\u001b[0;34m(self, privilage)\u001b[0m\n\u001b[1;32m      3\u001b[0m \u001b[38;5;28;01mdef\u001b[39;00m \u001b[38;5;21m__init__\u001b[39m(\u001b[38;5;28mself\u001b[39m, privilage):\n\u001b[0;32m----> 4\u001b[0m     \u001b[38;5;28;43msuper\u001b[39;49m\u001b[43m(\u001b[49m\u001b[43m)\u001b[49m\u001b[38;5;241;43m.\u001b[39;49m\u001b[38;5;21;43m__init__\u001b[39;49m\u001b[43m(\u001b[49m\u001b[43mprivilage\u001b[49m\u001b[43m)\u001b[49m\n\u001b[1;32m      5\u001b[0m     \u001b[38;5;28mself\u001b[39m\u001b[38;5;241m.\u001b[39mlist \u001b[38;5;241m=\u001b[39m []\n",
      "\u001b[0;31mTypeError\u001b[0m: Admin.__init__() missing 2 required positional arguments: 'last_name' and 'age'"
     ]
    }
   ],
   "source": [
    "class Privileges(Admin):\n",
    "\n",
    "    def __init__(self, privilage):\n",
    "        super().__init__(privilage)\n",
    "        self.list = []\n",
    "\n",
    "    def privileges(self, privilage_list):\n",
    "        self.list = privilage_list\n",
    "\n",
    "    def display_privileges(self):\n",
    "        print(f'tipos de privilégios: {self.list}')\n",
    "\n",
    "        for privilg in self.list:\n",
    "            print(f'- {privilg}')\n",
    "\n",
    "\n",
    "\n",
    "\n",
    "    # def set_flavors(self, flavors_list):\n",
    "    #     self.flavors = flavors_list  # Define a lista de sabores\n",
    "\n",
    "        \n",
    "    # def display_flavors(self):\n",
    "    #     print(f'Sabores disponíveis na {self.restaurant_name}:')\n",
    "    #     for flavor in self.flavors: \n",
    "    #         print(f'- {flavor}')\n",
    "\n",
    "\n",
    "# # Criação da instância\n",
    "# sorveteria = IceCreamStand('Delícias Geladas', 'Sorvete')\n",
    "\n",
    "# # Definindo os sabores\n",
    "# sorveteria.set_flavors(['chocolate', 'baunilha', 'morango', 'manga'])\n",
    "\n",
    "# # Chamando o método para exibir os sabores\n",
    "# sorveteria.display_flavors()"
   ]
  },
  {
   "cell_type": "code",
   "execution_count": null,
   "id": "f5a75b04",
   "metadata": {},
   "outputs": [],
   "source": [
    "# frutas = [\"maçã\", \"banana\", \"laranja\", \"uva\", \"caju\", \"figo\", \"abacaxi\", \"framboesa\"]\n",
    "# for indice, fruta in enumerate(frutas):\n",
    "#     print(f\"Índice {indice}: {fruta}\")"
   ]
  },
  {
   "cell_type": "code",
   "execution_count": 139,
   "id": "1c43241c",
   "metadata": {},
   "outputs": [
    {
     "name": "stdout",
     "output_type": "stream",
     "text": [
      "Privilégios:\n",
      "- can add post\n",
      "- can delete post\n",
      "- can ban user\n",
      "usuario: Rafael Sanchez\n"
     ]
    }
   ],
   "source": [
    "class User:\n",
    "    def __init__(self, first_name, last_name, age):\n",
    "        self.first_name = first_name\n",
    "        self.last_name = last_name\n",
    "        self.age = age\n",
    "        self.login_attempts = 1\n",
    "\n",
    "    def describe_user(self):\n",
    "        print(f'meu nome é: {self.first_name}')\n",
    "        print(f'tenho {self.age} anos')\n",
    "\n",
    "    def greet_user(self):\n",
    "        print(f'{self.first_name} gosta de praticar programacao')\n",
    "\n",
    "    def increment_login(self, new_longin):\n",
    "\n",
    "        if new_longin >= self.login_attempts:\n",
    "            self.login_attempts = new_longin\n",
    "            print(f'login new {new_longin}')\n",
    "        \n",
    "        else:\n",
    "            print('erro')\n",
    "        \n",
    "        return new_longin\n",
    "    \n",
    "    def reset_login_attempts(self, reset_login):\n",
    "        if reset_login >= self.login_attempts:\n",
    "            self.login_attempts = reset_login\n",
    "            print(f'reset login: {reset_login}')\n",
    "\n",
    "        else:\n",
    "            print('erro no reset')\n",
    "        \n",
    "        return reset_login\n",
    "\n",
    "class Privileges:\n",
    "    def __init__(self, privileges=None):\n",
    "        if privileges is None:\n",
    "            privileges = []\n",
    "        self.privileges = privileges\n",
    "\n",
    "    def show_privileges(self):\n",
    "        print(\"Privilégios:\")\n",
    "        for privilege in self.privileges:\n",
    "            print(f\"- {privilege}\")\n",
    "\n",
    "class Admin(User):\n",
    "    def __init__(self, first_name, last_name, age):\n",
    "        super().__init__(first_name, last_name, age)\n",
    "        self.privileges = Privileges([\n",
    "            'can add post',\n",
    "            'can delete post',\n",
    "            'can ban user'\n",
    "        ])\n",
    "\n",
    "    def users(self):\n",
    "        print(f'usuario: {self.first_name} {self.last_name}')\n",
    "\n",
    "# Criando instância e exibindo privilégios\n",
    "admin1 = Admin('Rafael', 'Sanchez', 32)\n",
    "admin1.privileges.show_privileges()\n",
    "admin1.users()\n",
    "\n"
   ]
  },
  {
   "cell_type": "code",
   "execution_count": 126,
   "id": "8c5e5ca9",
   "metadata": {},
   "outputs": [
    {
     "name": "stdout",
     "output_type": "stream",
     "text": [
      "Privilégios:\n",
      "- can reset passwords\n",
      "- can view logs\n"
     ]
    }
   ],
   "source": [
    "admin1.privileges.privileges = ['can reset passwords', 'can view logs']\n",
    "admin1.privileges.show_privileges()\n"
   ]
  }
 ],
 "metadata": {
  "kernelspec": {
   "display_name": "Python 3",
   "language": "python",
   "name": "python3"
  },
  "language_info": {
   "codemirror_mode": {
    "name": "ipython",
    "version": 3
   },
   "file_extension": ".py",
   "mimetype": "text/x-python",
   "name": "python",
   "nbconvert_exporter": "python",
   "pygments_lexer": "ipython3",
   "version": "3.10.13"
  }
 },
 "nbformat": 4,
 "nbformat_minor": 5
}
