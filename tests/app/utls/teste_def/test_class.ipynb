{
 "cells": [
  {
   "cell_type": "code",
   "execution_count": 2,
   "id": "8bb59319",
   "metadata": {},
   "outputs": [],
   "source": [
    "class restaurant:\n",
    "    \n",
    "    def __init__(self, restaurant_name, cuisine_type):\n",
    "        self.restaurant_name = restaurant_name\n",
    "        self.cuisine_type = cuisine_type\n",
    "\n",
    "    def describe_restaurant(self):\n",
    "        print(f'nome restaurante: {self.restaurant_name}')\n",
    "        print(f'tipo de cozinha: {self.cuisine_type}')\n",
    "\n",
    "    def open_restaurant(self):\n",
    "        print(f'resturante aberto: {self.restaurant_name}')"
   ]
  },
  {
   "cell_type": "code",
   "execution_count": 2,
   "id": "dbc5cf4f",
   "metadata": {},
   "outputs": [
    {
     "name": "stdout",
     "output_type": "stream",
     "text": [
      "meu restaurante favorito: feijao preto\n",
      "o tipo de comida é: caseira\n"
     ]
    }
   ],
   "source": [
    "meu_restaurante = restaurant('feijao preto', 'caseira')\n",
    "print(f'meu restaurante favorito: {meu_restaurante.restaurant_name}')\n",
    "print(f'o tipo de comida é: {meu_restaurante.cuisine_type}')"
   ]
  },
  {
   "cell_type": "code",
   "execution_count": 3,
   "id": "ff2ab803",
   "metadata": {},
   "outputs": [
    {
     "name": "stdout",
     "output_type": "stream",
     "text": [
      "o resturante um é: feijao preto e o tipo da cozinha é: caseira\n",
      "o resturante dois é: sushi e o tipo da cozinha é: comida japonesa\n",
      "o resturante tres é: forneiro e o tipo da cozinha é: pizzaria\n"
     ]
    }
   ],
   "source": [
    "restaurante1 = restaurant('feijao preto', 'caseira')\n",
    "restaurante2 = restaurant('sushi', 'comida japonesa')\n",
    "restaurante3 = restaurant('forneiro', 'pizzaria')\n",
    "\n",
    "print(f'o resturante um é: {restaurante1.restaurant_name} e o tipo da cozinha é: {restaurante1.cuisine_type}')\n",
    "print(f'o resturante dois é: {restaurante2.restaurant_name} e o tipo da cozinha é: {restaurante2.cuisine_type}')\n",
    "print(f'o resturante tres é: {restaurante3.restaurant_name} e o tipo da cozinha é: {restaurante3.cuisine_type}')"
   ]
  },
  {
   "cell_type": "code",
   "execution_count": null,
   "id": "2569d9a9",
   "metadata": {},
   "outputs": [],
   "source": [
    "class IceCreamStand(restaurant):\n",
    "    \n",
    "    def __init__(self, restaurant_name, cuisine_type, flavors):\n",
    "        super().__init__(restaurant_name, cuisine_type)\n",
    "\n",
    "        self.flavors = flavors\n",
    "        lista = []\n",
    "\n",
    "        print(f'sabores: {flavors}')\n",
    "\n",
    "        for listas in flavors:\n",
    "            listas.append(lista)\n",
    "\n",
    "            print(f'adicionando a lista: {lista}')\n",
    "\n",
    "\n",
    "\n",
    "\n",
    "    \n",
    "    "
   ]
  },
  {
   "cell_type": "code",
   "execution_count": 13,
   "id": "562e27a1",
   "metadata": {},
   "outputs": [
    {
     "name": "stdout",
     "output_type": "stream",
     "text": [
      "sabores: mel\n"
     ]
    },
    {
     "ename": "AttributeError",
     "evalue": "'str' object has no attribute 'append'",
     "output_type": "error",
     "traceback": [
      "\u001b[0;31m---------------------------------------------------------------------------\u001b[0m",
      "\u001b[0;31mAttributeError\u001b[0m                            Traceback (most recent call last)",
      "Cell \u001b[0;32mIn[13], line 1\u001b[0m\n\u001b[0;32m----> 1\u001b[0m meu_restaurante \u001b[38;5;241m=\u001b[39m \u001b[43mIceCreamStand\u001b[49m\u001b[43m(\u001b[49m\u001b[38;5;124;43m'\u001b[39;49m\u001b[38;5;124;43mfeijao preto\u001b[39;49m\u001b[38;5;124;43m'\u001b[39;49m\u001b[43m,\u001b[49m\u001b[43m \u001b[49m\u001b[38;5;124;43m'\u001b[39;49m\u001b[38;5;124;43mcaseira\u001b[39;49m\u001b[38;5;124;43m'\u001b[39;49m\u001b[43m,\u001b[49m\u001b[43m \u001b[49m\u001b[38;5;124;43m'\u001b[39;49m\u001b[38;5;124;43mmel\u001b[39;49m\u001b[38;5;124;43m'\u001b[39;49m\u001b[43m)\u001b[49m\n\u001b[1;32m      2\u001b[0m \u001b[38;5;28mprint\u001b[39m(\u001b[38;5;124mf\u001b[39m\u001b[38;5;124m'\u001b[39m\u001b[38;5;124mmeu restaurante favorito: \u001b[39m\u001b[38;5;132;01m{\u001b[39;00mmeu_restaurante\u001b[38;5;241m.\u001b[39mrestaurant_name\u001b[38;5;132;01m}\u001b[39;00m\u001b[38;5;124m'\u001b[39m)\n\u001b[1;32m      3\u001b[0m \u001b[38;5;28mprint\u001b[39m(\u001b[38;5;124mf\u001b[39m\u001b[38;5;124m'\u001b[39m\u001b[38;5;124mo tipo de comida é: \u001b[39m\u001b[38;5;132;01m{\u001b[39;00mmeu_restaurante\u001b[38;5;241m.\u001b[39mcuisine_type\u001b[38;5;132;01m}\u001b[39;00m\u001b[38;5;124m'\u001b[39m)\n",
      "Cell \u001b[0;32mIn[12], line 11\u001b[0m, in \u001b[0;36mIceCreamStand.__init__\u001b[0;34m(self, restaurant_name, cuisine_type, flavors)\u001b[0m\n\u001b[1;32m      8\u001b[0m \u001b[38;5;28mprint\u001b[39m(\u001b[38;5;124mf\u001b[39m\u001b[38;5;124m'\u001b[39m\u001b[38;5;124msabores: \u001b[39m\u001b[38;5;132;01m{\u001b[39;00mflavors\u001b[38;5;132;01m}\u001b[39;00m\u001b[38;5;124m'\u001b[39m)\n\u001b[1;32m     10\u001b[0m \u001b[38;5;28;01mfor\u001b[39;00m listas \u001b[38;5;129;01min\u001b[39;00m flavors:\n\u001b[0;32m---> 11\u001b[0m     \u001b[43mlistas\u001b[49m\u001b[38;5;241;43m.\u001b[39;49m\u001b[43mappend\u001b[49m(lista)\n\u001b[1;32m     13\u001b[0m     \u001b[38;5;28mprint\u001b[39m(\u001b[38;5;124mf\u001b[39m\u001b[38;5;124m'\u001b[39m\u001b[38;5;124madicionando a lista: \u001b[39m\u001b[38;5;132;01m{\u001b[39;00mlista\u001b[38;5;132;01m}\u001b[39;00m\u001b[38;5;124m'\u001b[39m)\n",
      "\u001b[0;31mAttributeError\u001b[0m: 'str' object has no attribute 'append'"
     ]
    }
   ],
   "source": [
    "meu_restaurante = IceCreamStand('feijao preto', 'caseira', 'mel')\n",
    "print(f'meu restaurante favorito: {meu_restaurante.restaurant_name}')\n",
    "print(f'o tipo de comida é: {meu_restaurante.cuisine_type}')"
   ]
  }
 ],
 "metadata": {
  "kernelspec": {
   "display_name": "Python 3",
   "language": "python",
   "name": "python3"
  },
  "language_info": {
   "codemirror_mode": {
    "name": "ipython",
    "version": 3
   },
   "file_extension": ".py",
   "mimetype": "text/x-python",
   "name": "python",
   "nbconvert_exporter": "python",
   "pygments_lexer": "ipython3",
   "version": "3.10.13"
  }
 },
 "nbformat": 4,
 "nbformat_minor": 5
}
