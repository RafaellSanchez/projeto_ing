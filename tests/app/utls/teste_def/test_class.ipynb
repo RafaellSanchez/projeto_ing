{
 "cells": [
  {
   "cell_type": "code",
   "execution_count": null,
   "id": "8bb59319",
   "metadata": {},
   "outputs": [],
   "source": [
    "class restaurant:\n",
    "    \n",
    "    def __init__(self, restaurant_name, cuisine_type):\n",
    "        self.restaurant_name = restaurant_name\n",
    "        self.cuisine_type = cuisine_type\n",
    "\n",
    "    def describe_restaurant(self):\n",
    "        print(f'nome restaurante: {self.restaurant_name}')\n",
    "        print(f'tipo de cozinha: {self.cuisine_type}')\n",
    "\n",
    "    def open_restaurant(self):\n",
    "        print(f'resturante aberto: {self.restaurant_name}')"
   ]
  },
  {
   "cell_type": "code",
   "execution_count": 2,
   "id": "dbc5cf4f",
   "metadata": {},
   "outputs": [
    {
     "name": "stdout",
     "output_type": "stream",
     "text": [
      "meu restaurante favorito: feijao preto\n",
      "o tipo de comida é: caseira\n"
     ]
    }
   ],
   "source": [
    "meu_restaurante = restaurant('feijao preto', 'caseira')\n",
    "print(f'meu restaurante favorito: {meu_restaurante.restaurant_name}')\n",
    "print(f'o tipo de comida é: {meu_restaurante.cuisine_type}')"
   ]
  },
  {
   "cell_type": "code",
   "execution_count": 3,
   "id": "ff2ab803",
   "metadata": {},
   "outputs": [
    {
     "name": "stdout",
     "output_type": "stream",
     "text": [
      "o resturante um é: feijao preto e o tipo da cozinha é: caseira\n",
      "o resturante dois é: sushi e o tipo da cozinha é: comida japonesa\n",
      "o resturante tres é: forneiro e o tipo da cozinha é: pizzaria\n"
     ]
    }
   ],
   "source": [
    "restaurante1 = restaurant('feijao preto', 'caseira')\n",
    "restaurante2 = restaurant('sushi', 'comida japonesa')\n",
    "restaurante3 = restaurant('forneiro', 'pizzaria')\n",
    "\n",
    "print(f'o resturante um é: {restaurante1.restaurant_name} e o tipo da cozinha é: {restaurante1.cuisine_type}')\n",
    "print(f'o resturante dois é: {restaurante2.restaurant_name} e o tipo da cozinha é: {restaurante2.cuisine_type}')\n",
    "print(f'o resturante tres é: {restaurante3.restaurant_name} e o tipo da cozinha é: {restaurante3.cuisine_type}')"
   ]
  },
  {
   "cell_type": "code",
   "execution_count": null,
   "id": "2569d9a9",
   "metadata": {},
   "outputs": [],
   "source": [
    "class IceCreamStand(restaurant):\n",
    "    \n",
    "    def __init__(self, restaurant_name, cuisine_type):\n",
    "        super().__init__(restaurant_name, cuisine_type)\n",
    "\n",
    "    def flavors()\n",
    "    "
   ]
  }
 ],
 "metadata": {
  "kernelspec": {
   "display_name": "Python 3",
   "language": "python",
   "name": "python3"
  },
  "language_info": {
   "codemirror_mode": {
    "name": "ipython",
    "version": 3
   },
   "file_extension": ".py",
   "mimetype": "text/x-python",
   "name": "python",
   "nbconvert_exporter": "python",
   "pygments_lexer": "ipython3",
   "version": "3.10.13"
  }
 },
 "nbformat": 4,
 "nbformat_minor": 5
}
