{
 "cells": [
  {
   "cell_type": "code",
   "execution_count": null,
   "id": "232fa15d",
   "metadata": {},
   "outputs": [
    {
     "name": "stdout",
     "output_type": "stream",
     "text": [
      "printing model: dodecahedron\n",
      "printing model: robot pendant\n",
      "printing model: phone case\n",
      "\n",
      " the following models have been printed:\n",
      "dodecahedron\n",
      "robot pendant\n",
      "phone case\n"
     ]
    }
   ],
   "source": [
    "def print_models(unprinted_designs, completed_models):\n",
    "    \"\"\"\n",
    "    Simula a impressão de cada design, até que não reste nenhum.\n",
    "    Passa cada design para completed_models após impressão. \n",
    "    \"\"\"\n",
    "\n",
    "    while unprinted_designs:\n",
    "        current_design = unprinted_designs.pop()\n",
    "        print(f'printing model: {current_design}')\n",
    "        completed_models.append(current_design)\n",
    "        \n",
    "\n",
    "\n",
    "def show_completed_models(completed_models):\n",
    "    \"\"\"\n",
    "    Exibe todos os modelos impressos \n",
    "    \"\"\"\n",
    "    print(\"\\n the following models have been printed:\")\n",
    "    for completed_model in completed_models:\n",
    "        print(completed_model)\n",
    "\n",
    "unprinted_designs = [\"phone case\", \"robot pendant\", \"dodecahedron\"]\n",
    "completed_models = []\n",
    "\n",
    "\n",
    "print_models(unprinted_designs, completed_models)\n",
    "show_completed_models(completed_models)\n"
   ]
  },
  {
   "cell_type": "code",
   "execution_count": null,
   "id": "ffe2c557",
   "metadata": {},
   "outputs": [],
   "source": [
    "def show_messages(mensagens=\"\"):\n",
    "    \"\"\"\n",
    "    mensagens curtas de texto\n",
    "    \"\"\"\n",
    "    return mensagens\n",
    "\n"
   ]
  },
  {
   "cell_type": "code",
   "execution_count": 10,
   "id": "ed4d590b",
   "metadata": {},
   "outputs": [
    {
     "name": "stdout",
     "output_type": "stream",
     "text": [
      "msg de texto: blablablabla\n",
      "msg de texto: teste mensagem de texto\n",
      "msg de texto: Olá mundo\n"
     ]
    }
   ],
   "source": [
    "def show_messages(mensagens, texto=''):\n",
    "    \"\"\"\n",
    "    mensagens curtas de texto\n",
    "    \"\"\"\n",
    "\n",
    "    while mensagens:\n",
    "        msg = mensagens.pop()\n",
    "        print(f'msg de texto: {msg}')\n",
    "        # texto.append(msg)\n",
    "        \n",
    "\n",
    "txt = [\"Olá mundo\", \"teste mensagem de texto\", \"blablablabla\"]\n",
    "\n",
    "show_messages(txt)\n",
    "\n",
    "\n",
    "        "
   ]
  }
 ],
 "metadata": {
  "kernelspec": {
   "display_name": "Python 3",
   "language": "python",
   "name": "python3"
  },
  "language_info": {
   "codemirror_mode": {
    "name": "ipython",
    "version": 3
   },
   "file_extension": ".py",
   "mimetype": "text/x-python",
   "name": "python",
   "nbconvert_exporter": "python",
   "pygments_lexer": "ipython3",
   "version": "3.10.13"
  }
 },
 "nbformat": 4,
 "nbformat_minor": 5
}
