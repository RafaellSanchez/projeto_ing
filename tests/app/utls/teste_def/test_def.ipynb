{
 "cells": [
  {
   "cell_type": "code",
   "execution_count": null,
   "id": "232fa15d",
   "metadata": {},
   "outputs": [
    {
     "name": "stdout",
     "output_type": "stream",
     "text": [
      "printing model: dodecahedron\n",
      "printing model: robot pendant\n",
      "printing model: phone case\n",
      "\n",
      " the following models have been printed:\n",
      "dodecahedron\n",
      "robot pendant\n",
      "phone case\n"
     ]
    }
   ],
   "source": [
    "def print_models(unprinted_designs, completed_models):\n",
    "    \"\"\"\n",
    "    Simula a impressão de cada design, até que não reste nenhum.\n",
    "    Passa cada design para completed_models após impressão. \n",
    "    \"\"\"\n",
    "\n",
    "    while unprinted_designs:\n",
    "        current_design = unprinted_designs.pop()\n",
    "        print(f'printing model: {current_design}')\n",
    "        completed_models.append(current_design)\n",
    "        \n",
    "\n",
    "\n",
    "def show_completed_models(completed_models):\n",
    "    \"\"\"\n",
    "    Exibe todos os modelos impressos \n",
    "    \"\"\"\n",
    "    print(\"\\n the following models have been printed:\")\n",
    "    for completed_model in completed_models:\n",
    "        print(completed_model)\n",
    "\n",
    "unprinted_designs = [\"phone case\", \"robot pendant\", \"dodecahedron\"]\n",
    "completed_models = []\n",
    "\n",
    "\n",
    "print_models(unprinted_designs, completed_models)\n",
    "show_completed_models(completed_models)\n"
   ]
  },
  {
   "cell_type": "code",
   "execution_count": null,
   "id": "ffe2c557",
   "metadata": {},
   "outputs": [],
   "source": [
    "def show_messages(mensagens=\"\"):\n",
    "    \"\"\"\n",
    "    mensagens curtas de texto\n",
    "    \"\"\"\n",
    "    return mensagens\n",
    "\n"
   ]
  },
  {
   "cell_type": "code",
   "execution_count": 36,
   "id": "ed4d590b",
   "metadata": {},
   "outputs": [
    {
     "name": "stdout",
     "output_type": "stream",
     "text": [
      "msg de texto: blablablabla\n",
      "msg de texto: teste mensagem de texto\n",
      "msg de texto: Olá mundo\n"
     ]
    },
    {
     "data": {
      "text/plain": [
       "['blablablabla', 'teste mensagem de texto', 'Olá mundo']"
      ]
     },
     "execution_count": 36,
     "metadata": {},
     "output_type": "execute_result"
    }
   ],
   "source": [
    "def show_messages(mensagens, texto):\n",
    "    \"\"\"\n",
    "    mensagens curtas de texto\n",
    "    \"\"\"\n",
    "    texto = []\n",
    "\n",
    "    while mensagens:\n",
    "        msg = mensagens.pop()\n",
    "        print(f'msg de texto: {msg}')\n",
    "        texto.append(msg)\n",
    "\n",
    "    return texto\n",
    "\n",
    "def send_messages(texto):\n",
    "    '''\n",
    "    exibe os modelos impressos\n",
    "    '''\n",
    "\n",
    "    print(\"\\n modelos impressos:\")\n",
    "    for compl_txt in texto:\n",
    "        print(compl_txt)\n",
    "\n",
    "    return texto\n",
    "        \n",
    "# texto = []\n",
    "txt = [\"Olá mundo\", \"teste mensagem de texto\", \"blablablabla\"]\n",
    "\n",
    "# show_messages(txt, texto)\n",
    "\n",
    "# send_messages(texto)\n",
    "\n",
    "show_messages(txt[:], texto)\n",
    "\n",
    "\n",
    "        "
   ]
  },
  {
   "cell_type": "code",
   "execution_count": 24,
   "id": "209d6019",
   "metadata": {},
   "outputs": [],
   "source": [
    "def send_messages(texto):\n",
    "    '''\n",
    "    exibe os modelos impressos\n",
    "    '''\n",
    "\n",
    "    print(\"\\n modelos impressos:\")\n",
    "    for compl_txt in texto:\n",
    "        print(compl_txt)\n",
    "\n",
    "    return texto"
   ]
  },
  {
   "cell_type": "code",
   "execution_count": 30,
   "id": "8f1331bc",
   "metadata": {},
   "outputs": [
    {
     "name": "stdout",
     "output_type": "stream",
     "text": [
      "\n",
      " modelos impressos:\n",
      "blablablabla\n",
      "teste mensagem de texto\n",
      "Olá mundo\n"
     ]
    },
    {
     "data": {
      "text/plain": [
       "['blablablabla', 'teste mensagem de texto', 'Olá mundo']"
      ]
     },
     "execution_count": 30,
     "metadata": {},
     "output_type": "execute_result"
    }
   ],
   "source": [
    "send_messages(texto[:])"
   ]
  },
  {
   "cell_type": "code",
   "execution_count": 31,
   "id": "c3ed458e",
   "metadata": {},
   "outputs": [
    {
     "data": {
      "text/plain": [
       "[]"
      ]
     },
     "execution_count": 31,
     "metadata": {},
     "output_type": "execute_result"
    }
   ],
   "source": [
    "show_messages(txt[:], texto)"
   ]
  },
  {
   "cell_type": "code",
   "execution_count": 37,
   "id": "b39f10a5",
   "metadata": {},
   "outputs": [],
   "source": [
    "def make_pizza(*toppings):\n",
    "    '''\n",
    "    exibe lista de ingredientes\n",
    "    '''\n",
    "    print(toppings)"
   ]
  },
  {
   "cell_type": "code",
   "execution_count": 38,
   "id": "69e9ed93",
   "metadata": {},
   "outputs": [
    {
     "name": "stdout",
     "output_type": "stream",
     "text": [
      "('pepperoni',)\n",
      "('mussarella', 'tomate')\n"
     ]
    }
   ],
   "source": [
    "make_pizza('pepperoni')\n",
    "make_pizza('mussarella', 'tomate')"
   ]
  },
  {
   "cell_type": "code",
   "execution_count": 40,
   "id": "04f58835",
   "metadata": {},
   "outputs": [
    {
     "name": "stdout",
     "output_type": "stream",
     "text": [
      "\n",
      " criando a pizza:\n",
      "- calabresa\n",
      "\n",
      " criando a pizza:\n",
      "- queijo-extra\n",
      "- salame\n",
      "- mussarela\n"
     ]
    }
   ],
   "source": [
    "def make_pizza(*toppings):\n",
    "    '''\n",
    "    sintetizaz a pizza\n",
    "    '''\n",
    "\n",
    "    print('\\n criando a pizza:')\n",
    "    for topping in toppings:\n",
    "        print(f'- {topping}')\n",
    "\n",
    "make_pizza('calabresa')\n",
    "make_pizza('queijo-extra', 'salame', 'mussarela')"
   ]
  },
  {
   "cell_type": "code",
   "execution_count": 42,
   "id": "c1f1300c",
   "metadata": {},
   "outputs": [
    {
     "name": "stdout",
     "output_type": "stream",
     "text": [
      "\n",
      " fazendo uma pizza 12, seguindo os toppings: ('peperroni',)\n",
      "- peperroni\n",
      "\n",
      " fazendo uma pizza 16, seguindo os toppings: ('chicken and catupiry',)\n",
      "- chicken and catupiry\n"
     ]
    }
   ],
   "source": [
    "def make_pizza(size, *toppings):\n",
    "    '''  \n",
    "    sintetiza a pizza, tamanho e ingredientes\n",
    "    '''\n",
    "\n",
    "    print(f'\\n fazendo uma pizza {size}, seguindo os toppings: {toppings}')\n",
    "    \n",
    "    for topping in toppings:\n",
    "        print(f'- {topping}')\n",
    "\n",
    "make_pizza(12, 'peperroni')\n",
    "make_pizza(16, 'chicken and catupiry')"
   ]
  },
  {
   "cell_type": "code",
   "execution_count": 45,
   "id": "3ee64376",
   "metadata": {},
   "outputs": [
    {
     "name": "stdout",
     "output_type": "stream",
     "text": [
      "{'location': 'sao paulo', 'field': 'data enginner', 'size': '1,80cm', 'age': '32', 'first_name': 'rafael', 'last_name': 'sanchez'}\n"
     ]
    }
   ],
   "source": [
    "def build_profile(first, last, **user_info):\n",
    "    '''\n",
    "    cria um dicionario contendo tudo o que sabemos sobre um funcionario\n",
    "    '''\n",
    "\n",
    "    user_info['first_name'] = first\n",
    "    user_info['last_name'] = last\n",
    "    return user_info\n",
    "\n",
    "user_profile = build_profile('rafael', 'sanchez',\n",
    "                             location='sao paulo',\n",
    "                             field='data enginner',\n",
    "                             size='1,80cm',\n",
    "                             age='32'\n",
    "                             \n",
    "\n",
    "                             )\n",
    "print(user_profile)"
   ]
  },
  {
   "cell_type": "code",
   "execution_count": 44,
   "id": "4e74db22",
   "metadata": {},
   "outputs": [
    {
     "name": "stdout",
     "output_type": "stream",
     "text": [
      "pedido: {'observacao': 'sem salada', 'tipo_de_pão': 'frances', 'tipo_de_hambuguer': 'hambuguer de 150g'}\n",
      "pedido: {'observacao': 'adicionar molho', 'tipo_de_pão': 'brioche', 'tipo_de_hambuguer': 'hamburguer smash'}\n"
     ]
    }
   ],
   "source": [
    "def make_burguer(kind_bread, kind_burguer, **burger_info):\n",
    "    '''\n",
    "    pedidos de hambuguer  \n",
    "    '''\n",
    "\n",
    "    burger_info['tipo_de_pão'] = kind_bread\n",
    "    burger_info['tipo_de_hambuguer'] = kind_burguer\n",
    "    return burger_info\n",
    "\n",
    "\n",
    "pedido_um = make_burguer(\n",
    "    'frances', 'hambuguer de 150g',\n",
    "    observacao='sem salada'\n",
    ")\n",
    "print(f'pedido: {pedido_um}')\n",
    "\n",
    "pedido_dois = make_burguer(\n",
    "    'brioche', 'hamburguer smash',\n",
    "    observacao='adicionar molho'\n",
    "\n",
    ")\n",
    "print(f'pedido: {pedido_dois}')"
   ]
  },
  {
   "cell_type": "code",
   "execution_count": 61,
   "id": "442e1629",
   "metadata": {},
   "outputs": [
    {
     "data": {
      "text/plain": [
       "{'obs': 'completa',\n",
       " 'km': '0km',\n",
       " 'ano': '2025',\n",
       " 'tow_package': True,\n",
       " 'marca': 'bmw',\n",
       " 'modelo': 'm3'}"
      ]
     },
     "execution_count": 61,
     "metadata": {},
     "output_type": "execute_result"
    }
   ],
   "source": [
    "def make_car(marca, modelo, **model_car):\n",
    "    model_car['marca'] = marca\n",
    "    model_car['modelo'] = modelo\n",
    "\n",
    "    return model_car\n",
    "\n",
    "make_car(\n",
    "    'bmw', 'm3',\n",
    "    obs='completa',\n",
    "    km='0km',\n",
    "    ano='2025',\n",
    "    tow_package=True\n",
    ")"
   ]
  },
  {
   "cell_type": "code",
   "execution_count": null,
   "id": "dd64d7c6",
   "metadata": {},
   "outputs": [],
   "source": []
  },
  {
   "cell_type": "code",
   "execution_count": 1,
   "id": "85adb74a",
   "metadata": {},
   "outputs": [],
   "source": [
    "class restaurant:\n",
    "    \n",
    "    def __init__(self, restaurant_name, cuisine_type):\n",
    "        self.restaurant_name = restaurant_name\n",
    "        self.cuisine_type = cuisine_type\n",
    "\n",
    "    def describe_restaurant(self):\n",
    "        print(f'nome restaurante: {self.restaurant_name}')\n",
    "        print(f'tipo de cozinha: {self.cuisine_type}')\n",
    "\n",
    "    def open_restaurant(self):\n",
    "        print(f'resturante aberto: {self.restaurant_name}')\n",
    "\n",
    "    \n",
    "        "
   ]
  },
  {
   "cell_type": "code",
   "execution_count": 2,
   "id": "283a4f62",
   "metadata": {},
   "outputs": [
    {
     "name": "stdout",
     "output_type": "stream",
     "text": [
      "meu restaurante favorito: feijao preto\n",
      "o tipo de comida é: caseira\n"
     ]
    }
   ],
   "source": [
    "meu_restaurante = restaurant('feijao preto', 'caseira')\n",
    "print(f'meu restaurante favorito: {meu_restaurante.restaurant_name}')\n",
    "print(f'o tipo de comida é: {meu_restaurante.cuisine_type}')\n"
   ]
  },
  {
   "cell_type": "code",
   "execution_count": 4,
   "id": "28ad6ddc",
   "metadata": {},
   "outputs": [
    {
     "name": "stdout",
     "output_type": "stream",
     "text": [
      "o resturante um é: feijao preto e o tipo da cozinha é: caseira\n",
      "o resturante dois é: sushi e o tipo da cozinha é: comida japonesa\n",
      "o resturante tres é: forneiro e o tipo da cozinha é: pizzaria\n"
     ]
    }
   ],
   "source": [
    "restaurante1 = restaurant('feijao preto', 'caseira')\n",
    "restaurante2 = restaurant('sushi', 'comida japonesa')\n",
    "restaurante3 = restaurant('forneiro', 'pizzaria')\n",
    "\n",
    "print(f'o resturante um é: {restaurante1.restaurant_name} e o tipo da cozinha é: {restaurante1.cuisine_type}')\n",
    "print(f'o resturante dois é: {restaurante2.restaurant_name} e o tipo da cozinha é: {restaurante2.cuisine_type}')\n",
    "print(f'o resturante tres é: {restaurante3.restaurant_name} e o tipo da cozinha é: {restaurante3.cuisine_type}')"
   ]
  },
  {
   "cell_type": "code",
   "execution_count": 5,
   "id": "7d748395",
   "metadata": {},
   "outputs": [],
   "source": [
    "class user:\n",
    "\n",
    "    def __init__(self, first_name, last_name, age):\n",
    "        self.first_name = first_name\n",
    "        self.last_name = last_name\n",
    "        self.age = age\n",
    "\n",
    "    def describe_user(self):\n",
    "        print(f'meu nome é: {self.first_name}')\n",
    "        print(f'tenho {self.age} anos')\n",
    "\n",
    "    def greet_user(self):\n",
    "        print(f'{self.first_name} gosta de praticar programacao')\n",
    "        \n"
   ]
  },
  {
   "cell_type": "code",
   "execution_count": 6,
   "id": "2032c593",
   "metadata": {},
   "outputs": [],
   "source": [
    "pessoa1 = user('rafael', 'sanchez', '32')\n",
    "pessoa2 = user('joyce', 'mendes', '28')\n",
    "pessoa3 = user('phoebe', 'henrique', '4')"
   ]
  },
  {
   "cell_type": "code",
   "execution_count": 10,
   "id": "b313e0aa",
   "metadata": {},
   "outputs": [
    {
     "name": "stdout",
     "output_type": "stream",
     "text": [
      "meu nome é: rafael\n",
      "tenho 32 anos\n",
      "rafael gosta de praticar programacao\n",
      "meu nome é: joyce\n",
      "tenho 28 anos\n",
      "joyce gosta de praticar programacao\n"
     ]
    }
   ],
   "source": [
    "pessoa1.describe_user()\n",
    "pessoa1.greet_user()\n",
    "\n",
    "pessoa2.describe_user()\n",
    "pessoa2.greet_user()"
   ]
  }
 ],
 "metadata": {
  "kernelspec": {
   "display_name": "Python 3",
   "language": "python",
   "name": "python3"
  },
  "language_info": {
   "codemirror_mode": {
    "name": "ipython",
    "version": 3
   },
   "file_extension": ".py",
   "mimetype": "text/x-python",
   "name": "python",
   "nbconvert_exporter": "python",
   "pygments_lexer": "ipython3",
   "version": "3.10.13"
  }
 },
 "nbformat": 4,
 "nbformat_minor": 5
}
