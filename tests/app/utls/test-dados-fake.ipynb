{
 "cells": [
  {
   "cell_type": "code",
   "execution_count": 11,
   "metadata": {},
   "outputs": [],
   "source": [
    "import pandas as pd\n",
    "import json\n",
    "from faker import Faker"
   ]
  },
  {
   "cell_type": "code",
   "execution_count": 2,
   "metadata": {},
   "outputs": [
    {
     "name": "stdout",
     "output_type": "stream",
     "text": [
      "Collecting faker\n",
      "  Downloading Faker-30.8.1-py3-none-any.whl.metadata (15 kB)\n",
      "Requirement already satisfied: python-dateutil>=2.4 in /home/codespace/.local/lib/python3.10/site-packages (from faker) (2.9.0.post0)\n",
      "Requirement already satisfied: typing-extensions in /home/codespace/.local/lib/python3.10/site-packages (from faker) (4.12.0)\n",
      "Requirement already satisfied: six>=1.5 in /home/codespace/.local/lib/python3.10/site-packages (from python-dateutil>=2.4->faker) (1.16.0)\n",
      "Downloading Faker-30.8.1-py3-none-any.whl (1.8 MB)\n",
      "\u001b[2K   \u001b[90m━━━━━━━━━━━━━━━━━━━━━━━━━━━━━━━━━━━━━━━━\u001b[0m \u001b[32m1.8/1.8 MB\u001b[0m \u001b[31m29.0 MB/s\u001b[0m eta \u001b[36m0:00:00\u001b[0m\n",
      "\u001b[?25hInstalling collected packages: faker\n",
      "Successfully installed faker-30.8.1\n",
      "\n",
      "\u001b[1m[\u001b[0m\u001b[34;49mnotice\u001b[0m\u001b[1;39;49m]\u001b[0m\u001b[39;49m A new release of pip is available: \u001b[0m\u001b[31;49m24.2\u001b[0m\u001b[39;49m -> \u001b[0m\u001b[32;49m24.3.1\u001b[0m\n",
      "\u001b[1m[\u001b[0m\u001b[34;49mnotice\u001b[0m\u001b[1;39;49m]\u001b[0m\u001b[39;49m To update, run: \u001b[0m\u001b[32;49mpip install --upgrade pip\u001b[0m\n",
      "Note: you may need to restart the kernel to use updated packages.\n"
     ]
    }
   ],
   "source": [
    "%pip install faker"
   ]
  },
  {
   "cell_type": "code",
   "execution_count": 12,
   "metadata": {},
   "outputs": [
    {
     "name": "stdout",
     "output_type": "stream",
     "text": [
      "---------\n",
      "Brayan da Luz\n",
      "---------\n",
      "Ladeira Montenegro, 22\n",
      "Liberdade\n",
      "20701955 Vasconcelos / MT\n",
      "---------\n",
      "flima@example.com\n"
     ]
    }
   ],
   "source": [
    "\n",
    "# Inicializando o gerador de dados falsos\n",
    "fake = Faker('pt_BR')\n",
    "\n",
    "# Gerando um nome falso\n",
    "print('---------')\n",
    "print(fake.name())\n",
    "\n",
    "# Gerando um endereço falso\n",
    "print('---------')\n",
    "print(fake.address())\n",
    "\n",
    "# Gerando um email falso\n",
    "print('---------')\n",
    "print(fake.email())"
   ]
  },
  {
   "cell_type": "code",
   "execution_count": 93,
   "metadata": {},
   "outputs": [
    {
     "name": "stdout",
     "output_type": "stream",
     "text": [
      "Travessa de Aparecida, 9\n",
      "Bela Vitoria\n",
      "59833-498 da Rosa de Sales / RN\n",
      "Santa Rosa\n",
      "PM\n",
      "-------\n",
      "+55 82 95377-3444\n",
      "80\n",
      "Correia\n",
      "-------\n",
      "71.043.692/0001-01\n",
      "Cavalcante\n",
      "alexandre43@almeida.org\n",
      "35610487000109\n",
      "-51.971176\n",
      "-------\n",
      "Áustria\n",
      "BE\n",
      "-------\n",
      "Ravi Cavalcante\n",
      "936.274.081-87\n",
      "-------\n",
      "06/25\n",
      "Mastercard\n",
      "Ana Vitória Azevedo\n",
      "2292359666926137 12/26\n",
      "CVV: 454\n",
      "\n",
      "4640071755556254\n",
      "Discover\n",
      "942\n",
      "-----\n",
      "('HKD', 'Hong Kong dollar')\n",
      "UYU\n",
      "Solomon Islands dollar\n",
      "-----\n",
      "monteiroluisa@example.com\n"
     ]
    }
   ],
   "source": [
    "fake = Faker('pt_BR')\n",
    "print(fake.address())\n",
    "print(fake.bairro())\n",
    "print(fake.am_pm())\n",
    "print('-------')\n",
    "print(fake.cellphone_number())\n",
    "print(fake.building_number())\n",
    "print(fake.city())\n",
    "print('-------')\n",
    "print(fake.cnpj())\n",
    "print(fake.company())\n",
    "print(fake.company_email())\n",
    "print(fake.company_id())\n",
    "print(fake.coordinate())\n",
    "print('-------')\n",
    "print(fake.country())\n",
    "print(fake.country_code())\n",
    "print('-------')\n",
    "print(fake.name())\n",
    "print(fake.cpf())\n",
    "print('-------')\n",
    "print(fake.credit_card_expire())\n",
    "print(fake.credit_card_full())\n",
    "print(fake.credit_card_number())\n",
    "print(fake.credit_card_provider())\n",
    "print(fake.credit_card_security_code())\n",
    "print('-----')\n",
    "print(fake.currency())\n",
    "print(fake.currency_code())\n",
    "print(fake.currency_name())\n",
    "print('-----')\n",
    "# print(fake.csv())\n",
    "print(fake.email())\n"
   ]
  },
  {
   "cell_type": "code",
   "execution_count": 13,
   "metadata": {},
   "outputs": [
    {
     "ename": "AttributeError",
     "evalue": "'Generator' object has no attribute 'bank'",
     "output_type": "error",
     "traceback": [
      "\u001b[0;31m---------------------------------------------------------------------------\u001b[0m",
      "\u001b[0;31mAttributeError\u001b[0m                            Traceback (most recent call last)",
      "Cell \u001b[0;32mIn[13], line 1\u001b[0m\n\u001b[0;32m----> 1\u001b[0m \u001b[38;5;28mprint\u001b[39m(\u001b[43mfake\u001b[49m\u001b[38;5;241;43m.\u001b[39;49m\u001b[43mbank\u001b[49m())\n",
      "File \u001b[0;32m~/.python/current/lib/python3.10/site-packages/faker/proxy.py:130\u001b[0m, in \u001b[0;36mFaker.__getattr__\u001b[0;34m(self, attr)\u001b[0m\n\u001b[1;32m    123\u001b[0m \u001b[38;5;250m\u001b[39m\u001b[38;5;124;03m\"\"\"\u001b[39;00m\n\u001b[1;32m    124\u001b[0m \u001b[38;5;124;03mHandles cache access and proxying behavior\u001b[39;00m\n\u001b[1;32m    125\u001b[0m \n\u001b[1;32m    126\u001b[0m \u001b[38;5;124;03m:param attr: attribute name\u001b[39;00m\n\u001b[1;32m    127\u001b[0m \u001b[38;5;124;03m:return: the appropriate attribute\u001b[39;00m\n\u001b[1;32m    128\u001b[0m \u001b[38;5;124;03m\"\"\"\u001b[39;00m\n\u001b[1;32m    129\u001b[0m \u001b[38;5;28;01mif\u001b[39;00m \u001b[38;5;28mlen\u001b[39m(\u001b[38;5;28mself\u001b[39m\u001b[38;5;241m.\u001b[39m_factories) \u001b[38;5;241m==\u001b[39m \u001b[38;5;241m1\u001b[39m:\n\u001b[0;32m--> 130\u001b[0m     \u001b[38;5;28;01mreturn\u001b[39;00m \u001b[38;5;28;43mgetattr\u001b[39;49m\u001b[43m(\u001b[49m\u001b[38;5;28;43mself\u001b[39;49m\u001b[38;5;241;43m.\u001b[39;49m\u001b[43m_factories\u001b[49m\u001b[43m[\u001b[49m\u001b[38;5;241;43m0\u001b[39;49m\u001b[43m]\u001b[49m\u001b[43m,\u001b[49m\u001b[43m \u001b[49m\u001b[43mattr\u001b[49m\u001b[43m)\u001b[49m\n\u001b[1;32m    131\u001b[0m \u001b[38;5;28;01melif\u001b[39;00m attr \u001b[38;5;129;01min\u001b[39;00m \u001b[38;5;28mself\u001b[39m\u001b[38;5;241m.\u001b[39mgenerator_attrs:\n\u001b[1;32m    132\u001b[0m     msg \u001b[38;5;241m=\u001b[39m \u001b[38;5;124m\"\u001b[39m\u001b[38;5;124mProxying calls to `\u001b[39m\u001b[38;5;132;01m%s\u001b[39;00m\u001b[38;5;124m` is not implemented in multiple locale mode.\u001b[39m\u001b[38;5;124m\"\u001b[39m \u001b[38;5;241m%\u001b[39m attr\n",
      "\u001b[0;31mAttributeError\u001b[0m: 'Generator' object has no attribute 'bank'"
     ]
    }
   ],
   "source": [
    "print(fake.bank())"
   ]
  }
 ],
 "metadata": {
  "kernelspec": {
   "display_name": "Python 3",
   "language": "python",
   "name": "python3"
  },
  "language_info": {
   "codemirror_mode": {
    "name": "ipython",
    "version": 3
   },
   "file_extension": ".py",
   "mimetype": "text/x-python",
   "name": "python",
   "nbconvert_exporter": "python",
   "pygments_lexer": "ipython3",
   "version": "3.10.13"
  }
 },
 "nbformat": 4,
 "nbformat_minor": 2
}
