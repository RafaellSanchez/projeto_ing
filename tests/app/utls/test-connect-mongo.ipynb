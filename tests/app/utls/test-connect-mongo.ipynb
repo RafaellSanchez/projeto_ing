{
 "cells": [
  {
   "cell_type": "code",
   "execution_count": 86,
   "metadata": {},
   "outputs": [],
   "source": [
    "import sys\n",
    "import os\n",
    "import pymongo\n",
    "from pymongo import MongoClient\n",
    "import pandas as pd\n",
    "import sqlite3\n",
    "import importlib\n",
    "import sql_conn\n",
    "importlib.reload(sql_conn)\n",
    "\n",
    "sys.path.append(os.path.abspath('/workspaces/projeto_ing/utils/shered_utils/'))\n",
    "from sql_conn import conectar_bronze\n"
   ]
  },
  {
   "cell_type": "code",
   "execution_count": null,
   "metadata": {},
   "outputs": [
    {
     "name": "stdout",
     "output_type": "stream",
     "text": [
      "conectado ao sqlite bronze: banco_cep.db\n",
      "Tabelas no banco de dados:\n",
      "tabela_cep\n"
     ]
    },
    {
     "data": {
      "text/plain": [
       "(<sqlite3.Connection at 0x702a8c2e4640>,\n",
       " <sqlite3.Cursor at 0x702a8c2c4040>,\n",
       " '/workspaces/projeto_ing/database/sqlite/bronze/banco_cep.db')"
      ]
     },
     "execution_count": 62,
     "metadata": {},
     "output_type": "execute_result"
    }
   ],
   "source": [
    "db_sqlite = \"bnc_log_igtao.db\"\n",
    "# db_sqlite = \"banco_cep.db\"\n",
    "conectar_bronze(db_sqlite)"
   ]
  },
  {
   "cell_type": "code",
   "execution_count": null,
   "metadata": {},
   "outputs": [],
   "source": []
  },
  {
   "cell_type": "code",
   "execution_count": 87,
   "metadata": {},
   "outputs": [
    {
     "name": "stdout",
     "output_type": "stream",
     "text": [
      "conectado ao sqlite bronze: bnc_log_igtao.db\n",
      "Tabelas no banco de dados:\n",
      "tabela_log_igtao\n",
      "tb_log_igtao\n",
      "('banco_logigtao', 'logigtao', 'arquivo_logigtao_20250224_104223.txt', 'txt', 20250224142210, '2025-02-24')\n",
      "('banco_teste', 'teste', 'arquivo_teste_20250224_104223.txt', 'txt', 20250224142510, '2025-02-24')\n",
      "('banco_teste', 'tabela_teste', 'arquivo_teste_20250224_104223.txt', 'txt', 20250224145404, '2025-02-24')\n",
      "('banco_teste', 'tabela_teste', 'arquivo_teste_20250224_104223.txt', 'txt', 20250224145507, '2025-02-24')\n",
      "('banco_teste', 'tabela_teste', 'arquivo_teste_20250224_104223.txt', 'txt', 20250224145518, '2025-02-24')\n",
      "('banco_teste', 'tabela_teste', 'arquivo_teste_20250224_104223.txt', 'txt', 20250224145753, '2025-02-24')\n",
      "('banco_mairipora', 'tabela_mairipora', 'arquivo_mairipora_20250224_104223.txt', 'txt', 20250224150135, '2025-02-24')\n",
      "('banco_weather', 'tabela_weather', 'resultado_weather_20250108_163946.txt', 'txt', 20250225184651, '2025-02-25')\n"
     ]
    }
   ],
   "source": [
    "db_sqlite = \"bnc_log_igtao.db\"\n",
    "\n",
    "conn, cursor, caminho_bronze, consulta, query = conectar_bronze(db_sqlite, tabela= \"tb_log_igtao\")\n",
    "# print(bronze)"
   ]
  },
  {
   "cell_type": "code",
   "execution_count": null,
   "metadata": {},
   "outputs": [],
   "source": []
  },
  {
   "cell_type": "code",
   "execution_count": 88,
   "metadata": {},
   "outputs": [
    {
     "name": "stdout",
     "output_type": "stream",
     "text": [
      "        nome_banco       nome_tabela                           nome_arquivo  \\\n",
      "0   banco_logigtao          logigtao   arquivo_logigtao_20250224_104223.txt   \n",
      "1      banco_teste             teste      arquivo_teste_20250224_104223.txt   \n",
      "2      banco_teste      tabela_teste      arquivo_teste_20250224_104223.txt   \n",
      "3      banco_teste      tabela_teste      arquivo_teste_20250224_104223.txt   \n",
      "4      banco_teste      tabela_teste      arquivo_teste_20250224_104223.txt   \n",
      "5      banco_teste      tabela_teste      arquivo_teste_20250224_104223.txt   \n",
      "6  banco_mairipora  tabela_mairipora  arquivo_mairipora_20250224_104223.txt   \n",
      "7    banco_weather    tabela_weather  resultado_weather_20250108_163946.txt   \n",
      "\n",
      "  tipo_arquivo   data_inclusao    dt_igtao  \n",
      "0          txt  20250224142210  2025-02-24  \n",
      "1          txt  20250224142510  2025-02-24  \n",
      "2          txt  20250224145404  2025-02-24  \n",
      "3          txt  20250224145507  2025-02-24  \n",
      "4          txt  20250224145518  2025-02-24  \n",
      "5          txt  20250224145753  2025-02-24  \n",
      "6          txt  20250224150135  2025-02-24  \n",
      "7          txt  20250225184651  2025-02-25  \n"
     ]
    }
   ],
   "source": [
    "df_brnz = pd.read_sql_query(query, conn)\n",
    "print(df_brnz)\n"
   ]
  },
  {
   "cell_type": "code",
   "execution_count": 77,
   "metadata": {},
   "outputs": [
    {
     "data": {
      "text/html": [
       "<div>\n",
       "<style scoped>\n",
       "    .dataframe tbody tr th:only-of-type {\n",
       "        vertical-align: middle;\n",
       "    }\n",
       "\n",
       "    .dataframe tbody tr th {\n",
       "        vertical-align: top;\n",
       "    }\n",
       "\n",
       "    .dataframe thead th {\n",
       "        text-align: right;\n",
       "    }\n",
       "</style>\n",
       "<table border=\"1\" class=\"dataframe\">\n",
       "  <thead>\n",
       "    <tr style=\"text-align: right;\">\n",
       "      <th></th>\n",
       "      <th>0</th>\n",
       "    </tr>\n",
       "  </thead>\n",
       "  <tbody>\n",
       "    <tr>\n",
       "      <th>0</th>\n",
       "      <td>&lt;sqlite3.Connection object at 0x702a8c32de40&gt;</td>\n",
       "    </tr>\n",
       "    <tr>\n",
       "      <th>1</th>\n",
       "      <td>&lt;sqlite3.Cursor object at 0x702a8c2f7ec0&gt;</td>\n",
       "    </tr>\n",
       "    <tr>\n",
       "      <th>2</th>\n",
       "      <td>/workspaces/projeto_ing/database/sqlite/bronze...</td>\n",
       "    </tr>\n",
       "    <tr>\n",
       "      <th>3</th>\n",
       "      <td>[(banco_logigtao, logigtao, arquivo_logigtao_2...</td>\n",
       "    </tr>\n",
       "  </tbody>\n",
       "</table>\n",
       "</div>"
      ],
      "text/plain": [
       "                                                   0\n",
       "0      <sqlite3.Connection object at 0x702a8c32de40>\n",
       "1          <sqlite3.Cursor object at 0x702a8c2f7ec0>\n",
       "2  /workspaces/projeto_ing/database/sqlite/bronze...\n",
       "3  [(banco_logigtao, logigtao, arquivo_logigtao_2..."
      ]
     },
     "metadata": {},
     "output_type": "display_data"
    }
   ],
   "source": [
    "df = pd.DataFrame(bronze)\n",
    "display(df)"
   ]
  }
 ],
 "metadata": {
  "kernelspec": {
   "display_name": "Python 3",
   "language": "python",
   "name": "python3"
  },
  "language_info": {
   "codemirror_mode": {
    "name": "ipython",
    "version": 3
   },
   "file_extension": ".py",
   "mimetype": "text/x-python",
   "name": "python",
   "nbconvert_exporter": "python",
   "pygments_lexer": "ipython3",
   "version": "3.10.13"
  }
 },
 "nbformat": 4,
 "nbformat_minor": 2
}
