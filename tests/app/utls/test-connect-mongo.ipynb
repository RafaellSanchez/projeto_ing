{
 "cells": [
  {
   "cell_type": "code",
   "execution_count": 58,
   "metadata": {},
   "outputs": [],
   "source": [
    "import sys\n",
    "import os\n",
    "import pymongo\n",
    "from pymongo import MongoClient\n",
    "import pandas as pd\n",
    "import sqlite3\n",
    "import importlib\n",
    "import sql_conn\n",
    "importlib.reload(sql_conn)\n",
    "\n",
    "sys.path.append(os.path.abspath('/workspaces/projeto_ing/utils/shered_utils/'))\n",
    "from sql_conn import conectar_bronze"
   ]
  },
  {
   "cell_type": "code",
   "execution_count": 57,
   "metadata": {},
   "outputs": [
    {
     "ename": "ImportError",
     "evalue": "cannot import name 'conectar_bronze' from 'sql_conn' (/workspaces/projeto_ing/utils/shered_utils/sql_conn.py)",
     "output_type": "error",
     "traceback": [
      "\u001b[0;31m---------------------------------------------------------------------------\u001b[0m",
      "\u001b[0;31mImportError\u001b[0m                               Traceback (most recent call last)",
      "Cell \u001b[0;32mIn[57], line 3\u001b[0m\n\u001b[1;32m      1\u001b[0m \u001b[38;5;66;03m# sys.path.append('../../../shered_utils/')\u001b[39;00m\n\u001b[1;32m      2\u001b[0m sys\u001b[38;5;241m.\u001b[39mpath\u001b[38;5;241m.\u001b[39mappend(os\u001b[38;5;241m.\u001b[39mpath\u001b[38;5;241m.\u001b[39mabspath(\u001b[38;5;124m'\u001b[39m\u001b[38;5;124m/workspaces/projeto_ing/utils/shered_utils/\u001b[39m\u001b[38;5;124m'\u001b[39m))\n\u001b[0;32m----> 3\u001b[0m \u001b[38;5;28;01mfrom\u001b[39;00m \u001b[38;5;21;01msql_conn\u001b[39;00m \u001b[38;5;28;01mimport\u001b[39;00m conectar_bronze\n",
      "\u001b[0;31mImportError\u001b[0m: cannot import name 'conectar_bronze' from 'sql_conn' (/workspaces/projeto_ing/utils/shered_utils/sql_conn.py)"
     ]
    }
   ],
   "source": [
    "# sys.path.append('../../../shered_utils/')\n",
    "sys.path.append(os.path.abspath('/workspaces/projeto_ing/utils/shered_utils/'))\n",
    "from sql_conn import conectar_bronze"
   ]
  },
  {
   "cell_type": "code",
   "execution_count": null,
   "metadata": {},
   "outputs": [],
   "source": [
    "# def conectar_bronze (db_sqlite, caminho_bronze=None, show_tables_query=None):\n",
    "#     import sqlite3\n",
    "#     caminho_bronze = f\"/workspaces/projeto_ing/database/sqlite/bronze/{db_sqlite}\"\n",
    "#     conn = sqlite3.connect(caminho_bronze)\n",
    "#     cursor = conn.cursor()\n",
    "#     print(f'conectado ao sqlite bronze: {db_sqlite}')\n",
    "    \n",
    "#     show_tables_query = \"SELECT name FROM sqlite_master WHERE type='table';\"\n",
    "#     cursor.execute(show_tables_query)\n",
    "\n",
    "#     tables = cursor.fetchall()\n",
    "#     print(\"Tabelas no banco de dados:\")\n",
    "#     for table in tables:\n",
    "#         print(table[0])\n",
    "    \n",
    "#     return conn, cursor, caminho_bronze"
   ]
  },
  {
   "cell_type": "code",
   "execution_count": null,
   "metadata": {},
   "outputs": [
    {
     "name": "stdout",
     "output_type": "stream",
     "text": [
      "conectado ao sqlite bronze: banco_cep.db\n",
      "Tabelas no banco de dados:\n",
      "tabela_cep\n"
     ]
    },
    {
     "data": {
      "text/plain": [
       "(<sqlite3.Connection at 0x702a8c2e4640>,\n",
       " <sqlite3.Cursor at 0x702a8c2c4040>,\n",
       " '/workspaces/projeto_ing/database/sqlite/bronze/banco_cep.db')"
      ]
     },
     "execution_count": 62,
     "metadata": {},
     "output_type": "execute_result"
    }
   ],
   "source": [
    "db_sqlite = \"bnc_log_igtao.db\"\n",
    "# db_sqlite = \"banco_cep.db\"\n",
    "conectar_bronze(db_sqlite)"
   ]
  }
 ],
 "metadata": {
  "kernelspec": {
   "display_name": "Python 3",
   "language": "python",
   "name": "python3"
  },
  "language_info": {
   "codemirror_mode": {
    "name": "ipython",
    "version": 3
   },
   "file_extension": ".py",
   "mimetype": "text/x-python",
   "name": "python",
   "nbconvert_exporter": "python",
   "pygments_lexer": "ipython3",
   "version": "3.10.13"
  }
 },
 "nbformat": 4,
 "nbformat_minor": 2
}
