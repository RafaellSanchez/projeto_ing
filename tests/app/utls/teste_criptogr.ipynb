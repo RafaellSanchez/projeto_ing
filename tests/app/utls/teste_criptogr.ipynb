{
 "cells": [
  {
   "cell_type": "code",
   "execution_count": 1,
   "metadata": {},
   "outputs": [
    {
     "ename": "ModuleNotFoundError",
     "evalue": "No module named 'cryptography'",
     "output_type": "error",
     "traceback": [
      "\u001b[0;31m---------------------------------------------------------------------------\u001b[0m",
      "\u001b[0;31mModuleNotFoundError\u001b[0m                       Traceback (most recent call last)",
      "Cell \u001b[0;32mIn[1], line 1\u001b[0m\n\u001b[0;32m----> 1\u001b[0m \u001b[38;5;28;01mfrom\u001b[39;00m \u001b[38;5;21;01mcryptography\u001b[39;00m\u001b[38;5;21;01m.\u001b[39;00m\u001b[38;5;21;01mfernet\u001b[39;00m \u001b[38;5;28;01mimport\u001b[39;00m Fernet\n",
      "\u001b[0;31mModuleNotFoundError\u001b[0m: No module named 'cryptography'"
     ]
    }
   ],
   "source": [
    "from cryptography.fernet import Fernet"
   ]
  },
  {
   "cell_type": "code",
   "execution_count": 2,
   "metadata": {},
   "outputs": [
    {
     "name": "stdout",
     "output_type": "stream",
     "text": [
      "Collecting cryptography\n",
      "  Downloading cryptography-43.0.1-cp39-abi3-manylinux_2_28_x86_64.whl.metadata (5.4 kB)\n",
      "Requirement already satisfied: cffi>=1.12 in /home/codespace/.local/lib/python3.10/site-packages (from cryptography) (1.16.0)\n",
      "Requirement already satisfied: pycparser in /home/codespace/.local/lib/python3.10/site-packages (from cffi>=1.12->cryptography) (2.22)\n",
      "Downloading cryptography-43.0.1-cp39-abi3-manylinux_2_28_x86_64.whl (4.0 MB)\n",
      "\u001b[2K   \u001b[90m━━━━━━━━━━━━━━━━━━━━━━━━━━━━━━━━━━━━━━━━\u001b[0m \u001b[32m4.0/4.0 MB\u001b[0m \u001b[31m42.6 MB/s\u001b[0m eta \u001b[36m0:00:00\u001b[0m00:01\u001b[0m00:01\u001b[0m\n",
      "\u001b[?25hInstalling collected packages: cryptography\n",
      "Successfully installed cryptography-43.0.1\n",
      "\n",
      "\u001b[1m[\u001b[0m\u001b[34;49mnotice\u001b[0m\u001b[1;39;49m]\u001b[0m\u001b[39;49m A new release of pip is available: \u001b[0m\u001b[31;49m24.1\u001b[0m\u001b[39;49m -> \u001b[0m\u001b[32;49m24.2\u001b[0m\n",
      "\u001b[1m[\u001b[0m\u001b[34;49mnotice\u001b[0m\u001b[1;39;49m]\u001b[0m\u001b[39;49m To update, run: \u001b[0m\u001b[32;49mpip install --upgrade pip\u001b[0m\n"
     ]
    }
   ],
   "source": [
    "!pip install cryptography"
   ]
  },
  {
   "cell_type": "code",
   "execution_count": 6,
   "metadata": {},
   "outputs": [],
   "source": [
    "from cryptography.fernet import Fernet\n",
    "import pandas as pd"
   ]
  },
  {
   "cell_type": "code",
   "execution_count": 4,
   "metadata": {},
   "outputs": [],
   "source": [
    "# Gerar uma chave de criptografia\n",
    "key = Fernet.generate_key()\n",
    "cipher_suite = Fernet(key)"
   ]
  },
  {
   "cell_type": "code",
   "execution_count": 11,
   "metadata": {},
   "outputs": [
    {
     "name": "stdout",
     "output_type": "stream",
     "text": [
      "Arquivo criptografado salvo!\n",
      "Caminho: /workspaces/projeto_ing/tests/app/src/dados_cript.bin\n"
     ]
    }
   ],
   "source": [
    "arquivo = '/workspaces/projeto_ing/apis/app/src/temp/arquivo_teste_temp.txt'\n",
    "df1 = pd.read_csv(arquivo, sep=';')\n",
    "# print(df1)\n",
    "df = pd.DataFrame(df1)\n",
    "# print(df)\n",
    "\n",
    "json_string = df.to_json()\n",
    "encrypted_data = cipher_suite.encrypt(json_string.encode())\n",
    "\n",
    "\n",
    "arquivocript = '/workspaces/projeto_ing/tests/app/src/dados_cript.bin'\n",
    "with open(arquivocript, \"wb\") as file:\n",
    "    file.write(encrypted_data)\n",
    "    print('Arquivo criptografado salvo!')\n",
    "    print(f'Caminho: {arquivocript}')\n"
   ]
  },
  {
   "cell_type": "code",
   "execution_count": 14,
   "metadata": {},
   "outputs": [
    {
     "name": "stdout",
     "output_type": "stream",
     "text": [
      "Arquivo descriptografado!\n",
      "{\"cidade\":{\"0\":\"Atibaia\",\"1\":\"S\\u00e3o Paulo\",\"2\":\"Caieiras\",\"3\":\"Barueri\",\"4\":\"Mairipor\\u00e3\",\"5\":\"Alphaville\",\"6\":\"Curitiba\",\"7\":\"Guarulhos\",\"8\":\"Praia Grande\",\"9\":\"Santos\",\"10\":\"Franco da Rocha\",\"11\":\"Belo Horizonte\",\"12\":\"Osasco\",\"13\":\"Rio de Janeiro\",\"14\":\"Bragan\\u00e7a Paulista\"},\"pais\":{\"0\":\"BR\",\"1\":\"BR\",\"2\":\"BR\",\"3\":\"BR\",\"4\":\"BR\",\"5\":\"BR\",\"6\":\"BR\",\"7\":\"BR\",\"8\":\"BR\",\"9\":\"BR\",\"10\":\"BR\",\"11\":\"BR\",\"12\":\"BR\",\"13\":\"BR\",\"14\":\"BR\"},\"temperatura\":{\"0\":22.19,\"1\":20.88,\"2\":21.63,\"3\":22.01,\"4\":20.18,\"5\":25.91,\"6\":16.83,\"7\":20.31,\"8\":22.19,\"9\":22.19,\"10\":21.22,\"11\":26.44,\"12\":21.86,\"13\":24.98,\"14\":23.81},\"temp_max\":{\"0\":22.19,\"1\":21.92,\"2\":21.82,\"3\":22.14,\"4\":21.77,\"5\":25.91,\"6\":17.59,\"7\":21.86,\"8\":22.19,\"9\":22.19,\"10\":21.85,\"11\":26.44,\"12\":22.0,\"13\":25.0,\"14\":23.81},\"temp_min\":{\"0\":22.19,\"1\":19.94,\"2\":19.84,\"3\":20.42,\"4\":19.99,\"5\":25.91,\"6\":15.91,\"7\":19.88,\"8\":22.19,\"9\":22.19,\"10\":20.06,\"11\":26.44,\"12\":20.29,\"13\":23.97,\"14\":23.81},\"umidade\":{\"0\":67,\"1\":79,\"2\":73,\"3\":87,\"4\":88,\"5\":61,\"6\":68,\"7\":80,\"8\":26,\"9\":26,\"10\":67,\"11\":39,\"12\":85,\"13\":75,\"14\":52},\"prob_chuva\":{\"0\":54,\"1\":75,\"2\":79,\"3\":75,\"4\":75,\"5\":66,\"6\":100,\"7\":75,\"8\":89,\"9\":85,\"10\":80,\"11\":0,\"12\":75,\"13\":0,\"14\":42},\"data\":{\"0\":\"2024-10-03\",\"1\":\"2024-10-03\",\"2\":\"2024-10-03\",\"3\":\"2024-10-03\",\"4\":\"2024-10-03\",\"5\":\"2024-10-03\",\"6\":\"2024-10-03\",\"7\":\"2024-10-03\",\"8\":\"2024-10-03\",\"9\":\"2024-10-03\",\"10\":\"2024-10-03\",\"11\":\"2024-10-03\",\"12\":\"2024-10-03\",\"13\":\"2024-10-03\",\"14\":\"2024-10-03\"},\"latitude\":{\"0\":-23.131,\"1\":-23.5475,\"2\":-23.3642,\"3\":-23.5106,\"4\":-23.3186,\"5\":-23.3479,\"6\":-25.504,\"7\":-23.4628,\"8\":-24.0058,\"9\":-23.9608,\"10\":-23.3217,\"11\":-19.9208,\"12\":-23.5325,\"13\":-22.9028,\"14\":-22.94},\"longitude\":{\"0\":-46.589,\"1\":-46.6361,\"2\":-46.7406,\"3\":-46.8761,\"4\":-46.5867,\"5\":-51.1863,\"6\":-49.2908,\"7\":-46.5333,\"8\":-46.4028,\"9\":-46.3336,\"10\":-46.7269,\"11\":-43.9378,\"12\":-46.7917,\"13\":-43.2075,\"14\":-46.5556},\"tempo\":{\"0\":\"nublado\",\"1\":\"nublado\",\"2\":\"nublado\",\"3\":\"nublado\",\"4\":\"nublado\",\"5\":\"nublado\",\"6\":\"nublado\",\"7\":\"nublado\",\"8\":\"nublado\",\"9\":\"nublado\",\"10\":\"nublado\",\"11\":\"c\\u00e9u limpo\",\"12\":\"nublado\",\"13\":\"c\\u00e9u limpo\",\"14\":\"nuvens dispersas\"}}\n",
      "               cidade pais  temperatura  temp_max  temp_min  umidade  \\\n",
      "0             Atibaia   BR        22.19     22.19     22.19       67   \n",
      "1           São Paulo   BR        20.88     21.92     19.94       79   \n",
      "2            Caieiras   BR        21.63     21.82     19.84       73   \n",
      "3             Barueri   BR        22.01     22.14     20.42       87   \n",
      "4           Mairiporã   BR        20.18     21.77     19.99       88   \n",
      "5          Alphaville   BR        25.91     25.91     25.91       61   \n",
      "6            Curitiba   BR        16.83     17.59     15.91       68   \n",
      "7           Guarulhos   BR        20.31     21.86     19.88       80   \n",
      "8        Praia Grande   BR        22.19     22.19     22.19       26   \n",
      "9              Santos   BR        22.19     22.19     22.19       26   \n",
      "10    Franco da Rocha   BR        21.22     21.85     20.06       67   \n",
      "11     Belo Horizonte   BR        26.44     26.44     26.44       39   \n",
      "12             Osasco   BR        21.86     22.00     20.29       85   \n",
      "13     Rio de Janeiro   BR        24.98     25.00     23.97       75   \n",
      "14  Bragança Paulista   BR        23.81     23.81     23.81       52   \n",
      "\n",
      "    prob_chuva        data  latitude  longitude             tempo  \n",
      "0           54  2024-10-03  -23.1310   -46.5890           nublado  \n",
      "1           75  2024-10-03  -23.5475   -46.6361           nublado  \n",
      "2           79  2024-10-03  -23.3642   -46.7406           nublado  \n",
      "3           75  2024-10-03  -23.5106   -46.8761           nublado  \n",
      "4           75  2024-10-03  -23.3186   -46.5867           nublado  \n",
      "5           66  2024-10-03  -23.3479   -51.1863           nublado  \n",
      "6          100  2024-10-03  -25.5040   -49.2908           nublado  \n",
      "7           75  2024-10-03  -23.4628   -46.5333           nublado  \n",
      "8           89  2024-10-03  -24.0058   -46.4028           nublado  \n",
      "9           85  2024-10-03  -23.9608   -46.3336           nublado  \n",
      "10          80  2024-10-03  -23.3217   -46.7269           nublado  \n",
      "11           0  2024-10-03  -19.9208   -43.9378         céu limpo  \n",
      "12          75  2024-10-03  -23.5325   -46.7917           nublado  \n",
      "13           0  2024-10-03  -22.9028   -43.2075         céu limpo  \n",
      "14          42  2024-10-03  -22.9400   -46.5556  nuvens dispersas  \n"
     ]
    },
    {
     "name": "stderr",
     "output_type": "stream",
     "text": [
      "/tmp/ipykernel_11312/1053944014.py:10: FutureWarning: Passing literal json to 'read_json' is deprecated and will be removed in a future version. To read from a literal string, wrap it in a 'StringIO' object.\n",
      "  df_descriptografado = pd.read_json(decrypted_data)\n"
     ]
    }
   ],
   "source": [
    "arquivocript = '/workspaces/projeto_ing/tests/app/src/dados_cript.bin'\n",
    "\n",
    "with open(arquivocript, \"rb\") as file:\n",
    "    encrypted_data = file.read()\n",
    "\n",
    "decrypted_data = cipher_suite.decrypt(encrypted_data).decode()\n",
    "print('Arquivo descriptografado!')\n",
    "print(decrypted_data)\n",
    "\n",
    "df_descriptografado = pd.read_json(decrypted_data)\n",
    "print(df_descriptografado)"
   ]
  },
  {
   "cell_type": "code",
   "execution_count": 3,
   "metadata": {},
   "outputs": [
    {
     "ename": "SyntaxError",
     "evalue": "non-default argument follows default argument (2244522327.py, line 1)",
     "output_type": "error",
     "traceback": [
      "\u001b[0;36m  Cell \u001b[0;32mIn[3], line 1\u001b[0;36m\u001b[0m\n\u001b[0;31m    def cripto_dados(caminho, delimitador=';',chave, cipher_suite, arquivocript=None):\u001b[0m\n\u001b[0m                                              ^\u001b[0m\n\u001b[0;31mSyntaxError\u001b[0m\u001b[0;31m:\u001b[0m non-default argument follows default argument\n"
     ]
    }
   ],
   "source": [
    "def cripto_dados(caminho, delimitador=';',chave, cipher_suite, arquivocript=None):\n",
    "    from cryptography.fernet import Fernet\n",
    "    import pandas as pd\n",
    "    \n",
    "    try:\n",
    "        df = pd.read_csv(caminho, delimitador)\n",
    "        \n",
    "    \n",
    "        chave = Fernet.generate_key()\n",
    "        cipher_suite = Fernet(chave)\n",
    "        json_string = df.to_json()\n",
    "        encrypted_data = cipher_suite.encrypt(json_string.encode())\n",
    "        \n",
    "        \n",
    "        with open(arquivocript, \"wb\") as file:\n",
    "            file.write(encrypted_data)\n",
    "            print('Arquivo criptografado salvo!')\n",
    "            print(f'Caminho: {arquivocript}')\n",
    "        \n",
    "        \n",
    "        return df, key, chave, cipher_suite, encrypted_data, arquivocript\n",
    "    except FileNotFoundError:\n",
    "        print(f\"Arquivo não encontrado: {caminho}\")\n",
    "    except Exception as e:\n",
    "        print(f\"Ocorreu um erro ao ler o arquivo: {e}\")"
   ]
  },
  {
   "cell_type": "code",
   "execution_count": null,
   "metadata": {},
   "outputs": [],
   "source": []
  }
 ],
 "metadata": {
  "kernelspec": {
   "display_name": "Python 3",
   "language": "python",
   "name": "python3"
  },
  "language_info": {
   "codemirror_mode": {
    "name": "ipython",
    "version": 3
   },
   "file_extension": ".py",
   "mimetype": "text/x-python",
   "name": "python",
   "nbconvert_exporter": "python",
   "pygments_lexer": "ipython3",
   "version": "3.10.13"
  }
 },
 "nbformat": 4,
 "nbformat_minor": 2
}
