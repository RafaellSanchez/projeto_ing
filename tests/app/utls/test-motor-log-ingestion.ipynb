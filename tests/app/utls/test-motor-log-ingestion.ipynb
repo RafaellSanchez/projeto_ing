{
 "cells": [
  {
   "cell_type": "code",
   "execution_count": 1,
   "metadata": {},
   "outputs": [],
   "source": [
    "import sqlite3\n",
    "import os\n",
    "import pandas as pd"
   ]
  },
  {
   "cell_type": "code",
   "execution_count": null,
   "metadata": {},
   "outputs": [],
   "source": [
    "''' \n",
    "Criar uma função para quando ingerir um arquivo na bronze ele gere uma tabela de logs\n",
    "contendo as informações de nome do arquivo, hora da inclusão, partição e gerar um id unico.\n",
    "'''"
   ]
  },
  {
   "cell_type": "code",
   "execution_count": 2,
   "metadata": {},
   "outputs": [],
   "source": [
    "banco_log = '/workspaces/projeto_ing/database/sqlite/bronze/bnc_log_igtao.db'\n",
    "conn = sqlite3.connect(banco_log)"
   ]
  },
  {
   "cell_type": "code",
   "execution_count": 3,
   "metadata": {},
   "outputs": [],
   "source": [
    "conn.commit()"
   ]
  },
  {
   "cell_type": "code",
   "execution_count": 4,
   "metadata": {},
   "outputs": [],
   "source": [
    "create_bnc_log = ''' \n",
    "create table if not exists tabela_log_igtao(\n",
    "    id TEXT, \n",
    "    nome_arquivo TEXT,\n",
    "    data_inclusao DATETIME,\n",
    "    dt_igtao DATE\n",
    ")\n",
    "'''"
   ]
  },
  {
   "cell_type": "code",
   "execution_count": 5,
   "metadata": {},
   "outputs": [
    {
     "data": {
      "text/plain": [
       "<sqlite3.Cursor at 0x7975caf2c140>"
      ]
     },
     "execution_count": 5,
     "metadata": {},
     "output_type": "execute_result"
    }
   ],
   "source": [
    "cursor = conn.cursor()\n",
    "cursor.execute(create_bnc_log)\n",
    "conn.commit()"
   ]
  },
  {
   "cell_type": "code",
   "execution_count": 7,
   "metadata": {},
   "outputs": [
    {
     "name": "stdout",
     "output_type": "stream",
     "text": [
      "Tabelas no banco de dados:\n",
      "tabela_log_igtao\n"
     ]
    }
   ],
   "source": [
    "# select = '''select * from tabela_log_igtao '''\n",
    "\n",
    "show_tables_query = \"SELECT name FROM sqlite_master WHERE type='table';\"\n",
    "cursor.execute(show_tables_query)\n",
    "\n",
    "# Recuperar o resultado da consulta e imprimir as tabelas\n",
    "tables = cursor.fetchall()\n",
    "print(\"Tabelas no banco de dados:\")\n",
    "for table in tables:\n",
    "    print(table[0])\n",
    "\n",
    "conn.close()"
   ]
  },
  {
   "cell_type": "code",
   "execution_count": null,
   "metadata": {},
   "outputs": [],
   "source": [
    "''' \n",
    "Ideias para log motor?\n",
    "\n",
    "'''"
   ]
  }
 ],
 "metadata": {
  "kernelspec": {
   "display_name": "Python 3",
   "language": "python",
   "name": "python3"
  },
  "language_info": {
   "codemirror_mode": {
    "name": "ipython",
    "version": 3
   },
   "file_extension": ".py",
   "mimetype": "text/x-python",
   "name": "python",
   "nbconvert_exporter": "python",
   "pygments_lexer": "ipython3",
   "version": "3.10.13"
  }
 },
 "nbformat": 4,
 "nbformat_minor": 2
}
