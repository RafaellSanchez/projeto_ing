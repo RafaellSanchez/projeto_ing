{
 "cells": [
  {
   "cell_type": "code",
   "execution_count": null,
   "metadata": {},
   "outputs": [],
   "source": [
    "import sqlite3\n",
    "import os\n",
    "import pandas as pd"
   ]
  },
  {
   "cell_type": "code",
   "execution_count": null,
   "metadata": {},
   "outputs": [],
   "source": [
    "# def log_igtao(banco=None, tabela=None):\n",
    "#     import sqlite3\n",
    "#     banco_log = '/workspaces/projeto_ing/database/sqlite/bronze/bnc_log_igtao.db'\n",
    "#     tabela = 'tabela_log_igtao'\n",
    "    "
   ]
  },
  {
   "cell_type": "code",
   "execution_count": null,
   "metadata": {},
   "outputs": [
    {
     "name": "stdout",
     "output_type": "stream",
     "text": [
      "informações para as colunas:\n",
      "logigtao\n",
      "banco_logigtao\n",
      "arquivo_logigtao_20250224_104223.txt\n",
      "txt\n",
      "20250224135547\n",
      "2025-02-24\n"
     ]
    }
   ],
   "source": [
    "from datetime import datetime\n",
    "sav = 'arquivo_logigtao_20250224_104223.txt'\n",
    "# parte_util = sav.split('_')[1]\n",
    "# print(parte_util)\n",
    "# print(sav)\n",
    "nomelog_tabela = sav.split('_')[1]\n",
    "nomelog_arquivo = sav\n",
    "tipolog_arquivo = sav.split('.')[1]\n",
    "datalog_igtao = datetime.now().strftime('%Y-%m-%d')\n",
    "datalog_hora = datetime.now().strftime('%Y%m%d%H%M%S')\n",
    "nomelog_banco = 'banco_' + nomelog_tabela\n",
    "\n",
    "print('informações para as colunas:')\n",
    "\n",
    "print(nome_tabela)\n",
    "print(nome_banco)\n",
    "print(nome_arquivo)\n",
    "print(tipo_arquivo)\n",
    "print(data_hora)\n",
    "print(data_igtao)\n",
    "\n",
    "\n",
    "    \n",
    "\n",
    "\n",
    "\n"
   ]
  },
  {
   "cell_type": "code",
   "execution_count": 44,
   "metadata": {},
   "outputs": [
    {
     "data": {
      "text/html": [
       "<div>\n",
       "<style scoped>\n",
       "    .dataframe tbody tr th:only-of-type {\n",
       "        vertical-align: middle;\n",
       "    }\n",
       "\n",
       "    .dataframe tbody tr th {\n",
       "        vertical-align: top;\n",
       "    }\n",
       "\n",
       "    .dataframe thead th {\n",
       "        text-align: right;\n",
       "    }\n",
       "</style>\n",
       "<table border=\"1\" class=\"dataframe\">\n",
       "  <thead>\n",
       "    <tr style=\"text-align: right;\">\n",
       "      <th></th>\n",
       "      <th>nome_banco</th>\n",
       "      <th>nome_tabela</th>\n",
       "      <th>nome_arquivo</th>\n",
       "      <th>tipo_arquivo</th>\n",
       "      <th>data_inclusao</th>\n",
       "      <th>dt_igtao</th>\n",
       "    </tr>\n",
       "  </thead>\n",
       "  <tbody>\n",
       "    <tr>\n",
       "      <th>0</th>\n",
       "      <td>banco_teste</td>\n",
       "      <td>teste</td>\n",
       "      <td>arquivo_teste_20250224_104223.txt</td>\n",
       "      <td>txt</td>\n",
       "      <td>20250224142510</td>\n",
       "      <td>2025-02-24</td>\n",
       "    </tr>\n",
       "  </tbody>\n",
       "</table>\n",
       "</div>"
      ],
      "text/plain": [
       "    nome_banco nome_tabela                       nome_arquivo tipo_arquivo  \\\n",
       "0  banco_teste       teste  arquivo_teste_20250224_104223.txt          txt   \n",
       "\n",
       "    data_inclusao    dt_igtao  \n",
       "0  20250224142510  2025-02-24  "
      ]
     },
     "metadata": {},
     "output_type": "display_data"
    },
    {
     "name": "stdout",
     "output_type": "stream",
     "text": [
      "log igtao gravada na tabela\n"
     ]
    }
   ],
   "source": [
    "import sqlite3\n",
    "from datetime import datetime\n",
    "sav = 'arquivo_teste_20250224_104223.txt'\n",
    "banco_log = '/workspaces/projeto_ing/database/sqlite/bronze/bnc_log_igtao.db'\n",
    "conn_log = sqlite3.connect(banco_log)\n",
    "log_igtao = []\n",
    "\n",
    "nomelog_tabela = sav.split('_')[1]\n",
    "nomelog_arquivo = sav\n",
    "tipolog_arquivo = sav.split('.')[1]\n",
    "datalog_igtao = datetime.now().strftime('%Y-%m-%d')\n",
    "datalog_hora = datetime.now().strftime('%Y%m%d%H%M%S')\n",
    "nomelog_banco = 'banco_' + nomelog_tabela\n",
    "\n",
    "tabela_log = 'tb_log_igtao'\n",
    "\n",
    "log_igtao.append({\n",
    "    'nome_banco': nomelog_banco,\n",
    "    'nome_tabela': nomelog_tabela,\n",
    "    'nome_arquivo': nomelog_arquivo,\n",
    "    'tipo_arquivo': tipolog_arquivo,\n",
    "    'data_inclusao': datalog_hora,\n",
    "    'dt_igtao': datalog_igtao\n",
    "})\n",
    "\n",
    "df_log = pd.DataFrame(log_igtao)\n",
    "display(df_log)\n",
    "\n",
    "\n",
    "for _, row in df_log.iterrows():\n",
    "    query_insert = \"\"\"\n",
    "    INSERT INTO tb_log_igtao(\n",
    "        nome_banco, nome_tabela, nome_arquivo, tipo_arquivo, data_inclusao, dt_igtao  \n",
    "    )\n",
    "    VALUES (?,?,?,?,?,?);\n",
    "    \"\"\"\n",
    "    \n",
    "    data = (\n",
    "        row['nome_banco'], row['nome_tabela'], row['nome_arquivo'], row['tipo_arquivo'], row['data_inclusao'], row['dt_igtao']\n",
    "    )\n",
    "    \n",
    "    conn_log.execute(query_insert, data)\n",
    "conn_log.commit()\n",
    "conn_log.close()\n",
    "print('log igtao gravada na tabela')"
   ]
  },
  {
   "cell_type": "code",
   "execution_count": 45,
   "metadata": {},
   "outputs": [
    {
     "name": "stdout",
     "output_type": "stream",
     "text": [
      "('banco_logigtao', 'logigtao', 'arquivo_logigtao_20250224_104223.txt', 'txt', 20250224142210, '2025-02-24')\n",
      "('banco_teste', 'teste', 'arquivo_teste_20250224_104223.txt', 'txt', 20250224142510, '2025-02-24')\n"
     ]
    }
   ],
   "source": [
    "banco_log = '/workspaces/projeto_ing/database/sqlite/bronze/bnc_log_igtao.db'\n",
    "conn = sqlite3.connect(banco_log)\n",
    "\n",
    "sql = ''' select * from tb_log_igtao '''\n",
    "\n",
    "cursor = conn.cursor()\n",
    "cursor.execute(sql)\n",
    "\n",
    "resultado = cursor.fetchall()\n",
    "\n",
    "for i in resultado:\n",
    "    print(i)"
   ]
  },
  {
   "cell_type": "code",
   "execution_count": null,
   "metadata": {},
   "outputs": [],
   "source": [
    "''' \n",
    "Criar uma função para quando ingerir um arquivo na bronze ele gere uma tabela de logs\n",
    "contendo as informações de nome do arquivo, hora da inclusão, partição e gerar um id unico.\n",
    "'''"
   ]
  },
  {
   "cell_type": "code",
   "execution_count": 35,
   "metadata": {},
   "outputs": [],
   "source": [
    "banco_log = '/workspaces/projeto_ing/database/sqlite/bronze/bnc_log_igtao.db'\n",
    "conn = sqlite3.connect(banco_log)"
   ]
  },
  {
   "cell_type": "code",
   "execution_count": 3,
   "metadata": {},
   "outputs": [],
   "source": [
    "conn.commit()"
   ]
  },
  {
   "cell_type": "code",
   "execution_count": 36,
   "metadata": {},
   "outputs": [],
   "source": [
    "create_bnc_log = ''' \n",
    "create table if not exists tb_log_igtao(\n",
    "    nome_banco TEXT,\n",
    "    nome_tabela TEXT, \n",
    "    nome_arquivo TEXT,\n",
    "    tipo_arquivo TEXT,\n",
    "    data_inclusao DATETIME,\n",
    "    dt_igtao DATE\n",
    ")\n",
    "'''"
   ]
  },
  {
   "cell_type": "code",
   "execution_count": 37,
   "metadata": {},
   "outputs": [],
   "source": [
    "cursor = conn.cursor()\n",
    "cursor.execute(create_bnc_log)\n",
    "conn.commit()"
   ]
  },
  {
   "cell_type": "code",
   "execution_count": 42,
   "metadata": {},
   "outputs": [
    {
     "name": "stdout",
     "output_type": "stream",
     "text": [
      "Tabelas no banco de dados:\n",
      "tabela_log_igtao\n",
      "tb_log_igtao\n"
     ]
    }
   ],
   "source": [
    "# select = '''select * from tabela_log_igtao '''\n",
    "\n",
    "show_tables_query = \"SELECT name FROM sqlite_master WHERE type='table';\"\n",
    "cursor.execute(show_tables_query)\n",
    "\n",
    "# Recuperar o resultado da consulta e imprimir as tabelas\n",
    "tables = cursor.fetchall()\n",
    "print(\"Tabelas no banco de dados:\")\n",
    "for table in tables:\n",
    "    print(table[0])\n",
    "\n",
    "conn.close()"
   ]
  },
  {
   "cell_type": "code",
   "execution_count": null,
   "metadata": {},
   "outputs": [],
   "source": [
    "''' \n",
    "Ideias para log motor?\n",
    "\n",
    "'''"
   ]
  }
 ],
 "metadata": {
  "kernelspec": {
   "display_name": "Python 3",
   "language": "python",
   "name": "python3"
  },
  "language_info": {
   "codemirror_mode": {
    "name": "ipython",
    "version": 3
   },
   "file_extension": ".py",
   "mimetype": "text/x-python",
   "name": "python",
   "nbconvert_exporter": "python",
   "pygments_lexer": "ipython3",
   "version": "3.10.13"
  }
 },
 "nbformat": 4,
 "nbformat_minor": 2
}
