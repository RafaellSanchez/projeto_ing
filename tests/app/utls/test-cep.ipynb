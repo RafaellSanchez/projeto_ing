{
 "cells": [
  {
   "cell_type": "code",
   "execution_count": 3,
   "metadata": {},
   "outputs": [
    {
     "ename": "ModuleNotFoundError",
     "evalue": "No module named 'pycep_correios'",
     "output_type": "error",
     "traceback": [
      "\u001b[0;31m---------------------------------------------------------------------------\u001b[0m",
      "\u001b[0;31mModuleNotFoundError\u001b[0m                       Traceback (most recent call last)",
      "Cell \u001b[0;32mIn[3], line 2\u001b[0m\n\u001b[1;32m      1\u001b[0m \u001b[38;5;28;01mimport\u001b[39;00m \u001b[38;5;21;01mpandas\u001b[39;00m \u001b[38;5;28;01mas\u001b[39;00m \u001b[38;5;21;01mpd\u001b[39;00m\n\u001b[0;32m----> 2\u001b[0m \u001b[38;5;28;01mimport\u001b[39;00m \u001b[38;5;21;01mpycep_correios\u001b[39;00m\n",
      "\u001b[0;31mModuleNotFoundError\u001b[0m: No module named 'pycep_correios'"
     ]
    }
   ],
   "source": [
    "import pandas as pd\n",
    "import pycep_correios"
   ]
  },
  {
   "cell_type": "code",
   "execution_count": 2,
   "metadata": {},
   "outputs": [
    {
     "name": "stdout",
     "output_type": "stream",
     "text": [
      "Collecting pycep_correios\n",
      "  Downloading pycep-correios-5.2.0.tar.gz (1.1 kB)\n",
      "  Installing build dependencies ... \u001b[?25ldone\n",
      "\u001b[?25h  Getting requirements to build wheel ... \u001b[?25ldone\n",
      "\u001b[?25h  Preparing metadata (pyproject.toml) ... \u001b[?25ldone\n",
      "\u001b[?25hCollecting brazilcep (from pycep_correios)\n",
      "  Downloading brazilcep-6.5.0-py3-none-any.whl.metadata (7.2 kB)\n",
      "Collecting zeep>=4.2.1 (from brazilcep->pycep_correios)\n",
      "  Downloading zeep-4.2.1-py3-none-any.whl.metadata (3.5 kB)\n",
      "Requirement already satisfied: requests>=2.28.2 in /home/codespace/.local/lib/python3.10/site-packages (from brazilcep->pycep_correios) (2.32.3)\n",
      "Requirement already satisfied: charset-normalizer<4,>=2 in /home/codespace/.local/lib/python3.10/site-packages (from requests>=2.28.2->brazilcep->pycep_correios) (3.3.2)\n",
      "Requirement already satisfied: idna<4,>=2.5 in /home/codespace/.local/lib/python3.10/site-packages (from requests>=2.28.2->brazilcep->pycep_correios) (3.7)\n",
      "Requirement already satisfied: urllib3<3,>=1.21.1 in /usr/local/python/3.10.13/lib/python3.10/site-packages (from requests>=2.28.2->brazilcep->pycep_correios) (2.0.7)\n",
      "Requirement already satisfied: certifi>=2017.4.17 in /home/codespace/.local/lib/python3.10/site-packages (from requests>=2.28.2->brazilcep->pycep_correios) (2024.2.2)\n",
      "Requirement already satisfied: attrs>=17.2.0 in /home/codespace/.local/lib/python3.10/site-packages (from zeep>=4.2.1->brazilcep->pycep_correios) (23.2.0)\n",
      "Collecting isodate>=0.5.4 (from zeep>=4.2.1->brazilcep->pycep_correios)\n",
      "  Downloading isodate-0.7.2-py3-none-any.whl.metadata (11 kB)\n",
      "Collecting lxml>=4.6.0 (from zeep>=4.2.1->brazilcep->pycep_correios)\n",
      "  Downloading lxml-5.3.0-cp310-cp310-manylinux_2_28_x86_64.whl.metadata (3.8 kB)\n",
      "Requirement already satisfied: platformdirs>=1.4.0 in /home/codespace/.local/lib/python3.10/site-packages (from zeep>=4.2.1->brazilcep->pycep_correios) (4.2.2)\n",
      "Collecting requests-toolbelt>=0.7.1 (from zeep>=4.2.1->brazilcep->pycep_correios)\n",
      "  Downloading requests_toolbelt-1.0.0-py2.py3-none-any.whl.metadata (14 kB)\n",
      "Collecting requests-file>=1.5.1 (from zeep>=4.2.1->brazilcep->pycep_correios)\n",
      "  Downloading requests_file-2.1.0-py2.py3-none-any.whl.metadata (1.7 kB)\n",
      "Requirement already satisfied: pytz in /home/codespace/.local/lib/python3.10/site-packages (from zeep>=4.2.1->brazilcep->pycep_correios) (2024.1)\n",
      "Downloading brazilcep-6.5.0-py3-none-any.whl (9.6 kB)\n",
      "Downloading zeep-4.2.1-py3-none-any.whl (101 kB)\n",
      "\u001b[2K   \u001b[90m━━━━━━━━━━━━━━━━━━━━━━━━━━━━━━━━━━━━━━━━\u001b[0m \u001b[32m101.2/101.2 kB\u001b[0m \u001b[31m1.8 MB/s\u001b[0m eta \u001b[36m0:00:00\u001b[0m \u001b[36m0:00:01\u001b[0m\n",
      "\u001b[?25hDownloading isodate-0.7.2-py3-none-any.whl (22 kB)\n",
      "Downloading lxml-5.3.0-cp310-cp310-manylinux_2_28_x86_64.whl (5.0 MB)\n",
      "\u001b[2K   \u001b[90m━━━━━━━━━━━━━━━━━━━━━━━━━━━━━━━━━━━━━━━━\u001b[0m \u001b[32m5.0/5.0 MB\u001b[0m \u001b[31m45.5 MB/s\u001b[0m eta \u001b[36m0:00:00\u001b[0m00:01\u001b[0m00:01\u001b[0m\n",
      "\u001b[?25hDownloading requests_file-2.1.0-py2.py3-none-any.whl (4.2 kB)\n",
      "Downloading requests_toolbelt-1.0.0-py2.py3-none-any.whl (54 kB)\n",
      "\u001b[2K   \u001b[90m━━━━━━━━━━━━━━━━━━━━━━━━━━━━━━━━━━━━━━━━\u001b[0m \u001b[32m54.5/54.5 kB\u001b[0m \u001b[31m1.5 MB/s\u001b[0m eta \u001b[36m0:00:00\u001b[0m\n",
      "\u001b[?25hBuilding wheels for collected packages: pycep_correios\n",
      "  Building wheel for pycep_correios (pyproject.toml) ... \u001b[?25ldone\n",
      "\u001b[?25h  Created wheel for pycep_correios: filename=pycep_correios-5.2.0-py3-none-any.whl size=1173 sha256=bfd19ff9bba4a6bc4fb6500a8038d861e0578daa2ce947f1382528794a36ef39\n",
      "  Stored in directory: /home/codespace/.cache/pip/wheels/9e/64/7a/df9c15e9e8c67761fc136a6d30e031e7a77759a80b7397bbf0\n",
      "Successfully built pycep_correios\n",
      "Installing collected packages: lxml, isodate, requests-toolbelt, requests-file, zeep, brazilcep, pycep_correios\n",
      "Successfully installed brazilcep-6.5.0 isodate-0.7.2 lxml-5.3.0 pycep_correios-5.2.0 requests-file-2.1.0 requests-toolbelt-1.0.0 zeep-4.2.1\n",
      "\n",
      "\u001b[1m[\u001b[0m\u001b[34;49mnotice\u001b[0m\u001b[1;39;49m]\u001b[0m\u001b[39;49m A new release of pip is available: \u001b[0m\u001b[31;49m24.1\u001b[0m\u001b[39;49m -> \u001b[0m\u001b[32;49m24.2\u001b[0m\n",
      "\u001b[1m[\u001b[0m\u001b[34;49mnotice\u001b[0m\u001b[1;39;49m]\u001b[0m\u001b[39;49m To update, run: \u001b[0m\u001b[32;49mpip install --upgrade pip\u001b[0m\n"
     ]
    }
   ],
   "source": [
    "!pip install pycep_correios"
   ]
  },
  {
   "cell_type": "code",
   "execution_count": 4,
   "metadata": {},
   "outputs": [
    {
     "name": "stdout",
     "output_type": "stream",
     "text": [
      "Requirement already satisfied: pip in /usr/local/python/3.10.13/lib/python3.10/site-packages (24.1)\n",
      "Collecting pip\n",
      "  Downloading pip-24.2-py3-none-any.whl.metadata (3.6 kB)\n",
      "Downloading pip-24.2-py3-none-any.whl (1.8 MB)\n",
      "\u001b[2K   \u001b[90m━━━━━━━━━━━━━━━━━━━━━━━━━━━━━━━━━━━━━━━━\u001b[0m \u001b[32m1.8/1.8 MB\u001b[0m \u001b[31m20.2 MB/s\u001b[0m eta \u001b[36m0:00:00\u001b[0m00:01\u001b[0m00:01\u001b[0m\n",
      "\u001b[?25hInstalling collected packages: pip\n",
      "  Attempting uninstall: pip\n",
      "    Found existing installation: pip 24.1\n",
      "    Uninstalling pip-24.1:\n",
      "      Successfully uninstalled pip-24.1\n",
      "Successfully installed pip-24.2\n"
     ]
    }
   ],
   "source": [
    "!pip install --upgrade pip"
   ]
  },
  {
   "cell_type": "code",
   "execution_count": 6,
   "metadata": {},
   "outputs": [
    {
     "name": "stdout",
     "output_type": "stream",
     "text": [
      "Requirement already satisfied: pycep_correios in /usr/local/python/3.10.13/lib/python3.10/site-packages (5.2.0)\n",
      "Requirement already satisfied: brazilcep in /usr/local/python/3.10.13/lib/python3.10/site-packages (from pycep_correios) (6.5.0)\n",
      "Requirement already satisfied: zeep>=4.2.1 in /usr/local/python/3.10.13/lib/python3.10/site-packages (from brazilcep->pycep_correios) (4.2.1)\n",
      "Requirement already satisfied: requests>=2.28.2 in /home/codespace/.local/lib/python3.10/site-packages (from brazilcep->pycep_correios) (2.32.3)\n",
      "Requirement already satisfied: charset-normalizer<4,>=2 in /home/codespace/.local/lib/python3.10/site-packages (from requests>=2.28.2->brazilcep->pycep_correios) (3.3.2)\n",
      "Requirement already satisfied: idna<4,>=2.5 in /home/codespace/.local/lib/python3.10/site-packages (from requests>=2.28.2->brazilcep->pycep_correios) (3.7)\n",
      "Requirement already satisfied: urllib3<3,>=1.21.1 in /usr/local/python/3.10.13/lib/python3.10/site-packages (from requests>=2.28.2->brazilcep->pycep_correios) (2.0.7)\n",
      "Requirement already satisfied: certifi>=2017.4.17 in /home/codespace/.local/lib/python3.10/site-packages (from requests>=2.28.2->brazilcep->pycep_correios) (2024.2.2)\n",
      "Requirement already satisfied: attrs>=17.2.0 in /home/codespace/.local/lib/python3.10/site-packages (from zeep>=4.2.1->brazilcep->pycep_correios) (23.2.0)\n",
      "Requirement already satisfied: isodate>=0.5.4 in /usr/local/python/3.10.13/lib/python3.10/site-packages (from zeep>=4.2.1->brazilcep->pycep_correios) (0.7.2)\n",
      "Requirement already satisfied: lxml>=4.6.0 in /usr/local/python/3.10.13/lib/python3.10/site-packages (from zeep>=4.2.1->brazilcep->pycep_correios) (5.3.0)\n",
      "Requirement already satisfied: platformdirs>=1.4.0 in /home/codespace/.local/lib/python3.10/site-packages (from zeep>=4.2.1->brazilcep->pycep_correios) (4.2.2)\n",
      "Requirement already satisfied: requests-toolbelt>=0.7.1 in /usr/local/python/3.10.13/lib/python3.10/site-packages (from zeep>=4.2.1->brazilcep->pycep_correios) (1.0.0)\n",
      "Requirement already satisfied: requests-file>=1.5.1 in /usr/local/python/3.10.13/lib/python3.10/site-packages (from zeep>=4.2.1->brazilcep->pycep_correios) (2.1.0)\n",
      "Requirement already satisfied: pytz in /home/codespace/.local/lib/python3.10/site-packages (from zeep>=4.2.1->brazilcep->pycep_correios) (2024.1)\n"
     ]
    }
   ],
   "source": [
    "!pip install pycep_correios"
   ]
  },
  {
   "cell_type": "code",
   "execution_count": 11,
   "metadata": {},
   "outputs": [],
   "source": [
    "import pandas as pd\n",
    "import requests"
   ]
  },
  {
   "cell_type": "code",
   "execution_count": 22,
   "metadata": {},
   "outputs": [
    {
     "name": "stdout",
     "output_type": "stream",
     "text": [
      "<Response [200]>\n",
      "[{'cep': '07613-580', 'logradouro': 'Rua Mairiporã', 'complemento': '', 'unidade': '', 'bairro': 'Mantiqueira', 'localidade': 'Mairiporã', 'uf': 'SP', 'estado': 'São Paulo', 'regiao': 'Sudeste', 'ibge': '3528502', 'gia': '4339', 'ddd': '11', 'siafi': '6671'}, {'cep': '07605-180', 'logradouro': 'Rua Acácias - Jd Mairipora II', 'complemento': '', 'unidade': '', 'bairro': 'Rio abaixo', 'localidade': 'Mairiporã', 'uf': 'SP', 'estado': 'São Paulo', 'regiao': 'Sudeste', 'ibge': '3528502', 'gia': '4339', 'ddd': '11', 'siafi': '6671'}, {'cep': '07629-460', 'logradouro': 'Praça Lions Club de Mairiporã', 'complemento': '', 'unidade': '', 'bairro': 'Capoavinha', 'localidade': 'Mairiporã', 'uf': 'SP', 'estado': 'São Paulo', 'regiao': 'Sudeste', 'ibge': '3528502', 'gia': '4339', 'ddd': '11', 'siafi': '6671'}, {'cep': '07600-026', 'logradouro': 'Praça Rotary Club de Mairiporã', 'complemento': '', 'unidade': '', 'bairro': 'Centro', 'localidade': 'Mairiporã', 'uf': 'SP', 'estado': 'São Paulo', 'regiao': 'Sudeste', 'ibge': '3528502', 'gia': '4339', 'ddd': '11', 'siafi': '6671'}, {'cep': '07605-215', 'logradouro': 'Alameda Tulipas - Jd Mairipora II', 'complemento': '', 'unidade': '', 'bairro': 'Rio abaixo', 'localidade': 'Mairiporã', 'uf': 'SP', 'estado': 'São Paulo', 'regiao': 'Sudeste', 'ibge': '3528502', 'gia': '4339', 'ddd': '11', 'siafi': '6671'}, {'cep': '07605-210', 'logradouro': 'Alameda Lírios - Jd Mairipora II', 'complemento': '', 'unidade': '', 'bairro': 'Rio abaixo', 'localidade': 'Mairiporã', 'uf': 'SP', 'estado': 'São Paulo', 'regiao': 'Sudeste', 'ibge': '3528502', 'gia': '4339', 'ddd': '11', 'siafi': '6671'}, {'cep': '07605-170', 'logradouro': 'Alameda Giestas - Jd Mairipora II', 'complemento': '', 'unidade': '', 'bairro': 'Rio abaixo', 'localidade': 'Mairiporã', 'uf': 'SP', 'estado': 'São Paulo', 'regiao': 'Sudeste', 'ibge': '3528502', 'gia': '4339', 'ddd': '11', 'siafi': '6671'}, {'cep': '07605-175', 'logradouro': 'Alameda Azaléia - Jd Mairipora II', 'complemento': '', 'unidade': '', 'bairro': 'Rio abaixo', 'localidade': 'Mairiporã', 'uf': 'SP', 'estado': 'São Paulo', 'regiao': 'Sudeste', 'ibge': '3528502', 'gia': '4339', 'ddd': '11', 'siafi': '6671'}, {'cep': '07605-195', 'logradouro': 'Rua das Orquideas - Jd Mairipora II', 'complemento': '', 'unidade': '', 'bairro': 'Rio abaixo', 'localidade': 'Mairiporã', 'uf': 'SP', 'estado': 'São Paulo', 'regiao': 'Sudeste', 'ibge': '3528502', 'gia': '4339', 'ddd': '11', 'siafi': '6671'}, {'cep': '07605-185', 'logradouro': 'Alameda Camélias - Jd Mairipora II', 'complemento': '', 'unidade': '', 'bairro': 'Rio abaixo', 'localidade': 'Mairiporã', 'uf': 'SP', 'estado': 'São Paulo', 'regiao': 'Sudeste', 'ibge': '3528502', 'gia': '4339', 'ddd': '11', 'siafi': '6671'}, {'cep': '07605-165', 'logradouro': 'Alameda Flor de Maio - Jd Mairipora II', 'complemento': '', 'unidade': '', 'bairro': 'Rio abaixo', 'localidade': 'Mairiporã', 'uf': 'SP', 'estado': 'São Paulo', 'regiao': 'Sudeste', 'ibge': '3528502', 'gia': '4339', 'ddd': '11', 'siafi': '6671'}, {'cep': '07605-150', 'logradouro': 'Alameda Amor Perfeito - Jd Mairipora II', 'complemento': '', 'unidade': '', 'bairro': 'Rio abaixo', 'localidade': 'Mairiporã', 'uf': 'SP', 'estado': 'São Paulo', 'regiao': 'Sudeste', 'ibge': '3528502', 'gia': '4339', 'ddd': '11', 'siafi': '6671'}, {'cep': '07605-235', 'logradouro': 'Alameda das Margaridas - Jd Mairipora II', 'complemento': '', 'unidade': '', 'bairro': 'Rio abaixo', 'localidade': 'Mairiporã', 'uf': 'SP', 'estado': 'São Paulo', 'regiao': 'Sudeste', 'ibge': '3528502', 'gia': '4339', 'ddd': '11', 'siafi': '6671'}]\n",
      "{'cep': '07613-580', 'logradouro': 'Rua Mairiporã', 'complemento': '', 'unidade': '', 'bairro': 'Mantiqueira', 'localidade': 'Mairiporã', 'uf': 'SP', 'estado': 'São Paulo', 'regiao': 'Sudeste', 'ibge': '3528502', 'gia': '4339', 'ddd': '11', 'siafi': '6671'}\n",
      "{'cep': '07605-180', 'logradouro': 'Rua Acácias - Jd Mairipora II', 'complemento': '', 'unidade': '', 'bairro': 'Rio abaixo', 'localidade': 'Mairiporã', 'uf': 'SP', 'estado': 'São Paulo', 'regiao': 'Sudeste', 'ibge': '3528502', 'gia': '4339', 'ddd': '11', 'siafi': '6671'}\n",
      "{'cep': '07629-460', 'logradouro': 'Praça Lions Club de Mairiporã', 'complemento': '', 'unidade': '', 'bairro': 'Capoavinha', 'localidade': 'Mairiporã', 'uf': 'SP', 'estado': 'São Paulo', 'regiao': 'Sudeste', 'ibge': '3528502', 'gia': '4339', 'ddd': '11', 'siafi': '6671'}\n",
      "{'cep': '07600-026', 'logradouro': 'Praça Rotary Club de Mairiporã', 'complemento': '', 'unidade': '', 'bairro': 'Centro', 'localidade': 'Mairiporã', 'uf': 'SP', 'estado': 'São Paulo', 'regiao': 'Sudeste', 'ibge': '3528502', 'gia': '4339', 'ddd': '11', 'siafi': '6671'}\n",
      "{'cep': '07605-215', 'logradouro': 'Alameda Tulipas - Jd Mairipora II', 'complemento': '', 'unidade': '', 'bairro': 'Rio abaixo', 'localidade': 'Mairiporã', 'uf': 'SP', 'estado': 'São Paulo', 'regiao': 'Sudeste', 'ibge': '3528502', 'gia': '4339', 'ddd': '11', 'siafi': '6671'}\n",
      "{'cep': '07605-210', 'logradouro': 'Alameda Lírios - Jd Mairipora II', 'complemento': '', 'unidade': '', 'bairro': 'Rio abaixo', 'localidade': 'Mairiporã', 'uf': 'SP', 'estado': 'São Paulo', 'regiao': 'Sudeste', 'ibge': '3528502', 'gia': '4339', 'ddd': '11', 'siafi': '6671'}\n",
      "{'cep': '07605-170', 'logradouro': 'Alameda Giestas - Jd Mairipora II', 'complemento': '', 'unidade': '', 'bairro': 'Rio abaixo', 'localidade': 'Mairiporã', 'uf': 'SP', 'estado': 'São Paulo', 'regiao': 'Sudeste', 'ibge': '3528502', 'gia': '4339', 'ddd': '11', 'siafi': '6671'}\n",
      "{'cep': '07605-175', 'logradouro': 'Alameda Azaléia - Jd Mairipora II', 'complemento': '', 'unidade': '', 'bairro': 'Rio abaixo', 'localidade': 'Mairiporã', 'uf': 'SP', 'estado': 'São Paulo', 'regiao': 'Sudeste', 'ibge': '3528502', 'gia': '4339', 'ddd': '11', 'siafi': '6671'}\n",
      "{'cep': '07605-195', 'logradouro': 'Rua das Orquideas - Jd Mairipora II', 'complemento': '', 'unidade': '', 'bairro': 'Rio abaixo', 'localidade': 'Mairiporã', 'uf': 'SP', 'estado': 'São Paulo', 'regiao': 'Sudeste', 'ibge': '3528502', 'gia': '4339', 'ddd': '11', 'siafi': '6671'}\n",
      "{'cep': '07605-185', 'logradouro': 'Alameda Camélias - Jd Mairipora II', 'complemento': '', 'unidade': '', 'bairro': 'Rio abaixo', 'localidade': 'Mairiporã', 'uf': 'SP', 'estado': 'São Paulo', 'regiao': 'Sudeste', 'ibge': '3528502', 'gia': '4339', 'ddd': '11', 'siafi': '6671'}\n",
      "{'cep': '07605-165', 'logradouro': 'Alameda Flor de Maio - Jd Mairipora II', 'complemento': '', 'unidade': '', 'bairro': 'Rio abaixo', 'localidade': 'Mairiporã', 'uf': 'SP', 'estado': 'São Paulo', 'regiao': 'Sudeste', 'ibge': '3528502', 'gia': '4339', 'ddd': '11', 'siafi': '6671'}\n",
      "{'cep': '07605-150', 'logradouro': 'Alameda Amor Perfeito - Jd Mairipora II', 'complemento': '', 'unidade': '', 'bairro': 'Rio abaixo', 'localidade': 'Mairiporã', 'uf': 'SP', 'estado': 'São Paulo', 'regiao': 'Sudeste', 'ibge': '3528502', 'gia': '4339', 'ddd': '11', 'siafi': '6671'}\n",
      "{'cep': '07605-235', 'logradouro': 'Alameda das Margaridas - Jd Mairipora II', 'complemento': '', 'unidade': '', 'bairro': 'Rio abaixo', 'localidade': 'Mairiporã', 'uf': 'SP', 'estado': 'São Paulo', 'regiao': 'Sudeste', 'ibge': '3528502', 'gia': '4339', 'ddd': '11', 'siafi': '6671'}\n"
     ]
    }
   ],
   "source": [
    "uf = \"SP\"\n",
    "cidade = \"Mairiporã\"\n",
    "endereco = \"Mairiporã\"\n",
    "\n",
    "link = f'https://viacep.com.br/ws/{uf}/{cidade}/{endereco}/json/'\n",
    "\n",
    "requisicao = requests.get(link)\n",
    "print(requisicao)\n",
    "\n",
    "dic_requisicao = requisicao.json()\n",
    "print(dic_requisicao)\n",
    "\n",
    "lista = []\n",
    "\n",
    "for resultado in dic_requisicao:\n",
    "    print(resultado)"
   ]
  },
  {
   "cell_type": "code",
   "execution_count": 24,
   "metadata": {},
   "outputs": [
    {
     "name": "stdout",
     "output_type": "stream",
     "text": [
      "<Response [200]>\n",
      "{'cep': '07600-740', 'logradouro': 'Estrada Armando Barbosa de Almeida', 'complemento': '', 'unidade': '', 'bairro': 'Chácara Arantes', 'localidade': 'Mairiporã', 'uf': 'SP', 'estado': 'São Paulo', 'regiao': 'Sudeste', 'ibge': '3528502', 'gia': '4339', 'ddd': '11', 'siafi': '6671'}\n"
     ]
    }
   ],
   "source": [
    "import requests\n",
    "\n",
    "cep = \"07600-740\"\n",
    "\n",
    "cep = cep.replace(\"-\", \"\").replace(\".\", \"\").replace(\" \", \"\")\n",
    "\n",
    "if len(cep) == 8:\n",
    "    link = f'https://viacep.com.br/ws/{cep}/json/'\n",
    "\n",
    "    requisicao = requests.get(link)\n",
    "\n",
    "    print(requisicao)\n",
    "\n",
    "    dic_requisicao = requisicao.json()\n",
    "\n",
    "    uf = dic_requisicao['uf']\n",
    "    cidade = dic_requisicao['localidade']\n",
    "    bairro = dic_requisicao['bairro']\n",
    "    print(dic_requisicao)\n",
    "else:\n",
    "    print(\"CEP Inválido\")"
   ]
  },
  {
   "cell_type": "code",
   "execution_count": 25,
   "metadata": {},
   "outputs": [
    {
     "name": "stdout",
     "output_type": "stream",
     "text": [
      "Requirement already satisfied: pycep-correios in /usr/local/python/3.10.13/lib/python3.10/site-packages (5.2.0)\n",
      "Requirement already satisfied: brazilcep in /usr/local/python/3.10.13/lib/python3.10/site-packages (from pycep-correios) (6.5.0)\n",
      "Requirement already satisfied: zeep>=4.2.1 in /usr/local/python/3.10.13/lib/python3.10/site-packages (from brazilcep->pycep-correios) (4.2.1)\n",
      "Requirement already satisfied: requests>=2.28.2 in /home/codespace/.local/lib/python3.10/site-packages (from brazilcep->pycep-correios) (2.32.3)\n",
      "Requirement already satisfied: charset-normalizer<4,>=2 in /home/codespace/.local/lib/python3.10/site-packages (from requests>=2.28.2->brazilcep->pycep-correios) (3.3.2)\n",
      "Requirement already satisfied: idna<4,>=2.5 in /home/codespace/.local/lib/python3.10/site-packages (from requests>=2.28.2->brazilcep->pycep-correios) (3.7)\n",
      "Requirement already satisfied: urllib3<3,>=1.21.1 in /usr/local/python/3.10.13/lib/python3.10/site-packages (from requests>=2.28.2->brazilcep->pycep-correios) (2.0.7)\n",
      "Requirement already satisfied: certifi>=2017.4.17 in /home/codespace/.local/lib/python3.10/site-packages (from requests>=2.28.2->brazilcep->pycep-correios) (2024.2.2)\n",
      "Requirement already satisfied: attrs>=17.2.0 in /home/codespace/.local/lib/python3.10/site-packages (from zeep>=4.2.1->brazilcep->pycep-correios) (23.2.0)\n",
      "Requirement already satisfied: isodate>=0.5.4 in /usr/local/python/3.10.13/lib/python3.10/site-packages (from zeep>=4.2.1->brazilcep->pycep-correios) (0.7.2)\n",
      "Requirement already satisfied: lxml>=4.6.0 in /usr/local/python/3.10.13/lib/python3.10/site-packages (from zeep>=4.2.1->brazilcep->pycep-correios) (5.3.0)\n",
      "Requirement already satisfied: platformdirs>=1.4.0 in /home/codespace/.local/lib/python3.10/site-packages (from zeep>=4.2.1->brazilcep->pycep-correios) (4.2.2)\n",
      "Requirement already satisfied: requests-toolbelt>=0.7.1 in /usr/local/python/3.10.13/lib/python3.10/site-packages (from zeep>=4.2.1->brazilcep->pycep-correios) (1.0.0)\n",
      "Requirement already satisfied: requests-file>=1.5.1 in /usr/local/python/3.10.13/lib/python3.10/site-packages (from zeep>=4.2.1->brazilcep->pycep-correios) (2.1.0)\n",
      "Requirement already satisfied: pytz in /home/codespace/.local/lib/python3.10/site-packages (from zeep>=4.2.1->brazilcep->pycep-correios) (2024.1)\n"
     ]
    }
   ],
   "source": [
    "!pip install pycep-correios"
   ]
  },
  {
   "cell_type": "code",
   "execution_count": 30,
   "metadata": {},
   "outputs": [],
   "source": [
    "import brazilcep"
   ]
  },
  {
   "cell_type": "code",
   "execution_count": 41,
   "metadata": {},
   "outputs": [
    {
     "name": "stdout",
     "output_type": "stream",
     "text": [
      "Mairiporã\n",
      "\n",
      "Chácara Arantes\n",
      "SP\n",
      "07600-740\n"
     ]
    }
   ],
   "source": [
    "endereco = brazilcep.get_address_from_cep('07600740')\n",
    "\n",
    "\n",
    "print(endereco['city'])\n",
    "print(endereco['complement'])\n",
    "print(endereco['district'])\n",
    "print(endereco['uf'])\n",
    "print(endereco['cep'])"
   ]
  },
  {
   "cell_type": "code",
   "execution_count": null,
   "metadata": {},
   "outputs": [],
   "source": [
    "#cep"
   ]
  }
 ],
 "metadata": {
  "kernelspec": {
   "display_name": "Python 3",
   "language": "python",
   "name": "python3"
  },
  "language_info": {
   "codemirror_mode": {
    "name": "ipython",
    "version": 3
   },
   "file_extension": ".py",
   "mimetype": "text/x-python",
   "name": "python",
   "nbconvert_exporter": "python",
   "pygments_lexer": "ipython3",
   "version": "3.10.13"
  }
 },
 "nbformat": 4,
 "nbformat_minor": 2
}
