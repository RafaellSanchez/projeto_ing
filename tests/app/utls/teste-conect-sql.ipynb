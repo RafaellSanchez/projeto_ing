{
 "cells": [
  {
   "cell_type": "code",
   "execution_count": 24,
   "metadata": {},
   "outputs": [],
   "source": [
    "import sys\n",
    "\n",
    "sys.path.append(\"/../../utils/\")\n",
    "from helpers import conectar_sqlite\n"
   ]
  },
  {
   "cell_type": "code",
   "execution_count": 31,
   "metadata": {},
   "outputs": [
    {
     "data": {
      "text/plain": [
       "<module 'helpers' from '/workspaces/projeto_ing/utils/helpers.py'>"
      ]
     },
     "execution_count": 31,
     "metadata": {},
     "output_type": "execute_result"
    }
   ],
   "source": [
    "import importlib\n",
    "import helpers\n",
    "importlib.reload(helpers)\n"
   ]
  },
  {
   "cell_type": "code",
   "execution_count": 32,
   "metadata": {},
   "outputs": [],
   "source": [
    "from helpers import conectar_sqlite\n",
    "from helpers import consult_sqlite\n",
    "from helpers import conectar_mongo"
   ]
  },
  {
   "cell_type": "code",
   "execution_count": 28,
   "metadata": {},
   "outputs": [
    {
     "name": "stdout",
     "output_type": "stream",
     "text": [
      "Conectado ao banco com sucesso: /workspaces/projeto_ing/database/banco_teste.db\n",
      "Versão do SQLite: 3.31.1\n",
      "Conexão fechada.\n"
     ]
    }
   ],
   "source": [
    "nome_banco = \"banco_teste.db\"\n",
    "\n",
    "try:\n",
    "    conn, cursor, caminho_banco = conectar_sqlite(nome_banco)\n",
    "    print(f\"Conectado ao banco com sucesso: {caminho_banco}\")\n",
    "    \n",
    "    cursor.execute(\"SELECT sqlite_version();\")\n",
    "    sqlite_version = cursor.fetchone()\n",
    "    print(f\"Versão do SQLite: {sqlite_version[0]}\")\n",
    "    \n",
    "except Exception as e:\n",
    "    print(f\"Erro ao conectar ao banco de dados: {e}\")\n",
    "    \n",
    "finally:\n",
    "    try:\n",
    "        if conn:\n",
    "            conn.close()\n",
    "            print(\"Conexão fechada.\")\n",
    "    except NameError:\n",
    "        print(\"A conexão não foi estabelecida.\")\n"
   ]
  },
  {
   "cell_type": "code",
   "execution_count": 34,
   "metadata": {},
   "outputs": [
    {
     "name": "stdout",
     "output_type": "stream",
     "text": [
      "(10, 'skol')\n",
      "(11, 'phoebe')\n",
      "(10, 'skol')\n",
      "(11, 'phoebe')\n",
      "(10, 'skol')\n",
      "(11, 'phoebe')\n",
      "(10, 'skol')\n",
      "(11, 'phoebe')\n",
      "(10, 'skol')\n",
      "(11, 'phoebe')\n",
      "(10, 'skol')\n",
      "(11, 'phoebe')\n"
     ]
    }
   ],
   "source": [
    "consulta = consult_sqlite(banco=\"banco_teste.db\", tabela=\"tabela_teste\")"
   ]
  }
 ],
 "metadata": {
  "kernelspec": {
   "display_name": "Python 3",
   "language": "python",
   "name": "python3"
  },
  "language_info": {
   "codemirror_mode": {
    "name": "ipython",
    "version": 3
   },
   "file_extension": ".py",
   "mimetype": "text/x-python",
   "name": "python",
   "nbconvert_exporter": "python",
   "pygments_lexer": "ipython3",
   "version": "3.10.13"
  }
 },
 "nbformat": 4,
 "nbformat_minor": 2
}
