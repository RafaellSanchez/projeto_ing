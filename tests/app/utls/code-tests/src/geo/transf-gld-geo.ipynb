{
 "cells": [
  {
   "cell_type": "code",
   "execution_count": 1,
   "metadata": {},
   "outputs": [],
   "source": [
    "import pandas as pd\n",
    "import sqlite3"
   ]
  },
  {
   "cell_type": "code",
   "execution_count": 2,
   "metadata": {},
   "outputs": [
    {
     "name": "stdout",
     "output_type": "stream",
     "text": [
      "id\n",
      "nome\n",
      "id_mun\n",
      "nm_mun\n",
      "id_mcr\n",
      "nm_mcr\n",
      "id_uf\n",
      "nm_uf\n",
      "sigla_uf\n",
      "id_reg\n",
      "nm_reg\n",
      "sigla_rg\n",
      "dt_igtao\n"
     ]
    }
   ],
   "source": [
    "bd = 'banco_geo.db'\n",
    "banco_caminho = f'/workspaces/projeto_ing/INGESTION/database/{bd}'\n",
    "conn = sqlite3.connect(banco_caminho)\n",
    "cursor = conn.cursor()\n",
    "\n",
    "cursor.execute(\"PRAGMA table_info(tabela_slvr_geo)\")\n",
    "\n",
    "# Recupere os resultados da consulta\n",
    "colunas = cursor.fetchall()\n",
    "\n",
    "for coluna in colunas:\n",
    "    print(coluna[1])"
   ]
  },
  {
   "cell_type": "code",
   "execution_count": 3,
   "metadata": {},
   "outputs": [
    {
     "name": "stdout",
     "output_type": "stream",
     "text": [
      "(291790410, 'Abadia', 2917904, 'Jandaíra', 2904, 'Nordeste Baiano', 29, 'Bahia', 'BA', 2, 'Nordeste', 'NE', '2024-07-14')\n",
      "(311350310, 'Abadia de Carbonita', 3113503, 'Carbonita', 3103, 'Jequitinhonha', 31, 'Minas Gerais', 'MG', 3, 'Sudeste', 'SE', '2024-07-14')\n",
      "(520005005, 'Abadia de Goiás', 5200050, 'Abadia de Goiás', 5203, 'Centro Goiano', 52, 'Goiás', 'GO', 5, 'Centro-Oeste', 'CO', '2024-07-14')\n",
      "(310010405, 'Abadia dos Dourados', 3100104, 'Abadia dos Dourados', 3105, 'Triângulo Mineiro/Alto Paranaíba', 31, 'Minas Gerais', 'MG', 3, 'Sudeste', 'SE', '2024-07-14')\n",
      "(520010005, 'Abadiânia', 5200100, 'Abadiânia', 5204, 'Leste Goiano', 52, 'Goiás', 'GO', 5, 'Centro-Oeste', 'CO', '2024-07-14')\n"
     ]
    }
   ],
   "source": [
    "query = 'select * from tabela_slvr_geo limit 5'\n",
    "cursor.execute(query)\n",
    "resultado = cursor.fetchall()\n",
    "for linha in resultado:\n",
    "    print(linha)"
   ]
  },
  {
   "cell_type": "code",
   "execution_count": 4,
   "metadata": {},
   "outputs": [
    {
     "name": "stdout",
     "output_type": "stream",
     "text": [
      "          id                 nome   id_mun               nm_mun  id_mcr  \\\n",
      "0  291790410               Abadia  2917904             Jandaíra    2904   \n",
      "1  311350310  Abadia de Carbonita  3113503            Carbonita    3103   \n",
      "2  520005005      Abadia de Goiás  5200050      Abadia de Goiás    5203   \n",
      "3  310010405  Abadia dos Dourados  3100104  Abadia dos Dourados    3105   \n",
      "4  520010005            Abadiânia  5200100            Abadiânia    5204   \n",
      "\n",
      "                             nm_mcr  id_uf         nm_uf sigla_uf  id_reg  \\\n",
      "0                   Nordeste Baiano     29         Bahia       BA       2   \n",
      "1                     Jequitinhonha     31  Minas Gerais       MG       3   \n",
      "2                     Centro Goiano     52         Goiás       GO       5   \n",
      "3  Triângulo Mineiro/Alto Paranaíba     31  Minas Gerais       MG       3   \n",
      "4                      Leste Goiano     52         Goiás       GO       5   \n",
      "\n",
      "         nm_reg sigla_rg    dt_igtao  \n",
      "0      Nordeste       NE  2024-07-14  \n",
      "1       Sudeste       SE  2024-07-14  \n",
      "2  Centro-Oeste       CO  2024-07-14  \n",
      "3       Sudeste       SE  2024-07-14  \n",
      "4  Centro-Oeste       CO  2024-07-14  \n",
      "tabela ingerida\n"
     ]
    }
   ],
   "source": [
    "df = pd.DataFrame(resultado, columns=['id', 'nome', 'id_mun', 'nm_mun', 'id_mcr', 'nm_mcr', 'id_uf', 'nm_uf', 'sigla_uf', 'id_reg', 'nm_reg', 'sigla_rg', 'dt_igtao'])\n",
    "print(df.head())\n",
    "df.to_sql(name='tabela_gld_geo', con=conn, if_exists = 'append', index = False)\n",
    "print('tabela ingerida')"
   ]
  },
  {
   "cell_type": "code",
   "execution_count": 5,
   "metadata": {},
   "outputs": [
    {
     "name": "stdout",
     "output_type": "stream",
     "text": [
      "(291790410, 'Abadia', 2917904, 'Jandaíra', 2904, 'Nordeste Baiano', 29, 'Bahia', 'BA', 2, 'Nordeste', 'NE', '2024-07-14')\n",
      "(311350310, 'Abadia de Carbonita', 3113503, 'Carbonita', 3103, 'Jequitinhonha', 31, 'Minas Gerais', 'MG', 3, 'Sudeste', 'SE', '2024-07-14')\n",
      "(520005005, 'Abadia de Goiás', 5200050, 'Abadia de Goiás', 5203, 'Centro Goiano', 52, 'Goiás', 'GO', 5, 'Centro-Oeste', 'CO', '2024-07-14')\n",
      "(310010405, 'Abadia dos Dourados', 3100104, 'Abadia dos Dourados', 3105, 'Triângulo Mineiro/Alto Paranaíba', 31, 'Minas Gerais', 'MG', 3, 'Sudeste', 'SE', '2024-07-14')\n",
      "(520010005, 'Abadiânia', 5200100, 'Abadiânia', 5204, 'Leste Goiano', 52, 'Goiás', 'GO', 5, 'Centro-Oeste', 'CO', '2024-07-14')\n"
     ]
    }
   ],
   "source": [
    "query = 'select * from tabela_gld_geo limit 5'\n",
    "cursor.execute(query)\n",
    "resultado = cursor.fetchall()\n",
    "for linha in resultado:\n",
    "    print(linha)"
   ]
  },
  {
   "cell_type": "code",
   "execution_count": 6,
   "metadata": {},
   "outputs": [],
   "source": [
    "conn.commit()\n",
    "conn.close()"
   ]
  }
 ],
 "metadata": {
  "kernelspec": {
   "display_name": "Python 3",
   "language": "python",
   "name": "python3"
  },
  "language_info": {
   "codemirror_mode": {
    "name": "ipython",
    "version": 3
   },
   "file_extension": ".py",
   "mimetype": "text/x-python",
   "name": "python",
   "nbconvert_exporter": "python",
   "pygments_lexer": "ipython3",
   "version": "3.10.13"
  }
 },
 "nbformat": 4,
 "nbformat_minor": 2
}
