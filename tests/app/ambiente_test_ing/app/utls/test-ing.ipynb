{
 "cells": [
  {
   "cell_type": "code",
   "execution_count": 2,
   "metadata": {},
   "outputs": [
    {
     "ename": "ModuleNotFoundError",
     "evalue": "No module named 'helpers'",
     "output_type": "error",
     "traceback": [
      "\u001b[0;31m---------------------------------------------------------------------------\u001b[0m",
      "\u001b[0;31mModuleNotFoundError\u001b[0m                       Traceback (most recent call last)",
      "Cell \u001b[0;32mIn[2], line 2\u001b[0m\n\u001b[1;32m      1\u001b[0m \u001b[38;5;28;01mimport\u001b[39;00m \u001b[38;5;21;01mimportlib\u001b[39;00m\n\u001b[0;32m----> 2\u001b[0m \u001b[38;5;28;01mimport\u001b[39;00m \u001b[38;5;21;01mhelpers\u001b[39;00m\n\u001b[1;32m      3\u001b[0m importlib\u001b[38;5;241m.\u001b[39mreload(helpers)\n",
      "\u001b[0;31mModuleNotFoundError\u001b[0m: No module named 'helpers'"
     ]
    }
   ],
   "source": [
    "import importlib\n",
    "import helpers\n",
    "importlib.reload(helpers)"
   ]
  },
  {
   "cell_type": "code",
   "execution_count": null,
   "metadata": {},
   "outputs": [],
   "source": [
    "# caminho_arquivo = '/workspaces/projeto_ing/apis/app/src/temp/tempo_Rio de Janeiro_20240928164640.txt'\n",
    "# arquivo_criptografado = '/workspaces/projeto_ing/tests/app/src/dados_criptografados.bin'\n",
    "\n",
    "# df_original, chave, cipher_suite, dados_criptografados, caminho_cripto = cripto_dados(\n",
    "#     caminho=caminho_arquivo, \n",
    "#     arquivocript=arquivo_criptografado, \n",
    "#     delimitador=';'\n",
    "# )\n",
    "\n",
    "# print(f\"Chave de criptografia: {chave.decode()}\")"
   ]
  },
  {
   "cell_type": "code",
   "execution_count": 4,
   "metadata": {},
   "outputs": [],
   "source": [
    "#variavies\n",
    "\n",
    "import os\n",
    "import json\n",
    "import sqlite3\n",
    "import pandas as pd\n",
    "import shutil\n",
    "from datetime import datetime\n",
    "import sys\n",
    "\n",
    "sys.path.append(\"/../../utils/\")\n",
    "sys.path.append(\"/workspaces/projeto_ing/utils/\")\n",
    "from helpers import cripto_dados\n",
    "from helpers import consult_sqlite\n",
    "from helpers import conectar_sqlite\n",
    "from helpers import ler_arquivo\n",
    "\n",
    "timestamp = datetime.now().strftime('%Y%m%d_%H%M%S')\n",
    "data_igtao = datetime.now().strftime('%Y-%m-%d')\n",
    "\n",
    "caminho_backup = \"/workspaces/projeto_ing/tests/app/ambiente_test_ing/backup/\"\n",
    "ctrl_ing = \"/workspaces/projeto_ing/tests/app/ambiente_test_ing/app/archiving_ctrl/arquivo_controle.txt\"\n",
    "landing = \"/workspaces/projeto_ing/tests/app/ambiente_test_ing/app/src/landing/\"\n",
    "layouts = \"/workspaces/projeto_ing/tests/app/ambiente_test_ing/app/src/layouts/\""
   ]
  },
  {
   "cell_type": "code",
   "execution_count": null,
   "metadata": {},
   "outputs": [],
   "source": []
  }
 ],
 "metadata": {
  "kernelspec": {
   "display_name": "Python 3",
   "language": "python",
   "name": "python3"
  },
  "language_info": {
   "codemirror_mode": {
    "name": "ipython",
    "version": 3
   },
   "file_extension": ".py",
   "mimetype": "text/x-python",
   "name": "python",
   "nbconvert_exporter": "python",
   "pygments_lexer": "ipython3",
   "version": "3.10.13"
  }
 },
 "nbformat": 4,
 "nbformat_minor": 2
}
