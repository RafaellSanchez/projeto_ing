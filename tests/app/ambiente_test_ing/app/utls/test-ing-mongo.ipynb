{
 "cells": [
  {
   "cell_type": "code",
   "execution_count": 8,
   "id": "6077fd05",
   "metadata": {},
   "outputs": [],
   "source": [
    "import sys\n",
    "import os\n",
    "from datetime import datetime\n",
    "import time\n",
    "import pandas as pd\n",
    "\n",
    "sys.path.append(os.path.abspath('/workspaces/projeto_ing/utils/shered_utils/'))\n",
    "\n",
    "from sql_conn import conectar_mongodb\n",
    "from sql_conn import conectar_bronze\n",
    "from sql_conn import enviar_para_mongodb\n",
    "from sql_conn import mensagem\n",
    "\n",
    "''' \n",
    "Motor dedicado ao carregamento e envio de dados para o mongo.db\n",
    "\n",
    "Utilizndo a função conectar_mongo para conexão entre fontes\n",
    "Utilizndo a função conectar_bronze para realizar a transformação dos dados a serem enviados\n",
    "Utilizndo a função enviar_para_mongodb para envio do DataFrame para a collection\n",
    "\n",
    "'''\n",
    "\n",
    "timestamp = datetime.now().strftime('%Y%m%d_%H%M%S')"
   ]
  },
  {
   "cell_type": "code",
   "execution_count": 10,
   "id": "05f35284",
   "metadata": {},
   "outputs": [],
   "source": [
    "path = '/workspaces/projeto_ing/tests/app/ambiente_test_ing/app/src/landing/'"
   ]
  },
  {
   "cell_type": "code",
   "execution_count": 4,
   "id": "7c10f7ff",
   "metadata": {},
   "outputs": [
    {
     "name": "stdout",
     "output_type": "stream",
     "text": [
      "Conexão bem-sucedida com o MongoDB!\n"
     ]
    },
    {
     "data": {
      "text/plain": [
       "(MongoClient(host=['cluster001dev-shard-00-00.vgq0k.mongodb.net:27017', 'cluster001dev-shard-00-02.vgq0k.mongodb.net:27017', 'cluster001dev-shard-00-01.vgq0k.mongodb.net:27017'], document_class=dict, tz_aware=False, connect=True, authsource='admin', replicaset='atlas-142osk-shard-0', tls=True),\n",
       " Collection(Database(MongoClient(host=['cluster001dev-shard-00-00.vgq0k.mongodb.net:27017', 'cluster001dev-shard-00-02.vgq0k.mongodb.net:27017', 'cluster001dev-shard-00-01.vgq0k.mongodb.net:27017'], document_class=dict, tz_aware=False, connect=True, authsource='admin', replicaset='atlas-142osk-shard-0', tls=True), 'dev_mongo001_rf'), 'collection_test_mng_dev'))"
      ]
     },
     "execution_count": 4,
     "metadata": {},
     "output_type": "execute_result"
    }
   ],
   "source": [
    "conectar_mongodb()"
   ]
  },
  {
   "cell_type": "code",
   "execution_count": 6,
   "id": "0930af52",
   "metadata": {},
   "outputs": [
    {
     "name": "stdout",
     "output_type": "stream",
     "text": [
      "Conectado ao SQLite Bronze: bnc_log_igtao.db\n",
      "Tabelas no banco de dados:\n",
      "tabela_log_igtao\n",
      "tb_log_igtao\n"
     ]
    }
   ],
   "source": [
    "db_sqlite = \"bnc_log_igtao.db\"\n",
    "\n",
    "conn, cursor, caminho_bronze, consulta, colunas, query = conectar_bronze(db_sqlite, tabela= \"tb_log_igtao\")"
   ]
  },
  {
   "cell_type": "code",
   "execution_count": 9,
   "id": "a0bdf5bb",
   "metadata": {},
   "outputs": [
    {
     "data": {
      "text/html": [
       "<div>\n",
       "<style scoped>\n",
       "    .dataframe tbody tr th:only-of-type {\n",
       "        vertical-align: middle;\n",
       "    }\n",
       "\n",
       "    .dataframe tbody tr th {\n",
       "        vertical-align: top;\n",
       "    }\n",
       "\n",
       "    .dataframe thead th {\n",
       "        text-align: right;\n",
       "    }\n",
       "</style>\n",
       "<table border=\"1\" class=\"dataframe\">\n",
       "  <thead>\n",
       "    <tr style=\"text-align: right;\">\n",
       "      <th></th>\n",
       "      <th>nome_banco</th>\n",
       "      <th>nome_tabela</th>\n",
       "      <th>nome_arquivo</th>\n",
       "      <th>tipo_arquivo</th>\n",
       "      <th>data_inclusao</th>\n",
       "      <th>dt_igtao</th>\n",
       "    </tr>\n",
       "  </thead>\n",
       "  <tbody>\n",
       "    <tr>\n",
       "      <th>0</th>\n",
       "      <td>banco_logigtao</td>\n",
       "      <td>logigtao</td>\n",
       "      <td>arquivo_logigtao_20250224_104223.txt</td>\n",
       "      <td>txt</td>\n",
       "      <td>20250224142210</td>\n",
       "      <td>2025-02-24</td>\n",
       "    </tr>\n",
       "    <tr>\n",
       "      <th>1</th>\n",
       "      <td>banco_teste</td>\n",
       "      <td>teste</td>\n",
       "      <td>arquivo_teste_20250224_104223.txt</td>\n",
       "      <td>txt</td>\n",
       "      <td>20250224142510</td>\n",
       "      <td>2025-02-24</td>\n",
       "    </tr>\n",
       "    <tr>\n",
       "      <th>2</th>\n",
       "      <td>banco_teste</td>\n",
       "      <td>tabela_teste</td>\n",
       "      <td>arquivo_teste_20250224_104223.txt</td>\n",
       "      <td>txt</td>\n",
       "      <td>20250224145404</td>\n",
       "      <td>2025-02-24</td>\n",
       "    </tr>\n",
       "    <tr>\n",
       "      <th>3</th>\n",
       "      <td>banco_teste</td>\n",
       "      <td>tabela_teste</td>\n",
       "      <td>arquivo_teste_20250224_104223.txt</td>\n",
       "      <td>txt</td>\n",
       "      <td>20250224145507</td>\n",
       "      <td>2025-02-24</td>\n",
       "    </tr>\n",
       "    <tr>\n",
       "      <th>4</th>\n",
       "      <td>banco_teste</td>\n",
       "      <td>tabela_teste</td>\n",
       "      <td>arquivo_teste_20250224_104223.txt</td>\n",
       "      <td>txt</td>\n",
       "      <td>20250224145518</td>\n",
       "      <td>2025-02-24</td>\n",
       "    </tr>\n",
       "    <tr>\n",
       "      <th>5</th>\n",
       "      <td>banco_teste</td>\n",
       "      <td>tabela_teste</td>\n",
       "      <td>arquivo_teste_20250224_104223.txt</td>\n",
       "      <td>txt</td>\n",
       "      <td>20250224145753</td>\n",
       "      <td>2025-02-24</td>\n",
       "    </tr>\n",
       "    <tr>\n",
       "      <th>6</th>\n",
       "      <td>banco_mairipora</td>\n",
       "      <td>tabela_mairipora</td>\n",
       "      <td>arquivo_mairipora_20250224_104223.txt</td>\n",
       "      <td>txt</td>\n",
       "      <td>20250224150135</td>\n",
       "      <td>2025-02-24</td>\n",
       "    </tr>\n",
       "    <tr>\n",
       "      <th>7</th>\n",
       "      <td>banco_weather</td>\n",
       "      <td>tabela_weather</td>\n",
       "      <td>resultado_weather_20250108_163946.txt</td>\n",
       "      <td>txt</td>\n",
       "      <td>20250225184651</td>\n",
       "      <td>2025-02-25</td>\n",
       "    </tr>\n",
       "  </tbody>\n",
       "</table>\n",
       "</div>"
      ],
      "text/plain": [
       "        nome_banco       nome_tabela                           nome_arquivo  \\\n",
       "0   banco_logigtao          logigtao   arquivo_logigtao_20250224_104223.txt   \n",
       "1      banco_teste             teste      arquivo_teste_20250224_104223.txt   \n",
       "2      banco_teste      tabela_teste      arquivo_teste_20250224_104223.txt   \n",
       "3      banco_teste      tabela_teste      arquivo_teste_20250224_104223.txt   \n",
       "4      banco_teste      tabela_teste      arquivo_teste_20250224_104223.txt   \n",
       "5      banco_teste      tabela_teste      arquivo_teste_20250224_104223.txt   \n",
       "6  banco_mairipora  tabela_mairipora  arquivo_mairipora_20250224_104223.txt   \n",
       "7    banco_weather    tabela_weather  resultado_weather_20250108_163946.txt   \n",
       "\n",
       "  tipo_arquivo   data_inclusao    dt_igtao  \n",
       "0          txt  20250224142210  2025-02-24  \n",
       "1          txt  20250224142510  2025-02-24  \n",
       "2          txt  20250224145404  2025-02-24  \n",
       "3          txt  20250224145507  2025-02-24  \n",
       "4          txt  20250224145518  2025-02-24  \n",
       "5          txt  20250224145753  2025-02-24  \n",
       "6          txt  20250224150135  2025-02-24  \n",
       "7          txt  20250225184651  2025-02-25  "
      ]
     },
     "metadata": {},
     "output_type": "display_data"
    }
   ],
   "source": [
    "df_brnz = pd.read_sql_query(query, conn)\n",
    "display(df_brnz)"
   ]
  },
  {
   "cell_type": "code",
   "execution_count": 3,
   "id": "44ebd650",
   "metadata": {},
   "outputs": [
    {
     "ename": "TypeError",
     "evalue": "conectar_mongodb() takes 0 positional arguments but 1 was given",
     "output_type": "error",
     "traceback": [
      "\u001b[0;31m---------------------------------------------------------------------------\u001b[0m",
      "\u001b[0;31mTypeError\u001b[0m                                 Traceback (most recent call last)",
      "Cell \u001b[0;32mIn[3], line 3\u001b[0m\n\u001b[1;32m      1\u001b[0m file \u001b[38;5;241m=\u001b[39m \u001b[38;5;124m'\u001b[39m\u001b[38;5;124m/workspaces/projeto_ing/apis/app/src/caldr/feriado_nacional_20250126_140402.txt\u001b[39m\u001b[38;5;124m'\u001b[39m \n\u001b[0;32m----> 3\u001b[0m uri, client, collection, file \u001b[38;5;241m=\u001b[39m \u001b[43mconectar_mongodb\u001b[49m\u001b[43m(\u001b[49m\u001b[43mfile\u001b[49m\u001b[43m)\u001b[49m\n",
      "\u001b[0;31mTypeError\u001b[0m: conectar_mongodb() takes 0 positional arguments but 1 was given"
     ]
    }
   ],
   "source": [
    "\n",
    "file = '/workspaces/projeto_ing/apis/app/src/caldr/feriado_nacional_20250126_140402.txt' \n",
    "\n",
    "uri, client, collection, file = conectar_mongodb(file)"
   ]
  },
  {
   "cell_type": "code",
   "execution_count": 30,
   "id": "1f198bd9",
   "metadata": {},
   "outputs": [],
   "source": [
    "def carregamento_landing(path=None, file=None):\n",
    "    if path is None:\n",
    "        path = '/workspaces/projeto_ing/tests/app/ambiente_test_ing/app/src/landing/'\n",
    "        print('caminho não informado')\n",
    "        print('utilizando o padrão:')\n",
    "        print(f'{path}')\n",
    "        \n",
    "    if file is None:\n",
    "        file = 'teste.txt'\n",
    "    \n",
    "    return path, file\n",
    "    "
   ]
  },
  {
   "cell_type": "code",
   "execution_count": 29,
   "id": "403725d6",
   "metadata": {},
   "outputs": [
    {
     "name": "stdout",
     "output_type": "stream",
     "text": [
      "caminho não informado\n",
      "utilizando o padrão:\n",
      "/workspaces/projeto_ing/tests/app/ambiente_test_ing/app/src/landing/\n"
     ]
    },
    {
     "data": {
      "text/plain": [
       "('/workspaces/projeto_ing/tests/app/ambiente_test_ing/app/src/landing/',\n",
       " 'teste.txt')"
      ]
     },
     "execution_count": 29,
     "metadata": {},
     "output_type": "execute_result"
    }
   ],
   "source": [
    "carregamento_landing()"
   ]
  },
  {
   "cell_type": "code",
   "execution_count": 37,
   "id": "0314e8bb",
   "metadata": {},
   "outputs": [],
   "source": [
    "def carregamento_landing(path=None, file=None):\n",
    "    import os\n",
    "    import sys\n",
    "    \n",
    "    if path is None:\n",
    "        path = '/workspaces/projeto_ing/tests/app/ambiente_test_ing/app/src/landing/'\n",
    "        print('caminho não informado')\n",
    "        print('utilizando o padrão:')\n",
    "        print(f'{path}')\n",
    "    \n",
    "    read_landing = os.listdir(path)\n",
    "    \n",
    "    for reads in read_landing:\n",
    "        accept = os.path.join(path, reads)\n",
    "        print(f'item encontrado: {accept}')\n",
    "    \n",
    "    return path, file"
   ]
  },
  {
   "cell_type": "code",
   "execution_count": 39,
   "id": "ff75cde6",
   "metadata": {},
   "outputs": [
    {
     "name": "stdout",
     "output_type": "stream",
     "text": [
      "caminho não informado\n",
      "utilizando o padrão:\n",
      "/workspaces/projeto_ing/tests/app/ambiente_test_ing/app/src/landing/\n",
      "item encontrado: /workspaces/projeto_ing/tests/app/ambiente_test_ing/app/src/landing/resultado_teste2_20242306_215405.txt\n",
      "item encontrado: /workspaces/projeto_ing/tests/app/ambiente_test_ing/app/src/landing/resultado_cep_mairiporã_20241014_231311.txt\n"
     ]
    },
    {
     "data": {
      "text/plain": [
       "('/workspaces/projeto_ing/tests/app/ambiente_test_ing/app/src/landing/', None)"
      ]
     },
     "execution_count": 39,
     "metadata": {},
     "output_type": "execute_result"
    }
   ],
   "source": [
    "carregamento_landing()"
   ]
  }
 ],
 "metadata": {
  "kernelspec": {
   "display_name": "Python 3",
   "language": "python",
   "name": "python3"
  },
  "language_info": {
   "codemirror_mode": {
    "name": "ipython",
    "version": 3
   },
   "file_extension": ".py",
   "mimetype": "text/x-python",
   "name": "python",
   "nbconvert_exporter": "python",
   "pygments_lexer": "ipython3",
   "version": "3.10.13"
  }
 },
 "nbformat": 4,
 "nbformat_minor": 5
}
