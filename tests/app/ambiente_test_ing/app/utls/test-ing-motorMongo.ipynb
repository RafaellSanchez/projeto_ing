{
 "cells": [
  {
   "cell_type": "code",
   "execution_count": 3,
   "metadata": {},
   "outputs": [],
   "source": [
    "import sqlite3\n",
    "import os\n",
    "import sys\n",
    "import pandas as pd\n",
    "\n",
    "\n",
    "sys.path.append(os.path.abspath('/workspaces/projeto_ing/utils/shered_utils/'))\n",
    "from sql_conn import conectar_bronze\n",
    "from sql_conn import conectar_mongodb\n",
    "from sql_conn import mensagem\n",
    "from sql_conn import enviar_para_mongodb"
   ]
  },
  {
   "cell_type": "code",
   "execution_count": null,
   "metadata": {},
   "outputs": [],
   "source": [
    "tb_bronze = 'tabela_weather'\n",
    "db_bronze = 'banco_weather.db'"
   ]
  },
  {
   "cell_type": "code",
   "execution_count": null,
   "metadata": {},
   "outputs": [
    {
     "name": "stdout",
     "output_type": "stream",
     "text": [
      "Conectado ao SQLite Bronze: banco_weather.db\n",
      "Tabelas no banco de dados:\n",
      "tabela_weather\n",
      "['cidade', 'pais', 'temperatura', 'temp_max', 'temp_min', 'unidade', 'prob_chuva', 'data', 'latitude', 'longitude', 'tempo']\n",
      "[('Osasco', 'BR', 26.720000000000027, 26.83000000000004, 24.77000000000004, 60, 75, '2025-01-08', -23.5325, -46.7917, 'nublado'), ('Praia Grande', 'BR', 26.640000000000043, 26.640000000000043, 24.950000000000045, 26, 44, '2025-01-08', -24.0058, -46.4028, 'chuva leve'), ('Caieiras', 'BR', 26.650000000000038, 27.840000000000032, 26.650000000000038, 57, 75, '2025-01-08', -23.3642, -46.7406, 'nublado'), ('Rio de Janeiro', 'BR', 28.930000000000007, 29, 27.970000000000027, 70, 40, '2025-01-08', -22.9028, -43.2075, 'nuvens dispersas'), ('São Paulo', 'BR', 26.56, 27.94, 26.200000000000045, 60, 75, '2025-01-08', -23.5475, -46.6361, 'nublado'), ('Atibaia', 'BR', 27.05000000000001, 27.05000000000001, 27.05000000000001, 58, 8, '2025-01-08', -23.131, -46.589, 'céu limpo'), ('Curitiba', 'BR', 22.58000000000004, 23.99000000000001, 21.950000000000045, 71, 75, '2025-01-08', -25.504, -49.2908, 'nublado'), ('Mairiporã', 'BR', 27.99000000000001, 27.99000000000001, 26.81, 54, 75, '2025-01-08', -23.3186, -46.5867, 'nublado'), ('Belo Horizonte', 'BR', 27.44, 27.860000000000014, 27.44, 61, 40, '2025-01-08', -19.9208, -43.9378, 'nuvens dispersas'), ('Bragança Paulista', 'BR', 27.56, 27.56, 27.56, 50, 1, '2025-01-08', -22.94, -46.5556, 'céu limpo'), ('Franco da Rocha', 'BR', 26.879999999999995, 28.06, 26.879999999999995, 59, 11, '2025-01-08', -23.3217, -46.7269, 'algumas nuvens'), ('Barueri', 'BR', 26.860000000000014, 26.970000000000027, 24.910000000000025, 54, 43, '2025-01-08', -23.5106, -46.8761, 'nuvens dispersas'), ('Guarulhos', 'BR', 27.510000000000048, 27.879999999999995, 26.150000000000038, 55, 75, '2025-01-08', -23.4628, -46.5333, 'nublado'), ('Alphaville', 'BR', 31.910000000000025, 31.910000000000025, 31.910000000000025, 45, 75, '2025-01-08', -23.3479, -51.1863, 'nublado'), ('Santos', 'BR', 26.640000000000043, 26.640000000000043, 24.94, 26, 47, '2025-01-08', -23.9608, -46.3336, 'nuvens dispersas'), ('Atibaia', 'BR', 26.480000000000015, 26.480000000000015, 26.480000000000015, 59, 10, '2025-01-08', -23.131, -46.589, 'céu limpo'), ('Franco da Rocha', 'BR', 26.879999999999995, 28.06, 26.879999999999995, 61, 11, '2025-01-08', -23.3217, -46.7269, 'algumas nuvens'), ('Mairiporã', 'BR', 27.99000000000001, 27.99000000000001, 26.81, 54, 75, '2025-01-08', -23.3186, -46.5867, 'nublado'), ('Praia Grande', 'BR', 26.640000000000043, 26.640000000000043, 24.950000000000045, 26, 48, '2025-01-08', -24.0058, -46.4028, 'nuvens dispersas'), ('Belo Horizonte', 'BR', 27.450000000000045, 27.860000000000014, 27.44, 62, 40, '2025-01-08', -19.9208, -43.9378, 'nuvens dispersas'), ('Osasco', 'BR', 26.720000000000027, 26.83000000000004, 24.77000000000004, 60, 75, '2025-01-08', -23.5325, -46.7917, 'nublado'), ('Caieiras', 'BR', 26.650000000000038, 27.840000000000032, 26.650000000000038, 57, 75, '2025-01-08', -23.3642, -46.7406, 'nublado'), ('Guarulhos', 'BR', 27.510000000000048, 27.879999999999995, 26.150000000000038, 55, 75, '2025-01-08', -23.4628, -46.5333, 'nublado'), ('Santos', 'BR', 26.640000000000043, 26.640000000000043, 24.94, 26, 50, '2025-01-08', -23.9608, -46.3336, 'nuvens dispersas'), ('São Paulo', 'BR', 26.56, 27.94, 26.200000000000045, 60, 75, '2025-01-08', -23.5475, -46.6361, 'nublado'), ('Bragança Paulista', 'BR', 26.970000000000027, 26.970000000000027, 26.970000000000027, 53, 11, '2025-01-08', -22.94, -46.5556, 'algumas nuvens'), ('Alphaville', 'BR', 31.910000000000025, 31.910000000000025, 31.910000000000025, 45, 75, '2025-01-08', -23.3479, -51.1863, 'nublado'), ('Curitiba', 'BR', 22.56, 23.140000000000043, 21.950000000000045, 72, 75, '2025-01-08', -25.504, -49.2908, 'nublado'), ('Rio de Janeiro', 'BR', 28.96000000000004, 29, 27.970000000000027, 67, 40, '2025-01-08', -22.9028, -43.2075, 'chuva leve'), ('Barueri', 'BR', 26.860000000000014, 26.970000000000027, 24.910000000000025, 59, 37, '2025-01-08', -23.5106, -46.8761, 'nuvens dispersas')]\n"
     ]
    }
   ],
   "source": [
    "db_sqlite = db_bronze\n",
    "tabela = tb_bronze\n",
    "\n",
    "conn, cursor, caminho_bronze, consulta, colunas, query = conectar_bronze(db_sqlite, tabela)\n",
    "print(colunas)\n",
    "\n",
    "print(consulta)"
   ]
  },
  {
   "cell_type": "code",
   "execution_count": null,
   "metadata": {},
   "outputs": [],
   "source": []
  }
 ],
 "metadata": {
  "kernelspec": {
   "display_name": "Python 3",
   "language": "python",
   "name": "python3"
  },
  "language_info": {
   "codemirror_mode": {
    "name": "ipython",
    "version": 3
   },
   "file_extension": ".py",
   "mimetype": "text/x-python",
   "name": "python",
   "nbconvert_exporter": "python",
   "pygments_lexer": "ipython3",
   "version": "3.10.13"
  }
 },
 "nbformat": 4,
 "nbformat_minor": 2
}
