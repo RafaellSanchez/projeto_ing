{
 "cells": [
  {
   "cell_type": "code",
   "execution_count": 1,
   "metadata": {},
   "outputs": [],
   "source": [
    "import sqlite3"
   ]
  },
  {
   "cell_type": "code",
   "execution_count": 2,
   "metadata": {},
   "outputs": [],
   "source": [
    "banco = '/workspaces/projeto_ing/database/sqlite/silver/modelos_car.db'\n",
    "conn = sqlite3.connect(banco)\n",
    "cursor = conn.cursor()"
   ]
  },
  {
   "cell_type": "code",
   "execution_count": 3,
   "metadata": {},
   "outputs": [],
   "source": [
    "create_silver = '''\n",
    "create table if not exists tb_slvr_marcas(\n",
    "    codigo INTEGER, -- codigo da marca do carro\n",
    "    modelo STRING, -- modelo do marca do carro\n",
    "    dtIgtao DATE  -- Data de ingestão dos dados \n",
    ");\n",
    "'''"
   ]
  },
  {
   "cell_type": "code",
   "execution_count": 4,
   "metadata": {},
   "outputs": [],
   "source": [
    "cursor.execute(create_silver)\n",
    "conn.commit()"
   ]
  },
  {
   "cell_type": "code",
   "execution_count": 5,
   "metadata": {},
   "outputs": [
    {
     "name": "stdout",
     "output_type": "stream",
     "text": [
      "Tabelas no banco de dados:\n",
      "tb_slvr_marcas\n"
     ]
    }
   ],
   "source": [
    "banco = '/workspaces/projeto_ing/database/sqlite/silver/modelos_car.db'\n",
    "conn = sqlite3.connect(banco)\n",
    "cursor = conn.cursor()\n",
    "\n",
    "# Consulta SQL para listar todas as tabelas no banco de dados\n",
    "show_tables_query = \"SELECT name FROM sqlite_master WHERE type='table';\"\n",
    "cursor.execute(show_tables_query)\n",
    "\n",
    "# Recuperar o resultado da consulta e imprimir as tabelas\n",
    "tables = cursor.fetchall()\n",
    "print(\"Tabelas no banco de dados:\")\n",
    "for table in tables:\n",
    "    print(table[0])\n",
    "\n",
    "# Fechar a conexão\n",
    "conn.close()"
   ]
  },
  {
   "cell_type": "code",
   "execution_count": null,
   "metadata": {},
   "outputs": [],
   "source": [
    "# drop_table = 'drop table tb_slvr_marcas'\n",
    "# cursor.execute(drop_table)\n",
    "# conn.commit()\n",
    "# conn.close()"
   ]
  }
 ],
 "metadata": {
  "kernelspec": {
   "display_name": "Python 3",
   "language": "python",
   "name": "python3"
  },
  "language_info": {
   "codemirror_mode": {
    "name": "ipython",
    "version": 3
   },
   "file_extension": ".py",
   "mimetype": "text/x-python",
   "name": "python",
   "nbconvert_exporter": "python",
   "pygments_lexer": "ipython3",
   "version": "3.10.13"
  }
 },
 "nbformat": 4,
 "nbformat_minor": 2
}
