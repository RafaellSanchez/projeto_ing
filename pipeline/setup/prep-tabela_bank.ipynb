{
 "cells": [
  {
   "cell_type": "code",
   "execution_count": 1,
   "metadata": {},
   "outputs": [],
   "source": [
    "import sqlite3"
   ]
  },
  {
   "cell_type": "code",
   "execution_count": 4,
   "metadata": {},
   "outputs": [],
   "source": [
    "banco = '/workspaces/projeto_ing/database/sqlite/silver/bank.db'\n",
    "conn = sqlite3.connect(banco)\n",
    "cursor = conn.cursor()"
   ]
  },
  {
   "cell_type": "code",
   "execution_count": null,
   "metadata": {},
   "outputs": [],
   "source": [
    "nome;cnpj;contrato_nome;contrato_cnpj;corporacao;grupo;isUnderestablishment;cnpjnumber;ender;enderIdentInfo;districtName;townName;ibgeCode;postCode;country;countryCode;latitude;longitude;semana;open;close;tipoTelefone;codigoPais;codigoArea;numeroTelefone"
   ]
  },
  {
   "cell_type": "code",
   "execution_count": 6,
   "metadata": {},
   "outputs": [],
   "source": [
    "create_silver = ''' \n",
    "create table if not exists tb_slvr_bank(\n",
    "    nome TEXT, -- nome bank\n",
    "    cnpj INTEGER, -- cnpj bank\n",
    "    contrato_nome TEXT, -- contrato bank\n",
    "    contrato_cnpj INTEGER, -- contrato cnpj\n",
    "    corporacao TEXT, -- nome corporacao\n",
    "    grupo TEXT, -- nome do grupo\n",
    "    endereco TEXT, -- nome endereco\n",
    "    numero_cnpj INTEGER, -- numero cnpj cli\n",
    "    ender TEXT, -- endereco\n",
    "    ender_info TEXT, -- endereco info\n",
    "    distrito TEXT, -- nome do distrito\n",
    "    cidade TEXT, -- nome da cidade\n",
    "    ibge TEXT, -- codigo do ibge\n",
    "    codigo_postal TEXT, -- codigo postal\n",
    "    pais TEXT, -- pais \n",
    "    codigo_pais TEXT, -- codigo do pais\n",
    "    latitude INTEGER, -- latitude do bank\n",
    "    longitude INTEGER, -- longitude do bank\n",
    "    semana TEXT, -- semana abertura bank\n",
    "    aberto TEXT, -- informacao de abertura bank\n",
    "    fechado TEXT, -- informacao de fechado bank\n",
    "    tipo_telefone TEXT, -- tipo de telefone\n",
    "    code_pais INTEGER, -- code pais\n",
    "    codigo_area INTEGER, -- codigo area\n",
    "    numero_telefone INTEGER, -- numero do telefone bank\n",
    "    dtIgtao DATE -- DATA INGESTAO\n",
    "    \n",
    ");\n",
    "'''\n",
    "\n",
    "cursor.execute(create_silver)\n",
    "conn.commit()"
   ]
  },
  {
   "cell_type": "code",
   "execution_count": 7,
   "metadata": {},
   "outputs": [
    {
     "name": "stdout",
     "output_type": "stream",
     "text": [
      "Tabelas no banco de dados:\n",
      "tb_slvr_bank\n"
     ]
    }
   ],
   "source": [
    "import sqlite3\n",
    "banco = '/workspaces/projeto_ing/database/sqlite/silver/bank.db'\n",
    "conn = sqlite3.connect(banco)\n",
    "cursor = conn.cursor()\n",
    "\n",
    "# Consulta SQL para listar todas as tabelas no banco de dados\n",
    "show_tables_query = \"SELECT name FROM sqlite_master WHERE type='table';\"\n",
    "cursor.execute(show_tables_query)\n",
    "\n",
    "# Recuperar o resultado da consulta e imprimir as tabelas\n",
    "tables = cursor.fetchall()\n",
    "print(\"Tabelas no banco de dados:\")\n",
    "for table in tables:\n",
    "    print(table[0])\n",
    "\n",
    "conn.close()"
   ]
  }
 ],
 "metadata": {
  "kernelspec": {
   "display_name": "Python 3",
   "language": "python",
   "name": "python3"
  },
  "language_info": {
   "codemirror_mode": {
    "name": "ipython",
    "version": 3
   },
   "file_extension": ".py",
   "mimetype": "text/x-python",
   "name": "python",
   "nbconvert_exporter": "python",
   "pygments_lexer": "ipython3",
   "version": "3.10.13"
  }
 },
 "nbformat": 4,
 "nbformat_minor": 2
}
