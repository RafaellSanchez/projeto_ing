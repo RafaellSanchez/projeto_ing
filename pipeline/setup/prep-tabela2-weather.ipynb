{
 "cells": [
  {
   "cell_type": "code",
   "execution_count": 1,
   "metadata": {},
   "outputs": [],
   "source": [
    "import sqlite3"
   ]
  },
  {
   "cell_type": "code",
   "execution_count": null,
   "metadata": {},
   "outputs": [
    {
     "ename": "AttributeError",
     "evalue": "'builtin_function_or_method' object has no attribute 'execute'",
     "output_type": "error",
     "traceback": [
      "\u001b[0;31m---------------------------------------------------------------------------\u001b[0m",
      "\u001b[0;31mAttributeError\u001b[0m                            Traceback (most recent call last)",
      "Cell \u001b[0;32mIn[4], line 23\u001b[0m\n\u001b[1;32m      3\u001b[0m curso \u001b[38;5;241m=\u001b[39m conn\u001b[38;5;241m.\u001b[39mcursor\n\u001b[1;32m      5\u001b[0m create_silver \u001b[38;5;241m=\u001b[39m \u001b[38;5;124m'''\u001b[39m\n\u001b[1;32m      6\u001b[0m \n\u001b[1;32m      7\u001b[0m \u001b[38;5;124mcreate table if not exists tb_slvr_weather (\u001b[39m\n\u001b[0;32m   (...)\u001b[0m\n\u001b[1;32m     20\u001b[0m \u001b[38;5;124m)\u001b[39m\n\u001b[1;32m     21\u001b[0m \u001b[38;5;124m'''\u001b[39m\n\u001b[0;32m---> 23\u001b[0m \u001b[43mcurso\u001b[49m\u001b[38;5;241;43m.\u001b[39;49m\u001b[43mexecute\u001b[49m(create_silver)\n\u001b[1;32m     24\u001b[0m conn\u001b[38;5;241m.\u001b[39mcommit()\n",
      "\u001b[0;31mAttributeError\u001b[0m: 'builtin_function_or_method' object has no attribute 'execute'"
     ]
    }
   ],
   "source": [
    "banco = '/workspaces/projeto_ing/database/sqlite/silver/weather.db'\n",
    "conn = sqlite3.connect(banco)\n",
    "cursor = conn.cursor\n",
    "\n",
    "create_silver = '''\n",
    "\n",
    "create table if not exists tb_slvr_weather (\n",
    "  cidade TEXT,\n",
    "  pais TEXT,\n",
    "  temperatura FLOAT(4,2),\n",
    "  temp_max FLOAT(4,2),\n",
    "  temp_min FLOAT(4,2),\n",
    "  unidade INTEGER,\n",
    "  prob_chuva INTEGER,\n",
    "  data DATE,\n",
    "  latitude DECIMAL(10,8),\n",
    "  longitude DECIMAL(10,8),\n",
    "  tempo TEXT,\n",
    "  dt_igtao DATE\n",
    ")\n",
    "'''\n",
    "\n",
    "cursor.execute(create_silver)\n",
    "conn.commit()"
   ]
  }
 ],
 "metadata": {
  "kernelspec": {
   "display_name": "Python 3",
   "language": "python",
   "name": "python3"
  },
  "language_info": {
   "codemirror_mode": {
    "name": "ipython",
    "version": 3
   },
   "file_extension": ".py",
   "mimetype": "text/x-python",
   "name": "python",
   "nbconvert_exporter": "python",
   "pygments_lexer": "ipython3",
   "version": "3.10.13"
  }
 },
 "nbformat": 4,
 "nbformat_minor": 2
}
