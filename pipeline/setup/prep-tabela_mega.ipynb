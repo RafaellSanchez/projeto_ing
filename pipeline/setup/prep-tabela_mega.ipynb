{
 "cells": [
  {
   "cell_type": "code",
   "execution_count": 10,
   "metadata": {},
   "outputs": [],
   "source": [
    "import sqlite3"
   ]
  },
  {
   "cell_type": "code",
   "execution_count": 11,
   "metadata": {},
   "outputs": [],
   "source": [
    "banco = '/workspaces/projeto_ing/database/sqlite/silver/mega.db'\n",
    "conn = sqlite3.connect(banco)\n",
    "cursor = conn.cursor()"
   ]
  },
  {
   "cell_type": "code",
   "execution_count": 12,
   "metadata": {},
   "outputs": [],
   "source": [
    "create_silver = '''\n",
    "-- Criar a nova tabela tb_slvr_cep para armazenar dados normalizados\n",
    "create table if not exists tb_slvr_mega (\n",
    "    concurso INTEGER, -- concurso mega\n",
    "    data_sorteio DATE, -- data sorteio mega\n",
    "    bola1 INTEGER, -- bola um mega \n",
    "    bola2 INTEGER, -- bola dois mega \n",
    "    bola3 INTEGER, -- bola tres mega \n",
    "    bola4 INTEGER, -- bola quatro mega \n",
    "    bola5 INTEGER, -- bola cinco mega \n",
    "    bola6 INTEGER, -- bola seis mega \n",
    "    ganhadores6_acertos INTEGER, -- ganhadores seis acertos \n",
    "    cidade_uf TEXT, -- cidade uf  \n",
    "    rateio6 INTEGER, -- rateio 6 mega \n",
    "    ganhadores5_acertos INTEGER, -- ganhadores cinco acertos\n",
    "    rateio5 INTEGER, -- rateio cinco mega \n",
    "    ganhadores4_acertos INTEGER, -- ganhadores quatro acertos \n",
    "    rateio4 INTEGER, -- rateio quatro mega\n",
    "    acumulado6_acertos INTEGER, -- acumulado seis acertos mega \n",
    "    arrecadacao_total INTEGER, -- arrecadacao total mega\n",
    "    estimativa_premio INTEGER, -- estimativa de premio mega\n",
    "    acumulado_mega_virada INTEGER, -- acumulado virada mega\n",
    "    observacao TEXT, -- observacao mega\n",
    "    dt_igtao DATE  -- Data de ingestão dos dados\n",
    ");\n",
    "\n",
    "'''"
   ]
  },
  {
   "cell_type": "code",
   "execution_count": 13,
   "metadata": {},
   "outputs": [],
   "source": [
    "cursor.execute(create_silver)\n",
    "conn.commit()"
   ]
  },
  {
   "cell_type": "code",
   "execution_count": 14,
   "metadata": {},
   "outputs": [
    {
     "name": "stdout",
     "output_type": "stream",
     "text": [
      "Tabelas no banco de dados:\n",
      "tb_slvr_mega\n"
     ]
    }
   ],
   "source": [
    "import sqlite3\n",
    "banco = '/workspaces/projeto_ing/database/sqlite/silver/mega.db'\n",
    "conn = sqlite3.connect(banco)\n",
    "cursor = conn.cursor()\n",
    "\n",
    "# Consulta SQL para listar todas as tabelas no banco de dados\n",
    "show_tables_query = \"SELECT name FROM sqlite_master WHERE type='table';\"\n",
    "cursor.execute(show_tables_query)\n",
    "\n",
    "# Recuperar o resultado da consulta e imprimir as tabelas\n",
    "tables = cursor.fetchall()\n",
    "print(\"Tabelas no banco de dados:\")\n",
    "for table in tables:\n",
    "    print(table[0])\n",
    "\n",
    "# Fechar a conexão\n",
    "conn.close()"
   ]
  }
 ],
 "metadata": {
  "kernelspec": {
   "display_name": "Python 3",
   "language": "python",
   "name": "python3"
  },
  "language_info": {
   "codemirror_mode": {
    "name": "ipython",
    "version": 3
   },
   "file_extension": ".py",
   "mimetype": "text/x-python",
   "name": "python",
   "nbconvert_exporter": "python",
   "pygments_lexer": "ipython3",
   "version": "3.10.13"
  }
 },
 "nbformat": 4,
 "nbformat_minor": 2
}
