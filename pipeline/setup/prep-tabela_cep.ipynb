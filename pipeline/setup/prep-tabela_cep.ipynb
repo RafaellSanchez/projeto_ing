{
 "cells": [
  {
   "cell_type": "code",
   "execution_count": 1,
   "metadata": {},
   "outputs": [],
   "source": [
    "import sqlite3"
   ]
  },
  {
   "cell_type": "code",
   "execution_count": 2,
   "metadata": {},
   "outputs": [],
   "source": [
    "banco = '/workspaces/projeto_ing/database/sqlite/silver/localizacao.db'\n",
    "conn = sqlite3.connect(banco)\n",
    "cursor = conn.cursor()"
   ]
  },
  {
   "cell_type": "code",
   "execution_count": 3,
   "metadata": {},
   "outputs": [],
   "source": [
    "create_silver = '''\n",
    "-- Criar a nova tabela tb_slvr_cep para armazenar dados normalizados\n",
    "create table if not exists tb_slvr_cep (\n",
    "    cep TEXT, -- Cep de localizacao\n",
    "    logradouro TEXT, -- Endereco logradouro\n",
    "    bairro TEXT, -- Endereco bairro\n",
    "    localidade TEXT, -- Localizacao endereco\n",
    "    uf TEXT, -- uf estado\n",
    "    ibge INTEGER, -- informacao numericas do ibge\n",
    "    gia INTEGER, -- informacao numerica do gia\n",
    "    ddd INTEGER, -- informacao do ddd da cidade\n",
    "    siafi INTEGER, -- informacao do siafi do estado\n",
    "    dtIgtao DATE  -- Data de ingestão dos dados\n",
    ");\n",
    "\n",
    "'''"
   ]
  },
  {
   "cell_type": "code",
   "execution_count": 4,
   "metadata": {},
   "outputs": [],
   "source": [
    "cursor.execute(create_silver)\n",
    "conn.commit()"
   ]
  },
  {
   "cell_type": "code",
   "execution_count": 2,
   "metadata": {},
   "outputs": [
    {
     "name": "stdout",
     "output_type": "stream",
     "text": [
      "Tabelas no banco de dados:\n",
      "tb_slvr_cep\n",
      "tb_slvr_geo\n"
     ]
    }
   ],
   "source": [
    "import sqlite3\n",
    "banco = '/workspaces/projeto_ing/database/sqlite/silver/localizacao.db'\n",
    "conn = sqlite3.connect(banco)\n",
    "cursor = conn.cursor()\n",
    "\n",
    "# Consulta SQL para listar todas as tabelas no banco de dados\n",
    "show_tables_query = \"SELECT name FROM sqlite_master WHERE type='table';\"\n",
    "cursor.execute(show_tables_query)\n",
    "\n",
    "# Recuperar o resultado da consulta e imprimir as tabelas\n",
    "tables = cursor.fetchall()\n",
    "print(\"Tabelas no banco de dados:\")\n",
    "for table in tables:\n",
    "    print(table[0])\n",
    "\n",
    "# Fechar a conexão\n",
    "conn.close()"
   ]
  }
 ],
 "metadata": {
  "kernelspec": {
   "display_name": "Python 3",
   "language": "python",
   "name": "python3"
  },
  "language_info": {
   "codemirror_mode": {
    "name": "ipython",
    "version": 3
   },
   "file_extension": ".py",
   "mimetype": "text/x-python",
   "name": "python",
   "nbconvert_exporter": "python",
   "pygments_lexer": "ipython3",
   "version": "3.10.13"
  }
 },
 "nbformat": 4,
 "nbformat_minor": 2
}
