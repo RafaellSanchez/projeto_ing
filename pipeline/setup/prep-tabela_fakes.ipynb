{
 "cells": [
  {
   "cell_type": "code",
   "execution_count": 20,
   "metadata": {},
   "outputs": [],
   "source": [
    "import sqlite3"
   ]
  },
  {
   "cell_type": "code",
   "execution_count": 16,
   "metadata": {},
   "outputs": [],
   "source": [
    "banco = '/workspaces/projeto_ing/database/sqlite/silver/fakes.db'\n",
    "conn = sqlite3.connect(banco)\n",
    "cursor = conn.cursor()"
   ]
  },
  {
   "cell_type": "code",
   "execution_count": 17,
   "metadata": {},
   "outputs": [],
   "source": [
    "create_silver = '''\n",
    "-- Criar a nova tabela tb_slvr_cep para armazenar dados normalizados\n",
    "create table if not exists tb_slvr_fake (\n",
    "    nome TEXT, -- nome fakes\n",
    "    cpf INTEGER, -- cpf fake\n",
    "    email TEXT, -- email fake\n",
    "    endereco TEXT, -- endereco fake\n",
    "    bairro TEXT, -- bairro fake\n",
    "    estado TEXT, -- estado uf fake\n",
    "    estado_nome TEXT, -- estado nome fake\n",
    "    uf TEXT, -- uf fake\n",
    "    telefone TEXT, -- telefone fake\n",
    "    pais TEXT, -- pais fake\n",
    "    code TEXT, -- code fake\n",
    "    cartao_cred TEXT, -- cartao credito fake\n",
    "    numero_cartao INTEGER, -- numero cartao fake\n",
    "    expr_cartao TEXT, -- expiracao cartao credito fake\n",
    "    cvv_cred INTEGER, -- cvv cartao credito fake\n",
    "    data DATE, -- data fake\n",
    "    data_hora TIMESTAMP, -- data hora fake\n",
    "    dt_igtao DATE  -- Data de ingestão dos dados\n",
    ");\n",
    "\n",
    "'''"
   ]
  },
  {
   "cell_type": "code",
   "execution_count": 18,
   "metadata": {},
   "outputs": [],
   "source": [
    "cursor.execute(create_silver)\n",
    "conn.commit()"
   ]
  },
  {
   "cell_type": "code",
   "execution_count": 19,
   "metadata": {},
   "outputs": [
    {
     "name": "stdout",
     "output_type": "stream",
     "text": [
      "Tabelas no banco de dados:\n",
      "tb_slvr_fake\n"
     ]
    }
   ],
   "source": [
    "import sqlite3\n",
    "banco = '/workspaces/projeto_ing/database/sqlite/silver/fakes.db'\n",
    "conn = sqlite3.connect(banco)\n",
    "cursor = conn.cursor()\n",
    "\n",
    "# Consulta SQL para listar todas as tabelas no banco de dados\n",
    "show_tables_query = \"SELECT name FROM sqlite_master WHERE type='table';\"\n",
    "cursor.execute(show_tables_query)\n",
    "\n",
    "# Recuperar o resultado da consulta e imprimir as tabelas\n",
    "tables = cursor.fetchall()\n",
    "print(\"Tabelas no banco de dados:\")\n",
    "for table in tables:\n",
    "    print(table[0])\n",
    "\n",
    "# Fechar a conexão\n",
    "conn.close()"
   ]
  },
  {
   "cell_type": "code",
   "execution_count": null,
   "metadata": {},
   "outputs": [],
   "source": [
    "# banco = '/workspaces/projeto_ing/database/sqlite/bronze/banco_fakes.db'\n",
    "# conn = sqlite3.connect(banco)\n",
    "# cursor = conn.cursor()\n",
    "\n",
    "# drop = 'drop table tabela_fakes'\n",
    "# conn.execute(drop)\n",
    "# conn.commit()\n",
    "# conn.close()"
   ]
  }
 ],
 "metadata": {
  "kernelspec": {
   "display_name": "Python 3",
   "language": "python",
   "name": "python3"
  },
  "language_info": {
   "codemirror_mode": {
    "name": "ipython",
    "version": 3
   },
   "file_extension": ".py",
   "mimetype": "text/x-python",
   "name": "python",
   "nbconvert_exporter": "python",
   "pygments_lexer": "ipython3",
   "version": "3.10.13"
  }
 },
 "nbformat": 4,
 "nbformat_minor": 2
}
