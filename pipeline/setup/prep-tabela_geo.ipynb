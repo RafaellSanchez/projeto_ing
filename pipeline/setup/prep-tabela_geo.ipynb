{
 "cells": [
  {
   "cell_type": "code",
   "execution_count": 1,
   "metadata": {},
   "outputs": [],
   "source": [
    "import sqlite3"
   ]
  },
  {
   "cell_type": "code",
   "execution_count": 2,
   "metadata": {},
   "outputs": [],
   "source": [
    "banco = '/workspaces/projeto_ing/database/sqlite/silver/localizacao.db'\n",
    "conn = sqlite3.connect(banco)\n",
    "cursor = conn.cursor()\n"
   ]
  },
  {
   "cell_type": "code",
   "execution_count": 3,
   "metadata": {},
   "outputs": [],
   "source": [
    "create_silver = '''\n",
    "-- Criar a nova tabela slvr_geo para armazenar dados normalizados\n",
    "CREATE TABLE IF NOT EXISTS tb_slvr_geo (\n",
    "    uuid TEXT,  -- Identificador único para cada registro\n",
    "    id INTEGER,  -- ID único para cada registro\n",
    "    nome TEXT,  -- Nome do distrito\n",
    "    idMunicipio INTEGER,  -- ID do município associado ao distrito\n",
    "    nomeMunicipio TEXT,  -- Nome do município associado ao distrito\n",
    "    idMacro INTEGER,  -- ID da macroregião associada ao município\n",
    "    nomeMacroMunicipio TEXT,  -- Nome da macroregião associada ao município\n",
    "    idUf INTEGER,  -- ID do estado associado ao município\n",
    "    estado TEXT,  -- Nome do estado associado ao município\n",
    "    siglaUf TEXT,  -- Sigla do estado associado ao município\n",
    "    idRegiao INTEGER,  -- ID da região associada ao estado\n",
    "    regiao TEXT,  -- Nome da região associada ao estado\n",
    "    siglaRegiao TEXT,  -- Sigla da região associada ao estado\n",
    "    dtIgtao DATE  -- Data de ingestão dos dados\n",
    ");\n",
    "'''"
   ]
  },
  {
   "cell_type": "code",
   "execution_count": 4,
   "metadata": {},
   "outputs": [],
   "source": [
    "cursor.execute(create_silver)\n",
    "conn.commit()"
   ]
  },
  {
   "cell_type": "code",
   "execution_count": 5,
   "metadata": {},
   "outputs": [
    {
     "name": "stdout",
     "output_type": "stream",
     "text": [
      "Tabelas no banco de dados:\n",
      "tb_slvr_geo\n"
     ]
    }
   ],
   "source": [
    "banco = '/workspaces/projeto_ing/database/sqlite/silver/localizacao.db'\n",
    "conn = sqlite3.connect(banco)\n",
    "cursor = conn.cursor()\n",
    "\n",
    "# Consulta SQL para listar todas as tabelas no banco de dados\n",
    "show_tables_query = \"SELECT name FROM sqlite_master WHERE type='table';\"\n",
    "cursor.execute(show_tables_query)\n",
    "\n",
    "# Recuperar o resultado da consulta e imprimir as tabelas\n",
    "tables = cursor.fetchall()\n",
    "print(\"Tabelas no banco de dados:\")\n",
    "for table in tables:\n",
    "    print(table[0])\n",
    "\n",
    "# Fechar a conexão\n",
    "conn.close()"
   ]
  }
 ],
 "metadata": {
  "kernelspec": {
   "display_name": "Python 3",
   "language": "python",
   "name": "python3"
  },
  "language_info": {
   "codemirror_mode": {
    "name": "ipython",
    "version": 3
   },
   "file_extension": ".py",
   "mimetype": "text/x-python",
   "name": "python",
   "nbconvert_exporter": "python",
   "pygments_lexer": "ipython3",
   "version": "3.10.13"
  }
 },
 "nbformat": 4,
 "nbformat_minor": 2
}
