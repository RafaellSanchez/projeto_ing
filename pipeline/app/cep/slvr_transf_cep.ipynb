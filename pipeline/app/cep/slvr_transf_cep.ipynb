{
 "cells": [
  {
   "cell_type": "code",
   "execution_count": 1,
   "metadata": {},
   "outputs": [],
   "source": [
    "import pandas as pd \n",
    "import sqlite3"
   ]
  },
  {
   "cell_type": "code",
   "execution_count": null,
   "metadata": {},
   "outputs": [
    {
     "name": "stdout",
     "output_type": "stream",
     "text": [
      "           cep                         logradouro                      bairro  \\\n",
      "0    07613-580                      Rua Mairiporã                 Mantiqueira   \n",
      "1    07605-180      Rua Acácias - Jd Mairipora II                  Rio abaixo   \n",
      "2    07629-460      Praça Lions Club de Mairiporã                  Capoavinha   \n",
      "3    07600-026     Praça Rotary Club de Mairiporã                      Centro   \n",
      "4    07605-215  Alameda Tulipas - Jd Mairipora II                  Rio abaixo   \n",
      "..         ...                                ...                         ...   \n",
      "565  07664-083                Avenida das Tulipas  Jundiaizinho (Terra Preta)   \n",
      "566  07629-004                Avenida Neli Ladeia                  Capoavinha   \n",
      "567  07619-224                Avenida dos Angicos                     Roseira   \n",
      "568  07619-460               Avenida das Caviunas                     Roseira   \n",
      "569  07611-015               Avenida Serra Morena                    Barreiro   \n",
      "\n",
      "    localidade  uf     ibge   gia  ddd  siafi  \n",
      "0    Mairiporã  SP  3528502  4339   11   6671  \n",
      "1    Mairiporã  SP  3528502  4339   11   6671  \n",
      "2    Mairiporã  SP  3528502  4339   11   6671  \n",
      "3    Mairiporã  SP  3528502  4339   11   6671  \n",
      "4    Mairiporã  SP  3528502  4339   11   6671  \n",
      "..         ...  ..      ...   ...  ...    ...  \n",
      "565  Mairiporã  SP  3528502  4339   11   6671  \n",
      "566  Mairiporã  SP  3528502  4339   11   6671  \n",
      "567  Mairiporã  SP  3528502  4339   11   6671  \n",
      "568  Mairiporã  SP  3528502  4339   11   6671  \n",
      "569  Mairiporã  SP  3528502  4339   11   6671  \n",
      "\n",
      "[570 rows x 9 columns]\n"
     ]
    }
   ],
   "source": [
    "bronze = '/workspaces/projeto_ing/database/sqlite/bronze/banco_cep.db'\n",
    "conn_bronze = sqlite3.connect(bronze)\n",
    "query_bronze = 'SELECT * FROM tabela_cep'\n",
    "df_geo_brnz = pd.read_sql_query(query_bronze, conn_bronze)\n",
    "print(df_geo_brnz)\n",
    "conn_bronze.close()"
   ]
  }
 ],
 "metadata": {
  "kernelspec": {
   "display_name": "Python 3",
   "language": "python",
   "name": "python3"
  },
  "language_info": {
   "codemirror_mode": {
    "name": "ipython",
    "version": 3
   },
   "file_extension": ".py",
   "mimetype": "text/x-python",
   "name": "python",
   "nbconvert_exporter": "python",
   "pygments_lexer": "ipython3",
   "version": "3.10.13"
  }
 },
 "nbformat": 4,
 "nbformat_minor": 2
}
