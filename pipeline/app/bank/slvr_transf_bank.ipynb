{
 "cells": [
  {
   "cell_type": "code",
   "execution_count": 2,
   "metadata": {},
   "outputs": [],
   "source": [
    "import sqlite3\n",
    "import pandas as pd"
   ]
  },
  {
   "cell_type": "code",
   "execution_count": null,
   "metadata": {},
   "outputs": [
    {
     "name": "stdout",
     "output_type": "stream",
     "text": [
      "    id                 nome  cnpj                   contrato_nome  \\\n",
      "0    0  Banco do Brasil S/A   191  PATRIMONIUS PARTICIPACOES LTDA   \n",
      "1    1  Banco do Brasil S/A   191         POTENCIAL LOTERIAS LTDA   \n",
      "2    2  Banco do Brasil S/A   191         POTENCIAL LOTERIAS LTDA   \n",
      "3    3  Banco do Brasil S/A   191         POTENCIAL LOTERIAS LTDA   \n",
      "4    4  Banco do Brasil S/A   191         POTENCIAL LOTERIAS LTDA   \n",
      "..  ..                  ...   ...                             ...   \n",
      "63  63  Banco do Brasil S/A   191         POTENCIAL LOTERIAS LTDA   \n",
      "64  64  Banco do Brasil S/A   191         POTENCIAL LOTERIAS LTDA   \n",
      "65  65  Banco do Brasil S/A   191         POTENCIAL LOTERIAS LTDA   \n",
      "66  66  Banco do Brasil S/A   191         POTENCIAL LOTERIAS LTDA   \n",
      "67  67  Banco do Brasil S/A   191         POTENCIAL LOTERIAS LTDA   \n",
      "\n",
      "    contrato_cnpj                    icorporacaod  \\\n",
      "0   7784103000139  PATRIMONIUS PARTICIPACOES LTDA   \n",
      "1   8191494000140         POTENCIAL LOTERIAS LTDA   \n",
      "2   8191494000140         POTENCIAL LOTERIAS LTDA   \n",
      "3   8191494000140         POTENCIAL LOTERIAS LTDA   \n",
      "4   8191494000140         POTENCIAL LOTERIAS LTDA   \n",
      "..            ...                             ...   \n",
      "63  8191494000140         POTENCIAL LOTERIAS LTDA   \n",
      "64  8191494000140         POTENCIAL LOTERIAS LTDA   \n",
      "65  8191494000140         POTENCIAL LOTERIAS LTDA   \n",
      "66  8191494000140         POTENCIAL LOTERIAS LTDA   \n",
      "67  8191494000140         POTENCIAL LOTERIAS LTDA   \n",
      "\n",
      "                             grupo  isUnderestablishment     cnpjnumber  \\\n",
      "0   PATRIMONIUS PARTICIPACOES LTDA                     0  7784103000139   \n",
      "1          POTENCIAL LOTERIAS LTDA                     0  8191494000140   \n",
      "2          POTENCIAL LOTERIAS LTDA                     0  8191494000140   \n",
      "3          POTENCIAL LOTERIAS LTDA                     0  8191494000140   \n",
      "4          POTENCIAL LOTERIAS LTDA                     0  8191494000140   \n",
      "..                             ...                   ...            ...   \n",
      "63         POTENCIAL LOTERIAS LTDA                     0  8191494000140   \n",
      "64         POTENCIAL LOTERIAS LTDA                     0  8191494000140   \n",
      "65         POTENCIAL LOTERIAS LTDA                     0  8191494000140   \n",
      "66         POTENCIAL LOTERIAS LTDA                     0  8191494000140   \n",
      "67         POTENCIAL LOTERIAS LTDA                     0  8191494000140   \n",
      "\n",
      "                                                ender  ... countryCode  \\\n",
      "0                  RUA EPAMINONDAS OTONI 774 - CENTRO  ...         BRA   \n",
      "1               AVENIDA  OITO N: 50 CARREIRA COMPRIDA  ...         BRA   \n",
      "2                             RUA DO CARMO 450 LOJA B  ...         BRA   \n",
      "3                       RUA RUA TIRADENTES 271 LOJA A  ...         BRA   \n",
      "4                    RUA COMENDADOR ANTONIO ALVES 457  ...         BRA   \n",
      "..                                                ...  ...         ...   \n",
      "63                AVENIDA AVENIDA URUCARA 1180-LOJA 2  ...         BRA   \n",
      "64                     RUA RUA 101 QUADRA 139 LOTE 01  ...         BRA   \n",
      "65  SCRN 706/707 SETOR COMERCIAL  CENTRAL BLOCO 5 ...  ...         BRA   \n",
      "66                         RUA RUA CANDIDO MENDES 623  ...         BRA   \n",
      "67                                    AV CAFETEIRA 29  ...         BRA   \n",
      "\n",
      "     latitude  longitude       semana       open      close tipoTelefone  \\\n",
      "0    0.000000   0.000000  SEXTA_FEIRA  11:00:00Z  21:00:00Z         FIXO   \n",
      "1  -19.754296 -43.883176  SEXTA_FEIRA  11:00:00Z  20:00:00Z         FIXO   \n",
      "2  -19.766706 -43.861555  SEXTA_FEIRA  11:00:00Z  21:00:00Z         FIXO   \n",
      "3  -19.620808 -43.225753  SEXTA_FEIRA  11:00:00Z  21:00:00Z         FIXO   \n",
      "4  -19.575116 -44.028427  SEXTA_FEIRA  11:00:00Z  21:00:00Z         FIXO   \n",
      "..        ...        ...          ...        ...        ...          ...   \n",
      "63  -3.046668 -60.024882  SEXTA_FEIRA  11:00:00Z  21:00:00Z         FIXO   \n",
      "64 -16.067901 -47.980734  SEXTA_FEIRA  11:00:00Z  21:00:00Z         FIXO   \n",
      "65 -15.650490 -47.792160  SEXTA_FEIRA  11:00:00Z  21:00:00Z         FIXO   \n",
      "66   0.019068 -51.056424  SEXTA_FEIRA  11:00:00Z  19:00:00Z         FIXO   \n",
      "67  -2.441225 -44.103203  SEXTA_FEIRA  11:00:00Z  21:00:00Z         FIXO   \n",
      "\n",
      "    codigoPais  codigoArea numeroTelefone  \n",
      "0            0           0              0  \n",
      "1            0           0              0  \n",
      "2            0           0              0  \n",
      "3            0           0              0  \n",
      "4            0           0              0  \n",
      "..         ...         ...            ...  \n",
      "63           0           0              0  \n",
      "64           0           0              0  \n",
      "65           0           0              0  \n",
      "66           0           0              0  \n",
      "67           0           0              0  \n",
      "\n",
      "[68 rows x 26 columns]\n"
     ]
    },
    {
     "ename": "AttributeError",
     "evalue": "Can only use .str accessor with string values!",
     "output_type": "error",
     "traceback": [
      "\u001b[0;31m---------------------------------------------------------------------------\u001b[0m",
      "\u001b[0;31mAttributeError\u001b[0m                            Traceback (most recent call last)",
      "Cell \u001b[0;32mIn[5], line 9\u001b[0m\n\u001b[1;32m      7\u001b[0m df \u001b[38;5;241m=\u001b[39m pd\u001b[38;5;241m.\u001b[39mDataFrame(df_bank_brnz)\n\u001b[1;32m      8\u001b[0m \u001b[38;5;28mprint\u001b[39m(df)\n\u001b[0;32m----> 9\u001b[0m df_cnpj \u001b[38;5;241m=\u001b[39m \u001b[43mdf\u001b[49m\u001b[43m[\u001b[49m\u001b[38;5;124;43m'\u001b[39;49m\u001b[38;5;124;43mcnpjnumber\u001b[39;49m\u001b[38;5;124;43m'\u001b[39;49m\u001b[43m]\u001b[49m\u001b[38;5;241;43m.\u001b[39;49m\u001b[43mstr\u001b[49m\u001b[38;5;241m.\u001b[39mextract(\u001b[38;5;124mr\u001b[39m\u001b[38;5;124m'\u001b[39m\u001b[38;5;124m(\u001b[39m\u001b[38;5;124m\\\u001b[39m\u001b[38;5;124md\u001b[39m\u001b[38;5;132;01m{5}\u001b[39;00m\u001b[38;5;124m)-\u001b[39m\u001b[38;5;124m\\\u001b[39m\u001b[38;5;124md\u001b[39m\u001b[38;5;132;01m{3}\u001b[39;00m\u001b[38;5;124m'\u001b[39m)\n\u001b[1;32m     10\u001b[0m \u001b[38;5;28mprint\u001b[39m(df_cnpj)\n\u001b[1;32m     13\u001b[0m             \u001b[38;5;66;03m# #transformacao df\u001b[39;00m\n\u001b[1;32m     14\u001b[0m             \u001b[38;5;66;03m# df = pd.read_csv(f'{src_arquivo}', delimiter=';', usecols=lambda column: column !='Unnamed: 0')\u001b[39;00m\n\u001b[1;32m     15\u001b[0m             \u001b[38;5;66;03m# df['nome_arquivo'] = nome_arquivo\u001b[39;00m\n\u001b[0;32m   (...)\u001b[0m\n\u001b[1;32m     35\u001b[0m \u001b[38;5;66;03m# silver = '/workspaces/projeto_ing/database/sqlite/silver/bank.db'\u001b[39;00m\n\u001b[1;32m     36\u001b[0m \u001b[38;5;66;03m# conn_silver = sqlite3.connect(silver)\u001b[39;00m\n",
      "File \u001b[0;32m~/.local/lib/python3.10/site-packages/pandas/core/generic.py:6299\u001b[0m, in \u001b[0;36mNDFrame.__getattr__\u001b[0;34m(self, name)\u001b[0m\n\u001b[1;32m   6292\u001b[0m \u001b[38;5;28;01mif\u001b[39;00m (\n\u001b[1;32m   6293\u001b[0m     name \u001b[38;5;129;01mnot\u001b[39;00m \u001b[38;5;129;01min\u001b[39;00m \u001b[38;5;28mself\u001b[39m\u001b[38;5;241m.\u001b[39m_internal_names_set\n\u001b[1;32m   6294\u001b[0m     \u001b[38;5;129;01mand\u001b[39;00m name \u001b[38;5;129;01mnot\u001b[39;00m \u001b[38;5;129;01min\u001b[39;00m \u001b[38;5;28mself\u001b[39m\u001b[38;5;241m.\u001b[39m_metadata\n\u001b[1;32m   6295\u001b[0m     \u001b[38;5;129;01mand\u001b[39;00m name \u001b[38;5;129;01mnot\u001b[39;00m \u001b[38;5;129;01min\u001b[39;00m \u001b[38;5;28mself\u001b[39m\u001b[38;5;241m.\u001b[39m_accessors\n\u001b[1;32m   6296\u001b[0m     \u001b[38;5;129;01mand\u001b[39;00m \u001b[38;5;28mself\u001b[39m\u001b[38;5;241m.\u001b[39m_info_axis\u001b[38;5;241m.\u001b[39m_can_hold_identifiers_and_holds_name(name)\n\u001b[1;32m   6297\u001b[0m ):\n\u001b[1;32m   6298\u001b[0m     \u001b[38;5;28;01mreturn\u001b[39;00m \u001b[38;5;28mself\u001b[39m[name]\n\u001b[0;32m-> 6299\u001b[0m \u001b[38;5;28;01mreturn\u001b[39;00m \u001b[38;5;28;43mobject\u001b[39;49m\u001b[38;5;241;43m.\u001b[39;49m\u001b[38;5;21;43m__getattribute__\u001b[39;49m\u001b[43m(\u001b[49m\u001b[38;5;28;43mself\u001b[39;49m\u001b[43m,\u001b[49m\u001b[43m \u001b[49m\u001b[43mname\u001b[49m\u001b[43m)\u001b[49m\n",
      "File \u001b[0;32m~/.local/lib/python3.10/site-packages/pandas/core/accessor.py:224\u001b[0m, in \u001b[0;36mCachedAccessor.__get__\u001b[0;34m(self, obj, cls)\u001b[0m\n\u001b[1;32m    221\u001b[0m \u001b[38;5;28;01mif\u001b[39;00m obj \u001b[38;5;129;01mis\u001b[39;00m \u001b[38;5;28;01mNone\u001b[39;00m:\n\u001b[1;32m    222\u001b[0m     \u001b[38;5;66;03m# we're accessing the attribute of the class, i.e., Dataset.geo\u001b[39;00m\n\u001b[1;32m    223\u001b[0m     \u001b[38;5;28;01mreturn\u001b[39;00m \u001b[38;5;28mself\u001b[39m\u001b[38;5;241m.\u001b[39m_accessor\n\u001b[0;32m--> 224\u001b[0m accessor_obj \u001b[38;5;241m=\u001b[39m \u001b[38;5;28;43mself\u001b[39;49m\u001b[38;5;241;43m.\u001b[39;49m\u001b[43m_accessor\u001b[49m\u001b[43m(\u001b[49m\u001b[43mobj\u001b[49m\u001b[43m)\u001b[49m\n\u001b[1;32m    225\u001b[0m \u001b[38;5;66;03m# Replace the property with the accessor object. Inspired by:\u001b[39;00m\n\u001b[1;32m    226\u001b[0m \u001b[38;5;66;03m# https://www.pydanny.com/cached-property.html\u001b[39;00m\n\u001b[1;32m    227\u001b[0m \u001b[38;5;66;03m# We need to use object.__setattr__ because we overwrite __setattr__ on\u001b[39;00m\n\u001b[1;32m    228\u001b[0m \u001b[38;5;66;03m# NDFrame\u001b[39;00m\n\u001b[1;32m    229\u001b[0m \u001b[38;5;28mobject\u001b[39m\u001b[38;5;241m.\u001b[39m\u001b[38;5;21m__setattr__\u001b[39m(obj, \u001b[38;5;28mself\u001b[39m\u001b[38;5;241m.\u001b[39m_name, accessor_obj)\n",
      "File \u001b[0;32m~/.local/lib/python3.10/site-packages/pandas/core/strings/accessor.py:191\u001b[0m, in \u001b[0;36mStringMethods.__init__\u001b[0;34m(self, data)\u001b[0m\n\u001b[1;32m    188\u001b[0m \u001b[38;5;28;01mdef\u001b[39;00m \u001b[38;5;21m__init__\u001b[39m(\u001b[38;5;28mself\u001b[39m, data) \u001b[38;5;241m-\u001b[39m\u001b[38;5;241m>\u001b[39m \u001b[38;5;28;01mNone\u001b[39;00m:\n\u001b[1;32m    189\u001b[0m     \u001b[38;5;28;01mfrom\u001b[39;00m \u001b[38;5;21;01mpandas\u001b[39;00m\u001b[38;5;21;01m.\u001b[39;00m\u001b[38;5;21;01mcore\u001b[39;00m\u001b[38;5;21;01m.\u001b[39;00m\u001b[38;5;21;01marrays\u001b[39;00m\u001b[38;5;21;01m.\u001b[39;00m\u001b[38;5;21;01mstring_\u001b[39;00m \u001b[38;5;28;01mimport\u001b[39;00m StringDtype\n\u001b[0;32m--> 191\u001b[0m     \u001b[38;5;28mself\u001b[39m\u001b[38;5;241m.\u001b[39m_inferred_dtype \u001b[38;5;241m=\u001b[39m \u001b[38;5;28;43mself\u001b[39;49m\u001b[38;5;241;43m.\u001b[39;49m\u001b[43m_validate\u001b[49m\u001b[43m(\u001b[49m\u001b[43mdata\u001b[49m\u001b[43m)\u001b[49m\n\u001b[1;32m    192\u001b[0m     \u001b[38;5;28mself\u001b[39m\u001b[38;5;241m.\u001b[39m_is_categorical \u001b[38;5;241m=\u001b[39m \u001b[38;5;28misinstance\u001b[39m(data\u001b[38;5;241m.\u001b[39mdtype, CategoricalDtype)\n\u001b[1;32m    193\u001b[0m     \u001b[38;5;28mself\u001b[39m\u001b[38;5;241m.\u001b[39m_is_string \u001b[38;5;241m=\u001b[39m \u001b[38;5;28misinstance\u001b[39m(data\u001b[38;5;241m.\u001b[39mdtype, StringDtype)\n",
      "File \u001b[0;32m~/.local/lib/python3.10/site-packages/pandas/core/strings/accessor.py:245\u001b[0m, in \u001b[0;36mStringMethods._validate\u001b[0;34m(data)\u001b[0m\n\u001b[1;32m    242\u001b[0m inferred_dtype \u001b[38;5;241m=\u001b[39m lib\u001b[38;5;241m.\u001b[39minfer_dtype(values, skipna\u001b[38;5;241m=\u001b[39m\u001b[38;5;28;01mTrue\u001b[39;00m)\n\u001b[1;32m    244\u001b[0m \u001b[38;5;28;01mif\u001b[39;00m inferred_dtype \u001b[38;5;129;01mnot\u001b[39;00m \u001b[38;5;129;01min\u001b[39;00m allowed_types:\n\u001b[0;32m--> 245\u001b[0m     \u001b[38;5;28;01mraise\u001b[39;00m \u001b[38;5;167;01mAttributeError\u001b[39;00m(\u001b[38;5;124m\"\u001b[39m\u001b[38;5;124mCan only use .str accessor with string values!\u001b[39m\u001b[38;5;124m\"\u001b[39m)\n\u001b[1;32m    246\u001b[0m \u001b[38;5;28;01mreturn\u001b[39;00m inferred_dtype\n",
      "\u001b[0;31mAttributeError\u001b[0m: Can only use .str accessor with string values!"
     ]
    }
   ],
   "source": [
    "bronze = '/workspaces/projeto_ing/database/sqlite/bronze/banco_bank.db'\n",
    "conn_bronze = sqlite3.connect(bronze)\n",
    "query_bronze = 'SELECT * FROM tabela_bank'\n",
    "df_bank_brnz = pd.read_sql_query(query_bronze, conn_bronze)\n",
    "# display(df_bank_brnz)\n",
    "\n",
    "df = pd.DataFrame(df_bank_brnz)\n",
    "print(df)\n",
    "df_cnpj = df['cnpjnumber'].str.extract(r'(\\d{5})-\\d{3}')\n",
    "print(df_cnpj)\n",
    "\n",
    "\n",
    "            # #transformacao df\n",
    "            # df = pd.read_csv(f'{src_arquivo}', delimiter=';', usecols=lambda column: column !='Unnamed: 0')\n",
    "            # df['nome_arquivo'] = nome_arquivo\n",
    "            # data = nome_arquivo[17:32]\n",
    "            # df['data_arquivo'] = data\n",
    "            \n",
    "            # df_ccep = df['cep'].str.replace(r'-', '')\n",
    "            # df_cep =df['cep'].str.extract(r'(\\d{5})-\\d{3}')\n",
    "            # df_cep_compl = df['cep'].str.extract(r'(-\\d{3})')\n",
    "            # df['ccep'] = df_ccep\n",
    "            # df['cep_loc'] = df_cep\n",
    "            # df['cep_compl'] = df_cep_compl\n",
    "            # df_rplc = df['cep_compl'].str.replace('-', '')\n",
    "            # df['ccep_compl'] = df_rplc\n",
    "            # columns = ['cep', 'cep_compl']\n",
    "            # df.drop(columns, inplace=True, axis=1)\n",
    "            \n",
    "            # df['ccep'].astype(int)\n",
    "            # df['cep_loc'].astype(int)\n",
    "            # df['ccep_compl'].astype(int)\n",
    "# conn_bronze.close()\n",
    "\n",
    "# silver = '/workspaces/projeto_ing/database/sqlite/silver/bank.db'\n",
    "# conn_silver = sqlite3.connect(silver)"
   ]
  },
  {
   "cell_type": "code",
   "execution_count": 3,
   "metadata": {},
   "outputs": [
    {
     "name": "stdout",
     "output_type": "stream",
     "text": [
      "<sqlite3.Connection object at 0x775b2c9bb540>\n"
     ]
    }
   ],
   "source": [
    "\n",
    "silver = '/workspaces/projeto_ing/database/sqlite/silver/bank.db'\n",
    "conn_silver = sqlite3.connect(silver)\n",
    "print(conn_silver)\n"
   ]
  }
 ],
 "metadata": {
  "kernelspec": {
   "display_name": "Python 3",
   "language": "python",
   "name": "python3"
  },
  "language_info": {
   "codemirror_mode": {
    "name": "ipython",
    "version": 3
   },
   "file_extension": ".py",
   "mimetype": "text/x-python",
   "name": "python",
   "nbconvert_exporter": "python",
   "pygments_lexer": "ipython3",
   "version": "3.10.13"
  }
 },
 "nbformat": 4,
 "nbformat_minor": 2
}
