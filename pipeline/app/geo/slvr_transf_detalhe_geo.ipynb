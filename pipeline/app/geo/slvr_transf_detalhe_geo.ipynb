{
 "cells": [
  {
   "cell_type": "code",
   "execution_count": 1,
   "metadata": {},
   "outputs": [],
   "source": [
    "import sqlite3\n",
    "import pandas as pd"
   ]
  },
  {
   "cell_type": "code",
   "execution_count": 8,
   "metadata": {},
   "outputs": [
    {
     "data": {
      "text/html": [
       "<div>\n",
       "<style scoped>\n",
       "    .dataframe tbody tr th:only-of-type {\n",
       "        vertical-align: middle;\n",
       "    }\n",
       "\n",
       "    .dataframe tbody tr th {\n",
       "        vertical-align: top;\n",
       "    }\n",
       "\n",
       "    .dataframe thead th {\n",
       "        text-align: right;\n",
       "    }\n",
       "</style>\n",
       "<table border=\"1\" class=\"dataframe\">\n",
       "  <thead>\n",
       "    <tr style=\"text-align: right;\">\n",
       "      <th></th>\n",
       "      <th>localizacao_completa</th>\n",
       "      <th>dados_detalhados</th>\n",
       "      <th>code</th>\n",
       "      <th>localizacao_repl_compl</th>\n",
       "      <th>cidade</th>\n",
       "      <th>regiao</th>\n",
       "      <th>dtHora_inclusao</th>\n",
       "    </tr>\n",
       "  </thead>\n",
       "  <tbody>\n",
       "    <tr>\n",
       "      <th>0</th>\n",
       "      <td>Mairiporã, Região Imediata de São Paulo, Regiã...</td>\n",
       "      <td>['Mairiporã', 'Região Imediata de São Paulo', ...</td>\n",
       "      <td>Brasil</td>\n",
       "      <td>Mairiporã, Região Imediata de SãoPaulo, Região...</td>\n",
       "      <td>Mairiporã,</td>\n",
       "      <td>Sudeste,</td>\n",
       "      <td>20241203:00121733184177</td>\n",
       "    </tr>\n",
       "    <tr>\n",
       "      <th>1</th>\n",
       "      <td>São Paulo, Região Imediata de São Paulo, Regiã...</td>\n",
       "      <td>['São Paulo', 'Região Imediata de São Paulo', ...</td>\n",
       "      <td>Brasil</td>\n",
       "      <td>SãoPaulo, Região Imediata de SãoPaulo, Região ...</td>\n",
       "      <td>SãoPaulo,</td>\n",
       "      <td>Sudeste,</td>\n",
       "      <td>20241203:00121733184177</td>\n",
       "    </tr>\n",
       "    <tr>\n",
       "      <th>2</th>\n",
       "      <td>Atibaia, Região Imediata de Bragança Paulista,...</td>\n",
       "      <td>['Atibaia', 'Região Imediata de Bragança Pauli...</td>\n",
       "      <td>Brasil</td>\n",
       "      <td>Atibaia, Região Imediata de Bragança Paulista,...</td>\n",
       "      <td>Atibaia,</td>\n",
       "      <td>NaN</td>\n",
       "      <td>20241203:00121733184177</td>\n",
       "    </tr>\n",
       "    <tr>\n",
       "      <th>3</th>\n",
       "      <td>Campinas, Região Imediata de Campinas, Região ...</td>\n",
       "      <td>['Campinas', 'Região Imediata de Campinas', 'R...</td>\n",
       "      <td>Brasil</td>\n",
       "      <td>Campinas, Região Imediata de Campinas, Região ...</td>\n",
       "      <td>Campinas,</td>\n",
       "      <td>Sudeste,</td>\n",
       "      <td>20241203:00121733184177</td>\n",
       "    </tr>\n",
       "    <tr>\n",
       "      <th>4</th>\n",
       "      <td>Guarulhos, Região Imediata de São Paulo, Regiã...</td>\n",
       "      <td>['Guarulhos', 'Região Imediata de São Paulo', ...</td>\n",
       "      <td>Brasil</td>\n",
       "      <td>Guarulhos, Região Imediata de SãoPaulo, Região...</td>\n",
       "      <td>Guarulhos,</td>\n",
       "      <td>Sudeste,</td>\n",
       "      <td>20241203:00121733184177</td>\n",
       "    </tr>\n",
       "    <tr>\n",
       "      <th>5</th>\n",
       "      <td>Osasco, Região Imediata de São Paulo, Região M...</td>\n",
       "      <td>['Osasco', 'Região Imediata de São Paulo', 'Re...</td>\n",
       "      <td>Brasil</td>\n",
       "      <td>Osasco, Região Imediata de SãoPaulo, Região Me...</td>\n",
       "      <td>Osasco,</td>\n",
       "      <td>Sudeste,</td>\n",
       "      <td>20241203:00121733184177</td>\n",
       "    </tr>\n",
       "  </tbody>\n",
       "</table>\n",
       "</div>"
      ],
      "text/plain": [
       "                                localizacao_completa  \\\n",
       "0  Mairiporã, Região Imediata de São Paulo, Regiã...   \n",
       "1  São Paulo, Região Imediata de São Paulo, Regiã...   \n",
       "2  Atibaia, Região Imediata de Bragança Paulista,...   \n",
       "3  Campinas, Região Imediata de Campinas, Região ...   \n",
       "4  Guarulhos, Região Imediata de São Paulo, Regiã...   \n",
       "5  Osasco, Região Imediata de São Paulo, Região M...   \n",
       "\n",
       "                                    dados_detalhados    code  \\\n",
       "0  ['Mairiporã', 'Região Imediata de São Paulo', ...  Brasil   \n",
       "1  ['São Paulo', 'Região Imediata de São Paulo', ...  Brasil   \n",
       "2  ['Atibaia', 'Região Imediata de Bragança Pauli...  Brasil   \n",
       "3  ['Campinas', 'Região Imediata de Campinas', 'R...  Brasil   \n",
       "4  ['Guarulhos', 'Região Imediata de São Paulo', ...  Brasil   \n",
       "5  ['Osasco', 'Região Imediata de São Paulo', 'Re...  Brasil   \n",
       "\n",
       "                              localizacao_repl_compl      cidade    regiao  \\\n",
       "0  Mairiporã, Região Imediata de SãoPaulo, Região...  Mairiporã,  Sudeste,   \n",
       "1  SãoPaulo, Região Imediata de SãoPaulo, Região ...   SãoPaulo,  Sudeste,   \n",
       "2  Atibaia, Região Imediata de Bragança Paulista,...    Atibaia,       NaN   \n",
       "3  Campinas, Região Imediata de Campinas, Região ...   Campinas,  Sudeste,   \n",
       "4  Guarulhos, Região Imediata de SãoPaulo, Região...  Guarulhos,  Sudeste,   \n",
       "5  Osasco, Região Imediata de SãoPaulo, Região Me...     Osasco,  Sudeste,   \n",
       "\n",
       "           dtHora_inclusao  \n",
       "0  20241203:00121733184177  \n",
       "1  20241203:00121733184177  \n",
       "2  20241203:00121733184177  \n",
       "3  20241203:00121733184177  \n",
       "4  20241203:00121733184177  \n",
       "5  20241203:00121733184177  "
      ]
     },
     "metadata": {},
     "output_type": "display_data"
    },
    {
     "name": "stdout",
     "output_type": "stream",
     "text": [
      "carregando dados para transformação!\n",
      "Dados transferidos com sucesso!\n"
     ]
    }
   ],
   "source": [
    "banco = '/workspaces/projeto_ing/database/sqlite/bronze/banco_geo.db'\n",
    "conn = sqlite3.connect(banco)\n",
    "query_bronze = 'select * from tabela_detalhegeo'\n",
    "df = pd.read_sql_query(query_bronze, conn)\n",
    "# display(df)\n",
    "\n",
    "df['localizacao_repl_compl'] = df['localizacao_completa'].str.replace('São Paulo', 'SãoPaulo')\n",
    "df['cidade'] = df['localizacao_repl_compl'].str.split().str[0]\n",
    "df['regiao'] = df['localizacao_repl_compl'].str.split().str[1:5]\n",
    "df['regiao'] = df['localizacao_repl_compl'].str.split().str[16]\n",
    "# df = df['localizacao_repl_compl'].str.replace('NaN', 'Sudeste')\n",
    "# df = pd.Timestamp.now().strftime('%Y-%m-%d')\n",
    "df['dtHora_inclusao'] = pd.Timestamp.now().strftime('%Y%m%d:%H%m%s')\n",
    "display(df)\n",
    "\n",
    "silver = '/workspaces/projeto_ing/database/sqlite/silver/localizacao.db'\n",
    "conn_silver = sqlite3.connect(silver)\n",
    "\n",
    "print('carregando dados para transformação!')\n",
    "\n",
    "\n",
    "for _, row in df.iterrows():\n",
    "    query_insert = '''\n",
    "    INSERT INTO tb_slvr_geo_detal (\n",
    "        localizacaoCompleta, dadosDetalhados, pais, cidade, regiao, dtIgtao\n",
    "    ) VALUES (?, ?, ?, ?, ?, ?);\n",
    "    '''\n",
    "    data = (\n",
    "        row['localizacao_repl_compl'], row['dados_detalhados'], row['code'], row['cidade'],\n",
    "        row['regiao'], row['dtHora_inclusao']\n",
    "    )\n",
    "    conn_silver.execute(query_insert, data)\n",
    "conn_silver.commit()\n",
    "conn_silver.close()\n",
    "\n",
    "print(\"Dados transferidos com sucesso!\")"
   ]
  },
  {
   "cell_type": "code",
   "execution_count": 10,
   "metadata": {},
   "outputs": [
    {
     "name": "stdout",
     "output_type": "stream",
     "text": [
      "('Mairiporã, Região Imediata de SãoPaulo, Região Metropolitana de SãoPaulo, Região Geográfica Intermediária de SãoPaulo, SãoPaulo, Região Sudeste, Brasil', \"['Mairiporã', 'Região Imediata de São Paulo', 'Região Metropolitana de São Paulo', 'Região Geográfica Intermediária de São Paulo', 'São Paulo', 'Região Sudeste', 'Brasil']\", 'Brasil', 'Mairiporã,', 'Sudeste,', '20241203:00121733184177')\n",
      "('SãoPaulo, Região Imediata de SãoPaulo, Região Metropolitana de SãoPaulo, Região Geográfica Intermediária de SãoPaulo, SãoPaulo, Região Sudeste, Brasil', \"['São Paulo', 'Região Imediata de São Paulo', 'Região Metropolitana de São Paulo', 'Região Geográfica Intermediária de São Paulo', 'São Paulo', 'Região Sudeste', 'Brasil']\", 'Brasil', 'SãoPaulo,', 'Sudeste,', '20241203:00121733184177')\n",
      "('Atibaia, Região Imediata de Bragança Paulista, Região Geográfica Intermediária de Campinas, SãoPaulo, Região Sudeste, Brasil', \"['Atibaia', 'Região Imediata de Bragança Paulista', 'Região Geográfica Intermediária de Campinas', 'São Paulo', 'Região Sudeste', 'Brasil']\", 'Brasil', 'Atibaia,', None, '20241203:00121733184177')\n",
      "('Campinas, Região Imediata de Campinas, Região Metropolitana de Campinas, Região Geográfica Intermediária de Campinas, SãoPaulo, Região Sudeste, Brasil', \"['Campinas', 'Região Imediata de Campinas', 'Região Metropolitana de Campinas', 'Região Geográfica Intermediária de Campinas', 'São Paulo', 'Região Sudeste', 'Brasil']\", 'Brasil', 'Campinas,', 'Sudeste,', '20241203:00121733184177')\n",
      "('Guarulhos, Região Imediata de SãoPaulo, Região Metropolitana de SãoPaulo, Região Geográfica Intermediária de SãoPaulo, SãoPaulo, Região Sudeste, Brasil', \"['Guarulhos', 'Região Imediata de São Paulo', 'Região Metropolitana de São Paulo', 'Região Geográfica Intermediária de São Paulo', 'São Paulo', 'Região Sudeste', 'Brasil']\", 'Brasil', 'Guarulhos,', 'Sudeste,', '20241203:00121733184177')\n",
      "('Osasco, Região Imediata de SãoPaulo, Região Metropolitana de SãoPaulo, Região Geográfica Intermediária de SãoPaulo, SãoPaulo, Região Sudeste, Brasil', \"['Osasco', 'Região Imediata de São Paulo', 'Região Metropolitana de São Paulo', 'Região Geográfica Intermediária de São Paulo', 'São Paulo', 'Região Sudeste', 'Brasil']\", 'Brasil', 'Osasco,', 'Sudeste,', '20241203:00121733184177')\n"
     ]
    }
   ],
   "source": [
    "silver = '/workspaces/projeto_ing/database/sqlite/silver/localizacao.db'\n",
    "conn_silver = sqlite3.connect(silver)\n",
    "query = ''' select * from tb_slvr_geo_detal '''\n",
    "\n",
    "cursor = conn_silver.execute(query)\n",
    "\n",
    "resultado = cursor.fetchall()\n",
    "for resul in resultado:\n",
    "    print(resul)\n",
    "conn.close()"
   ]
  },
  {
   "cell_type": "code",
   "execution_count": null,
   "metadata": {},
   "outputs": [],
   "source": []
  },
  {
   "cell_type": "code",
   "execution_count": 2,
   "metadata": {},
   "outputs": [
    {
     "name": "stdout",
     "output_type": "stream",
     "text": [
      "comando executado com sucesso:\n",
      "drop table slvr_geo\n"
     ]
    }
   ],
   "source": [
    "banco = '/workspaces/projeto_ing/database/sqlite/bronze/banco_geo.db'\n",
    "conn = sqlite3.connect(banco)\n",
    "query = 'drop table slvr_geo'\n",
    "\n",
    "cursor = conn.execute(query)\n",
    "print('comando executado com sucesso:')\n",
    "print(query)"
   ]
  },
  {
   "cell_type": "code",
   "execution_count": 3,
   "metadata": {},
   "outputs": [],
   "source": [
    "conn.commit()\n",
    "conn.close()"
   ]
  }
 ],
 "metadata": {
  "kernelspec": {
   "display_name": "Python 3",
   "language": "python",
   "name": "python3"
  },
  "language_info": {
   "codemirror_mode": {
    "name": "ipython",
    "version": 3
   },
   "file_extension": ".py",
   "mimetype": "text/x-python",
   "name": "python",
   "nbconvert_exporter": "python",
   "pygments_lexer": "ipython3",
   "version": "3.10.13"
  }
 },
 "nbformat": 4,
 "nbformat_minor": 2
}
