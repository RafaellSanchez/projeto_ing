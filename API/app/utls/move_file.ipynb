{
 "cells": [
  {
   "cell_type": "code",
   "execution_count": 1,
   "metadata": {},
   "outputs": [],
   "source": [
    "import shutil"
   ]
  },
  {
   "cell_type": "code",
   "execution_count": 2,
   "metadata": {},
   "outputs": [],
   "source": [
    "#variaveis\n",
    "local = '/workspaces/projeto_ing/API/app/src/geo/dados_geo_2024-07-14.txt'\n",
    "destino = '/workspaces/projeto_ing/INGESTION/app/src/landing/'"
   ]
  },
  {
   "cell_type": "code",
   "execution_count": 3,
   "metadata": {},
   "outputs": [
    {
     "name": "stdout",
     "output_type": "stream",
     "text": [
      "/workspaces/projeto_ing/API/app/src/geo/dados_geo_2024-07-14.txt\n",
      "arquivo copiado para: /workspaces/projeto_ing/INGESTION/app/src/landing/\n"
     ]
    }
   ],
   "source": [
    "shutil.copy(local, destino)\n",
    "print(local)\n",
    "print(f'arquivo copiado para: {destino}')"
   ]
  }
 ],
 "metadata": {
  "kernelspec": {
   "display_name": "Python 3",
   "language": "python",
   "name": "python3"
  },
  "language_info": {
   "codemirror_mode": {
    "name": "ipython",
    "version": 3
   },
   "file_extension": ".py",
   "mimetype": "text/x-python",
   "name": "python",
   "nbconvert_exporter": "python",
   "pygments_lexer": "ipython3",
   "version": "3.10.13"
  }
 },
 "nbformat": 4,
 "nbformat_minor": 2
}
