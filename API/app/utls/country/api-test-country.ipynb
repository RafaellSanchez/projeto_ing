{
 "cells": [
  {
   "cell_type": "code",
   "execution_count": 1,
   "metadata": {},
   "outputs": [],
   "source": [
    "import requests"
   ]
  },
  {
   "cell_type": "code",
   "execution_count": 115,
   "metadata": {},
   "outputs": [
    {
     "name": "stdout",
     "output_type": "stream",
     "text": [
      "<Response [200]>\n",
      "{'latitude': 36.66999816894531, 'lookupSource': 'ip geolocation', 'longitude': -78.38999938964844, 'localityLanguageRequested': 'en', 'continent': 'North America', 'continentCode': 'NA', 'countryName': 'United States of America (the)', 'countryCode': 'US', 'principalSubdivision': 'Virginia', 'principalSubdivisionCode': 'US-VA', 'city': 'Chase City', 'locality': 'Boydton', 'postcode': '23917', 'plusCode': '8783MJ96+X2', 'fips': {'state': '51', 'county': '117', 'countySubdivision': '91403', 'place': '09016'}, 'localityInfo': {'administrative': [{'name': 'United States of America (the)', 'description': 'country in North America', 'isoName': 'United States of America (the)', 'order': 2, 'adminLevel': 2, 'isoCode': 'US', 'wikidataId': 'Q30', 'geonameId': 6252001}, {'name': 'Virginia', 'description': 'state of the United States of America', 'isoName': 'Virginia', 'order': 4, 'adminLevel': 4, 'isoCode': 'US-VA', 'wikidataId': 'Q1370', 'geonameId': 6254928}, {'name': 'Mecklenburg County', 'description': 'county in Virginia, United States', 'order': 5, 'adminLevel': 6, 'wikidataId': 'Q510885', 'geonameId': 4772586}, {'name': 'Chase City', 'description': 'town in Mecklenburg County, Virginia, United States', 'order': 6, 'adminLevel': 8, 'wikidataId': 'Q1376427', 'geonameId': 4752052}, {'name': 'Boydton', 'description': 'town in Virginia, United States', 'order': 8, 'adminLevel': 8, 'wikidataId': 'Q1376432', 'geonameId': 4748634}], 'informative': [{'name': 'North America', 'description': 'continent', 'isoName': 'North America', 'order': 1, 'isoCode': 'NA', 'wikidataId': 'Q49', 'geonameId': 6255149}, {'name': 'America/New_York', 'description': 'time zone', 'order': 3}, {'name': '23917', 'description': 'postal code', 'order': 7}, {'name': '51-117-91403', 'description': 'FIPS code', 'order': 9}, {'name': '51-09016', 'description': 'FIPS code', 'order': 10}]}}\n",
      "United States of America (the)\n",
      "country in North America\n",
      "2\n",
      "2\n",
      "Q30\n",
      "6252001\n",
      "Virginia\n",
      "state of the United States of America\n",
      "4\n",
      "4\n",
      "Q1370\n",
      "6254928\n",
      "Mecklenburg County\n",
      "county in Virginia, United States\n",
      "5\n",
      "6\n",
      "Q510885\n",
      "4772586\n",
      "Chase City\n",
      "town in Mecklenburg County, Virginia, United States\n",
      "6\n",
      "8\n",
      "Q1376427\n",
      "4752052\n",
      "Boydton\n",
      "town in Virginia, United States\n",
      "8\n",
      "8\n",
      "Q1376432\n",
      "4748634\n"
     ]
    }
   ],
   "source": [
    "url = 'https://api.bigdatacloud.net/data/reverse-geocode-client'\n",
    "response = requests.get(url)\n",
    "print(response)\n",
    "dados = response.json()\n",
    "print(dados)\n",
    "\n",
    "for resultado in dados['localityInfo']['administrative']:\n",
    "    name = resultado['name']\n",
    "    desc = resultado['description']\n",
    "    # isoName = resultado['isoName']\n",
    "    order = resultado['order']\n",
    "    admLevl = resultado['adminLevel']\n",
    "    # isoCode = resultado['isoCode']\n",
    "    wiki = resultado['wikidataId']\n",
    "    geoId = resultado['geonameId']\n",
    "    print(name)\n",
    "    print(desc)\n",
    "    # print(isoName)\n",
    "    print(order)\n",
    "    print(admLevl)\n",
    "    # print(isoCode)\n",
    "    print(wiki)\n",
    "    print(geoId)\n",
    "    \n",
    "for result in dados.values():\n",
    "    lat = result\n"
   ]
  },
  {
   "cell_type": "code",
   "execution_count": null,
   "metadata": {},
   "outputs": [],
   "source": []
  },
  {
   "cell_type": "code",
   "execution_count": 92,
   "metadata": {},
   "outputs": [
    {
     "name": "stdout",
     "output_type": "stream",
     "text": [
      "[]\n"
     ]
    }
   ],
   "source": [
    "dt_list = []\n",
    "\n",
    "if dados:\n",
    "    if 'administrative' in dados:\n",
    "        adm = dados['administrative']\n",
    "        for adms in adm:\n",
    "            nome = adms['name']\n",
    "            desc = adms['description']\n",
    "            print(nome)\n",
    "            print(desc)\n",
    "            dt_list.append({\n",
    "                'nome': nome,\n",
    "                'desc': desc\n",
    "            })\n",
    "print(dt_list)"
   ]
  },
  {
   "cell_type": "code",
   "execution_count": 107,
   "metadata": {},
   "outputs": [
    {
     "name": "stdout",
     "output_type": "stream",
     "text": [
      "{'name': 'United States of America (the)', 'description': 'country in North America', 'isoName': 'United States of America (the)', 'order': 2, 'adminLevel': 2, 'isoCode': 'US', 'wikidataId': 'Q30', 'geonameId': 6252001}\n",
      "United States of America (the)\n",
      "country in North America\n",
      "United States of America (the)\n",
      "2\n",
      "2\n",
      "US\n",
      "Q30\n",
      "6252001\n",
      "{'name': 'Virginia', 'description': 'state of the United States of America', 'isoName': 'Virginia', 'order': 4, 'adminLevel': 4, 'isoCode': 'US-VA', 'wikidataId': 'Q1370', 'geonameId': 6254928}\n",
      "Virginia\n",
      "state of the United States of America\n",
      "Virginia\n",
      "4\n",
      "4\n",
      "US-VA\n",
      "Q1370\n",
      "6254928\n"
     ]
    },
    {
     "ename": "KeyError",
     "evalue": "'isoName'",
     "output_type": "error",
     "traceback": [
      "\u001b[0;31m---------------------------------------------------------------------------\u001b[0m",
      "\u001b[0;31mKeyError\u001b[0m                                  Traceback (most recent call last)",
      "Cell \u001b[0;32mIn[107], line 4\u001b[0m\n\u001b[1;32m      2\u001b[0m name \u001b[38;5;241m=\u001b[39m resultado[\u001b[38;5;124m'\u001b[39m\u001b[38;5;124mname\u001b[39m\u001b[38;5;124m'\u001b[39m]\n\u001b[1;32m      3\u001b[0m desc \u001b[38;5;241m=\u001b[39m resultado[\u001b[38;5;124m'\u001b[39m\u001b[38;5;124mdescription\u001b[39m\u001b[38;5;124m'\u001b[39m]\n\u001b[0;32m----> 4\u001b[0m isoName \u001b[38;5;241m=\u001b[39m \u001b[43mresultado\u001b[49m\u001b[43m[\u001b[49m\u001b[38;5;124;43m'\u001b[39;49m\u001b[38;5;124;43misoName\u001b[39;49m\u001b[38;5;124;43m'\u001b[39;49m\u001b[43m]\u001b[49m\n\u001b[1;32m      5\u001b[0m order \u001b[38;5;241m=\u001b[39m resultado[\u001b[38;5;124m'\u001b[39m\u001b[38;5;124morder\u001b[39m\u001b[38;5;124m'\u001b[39m]\n\u001b[1;32m      6\u001b[0m admLevl \u001b[38;5;241m=\u001b[39m resultado[\u001b[38;5;124m'\u001b[39m\u001b[38;5;124madminLevel\u001b[39m\u001b[38;5;124m'\u001b[39m]\n",
      "\u001b[0;31mKeyError\u001b[0m: 'isoName'"
     ]
    }
   ],
   "source": [
    "for resultado in dados['localityInfo']['administrative']:\n",
    "    name = resultado['name']\n",
    "    desc = resultado['description']\n",
    "    isoName = resultado['isoName']\n",
    "    order = resultado['order']\n",
    "    admLevl = resultado['adminLevel']\n",
    "    isoCode = resultado['isoCode']\n",
    "    wiki = resultado['wikidataId']\n",
    "    geoId = resultado['geonameId']\n",
    "    \n",
    "    print(resultado)\n",
    "    print(name)\n",
    "    print(desc)\n",
    "    print(isoName)\n",
    "    print(order)\n",
    "    print(admLevl)\n",
    "    print(isoCode)\n",
    "    print(wiki)\n",
    "    print(geoId)"
   ]
  },
  {
   "cell_type": "code",
   "execution_count": 103,
   "metadata": {},
   "outputs": [
    {
     "name": "stdout",
     "output_type": "stream",
     "text": [
      "36.66999816894531\n",
      "ip geolocation\n",
      "-78.38999938964844\n",
      "en\n",
      "North America\n",
      "NA\n",
      "United States of America (the)\n",
      "US\n",
      "Virginia\n",
      "US-VA\n",
      "Chase City\n",
      "Boydton\n",
      "23917\n",
      "8783MJ96+X2\n",
      "51\n",
      "117\n",
      "91403\n",
      "09016\n",
      "[{'name': 'United States of America (the)', 'description': 'country in North America', 'isoName': 'United States of America (the)', 'order': 2, 'adminLevel': 2, 'isoCode': 'US', 'wikidataId': 'Q30', 'geonameId': 6252001}, {'name': 'Virginia', 'description': 'state of the United States of America', 'isoName': 'Virginia', 'order': 4, 'adminLevel': 4, 'isoCode': 'US-VA', 'wikidataId': 'Q1370', 'geonameId': 6254928}, {'name': 'Mecklenburg County', 'description': 'county in Virginia, United States', 'order': 5, 'adminLevel': 6, 'wikidataId': 'Q510885', 'geonameId': 4772586}, {'name': 'Chase City', 'description': 'town in Mecklenburg County, Virginia, United States', 'order': 6, 'adminLevel': 8, 'wikidataId': 'Q1376427', 'geonameId': 4752052}, {'name': 'Boydton', 'description': 'town in Virginia, United States', 'order': 8, 'adminLevel': 8, 'wikidataId': 'Q1376432', 'geonameId': 4748634}]\n",
      "{'administrative': [{'name': 'United States of America (the)', 'description': 'country in North America', 'isoName': 'United States of America (the)', 'order': 2, 'adminLevel': 2, 'isoCode': 'US', 'wikidataId': 'Q30', 'geonameId': 6252001}, {'name': 'Virginia', 'description': 'state of the United States of America', 'isoName': 'Virginia', 'order': 4, 'adminLevel': 4, 'isoCode': 'US-VA', 'wikidataId': 'Q1370', 'geonameId': 6254928}, {'name': 'Mecklenburg County', 'description': 'county in Virginia, United States', 'order': 5, 'adminLevel': 6, 'wikidataId': 'Q510885', 'geonameId': 4772586}, {'name': 'Chase City', 'description': 'town in Mecklenburg County, Virginia, United States', 'order': 6, 'adminLevel': 8, 'wikidataId': 'Q1376427', 'geonameId': 4752052}, {'name': 'Boydton', 'description': 'town in Virginia, United States', 'order': 8, 'adminLevel': 8, 'wikidataId': 'Q1376432', 'geonameId': 4748634}], 'informative': [{'name': 'North America', 'description': 'continent', 'isoName': 'North America', 'order': 1, 'isoCode': 'NA', 'wikidataId': 'Q49', 'geonameId': 6255149}, {'name': 'America/New_York', 'description': 'time zone', 'order': 3}, {'name': '23917', 'description': 'postal code', 'order': 7}, {'name': '51-117-91403', 'description': 'FIPS code', 'order': 9}, {'name': '51-09016', 'description': 'FIPS code', 'order': 10}]}\n"
     ]
    }
   ],
   "source": [
    "print(dados['latitude'])\n",
    "print(dados['lookupSource'])\n",
    "print(dados['longitude'])\n",
    "print(dados['localityLanguageRequested'])\n",
    "print(dados['continent'])\n",
    "print(dados['continentCode'])\n",
    "print(dados['countryName'])\n",
    "print(dados['countryCode'])\n",
    "print(dados['principalSubdivision'])\n",
    "print(dados['principalSubdivisionCode'])\n",
    "print(dados['city'])\n",
    "print(dados['locality'])\n",
    "print(dados['postcode'])\n",
    "print(dados['plusCode'])\n",
    "print(dados['fips']['state'])\n",
    "print(dados['fips']['county'])\n",
    "print(dados['fips']['countySubdivision'])\n",
    "print(dados['fips']['place'])\n",
    "print(dados['localityInfo']['administrative'])\n",
    "print(dados['localityInfo'])\n"
   ]
  },
  {
   "cell_type": "code",
   "execution_count": 87,
   "metadata": {},
   "outputs": [
    {
     "name": "stdout",
     "output_type": "stream",
     "text": [
      "0\n",
      "1\n",
      "2\n",
      "3\n",
      "4\n",
      "5\n",
      "6\n",
      "7\n",
      "8\n",
      "9\n",
      "10\n",
      "11\n",
      "12\n",
      "13\n",
      "14\n",
      "15\n",
      "16\n",
      "17\n",
      "18\n",
      "19\n",
      "20\n",
      "21\n",
      "22\n",
      "23\n",
      "24\n",
      "25\n",
      "26\n",
      "27\n",
      "28\n",
      "29\n"
     ]
    }
   ],
   "source": [
    "for resultado in range(len(dados['countryName'])):\n",
    "    print(resultado)"
   ]
  },
  {
   "cell_type": "code",
   "execution_count": 77,
   "metadata": {},
   "outputs": [
    {
     "ename": "TypeError",
     "evalue": "string indices must be integers",
     "output_type": "error",
     "traceback": [
      "\u001b[0;31m---------------------------------------------------------------------------\u001b[0m",
      "\u001b[0;31mTypeError\u001b[0m                                 Traceback (most recent call last)",
      "Cell \u001b[0;32mIn[77], line 3\u001b[0m\n\u001b[1;32m      1\u001b[0m gravar \u001b[38;5;241m=\u001b[39m []\n\u001b[1;32m      2\u001b[0m \u001b[38;5;28;01mfor\u001b[39;00m resultado \u001b[38;5;129;01min\u001b[39;00m dados:\n\u001b[0;32m----> 3\u001b[0m     gravar\u001b[38;5;241m.\u001b[39mappend((\u001b[43mresultado\u001b[49m\u001b[43m[\u001b[49m\u001b[38;5;124;43m'\u001b[39;49m\u001b[38;5;124;43mlatitude\u001b[39;49m\u001b[38;5;124;43m'\u001b[39;49m\u001b[43m]\u001b[49m, resultado[\u001b[38;5;124m'\u001b[39m\u001b[38;5;124mlongitude\u001b[39m\u001b[38;5;124m'\u001b[39m]))\n\u001b[1;32m      4\u001b[0m     \u001b[38;5;28mprint\u001b[39m(gravar)\n",
      "\u001b[0;31mTypeError\u001b[0m: string indices must be integers"
     ]
    }
   ],
   "source": [
    "gravar = []\n",
    "for resultado in dados:\n",
    "    gravar.append((resultado['latitude'], resultado['longitude']))\n",
    "    print(gravar)"
   ]
  },
  {
   "cell_type": "code",
   "execution_count": 76,
   "metadata": {},
   "outputs": [
    {
     "ename": "TypeError",
     "evalue": "string indices must be integers",
     "output_type": "error",
     "traceback": [
      "\u001b[0;31m---------------------------------------------------------------------------\u001b[0m",
      "\u001b[0;31mTypeError\u001b[0m                                 Traceback (most recent call last)",
      "Cell \u001b[0;32mIn[76], line 2\u001b[0m\n\u001b[1;32m      1\u001b[0m \u001b[38;5;28;01mfor\u001b[39;00m resultado \u001b[38;5;129;01min\u001b[39;00m dados:\n\u001b[0;32m----> 2\u001b[0m     lat \u001b[38;5;241m=\u001b[39m \u001b[43mresultado\u001b[49m\u001b[43m[\u001b[49m\u001b[38;5;124;43m'\u001b[39;49m\u001b[38;5;124;43madministrative\u001b[39;49m\u001b[38;5;124;43m'\u001b[39;49m\u001b[43m]\u001b[49m\n\u001b[1;32m      3\u001b[0m     \u001b[38;5;28mprint\u001b[39m(lat)\n",
      "\u001b[0;31mTypeError\u001b[0m: string indices must be integers"
     ]
    }
   ],
   "source": [
    "for resultado in dados:\n",
    "    lat = resultado['administrative']\n",
    "    print(lat)"
   ]
  },
  {
   "cell_type": "code",
   "execution_count": 52,
   "metadata": {},
   "outputs": [
    {
     "name": "stdout",
     "output_type": "stream",
     "text": [
      "latitude\n",
      "lookupSource\n",
      "longitude\n",
      "localityLanguageRequested\n",
      "continent\n",
      "continentCode\n",
      "countryName\n",
      "countryCode\n",
      "principalSubdivision\n",
      "principalSubdivisionCode\n",
      "city\n",
      "locality\n",
      "postcode\n",
      "plusCode\n",
      "fips\n",
      "localityInfo\n"
     ]
    }
   ],
   "source": [
    "for resultado in dados:\n",
    "    lat = resultado\n",
    "    print(lat)"
   ]
  },
  {
   "cell_type": "code",
   "execution_count": 38,
   "metadata": {},
   "outputs": [
    {
     "name": "stdout",
     "output_type": "stream",
     "text": [
      "36.66999816894531\n",
      "ip geolocation\n",
      "-78.38999938964844\n",
      "en\n",
      "North America\n",
      "NA\n",
      "United States of America (the)\n",
      "US\n",
      "Virginia\n",
      "US-VA\n",
      "Chase City\n",
      "Boydton\n",
      "23917\n",
      "8783MJ96+X2\n",
      "{'state': '51', 'county': '117', 'countySubdivision': '91403', 'place': '09016'}\n",
      "{'administrative': [{'name': 'United States of America (the)', 'description': 'country in North America', 'isoName': 'United States of America (the)', 'order': 2, 'adminLevel': 2, 'isoCode': 'US', 'wikidataId': 'Q30', 'geonameId': 6252001}, {'name': 'Virginia', 'description': 'state of the United States of America', 'isoName': 'Virginia', 'order': 4, 'adminLevel': 4, 'isoCode': 'US-VA', 'wikidataId': 'Q1370', 'geonameId': 6254928}, {'name': 'Mecklenburg County', 'description': 'county in Virginia, United States', 'order': 5, 'adminLevel': 6, 'wikidataId': 'Q510885', 'geonameId': 4772586}, {'name': 'Chase City', 'description': 'town in Mecklenburg County, Virginia, United States', 'order': 6, 'adminLevel': 8, 'wikidataId': 'Q1376427', 'geonameId': 4752052}, {'name': 'Boydton', 'description': 'town in Virginia, United States', 'order': 8, 'adminLevel': 8, 'wikidataId': 'Q1376432', 'geonameId': 4748634}], 'informative': [{'name': 'North America', 'description': 'continent', 'isoName': 'North America', 'order': 1, 'isoCode': 'NA', 'wikidataId': 'Q49', 'geonameId': 6255149}, {'name': 'America/New_York', 'description': 'time zone', 'order': 3}, {'name': '23917', 'description': 'postal code', 'order': 7}, {'name': '51-117-91403', 'description': 'FIPS code', 'order': 9}, {'name': '51-09016', 'description': 'FIPS code', 'order': 10}]}\n"
     ]
    }
   ],
   "source": [
    "for resultado in dados.values():\n",
    "    lat = resultado\n",
    "    print(lat)"
   ]
  },
  {
   "cell_type": "code",
   "execution_count": 16,
   "metadata": {},
   "outputs": [
    {
     "name": "stdout",
     "output_type": "stream",
     "text": [
      "latitude\n",
      "lookupSource\n",
      "longitude\n",
      "localityLanguageRequested\n",
      "continent\n",
      "continentCode\n",
      "countryName\n",
      "countryCode\n",
      "principalSubdivision\n",
      "principalSubdivisionCode\n",
      "city\n",
      "locality\n",
      "postcode\n",
      "plusCode\n",
      "fips\n",
      "localityInfo\n"
     ]
    }
   ],
   "source": [
    "for resultado in dados:\n",
    "    lat = resultado\n",
    "    print(lat)"
   ]
  }
 ],
 "metadata": {
  "kernelspec": {
   "display_name": "Python 3",
   "language": "python",
   "name": "python3"
  },
  "language_info": {
   "codemirror_mode": {
    "name": "ipython",
    "version": 3
   },
   "file_extension": ".py",
   "mimetype": "text/x-python",
   "name": "python",
   "nbconvert_exporter": "python",
   "pygments_lexer": "ipython3",
   "version": "3.10.13"
  }
 },
 "nbformat": 4,
 "nbformat_minor": 2
}
