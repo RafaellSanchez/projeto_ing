{
 "cells": [
  {
   "cell_type": "code",
   "execution_count": 39,
   "metadata": {},
   "outputs": [],
   "source": [
    "import requests\n",
    "import pandas as pd\n",
    "import os\n",
    "import openpyxl"
   ]
  },
  {
   "cell_type": "code",
   "execution_count": 35,
   "metadata": {},
   "outputs": [
    {
     "name": "stdout",
     "output_type": "stream",
     "text": [
      "requisição: OK!\n",
      "transformando no formato json\n",
      "{'loteria': 'megasena', 'concurso': 2620, 'data': '12/08/2023', 'local': 'ESPAÇO DA SORTE em SÃO PAULO, SP', 'dezenasOrdemSorteio': ['26', '21', '13', '04', '06', '28'], 'dezenas': ['04', '06', '13', '21', '26', '28'], 'trevos': [], 'timeCoracao': None, 'mesSorte': None, 'premiacoes': [{'descricao': '6 acertos', 'faixa': 1, 'ganhadores': 4, 'valorPremio': 29058128.28}, {'descricao': '5 acertos', 'faixa': 2, 'ganhadores': 404, 'valorPremio': 23042.04}, {'descricao': '4 acertos', 'faixa': 3, 'ganhadores': 21667, 'valorPremio': 613.76}], 'estadosPremiados': [], 'observacao': '', 'acumulou': False, 'proximoConcurso': 2621, 'dataProximoConcurso': '16/08/2023', 'localGanhadores': [{'ganhadores': 1, 'municipio': 'CANAL ELETRONICO', 'nomeFatansiaUL': '', 'serie': '', 'posicao': 1, 'uf': '--'}, {'ganhadores': 1, 'municipio': 'UBERABA', 'nomeFatansiaUL': '', 'serie': '', 'posicao': 1, 'uf': 'MG'}, {'ganhadores': 2, 'municipio': 'SINOP', 'nomeFatansiaUL': '', 'serie': '', 'posicao': 1, 'uf': 'MT'}], 'valorArrecadado': 161458740.0, 'valorAcumuladoConcurso_0_5': 10778824.03, 'valorAcumuladoConcursoEspecial': 72866210.44, 'valorAcumuladoProximoConcurso': 0.0, 'valorEstimadoProximoConcurso': 3500000.0}\n",
      "requisição: OK!\n",
      "transformando no formato json\n",
      "{'loteria': 'megasena', 'concurso': 2621, 'data': '16/08/2023', 'local': 'ESPAÇO DA SORTE em SÃO PAULO, SP', 'dezenasOrdemSorteio': ['14', '47', '09', '16', '42', '06'], 'dezenas': ['06', '09', '14', '16', '42', '47'], 'trevos': [], 'timeCoracao': None, 'mesSorte': None, 'premiacoes': [{'descricao': '6 acertos', 'faixa': 1, 'ganhadores': 2, 'valorPremio': 1928029.09}, {'descricao': '5 acertos', 'faixa': 2, 'ganhadores': 33, 'valorPremio': 63432.99}, {'descricao': '4 acertos', 'faixa': 3, 'ganhadores': 3245, 'valorPremio': 921.54}], 'estadosPremiados': [], 'observacao': '', 'acumulou': False, 'proximoConcurso': 2622, 'dataProximoConcurso': '19/08/2023', 'localGanhadores': [{'ganhadores': 1, 'municipio': 'CANAL ELETRONICO', 'nomeFatansiaUL': '', 'serie': '', 'posicao': 1, 'uf': '--'}, {'ganhadores': 1, 'municipio': 'JUAZEIRO', 'nomeFatansiaUL': '', 'serie': '', 'posicao': 1, 'uf': 'BA'}], 'valorArrecadado': 36306835.0, 'valorAcumuladoConcurso_0_5': 13202632.02, 'valorAcumuladoConcursoEspecial': 73417075.91, 'valorAcumuladoProximoConcurso': 0.0, 'valorEstimadoProximoConcurso': 4000000.0}\n"
     ]
    }
   ],
   "source": [
    "concurso = [2620, 2621]\n",
    "\n",
    "for resultado in concurso:\n",
    "    api = f'https://loteriascaixa-api.herokuapp.com/api/megasena/{resultado}'\n",
    "    response = requests.get(api)\n",
    "    if response.status_code == 200:\n",
    "        print ('requisição: OK!')\n",
    "        dados = response.json()\n",
    "        print('transformando no formato json')\n",
    "    else:\n",
    "        print ('Erro!')\n",
    "    \n",
    "\n",
    "    print(dados)"
   ]
  },
  {
   "cell_type": "code",
   "execution_count": null,
   "metadata": {},
   "outputs": [
    {
     "name": "stdout",
     "output_type": "stream",
     "text": [
      "/workspaces/projeto_ing/apis/app/tmp/resultado_mega_20241230_150630.txt\n",
      "      Concurso Data do Sorteio  Bola1  Bola2  Bola3  Bola4  Bola5  Bola6  \\\n",
      "0            1      11/03/1996      4      5     30     33     41     52   \n",
      "1            2      18/03/1996      9     37     39     41     43     49   \n",
      "2            3      25/03/1996     10     11     29     30     36     47   \n",
      "3            4      01/04/1996      1      5      6     27     42     59   \n",
      "4            5      08/04/1996      1      2      6     16     19     46   \n",
      "...        ...             ...    ...    ...    ...    ...    ...    ...   \n",
      "2804      2805      07/12/2024      1      6     24     47     55     58   \n",
      "2805      2806      10/12/2024      5     11     13     33     45     46   \n",
      "2806      2807      12/12/2024      8     25     49     52     55     56   \n",
      "2807      2808      14/12/2024     10     24     33     35     41     46   \n",
      "2808      2809      17/12/2024      2      4     15     28     34     39   \n",
      "\n",
      "      Ganhadores 6 acertos       Cidade / UF Rateio 6 acertos  \\\n",
      "0                        0              None           R$0,00   \n",
      "1                        1                PR   R$2.307.162,23   \n",
      "2                        2            RN; SP     R$391.192,51   \n",
      "3                        0              None           R$0,00   \n",
      "4                        0              None           R$0,00   \n",
      "...                    ...               ...              ...   \n",
      "2804                     1  CANAL ELETRONICO  R$28.019.522,26   \n",
      "2805                     0              None           R$0,00   \n",
      "2806                     0              None           R$0,00   \n",
      "2807                     0              None           R$0,00   \n",
      "2808                     0              None           R$0,00   \n",
      "\n",
      "      Ganhadores 5 acertos Rateio 5 acertos  Ganhadores 4 acertos  \\\n",
      "0                       17      R$39.158,92                  2016   \n",
      "1                       65      R$14.424,02                  4488   \n",
      "2                       62      R$10.515,93                  4261   \n",
      "3                       39      R$15.322,24                  3311   \n",
      "4                       98       R$5.318,10                  5399   \n",
      "...                    ...              ...                   ...   \n",
      "2804                    60      R$50.629,15                  3839   \n",
      "2805                    76      R$22.055,23                  4737   \n",
      "2806                    18     R$104.535,16                  2025   \n",
      "2807                    60      R$42.563,82                  3408   \n",
      "2808                    39      R$60.526,40                  5000   \n",
      "\n",
      "     Rateio 4 acertos Acumulado 6 acertos Arrecadação Total Estimativa prêmio  \\\n",
      "0            R$330,21      R$1.714.650,23            R$0,00            R$0,00   \n",
      "1            R$208,91              R$0,00            R$0,00            R$0,00   \n",
      "2            R$153,01              R$0,00            R$0,00            R$0,00   \n",
      "3            R$180,48        R$717.080,75            R$0,00            R$0,00   \n",
      "4             R$96,53      R$1.342.488,85            R$0,00            R$0,00   \n",
      "...               ...                 ...               ...               ...   \n",
      "2804       R$1.130,40              R$0,00   R$52.158.520,00    R$3.500.000,00   \n",
      "2805         R$505,50      R$3.087.731,41   R$28.780.510,00    R$7.000.000,00   \n",
      "2806       R$1.327,43      R$6.553.897,39   R$32.307.870,00   R$11.000.000,00   \n",
      "2807       R$1.070,51     R$11.258.319,36   R$43.849.560,00   R$16.000.000,00   \n",
      "2808         R$674,43    R$162.208.744,02   R$40.530.585,00  R$600.000.000,00   \n",
      "\n",
      "     Acumulado Sorteio Especial Mega da Virada Observação  \n",
      "0                                       R$0,00       None  \n",
      "1                                       R$0,00       None  \n",
      "2                                       R$0,00       None  \n",
      "3                                       R$0,00       None  \n",
      "4                                       R$0,00       None  \n",
      "...                                        ...        ...  \n",
      "2804                          R$131.045.261,25       None  \n",
      "2805                          R$131.486.365,74       None  \n",
      "2806                          R$131.981.532,32       None  \n",
      "2807                          R$132.653.592,61       None  \n",
      "2808                          R$162.208.744,02       None  \n",
      "\n",
      "[2809 rows x 20 columns]\n",
      "arquivo salvo: /workspaces/projeto_ing/apis/app/tmp/resultado_mega_20241230_150630.txt\n"
     ]
    }
   ],
   "source": [
    "from datetime import datetime\n",
    "\n",
    "timestamp = datetime.now().strftime('%Y%m%d_%H%M%S')\n",
    "\n",
    "file = '/workspaces/projeto_ing/apis/setting/Mega-Sena(3).xlsx'\n",
    "file_save = '/workspaces/projeto_ing/apis/app/tmp/'\n",
    "wb = openpyxl.load_workbook(filename=file)\n",
    "\n",
    "name = f'resultado_mega_{timestamp}.txt'\n",
    "caminho = file_save + name\n",
    "print(caminho)\n",
    "\n",
    "dict_dfs = {}\n",
    "\n",
    "\n",
    "for sheet in wb.sheetnames:\n",
    "    sheet_data = []\n",
    "    for row in wb[sheet].iter_rows(values_only=True):\n",
    "        sheet_data.append(row)\n",
    "    \n",
    "    df = pd.DataFrame(sheet_data[1:], columns=sheet_data[0])\n",
    "    print(df)\n",
    "    df.to_csv(caminho, sep=';', index=False)\n",
    "    print(f'arquivo salvo: {caminho}')\n",
    "    \n",
    "    "
   ]
  },
  {
   "cell_type": "code",
   "execution_count": null,
   "metadata": {},
   "outputs": [],
   "source": []
  },
  {
   "cell_type": "code",
   "execution_count": 37,
   "metadata": {},
   "outputs": [
    {
     "name": "stdout",
     "output_type": "stream",
     "text": [
      "Collecting openpyxl\n",
      "  Downloading openpyxl-3.1.5-py2.py3-none-any.whl.metadata (2.5 kB)\n",
      "Collecting et-xmlfile (from openpyxl)\n",
      "  Downloading et_xmlfile-2.0.0-py3-none-any.whl.metadata (2.7 kB)\n",
      "Downloading openpyxl-3.1.5-py2.py3-none-any.whl (250 kB)\n",
      "Downloading et_xmlfile-2.0.0-py3-none-any.whl (18 kB)\n",
      "Installing collected packages: et-xmlfile, openpyxl\n",
      "Successfully installed et-xmlfile-2.0.0 openpyxl-3.1.5\n",
      "\n",
      "\u001b[1m[\u001b[0m\u001b[34;49mnotice\u001b[0m\u001b[1;39;49m]\u001b[0m\u001b[39;49m A new release of pip is available: \u001b[0m\u001b[31;49m24.2\u001b[0m\u001b[39;49m -> \u001b[0m\u001b[32;49m24.3.1\u001b[0m\n",
      "\u001b[1m[\u001b[0m\u001b[34;49mnotice\u001b[0m\u001b[1;39;49m]\u001b[0m\u001b[39;49m To update, run: \u001b[0m\u001b[32;49mpip install --upgrade pip\u001b[0m\n",
      "Note: you may need to restart the kernel to use updated packages.\n"
     ]
    }
   ],
   "source": [
    "%pip install openpyxl"
   ]
  },
  {
   "cell_type": "code",
   "execution_count": null,
   "metadata": {},
   "outputs": [],
   "source": []
  },
  {
   "cell_type": "code",
   "execution_count": null,
   "metadata": {},
   "outputs": [],
   "source": []
  },
  {
   "cell_type": "code",
   "execution_count": null,
   "metadata": {},
   "outputs": [],
   "source": []
  },
  {
   "cell_type": "markdown",
   "metadata": {},
   "source": [
    "api = 'https://loteriascaixa-api.herokuapp.com/api/'\n",
    "\n",
    "response = requests.get(api)\n",
    "print(response)\n",
    "dados = response.json()\n",
    "print(dados)"
   ]
  },
  {
   "cell_type": "code",
   "execution_count": 17,
   "metadata": {},
   "outputs": [
    {
     "name": "stdout",
     "output_type": "stream",
     "text": [
      "[2620, 2621]\n"
     ]
    }
   ],
   "source": [
    "concurso = [2620, 2621]\n",
    "print(concurso)"
   ]
  },
  {
   "cell_type": "code",
   "execution_count": null,
   "metadata": {},
   "outputs": [
    {
     "name": "stdout",
     "output_type": "stream",
     "text": [
      "requisição: OK!\n",
      "transformando no formato json\n",
      "{'loteria': 'megasena', 'concurso': 2620, 'data': '12/08/2023', 'local': 'ESPAÇO DA SORTE em SÃO PAULO, SP', 'dezenasOrdemSorteio': ['26', '21', '13', '04', '06', '28'], 'dezenas': ['04', '06', '13', '21', '26', '28'], 'trevos': [], 'timeCoracao': None, 'mesSorte': None, 'premiacoes': [{'descricao': '6 acertos', 'faixa': 1, 'ganhadores': 4, 'valorPremio': 29058128.28}, {'descricao': '5 acertos', 'faixa': 2, 'ganhadores': 404, 'valorPremio': 23042.04}, {'descricao': '4 acertos', 'faixa': 3, 'ganhadores': 21667, 'valorPremio': 613.76}], 'estadosPremiados': [], 'observacao': '', 'acumulou': False, 'proximoConcurso': 2621, 'dataProximoConcurso': '16/08/2023', 'localGanhadores': [{'ganhadores': 1, 'municipio': 'CANAL ELETRONICO', 'nomeFatansiaUL': '', 'serie': '', 'posicao': 1, 'uf': '--'}, {'ganhadores': 1, 'municipio': 'UBERABA', 'nomeFatansiaUL': '', 'serie': '', 'posicao': 1, 'uf': 'MG'}, {'ganhadores': 2, 'municipio': 'SINOP', 'nomeFatansiaUL': '', 'serie': '', 'posicao': 1, 'uf': 'MT'}], 'valorArrecadado': 161458740.0, 'valorAcumuladoConcurso_0_5': 10778824.03, 'valorAcumuladoConcursoEspecial': 72866210.44, 'valorAcumuladoProximoConcurso': 0.0, 'valorEstimadoProximoConcurso': 3500000.0}\n",
      "requisição: OK!\n",
      "transformando no formato json\n",
      "{'loteria': 'megasena', 'concurso': 2621, 'data': '16/08/2023', 'local': 'ESPAÇO DA SORTE em SÃO PAULO, SP', 'dezenasOrdemSorteio': ['14', '47', '09', '16', '42', '06'], 'dezenas': ['06', '09', '14', '16', '42', '47'], 'trevos': [], 'timeCoracao': None, 'mesSorte': None, 'premiacoes': [{'descricao': '6 acertos', 'faixa': 1, 'ganhadores': 2, 'valorPremio': 1928029.09}, {'descricao': '5 acertos', 'faixa': 2, 'ganhadores': 33, 'valorPremio': 63432.99}, {'descricao': '4 acertos', 'faixa': 3, 'ganhadores': 3245, 'valorPremio': 921.54}], 'estadosPremiados': [], 'observacao': '', 'acumulou': False, 'proximoConcurso': 2622, 'dataProximoConcurso': '19/08/2023', 'localGanhadores': [{'ganhadores': 1, 'municipio': 'CANAL ELETRONICO', 'nomeFatansiaUL': '', 'serie': '', 'posicao': 1, 'uf': '--'}, {'ganhadores': 1, 'municipio': 'JUAZEIRO', 'nomeFatansiaUL': '', 'serie': '', 'posicao': 1, 'uf': 'BA'}], 'valorArrecadado': 36306835.0, 'valorAcumuladoConcurso_0_5': 13202632.02, 'valorAcumuladoConcursoEspecial': 73417075.91, 'valorAcumuladoProximoConcurso': 0.0, 'valorEstimadoProximoConcurso': 4000000.0}\n"
     ]
    }
   ],
   "source": [
    "concurso = [2620, 2621]\n",
    "\n",
    "for resultado in concurso:\n",
    "    api = f'https://loteriascaixa-api.herokuapp.com/api/megasena/{resultado}'\n",
    "    response = requests.get(api)\n",
    "    if response.status_code == 200:\n",
    "        print ('requisição: OK!')\n",
    "        dados = response.json()\n",
    "        print('transformando no formato json')\n",
    "    else:\n",
    "        print ('Erro!')\n",
    "    \n",
    "    print(dados)\n",
    "    "
   ]
  },
  {
   "cell_type": "code",
   "execution_count": 27,
   "metadata": {},
   "outputs": [
    {
     "name": "stdout",
     "output_type": "stream",
     "text": [
      "<Response [400]>\n",
      "{'status': 400, 'error': 'Bad Request', 'message': 'Failed to convert value of type \\'java.lang.String\\' to required type \\'java.lang.Integer\\'; nested exception is java.lang.NumberFormatException: For input string: \"[2620]\"', 'timestamp': 1735570015187, 'path': '/api/megasena/%5B2620%5D'}\n"
     ]
    }
   ],
   "source": [
    "concurso = [2620]\n",
    "api = f'https://loteriascaixa-api.herokuapp.com/api/megasena/{concurso}'\n",
    "\n",
    "response = requests.get(api)\n",
    "print(response)\n",
    "dados = response.json()\n",
    "print(dados)"
   ]
  },
  {
   "cell_type": "code",
   "execution_count": 29,
   "metadata": {},
   "outputs": [
    {
     "name": "stdout",
     "output_type": "stream",
     "text": [
      "2620\n"
     ]
    }
   ],
   "source": [
    "for resultado in concurso:\n",
    "    print(int(resultado))"
   ]
  }
 ],
 "metadata": {
  "kernelspec": {
   "display_name": "Python 3",
   "language": "python",
   "name": "python3"
  },
  "language_info": {
   "codemirror_mode": {
    "name": "ipython",
    "version": 3
   },
   "file_extension": ".py",
   "mimetype": "text/x-python",
   "name": "python",
   "nbconvert_exporter": "python",
   "pygments_lexer": "ipython3",
   "version": "3.10.13"
  }
 },
 "nbformat": 4,
 "nbformat_minor": 2
}
