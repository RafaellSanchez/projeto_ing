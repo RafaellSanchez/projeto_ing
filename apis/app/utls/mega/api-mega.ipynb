{
 "cells": [
  {
   "cell_type": "code",
   "execution_count": 22,
   "metadata": {},
   "outputs": [],
   "source": [
    "import requests\n",
    "import pandas as pd\n",
    "import os\n",
    "import openpyxl\n",
    "import numpy as np\n",
    "import itertools\n",
    "import re"
   ]
  },
  {
   "cell_type": "code",
   "execution_count": 35,
   "metadata": {},
   "outputs": [
    {
     "name": "stdout",
     "output_type": "stream",
     "text": [
      "requisição: OK!\n",
      "transformando no formato json\n",
      "{'loteria': 'megasena', 'concurso': 2620, 'data': '12/08/2023', 'local': 'ESPAÇO DA SORTE em SÃO PAULO, SP', 'dezenasOrdemSorteio': ['26', '21', '13', '04', '06', '28'], 'dezenas': ['04', '06', '13', '21', '26', '28'], 'trevos': [], 'timeCoracao': None, 'mesSorte': None, 'premiacoes': [{'descricao': '6 acertos', 'faixa': 1, 'ganhadores': 4, 'valorPremio': 29058128.28}, {'descricao': '5 acertos', 'faixa': 2, 'ganhadores': 404, 'valorPremio': 23042.04}, {'descricao': '4 acertos', 'faixa': 3, 'ganhadores': 21667, 'valorPremio': 613.76}], 'estadosPremiados': [], 'observacao': '', 'acumulou': False, 'proximoConcurso': 2621, 'dataProximoConcurso': '16/08/2023', 'localGanhadores': [{'ganhadores': 1, 'municipio': 'CANAL ELETRONICO', 'nomeFatansiaUL': '', 'serie': '', 'posicao': 1, 'uf': '--'}, {'ganhadores': 1, 'municipio': 'UBERABA', 'nomeFatansiaUL': '', 'serie': '', 'posicao': 1, 'uf': 'MG'}, {'ganhadores': 2, 'municipio': 'SINOP', 'nomeFatansiaUL': '', 'serie': '', 'posicao': 1, 'uf': 'MT'}], 'valorArrecadado': 161458740.0, 'valorAcumuladoConcurso_0_5': 10778824.03, 'valorAcumuladoConcursoEspecial': 72866210.44, 'valorAcumuladoProximoConcurso': 0.0, 'valorEstimadoProximoConcurso': 3500000.0}\n",
      "requisição: OK!\n",
      "transformando no formato json\n",
      "{'loteria': 'megasena', 'concurso': 2621, 'data': '16/08/2023', 'local': 'ESPAÇO DA SORTE em SÃO PAULO, SP', 'dezenasOrdemSorteio': ['14', '47', '09', '16', '42', '06'], 'dezenas': ['06', '09', '14', '16', '42', '47'], 'trevos': [], 'timeCoracao': None, 'mesSorte': None, 'premiacoes': [{'descricao': '6 acertos', 'faixa': 1, 'ganhadores': 2, 'valorPremio': 1928029.09}, {'descricao': '5 acertos', 'faixa': 2, 'ganhadores': 33, 'valorPremio': 63432.99}, {'descricao': '4 acertos', 'faixa': 3, 'ganhadores': 3245, 'valorPremio': 921.54}], 'estadosPremiados': [], 'observacao': '', 'acumulou': False, 'proximoConcurso': 2622, 'dataProximoConcurso': '19/08/2023', 'localGanhadores': [{'ganhadores': 1, 'municipio': 'CANAL ELETRONICO', 'nomeFatansiaUL': '', 'serie': '', 'posicao': 1, 'uf': '--'}, {'ganhadores': 1, 'municipio': 'JUAZEIRO', 'nomeFatansiaUL': '', 'serie': '', 'posicao': 1, 'uf': 'BA'}], 'valorArrecadado': 36306835.0, 'valorAcumuladoConcurso_0_5': 13202632.02, 'valorAcumuladoConcursoEspecial': 73417075.91, 'valorAcumuladoProximoConcurso': 0.0, 'valorEstimadoProximoConcurso': 4000000.0}\n"
     ]
    }
   ],
   "source": [
    "concurso = [2620, 2621]\n",
    "\n",
    "for resultado in concurso:\n",
    "    api = f'https://loteriascaixa-api.herokuapp.com/api/megasena/{resultado}'\n",
    "    response = requests.get(api)\n",
    "    if response.status_code == 200:\n",
    "        print ('requisição: OK!')\n",
    "        dados = response.json()\n",
    "        print('transformando no formato json')\n",
    "    else:\n",
    "        print ('Erro!')\n",
    "    \n",
    "\n",
    "    print(dados)"
   ]
  },
  {
   "cell_type": "code",
   "execution_count": null,
   "metadata": {},
   "outputs": [
    {
     "name": "stdout",
     "output_type": "stream",
     "text": [
      "/workspaces/projeto_ing/apis/app/tmp/resultado_mega_20241230_150630.txt\n",
      "      Concurso Data do Sorteio  Bola1  Bola2  Bola3  Bola4  Bola5  Bola6  \\\n",
      "0            1      11/03/1996      4      5     30     33     41     52   \n",
      "1            2      18/03/1996      9     37     39     41     43     49   \n",
      "2            3      25/03/1996     10     11     29     30     36     47   \n",
      "3            4      01/04/1996      1      5      6     27     42     59   \n",
      "4            5      08/04/1996      1      2      6     16     19     46   \n",
      "...        ...             ...    ...    ...    ...    ...    ...    ...   \n",
      "2804      2805      07/12/2024      1      6     24     47     55     58   \n",
      "2805      2806      10/12/2024      5     11     13     33     45     46   \n",
      "2806      2807      12/12/2024      8     25     49     52     55     56   \n",
      "2807      2808      14/12/2024     10     24     33     35     41     46   \n",
      "2808      2809      17/12/2024      2      4     15     28     34     39   \n",
      "\n",
      "      Ganhadores 6 acertos       Cidade / UF Rateio 6 acertos  \\\n",
      "0                        0              None           R$0,00   \n",
      "1                        1                PR   R$2.307.162,23   \n",
      "2                        2            RN; SP     R$391.192,51   \n",
      "3                        0              None           R$0,00   \n",
      "4                        0              None           R$0,00   \n",
      "...                    ...               ...              ...   \n",
      "2804                     1  CANAL ELETRONICO  R$28.019.522,26   \n",
      "2805                     0              None           R$0,00   \n",
      "2806                     0              None           R$0,00   \n",
      "2807                     0              None           R$0,00   \n",
      "2808                     0              None           R$0,00   \n",
      "\n",
      "      Ganhadores 5 acertos Rateio 5 acertos  Ganhadores 4 acertos  \\\n",
      "0                       17      R$39.158,92                  2016   \n",
      "1                       65      R$14.424,02                  4488   \n",
      "2                       62      R$10.515,93                  4261   \n",
      "3                       39      R$15.322,24                  3311   \n",
      "4                       98       R$5.318,10                  5399   \n",
      "...                    ...              ...                   ...   \n",
      "2804                    60      R$50.629,15                  3839   \n",
      "2805                    76      R$22.055,23                  4737   \n",
      "2806                    18     R$104.535,16                  2025   \n",
      "2807                    60      R$42.563,82                  3408   \n",
      "2808                    39      R$60.526,40                  5000   \n",
      "\n",
      "     Rateio 4 acertos Acumulado 6 acertos Arrecadação Total Estimativa prêmio  \\\n",
      "0            R$330,21      R$1.714.650,23            R$0,00            R$0,00   \n",
      "1            R$208,91              R$0,00            R$0,00            R$0,00   \n",
      "2            R$153,01              R$0,00            R$0,00            R$0,00   \n",
      "3            R$180,48        R$717.080,75            R$0,00            R$0,00   \n",
      "4             R$96,53      R$1.342.488,85            R$0,00            R$0,00   \n",
      "...               ...                 ...               ...               ...   \n",
      "2804       R$1.130,40              R$0,00   R$52.158.520,00    R$3.500.000,00   \n",
      "2805         R$505,50      R$3.087.731,41   R$28.780.510,00    R$7.000.000,00   \n",
      "2806       R$1.327,43      R$6.553.897,39   R$32.307.870,00   R$11.000.000,00   \n",
      "2807       R$1.070,51     R$11.258.319,36   R$43.849.560,00   R$16.000.000,00   \n",
      "2808         R$674,43    R$162.208.744,02   R$40.530.585,00  R$600.000.000,00   \n",
      "\n",
      "     Acumulado Sorteio Especial Mega da Virada Observação  \n",
      "0                                       R$0,00       None  \n",
      "1                                       R$0,00       None  \n",
      "2                                       R$0,00       None  \n",
      "3                                       R$0,00       None  \n",
      "4                                       R$0,00       None  \n",
      "...                                        ...        ...  \n",
      "2804                          R$131.045.261,25       None  \n",
      "2805                          R$131.486.365,74       None  \n",
      "2806                          R$131.981.532,32       None  \n",
      "2807                          R$132.653.592,61       None  \n",
      "2808                          R$162.208.744,02       None  \n",
      "\n",
      "[2809 rows x 20 columns]\n",
      "arquivo salvo: /workspaces/projeto_ing/apis/app/tmp/resultado_mega_20241230_150630.txt\n"
     ]
    }
   ],
   "source": [
    "from datetime import datetime\n",
    "\n",
    "timestamp = datetime.now().strftime('%Y%m%d_%H%M%S')\n",
    "\n",
    "file = '/workspaces/projeto_ing/apis/setting/Mega-Sena(3).xlsx'\n",
    "file_save = '/workspaces/projeto_ing/apis/app/tmp/'\n",
    "wb = openpyxl.load_workbook(filename=file)\n",
    "\n",
    "name = f'resultado_mega_{timestamp}.txt'\n",
    "caminho = file_save + name\n",
    "print(caminho)\n",
    "\n",
    "dict_dfs = {}\n",
    "\n",
    "\n",
    "for sheet in wb.sheetnames:\n",
    "    sheet_data = []\n",
    "    for row in wb[sheet].iter_rows(values_only=True):\n",
    "        sheet_data.append(row)\n",
    "    \n",
    "    df = pd.DataFrame(sheet_data[1:], columns=sheet_data[0])\n",
    "    print(df)\n",
    "    df.to_csv(caminho, sep=';', index=False)\n",
    "    print(f'arquivo salvo: {caminho}')\n",
    "    \n",
    "    "
   ]
  },
  {
   "cell_type": "code",
   "execution_count": 44,
   "metadata": {},
   "outputs": [
    {
     "name": "stdout",
     "output_type": "stream",
     "text": [
      "0          1\n",
      "1          2\n",
      "2          3\n",
      "3          4\n",
      "4          5\n",
      "        ... \n",
      "2804    2805\n",
      "2805    2806\n",
      "2806    2807\n",
      "2807    2808\n",
      "2808    2809\n",
      "Name: Concurso, Length: 2809, dtype: int64\n",
      "[1, 2, 3, 4, 5, 6, 7, 8, 9, 10, 11, 12, 13, 14, 15, 16, 17, 18, 19, 20, 21, 22, 23, 24, 25, 26, 27, 28, 29, 30, 31, 32, 33, 34, 35, 36, 37, 38, 39, 40, 41, 42, 43, 44, 45, 46, 47, 48, 49, 50, 51, 52, 53, 54, 55, 56, 57, 58, 59, 60]\n",
      "[ 0 32 33 34 35 36 37 38 39 40 41 42 43 31 44 46 47 48 49 50 51 52 53 54]\n",
      "[0.44028952]\n",
      "[[23.  3. 16. 13. 59. 28.]\n",
      " [35.  8. 23. 20. 54. 15.]\n",
      " [10. 21. 24. 58. 50.  4.]\n",
      " [18. 24. 43. 19.  7.  9.]\n",
      " [28. 21. 43. 24. 58. 27.]\n",
      " [37. 30.  3. 28. 38. 25.]\n",
      " [34. 54. 36. 34. 50. 57.]\n",
      " [17. 30. 22.  9.  0. 19.]\n",
      " [18.  2. 18. 14. 10. 42.]\n",
      " [51. 52. 24. 31. 44. 35.]]\n"
     ]
    }
   ],
   "source": [
    "load = '/workspaces/projeto_ing/apis/app/tmp/resultado_mega_20241230_150630.txt'\n",
    "\n",
    "df = pd.read_csv(load, sep=';', index_col=False)\n",
    "# display(df)\n",
    "df_conc = df['Concurso']\n",
    "print(df_conc)\n",
    "\n",
    "valores_filtrados = [valor for valor in df_conc.values.flatten() if 1 <= valor <= 60]\n",
    "print(valores_filtrados)\n",
    "valores_array = np.array(valores_filtrados)\n",
    "valores_mais_frequentes, contagens = np.unique(valores_array, return_counts=True)\n",
    "\n",
    "# df_result = df_conc.apply(pd.to_numeric, errors= 'coerse')\n",
    "# display(df_result)\n",
    "\n",
    "indices_mais_frequentes = np.argsort(-contagens)[:24]\n",
    "valores_mais_frequentes = valores_mais_frequentes[indices_mais_frequentes]\n",
    "# print(f'valores mais frequentes: {valores_mais_frequentes}')\n",
    "print(indices_mais_frequentes)\n",
    "\n",
    "valores_mais_frequentes = np.random.random(1)\n",
    "print(valores_mais_frequentes)\n",
    "\n",
    "valores_mais_frequentes = np.floor(60*np.random.random((10,6))) \n",
    "print(valores_mais_frequentes)"
   ]
  },
  {
   "cell_type": "code",
   "execution_count": 20,
   "metadata": {},
   "outputs": [
    {
     "name": "stdout",
     "output_type": "stream",
     "text": [
      "Função carregada!\n"
     ]
    }
   ],
   "source": [
    "def calcular_maior_numero_jogos(numeros_disponiveis, tamanho_jogo, quantidade_jogos):\n",
    "    combinacoes = list(itertools.combinations(numeros_disponiveis, tamanho_jogo))\n",
    "    \n",
    "    jogos = []\n",
    "\n",
    "    for combinacao in combinacoes:\n",
    "        if len(jogos) >= quantidade_jogos:\n",
    "            break\n",
    "        if all(set(combinacao).isdisjoint(jogo) for jogo in jogos):\n",
    "            jogos.append(combinacao)\n",
    "    \n",
    "    return jogos\n",
    "print('Função carregada!')"
   ]
  },
  {
   "cell_type": "code",
   "execution_count": 31,
   "metadata": {},
   "outputs": [
    {
     "data": {
      "text/plain": [
       "[(1, 33, 34, 35, 36, 37),\n",
       " (38, 39, 40, 41, 42, 43),\n",
       " (44, 32, 45, 47, 48, 49),\n",
       " (50, 51, 52, 53, 54, 55)]"
      ]
     },
     "metadata": {},
     "output_type": "display_data"
    }
   ],
   "source": [
    "numeros_disponiveis = re.findall(r'\\d+', str(valores_mais_frequentes))\n",
    "numeros_disponiveis = [int(numero) for numero in numeros_disponiveis]\n",
    "\n",
    "tamanho_jogo = 6\n",
    "quantidade_jogos = 4\n",
    "jogos = calcular_maior_numero_jogos(numeros_disponiveis, tamanho_jogo, quantidade_jogos)\n",
    "display(jogos)"
   ]
  },
  {
   "cell_type": "code",
   "execution_count": null,
   "metadata": {},
   "outputs": [],
   "source": []
  },
  {
   "cell_type": "markdown",
   "metadata": {},
   "source": [
    "api = 'https://loteriascaixa-api.herokuapp.com/api/'\n",
    "\n",
    "response = requests.get(api)\n",
    "print(response)\n",
    "dados = response.json()\n",
    "print(dados)"
   ]
  },
  {
   "cell_type": "code",
   "execution_count": 17,
   "metadata": {},
   "outputs": [
    {
     "name": "stdout",
     "output_type": "stream",
     "text": [
      "[2620, 2621]\n"
     ]
    }
   ],
   "source": [
    "concurso = [2620, 2621]\n",
    "print(concurso)"
   ]
  },
  {
   "cell_type": "code",
   "execution_count": null,
   "metadata": {},
   "outputs": [
    {
     "name": "stdout",
     "output_type": "stream",
     "text": [
      "requisição: OK!\n",
      "transformando no formato json\n",
      "{'loteria': 'megasena', 'concurso': 2620, 'data': '12/08/2023', 'local': 'ESPAÇO DA SORTE em SÃO PAULO, SP', 'dezenasOrdemSorteio': ['26', '21', '13', '04', '06', '28'], 'dezenas': ['04', '06', '13', '21', '26', '28'], 'trevos': [], 'timeCoracao': None, 'mesSorte': None, 'premiacoes': [{'descricao': '6 acertos', 'faixa': 1, 'ganhadores': 4, 'valorPremio': 29058128.28}, {'descricao': '5 acertos', 'faixa': 2, 'ganhadores': 404, 'valorPremio': 23042.04}, {'descricao': '4 acertos', 'faixa': 3, 'ganhadores': 21667, 'valorPremio': 613.76}], 'estadosPremiados': [], 'observacao': '', 'acumulou': False, 'proximoConcurso': 2621, 'dataProximoConcurso': '16/08/2023', 'localGanhadores': [{'ganhadores': 1, 'municipio': 'CANAL ELETRONICO', 'nomeFatansiaUL': '', 'serie': '', 'posicao': 1, 'uf': '--'}, {'ganhadores': 1, 'municipio': 'UBERABA', 'nomeFatansiaUL': '', 'serie': '', 'posicao': 1, 'uf': 'MG'}, {'ganhadores': 2, 'municipio': 'SINOP', 'nomeFatansiaUL': '', 'serie': '', 'posicao': 1, 'uf': 'MT'}], 'valorArrecadado': 161458740.0, 'valorAcumuladoConcurso_0_5': 10778824.03, 'valorAcumuladoConcursoEspecial': 72866210.44, 'valorAcumuladoProximoConcurso': 0.0, 'valorEstimadoProximoConcurso': 3500000.0}\n",
      "requisição: OK!\n",
      "transformando no formato json\n",
      "{'loteria': 'megasena', 'concurso': 2621, 'data': '16/08/2023', 'local': 'ESPAÇO DA SORTE em SÃO PAULO, SP', 'dezenasOrdemSorteio': ['14', '47', '09', '16', '42', '06'], 'dezenas': ['06', '09', '14', '16', '42', '47'], 'trevos': [], 'timeCoracao': None, 'mesSorte': None, 'premiacoes': [{'descricao': '6 acertos', 'faixa': 1, 'ganhadores': 2, 'valorPremio': 1928029.09}, {'descricao': '5 acertos', 'faixa': 2, 'ganhadores': 33, 'valorPremio': 63432.99}, {'descricao': '4 acertos', 'faixa': 3, 'ganhadores': 3245, 'valorPremio': 921.54}], 'estadosPremiados': [], 'observacao': '', 'acumulou': False, 'proximoConcurso': 2622, 'dataProximoConcurso': '19/08/2023', 'localGanhadores': [{'ganhadores': 1, 'municipio': 'CANAL ELETRONICO', 'nomeFatansiaUL': '', 'serie': '', 'posicao': 1, 'uf': '--'}, {'ganhadores': 1, 'municipio': 'JUAZEIRO', 'nomeFatansiaUL': '', 'serie': '', 'posicao': 1, 'uf': 'BA'}], 'valorArrecadado': 36306835.0, 'valorAcumuladoConcurso_0_5': 13202632.02, 'valorAcumuladoConcursoEspecial': 73417075.91, 'valorAcumuladoProximoConcurso': 0.0, 'valorEstimadoProximoConcurso': 4000000.0}\n"
     ]
    }
   ],
   "source": [
    "concurso = [2620, 2621]\n",
    "\n",
    "for resultado in concurso:\n",
    "    api = f'https://loteriascaixa-api.herokuapp.com/api/megasena/{resultado}'\n",
    "    response = requests.get(api)\n",
    "    if response.status_code == 200:\n",
    "        print ('requisição: OK!')\n",
    "        dados = response.json()\n",
    "        print('transformando no formato json')\n",
    "    else:\n",
    "        print ('Erro!')\n",
    "    \n",
    "    print(dados)\n",
    "    "
   ]
  },
  {
   "cell_type": "code",
   "execution_count": 27,
   "metadata": {},
   "outputs": [
    {
     "name": "stdout",
     "output_type": "stream",
     "text": [
      "<Response [400]>\n",
      "{'status': 400, 'error': 'Bad Request', 'message': 'Failed to convert value of type \\'java.lang.String\\' to required type \\'java.lang.Integer\\'; nested exception is java.lang.NumberFormatException: For input string: \"[2620]\"', 'timestamp': 1735570015187, 'path': '/api/megasena/%5B2620%5D'}\n"
     ]
    }
   ],
   "source": [
    "concurso = [2620]\n",
    "api = f'https://loteriascaixa-api.herokuapp.com/api/megasena/{concurso}'\n",
    "\n",
    "response = requests.get(api)\n",
    "print(response)\n",
    "dados = response.json()\n",
    "print(dados)"
   ]
  },
  {
   "cell_type": "code",
   "execution_count": 29,
   "metadata": {},
   "outputs": [
    {
     "name": "stdout",
     "output_type": "stream",
     "text": [
      "2620\n"
     ]
    }
   ],
   "source": [
    "for resultado in concurso:\n",
    "    print(int(resultado))"
   ]
  }
 ],
 "metadata": {
  "kernelspec": {
   "display_name": "Python 3",
   "language": "python",
   "name": "python3"
  },
  "language_info": {
   "codemirror_mode": {
    "name": "ipython",
    "version": 3
   },
   "file_extension": ".py",
   "mimetype": "text/x-python",
   "name": "python",
   "nbconvert_exporter": "python",
   "pygments_lexer": "ipython3",
   "version": "3.10.13"
  }
 },
 "nbformat": 4,
 "nbformat_minor": 2
}
