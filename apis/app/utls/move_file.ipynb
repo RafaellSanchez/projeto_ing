{
 "cells": [
  {
   "cell_type": "code",
   "execution_count": 1,
   "metadata": {},
   "outputs": [],
   "source": [
    "import shutil"
   ]
  },
  {
   "cell_type": "code",
   "execution_count": 2,
   "metadata": {},
   "outputs": [],
   "source": [
    "#variaveis\n",
    "local = '/workspaces/projeto_ing/apis/app/src/cep/dados_cep_concat_20241115_124729.txt'\n",
    "destino = '/workspaces/projeto_ing/ingestion/app/src/landing/'"
   ]
  },
  {
   "cell_type": "code",
   "execution_count": 3,
   "metadata": {},
   "outputs": [
    {
     "name": "stdout",
     "output_type": "stream",
     "text": [
      "/workspaces/projeto_ing/apis/app/src/cep/dados_cep_concat_20241115_124729.txt\n",
      "arquivo copiado para: /workspaces/projeto_ing/ingestion/app/src/landing/\n"
     ]
    }
   ],
   "source": [
    "shutil.copy(local, destino)\n",
    "print(local)\n",
    "print(f'arquivo copiado para: {destino}')"
   ]
  },
  {
   "cell_type": "code",
   "execution_count": 5,
   "metadata": {},
   "outputs": [
    {
     "name": "stdout",
     "output_type": "stream",
     "text": [
      "codigo\n",
      "modelo\n"
     ]
    }
   ],
   "source": [
    "import sqlite3\n",
    "bd = 'banco_car.db'\n",
    "banco_caminho = f'/workspaces/projeto_ing/INGESTION/database/{bd}'\n",
    "conn = sqlite3.connect(banco_caminho)\n",
    "cursor = conn.cursor()\n",
    "\n",
    "cursor.execute(\"PRAGMA table_info(tabela_vw)\")\n",
    "\n",
    "# Recupere os resultados da consulta\n",
    "colunas = cursor.fetchall()\n",
    "\n",
    "for coluna in colunas:\n",
    "    print(coluna[1])"
   ]
  },
  {
   "cell_type": "code",
   "execution_count": 6,
   "metadata": {},
   "outputs": [
    {
     "data": {
      "text/plain": [
       "<sqlite3.Cursor at 0x7960a8a92a40>"
      ]
     },
     "execution_count": 6,
     "metadata": {},
     "output_type": "execute_result"
    }
   ],
   "source": [
    "query = 'drop table tabela_vw'\n",
    "cursor.execute(query)\n"
   ]
  },
  {
   "cell_type": "code",
   "execution_count": 7,
   "metadata": {},
   "outputs": [],
   "source": [
    "conn.commit()\n",
    "conn.close()"
   ]
  }
 ],
 "metadata": {
  "kernelspec": {
   "display_name": "Python 3",
   "language": "python",
   "name": "python3"
  },
  "language_info": {
   "codemirror_mode": {
    "name": "ipython",
    "version": 3
   },
   "file_extension": ".py",
   "mimetype": "text/x-python",
   "name": "python",
   "nbconvert_exporter": "python",
   "pygments_lexer": "ipython3",
   "version": "3.10.13"
  }
 },
 "nbformat": 4,
 "nbformat_minor": 2
}
