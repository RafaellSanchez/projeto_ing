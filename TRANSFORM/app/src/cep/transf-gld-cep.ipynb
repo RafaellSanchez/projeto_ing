{
 "cells": [
  {
   "cell_type": "code",
   "execution_count": 10,
   "metadata": {},
   "outputs": [],
   "source": [
    "import pandas as pd\n",
    "import sqlite3"
   ]
  },
  {
   "cell_type": "code",
   "execution_count": 11,
   "metadata": {},
   "outputs": [
    {
     "name": "stdout",
     "output_type": "stream",
     "text": [
      "('Avenida Hum', \"Olho D'Água\", 'Mairiporã', 'SP', 3528502, 4339, 11, 6671, 7601345, 7601, 345, '2024-08-21')\n",
      "('Avenida Rubi', 'Mantiqueira', 'Mairiporã', 'SP', 3528502, 4339, 11, 6671, 7613690, 7613, 690, '2024-08-21')\n",
      "('Avenida Ouro', 'Mantiqueira', 'Mairiporã', 'SP', 3528502, 4339, 11, 6671, 7613655, 7613, 655, '2024-08-21')\n",
      "('Avenida Berna', 'Luiz Fagundes', 'Mairiporã', 'SP', 3528502, 4339, 11, 6671, 7627160, 7627, 160, '2024-08-21')\n",
      "('Avenida Alpes', 'Mato Dentro', 'Mairiporã', 'SP', 3528502, 4339, 11, 6671, 7657210, 7657, 210, '2024-08-21')\n",
      "('Avenida Safira', 'Mantiqueira', 'Mairiporã', 'SP', 3528502, 4339, 11, 6671, 7613680, 7613, 680, '2024-08-21')\n",
      "('Avenida Sandra', 'Rio acima', 'Mairiporã', 'SP', 3528502, 4339, 11, 6671, 7631320, 7631, 320, '2024-08-21')\n",
      "('Avenida Brasil', 'Lavras', 'Mairiporã', 'SP', 3528502, 4339, 11, 6671, 7634020, 7634, 20, '2024-08-21')\n",
      "('Avenida Acesso', 'Juqueri Mirim', 'Mairiporã', 'SP', 3528502, 4339, 11, 6671, 7617005, 7617, 5, '2024-08-21')\n",
      "('Avenida do Sol', 'Rio acima', 'Mairiporã', 'SP', 3528502, 4339, 11, 6671, 7631570, 7631, 570, '2024-08-21')\n",
      "('Avenida Brasil', 'Jundiaizinho (Terra Preta)', 'Mairiporã', 'SP', 3528502, 4339, 11, 6671, 7663080, 7663, 80, '2024-08-21')\n",
      "('Avenida Galena', 'Mantiqueira', 'Mairiporã', 'SP', 3528502, 4339, 11, 6671, 7613705, 7613, 705, '2024-08-21')\n",
      "('Avenida Suécia', \"Olho D'Água\", 'Mairiporã', 'SP', 3528502, 4339, 11, 6671, 7601330, 7601, 330, '2024-08-21')\n",
      "('Avenida da Mata', 'Barreiro', 'Mairiporã', 'SP', 3528502, 4339, 11, 6671, 7611390, 7611, 390, '2024-08-21')\n",
      "('Avenida Quartzo', 'Mantiqueira', 'Mairiporã', 'SP', 3528502, 4339, 11, 6671, 7613710, 7613, 710, '2024-08-21')\n",
      "('Avenida Mariana', 'Roseira', 'Mairiporã', 'SP', 3528502, 4339, 11, 6671, 7619028, 7619, 28, '2024-08-21')\n",
      "('Avenida Pérola', 'Mantiqueira', 'Mairiporã', 'SP', 3528502, 4339, 11, 6671, 7613715, 7613, 715, '2024-08-21')\n",
      "('Avenida Zuriqui', 'Luiz Fagundes', 'Mairiporã', 'SP', 3528502, 4339, 11, 6671, 7627260, 7627, 260, '2024-08-21')\n",
      "('Avenida Everest', 'Mato Dentro', 'Mairiporã', 'SP', 3528502, 4339, 11, 6671, 7657205, 7657, 205, '2024-08-21')\n",
      "('Avenida Bauxita', 'Mantiqueira', 'Mairiporã', 'SP', 3528502, 4339, 11, 6671, 7613720, 7613, 720, '2024-08-21')\n",
      "('Avenida Montreal', \"Olho D'Água\", 'Mairiporã', 'SP', 3528502, 4339, 11, 6671, 7602280, 7602, 280, '2024-08-21')\n",
      "('Avenida Marginal', 'São Vicente', 'Mairiporã', 'SP', 3528502, 4339, 11, 6671, 7607515, 7607, 515, '2024-08-21')\n",
      "('Avenida Colônia', 'Boa Vista', 'Mairiporã', 'SP', 3528502, 4339, 11, 6671, 7612860, 7612, 860, '2024-08-21')\n",
      "('Avenida Nebraska', 'Corumbá (Terra Preta)', 'Mairiporã', 'SP', 3528502, 4339, 11, 6671, 7666180, 7666, 180, '2024-08-21')\n",
      "('Avenida Marginal', 'Rio acima', 'Mairiporã', 'SP', 3528502, 4339, 11, 6671, 7632200, 7632, 200, '2024-08-21')\n",
      "('Avenida Himalaia', 'Mato Dentro', 'Mairiporã', 'SP', 3528502, 4339, 11, 6671, 7657180, 7657, 180, '2024-08-21')\n",
      "('Avenida Marginal', 'Rio abaixo', 'Mairiporã', 'SP', 3528502, 4339, 11, 6671, 7606090, 7606, 90, '2024-08-21')\n",
      "('Avenida das Rosas', 'Jundiaizinho (Terra Preta)', 'Mairiporã', 'SP', 3528502, 4339, 11, 6671, 7664050, 7664, 50, '2024-08-21')\n",
      "('Avenida das Rosas', 'Caraguatá', 'Mairiporã', 'SP', 3528502, 4339, 11, 6671, 7621885, 7621, 885, '2024-08-21')\n",
      "('Avenida Brasília', 'Jundiaizinho (Terra Preta)', 'Mairiporã', 'SP', 3528502, 4339, 11, 6671, 7663090, 7663, 90, '2024-08-21')\n",
      "('Avenida Maranduba', 'Caceia', 'Mairiporã', 'SP', 3528502, 4339, 11, 6671, 7604605, 7604, 605, '2024-08-21')\n",
      "('Avenida dos Rubis', 'Roseira', 'Mairiporã', 'SP', 3528502, 4339, 11, 6671, 7619188, 7619, 188, '2024-08-21')\n",
      "('Avenida Espraiada', 'Jundiaizinho (Terra Preta)', 'Mairiporã', 'SP', 3528502, 4339, 11, 6671, 7664110, 7664, 110, '2024-08-21')\n",
      "('Avenida Esmeralda', 'Mantiqueira', 'Mairiporã', 'SP', 3528502, 4339, 11, 6671, 7613660, 7613, 660, '2024-08-21')\n",
      "('Avenida Cancelata', 'Luiz Fagundes', 'Mairiporã', 'SP', 3528502, 4339, 11, 6671, 7625480, 7625, 480, '2024-08-21')\n",
      "('Avenida Flamboyant', 'Jundiaizinho (Terra Preta)', 'Mairiporã', 'SP', 3528502, 4339, 11, 6671, 7664495, 7664, 495, '2024-08-21')\n",
      "('Avenida São Paulo', 'Roseira', 'Mairiporã', 'SP', 3528502, 4339, 11, 6671, 7618862, 7618, 862, '2024-08-21')\n",
      "('Avenida dos Cedros', 'Roseira', 'Mairiporã', 'SP', 3528502, 4339, 11, 6671, 7619200, 7619, 200, '2024-08-21')\n",
      "('Avenida Pau Marfim', 'Roseira', 'Mairiporã', 'SP', 3528502, 4339, 11, 6671, 7619236, 7619, 236, '2024-08-21')\n",
      "('Avenida Beira Lago', \"Olho D'Água\", 'Mairiporã', 'SP', 3528502, 4339, 11, 6671, 7601050, 7601, 50, '2024-08-21')\n",
      "('Avenida Ouro Preto', 'Roseira', 'Mairiporã', 'SP', 3528502, 4339, 11, 6671, 7619024, 7619, 24, '2024-08-21')\n",
      "('Avenida dos Bambus', 'Roseira', 'Mairiporã', 'SP', 3528502, 4339, 11, 6671, 7619444, 7619, 444, '2024-08-21')\n",
      "('Avenida Caraguatá', 'Cumbari', 'Mairiporã', 'SP', 3528502, 4339, 11, 6671, 7620120, 7620, 120, '2024-08-21')\n",
      "('Avenida Campo Baio', 'Cumbari', 'Mairiporã', 'SP', 3528502, 4339, 11, 6671, 7620100, 7620, 100, '2024-08-21')\n",
      "('Avenida dos Cravos', 'Jundiaizinho (Terra Preta)', 'Mairiporã', 'SP', 3528502, 4339, 11, 6671, 7664070, 7664, 70, '2024-08-21')\n",
      "('Avenida das Tulipas', 'Jundiaizinho (Terra Preta)', 'Mairiporã', 'SP', 3528502, 4339, 11, 6671, 7664083, 7664, 83, '2024-08-21')\n",
      "('Avenida Neli Ladeia', 'Capoavinha', 'Mairiporã', 'SP', 3528502, 4339, 11, 6671, 7629004, 7629, 4, '2024-08-21')\n",
      "('Avenida dos Angicos', 'Roseira', 'Mairiporã', 'SP', 3528502, 4339, 11, 6671, 7619224, 7619, 224, '2024-08-21')\n",
      "('Avenida das Caviunas', 'Roseira', 'Mairiporã', 'SP', 3528502, 4339, 11, 6671, 7619460, 7619, 460, '2024-08-21')\n",
      "('Avenida Serra Morena', 'Barreiro', 'Mairiporã', 'SP', 3528502, 4339, 11, 6671, 7611015, 7611, 15, '2024-08-21')\n"
     ]
    }
   ],
   "source": [
    "bd = 'banco_cep.db'\n",
    "banco_caminho = f'/workspaces/projeto_ing/INGESTION/database/{bd}'\n",
    "conn = sqlite3.connect(banco_caminho)\n",
    "cursor = conn.cursor()\n",
    "query = 'select * from ttbela_slver_cep'\n",
    "cursor.execute(query)\n",
    "resultado = cursor.fetchall()\n",
    "for linha in resultado:\n",
    "    print(linha)"
   ]
  },
  {
   "cell_type": "code",
   "execution_count": 13,
   "metadata": {},
   "outputs": [
    {
     "name": "stdout",
     "output_type": "stream",
     "text": [
      "      logradouro         bairro localidade  uf     ibge   gia  ddd  siafi  \\\n",
      "0    Avenida Hum    Olho D'Água  Mairiporã  SP  3528502  4339   11   6671   \n",
      "1   Avenida Rubi    Mantiqueira  Mairiporã  SP  3528502  4339   11   6671   \n",
      "2   Avenida Ouro    Mantiqueira  Mairiporã  SP  3528502  4339   11   6671   \n",
      "3  Avenida Berna  Luiz Fagundes  Mairiporã  SP  3528502  4339   11   6671   \n",
      "4  Avenida Alpes    Mato Dentro  Mairiporã  SP  3528502  4339   11   6671   \n",
      "\n",
      "      ccep  ccep_loc  ccep_compl    dt_igtao  \n",
      "0  7601345      7601         345  2024-08-21  \n",
      "1  7613690      7613         690  2024-08-21  \n",
      "2  7613655      7613         655  2024-08-21  \n",
      "3  7627160      7627         160  2024-08-21  \n",
      "4  7657210      7657         210  2024-08-21  \n",
      "tabela ingerida\n"
     ]
    }
   ],
   "source": [
    "df = pd.DataFrame(resultado, columns=['logradouro', 'bairro', 'localidade', 'uf', 'ibge', 'gia', 'ddd', 'siafi', 'ccep', 'ccep_loc', 'ccep_compl','dt_igtao'])\n",
    "print(df.head())\n",
    "df.to_sql(name='ttbela_gld_cep', con=conn, if_exists = 'append', index = False)\n",
    "print('tabela ingerida')"
   ]
  },
  {
   "cell_type": "code",
   "execution_count": 14,
   "metadata": {},
   "outputs": [
    {
     "name": "stdout",
     "output_type": "stream",
     "text": [
      "('Avenida Hum', \"Olho D'Água\", 'Mairiporã', 'SP', 3528502, 4339, 11, 6671, 7601345, 7601, 345, '2024-08-21')\n",
      "('Avenida Rubi', 'Mantiqueira', 'Mairiporã', 'SP', 3528502, 4339, 11, 6671, 7613690, 7613, 690, '2024-08-21')\n",
      "('Avenida Ouro', 'Mantiqueira', 'Mairiporã', 'SP', 3528502, 4339, 11, 6671, 7613655, 7613, 655, '2024-08-21')\n",
      "('Avenida Berna', 'Luiz Fagundes', 'Mairiporã', 'SP', 3528502, 4339, 11, 6671, 7627160, 7627, 160, '2024-08-21')\n",
      "('Avenida Alpes', 'Mato Dentro', 'Mairiporã', 'SP', 3528502, 4339, 11, 6671, 7657210, 7657, 210, '2024-08-21')\n",
      "('Avenida Safira', 'Mantiqueira', 'Mairiporã', 'SP', 3528502, 4339, 11, 6671, 7613680, 7613, 680, '2024-08-21')\n",
      "('Avenida Sandra', 'Rio acima', 'Mairiporã', 'SP', 3528502, 4339, 11, 6671, 7631320, 7631, 320, '2024-08-21')\n",
      "('Avenida Brasil', 'Lavras', 'Mairiporã', 'SP', 3528502, 4339, 11, 6671, 7634020, 7634, 20, '2024-08-21')\n",
      "('Avenida Acesso', 'Juqueri Mirim', 'Mairiporã', 'SP', 3528502, 4339, 11, 6671, 7617005, 7617, 5, '2024-08-21')\n",
      "('Avenida do Sol', 'Rio acima', 'Mairiporã', 'SP', 3528502, 4339, 11, 6671, 7631570, 7631, 570, '2024-08-21')\n",
      "('Avenida Brasil', 'Jundiaizinho (Terra Preta)', 'Mairiporã', 'SP', 3528502, 4339, 11, 6671, 7663080, 7663, 80, '2024-08-21')\n",
      "('Avenida Galena', 'Mantiqueira', 'Mairiporã', 'SP', 3528502, 4339, 11, 6671, 7613705, 7613, 705, '2024-08-21')\n",
      "('Avenida Suécia', \"Olho D'Água\", 'Mairiporã', 'SP', 3528502, 4339, 11, 6671, 7601330, 7601, 330, '2024-08-21')\n",
      "('Avenida da Mata', 'Barreiro', 'Mairiporã', 'SP', 3528502, 4339, 11, 6671, 7611390, 7611, 390, '2024-08-21')\n",
      "('Avenida Quartzo', 'Mantiqueira', 'Mairiporã', 'SP', 3528502, 4339, 11, 6671, 7613710, 7613, 710, '2024-08-21')\n",
      "('Avenida Mariana', 'Roseira', 'Mairiporã', 'SP', 3528502, 4339, 11, 6671, 7619028, 7619, 28, '2024-08-21')\n",
      "('Avenida Pérola', 'Mantiqueira', 'Mairiporã', 'SP', 3528502, 4339, 11, 6671, 7613715, 7613, 715, '2024-08-21')\n",
      "('Avenida Zuriqui', 'Luiz Fagundes', 'Mairiporã', 'SP', 3528502, 4339, 11, 6671, 7627260, 7627, 260, '2024-08-21')\n",
      "('Avenida Everest', 'Mato Dentro', 'Mairiporã', 'SP', 3528502, 4339, 11, 6671, 7657205, 7657, 205, '2024-08-21')\n",
      "('Avenida Bauxita', 'Mantiqueira', 'Mairiporã', 'SP', 3528502, 4339, 11, 6671, 7613720, 7613, 720, '2024-08-21')\n",
      "('Avenida Montreal', \"Olho D'Água\", 'Mairiporã', 'SP', 3528502, 4339, 11, 6671, 7602280, 7602, 280, '2024-08-21')\n",
      "('Avenida Marginal', 'São Vicente', 'Mairiporã', 'SP', 3528502, 4339, 11, 6671, 7607515, 7607, 515, '2024-08-21')\n",
      "('Avenida Colônia', 'Boa Vista', 'Mairiporã', 'SP', 3528502, 4339, 11, 6671, 7612860, 7612, 860, '2024-08-21')\n",
      "('Avenida Nebraska', 'Corumbá (Terra Preta)', 'Mairiporã', 'SP', 3528502, 4339, 11, 6671, 7666180, 7666, 180, '2024-08-21')\n",
      "('Avenida Marginal', 'Rio acima', 'Mairiporã', 'SP', 3528502, 4339, 11, 6671, 7632200, 7632, 200, '2024-08-21')\n",
      "('Avenida Himalaia', 'Mato Dentro', 'Mairiporã', 'SP', 3528502, 4339, 11, 6671, 7657180, 7657, 180, '2024-08-21')\n",
      "('Avenida Marginal', 'Rio abaixo', 'Mairiporã', 'SP', 3528502, 4339, 11, 6671, 7606090, 7606, 90, '2024-08-21')\n",
      "('Avenida das Rosas', 'Jundiaizinho (Terra Preta)', 'Mairiporã', 'SP', 3528502, 4339, 11, 6671, 7664050, 7664, 50, '2024-08-21')\n",
      "('Avenida das Rosas', 'Caraguatá', 'Mairiporã', 'SP', 3528502, 4339, 11, 6671, 7621885, 7621, 885, '2024-08-21')\n",
      "('Avenida Brasília', 'Jundiaizinho (Terra Preta)', 'Mairiporã', 'SP', 3528502, 4339, 11, 6671, 7663090, 7663, 90, '2024-08-21')\n",
      "('Avenida Maranduba', 'Caceia', 'Mairiporã', 'SP', 3528502, 4339, 11, 6671, 7604605, 7604, 605, '2024-08-21')\n",
      "('Avenida dos Rubis', 'Roseira', 'Mairiporã', 'SP', 3528502, 4339, 11, 6671, 7619188, 7619, 188, '2024-08-21')\n",
      "('Avenida Espraiada', 'Jundiaizinho (Terra Preta)', 'Mairiporã', 'SP', 3528502, 4339, 11, 6671, 7664110, 7664, 110, '2024-08-21')\n",
      "('Avenida Esmeralda', 'Mantiqueira', 'Mairiporã', 'SP', 3528502, 4339, 11, 6671, 7613660, 7613, 660, '2024-08-21')\n",
      "('Avenida Cancelata', 'Luiz Fagundes', 'Mairiporã', 'SP', 3528502, 4339, 11, 6671, 7625480, 7625, 480, '2024-08-21')\n",
      "('Avenida Flamboyant', 'Jundiaizinho (Terra Preta)', 'Mairiporã', 'SP', 3528502, 4339, 11, 6671, 7664495, 7664, 495, '2024-08-21')\n",
      "('Avenida São Paulo', 'Roseira', 'Mairiporã', 'SP', 3528502, 4339, 11, 6671, 7618862, 7618, 862, '2024-08-21')\n",
      "('Avenida dos Cedros', 'Roseira', 'Mairiporã', 'SP', 3528502, 4339, 11, 6671, 7619200, 7619, 200, '2024-08-21')\n",
      "('Avenida Pau Marfim', 'Roseira', 'Mairiporã', 'SP', 3528502, 4339, 11, 6671, 7619236, 7619, 236, '2024-08-21')\n",
      "('Avenida Beira Lago', \"Olho D'Água\", 'Mairiporã', 'SP', 3528502, 4339, 11, 6671, 7601050, 7601, 50, '2024-08-21')\n",
      "('Avenida Ouro Preto', 'Roseira', 'Mairiporã', 'SP', 3528502, 4339, 11, 6671, 7619024, 7619, 24, '2024-08-21')\n",
      "('Avenida dos Bambus', 'Roseira', 'Mairiporã', 'SP', 3528502, 4339, 11, 6671, 7619444, 7619, 444, '2024-08-21')\n",
      "('Avenida Caraguatá', 'Cumbari', 'Mairiporã', 'SP', 3528502, 4339, 11, 6671, 7620120, 7620, 120, '2024-08-21')\n",
      "('Avenida Campo Baio', 'Cumbari', 'Mairiporã', 'SP', 3528502, 4339, 11, 6671, 7620100, 7620, 100, '2024-08-21')\n",
      "('Avenida dos Cravos', 'Jundiaizinho (Terra Preta)', 'Mairiporã', 'SP', 3528502, 4339, 11, 6671, 7664070, 7664, 70, '2024-08-21')\n",
      "('Avenida das Tulipas', 'Jundiaizinho (Terra Preta)', 'Mairiporã', 'SP', 3528502, 4339, 11, 6671, 7664083, 7664, 83, '2024-08-21')\n",
      "('Avenida Neli Ladeia', 'Capoavinha', 'Mairiporã', 'SP', 3528502, 4339, 11, 6671, 7629004, 7629, 4, '2024-08-21')\n",
      "('Avenida dos Angicos', 'Roseira', 'Mairiporã', 'SP', 3528502, 4339, 11, 6671, 7619224, 7619, 224, '2024-08-21')\n",
      "('Avenida das Caviunas', 'Roseira', 'Mairiporã', 'SP', 3528502, 4339, 11, 6671, 7619460, 7619, 460, '2024-08-21')\n",
      "('Avenida Serra Morena', 'Barreiro', 'Mairiporã', 'SP', 3528502, 4339, 11, 6671, 7611015, 7611, 15, '2024-08-21')\n"
     ]
    }
   ],
   "source": [
    "query = 'select * from ttbela_gld_cep'\n",
    "cursor.execute(query)\n",
    "resultado = cursor.fetchall()\n",
    "for linha in resultado:\n",
    "    print(linha)"
   ]
  },
  {
   "cell_type": "code",
   "execution_count": 7,
   "metadata": {},
   "outputs": [
    {
     "name": "stdout",
     "output_type": "stream",
     "text": [
      "tabela deletada: ttbela_gld_cep\n"
     ]
    }
   ],
   "source": [
    "# tabela = 'ttbela_gld_cep'\n",
    "# query = f'drop table {tabela}'\n",
    "# cursor.execute(query)\n",
    "# print(f'tabela deletada: {tabela}')"
   ]
  },
  {
   "cell_type": "code",
   "execution_count": 15,
   "metadata": {},
   "outputs": [],
   "source": [
    "conn.commit()\n",
    "conn.close()"
   ]
  },
  {
   "cell_type": "code",
   "execution_count": 12,
   "metadata": {},
   "outputs": [
    {
     "name": "stdout",
     "output_type": "stream",
     "text": [
      "logradouro\n",
      "bairro\n",
      "localidade\n",
      "uf\n",
      "ibge\n",
      "gia\n",
      "ddd\n",
      "siafi\n",
      "ccep\n",
      "ccep_loc\n",
      "ccep_compl\n",
      "dt_igtao\n"
     ]
    }
   ],
   "source": [
    "cursor.execute(\"PRAGMA table_info(ttbela_gld_cep)\")\n",
    "\n",
    "# Recupere os resultados da consulta\n",
    "colunas = cursor.fetchall()\n",
    "\n",
    "for coluna in colunas:\n",
    "    print(coluna[1])"
   ]
  }
 ],
 "metadata": {
  "kernelspec": {
   "display_name": "Python 3",
   "language": "python",
   "name": "python3"
  },
  "language_info": {
   "codemirror_mode": {
    "name": "ipython",
    "version": 3
   },
   "file_extension": ".py",
   "mimetype": "text/x-python",
   "name": "python",
   "nbconvert_exporter": "python",
   "pygments_lexer": "ipython3",
   "version": "3.10.13"
  }
 },
 "nbformat": 4,
 "nbformat_minor": 2
}
