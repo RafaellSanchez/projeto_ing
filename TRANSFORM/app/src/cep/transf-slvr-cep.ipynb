{
 "cells": [
  {
   "cell_type": "code",
   "execution_count": 1,
   "metadata": {},
   "outputs": [],
   "source": [
    "import pandas as pd\n",
    "import sqlite3"
   ]
  },
  {
   "cell_type": "code",
   "execution_count": null,
   "metadata": {},
   "outputs": [],
   "source": [
    "bd = 'banco_cep.db'\n",
    "banco_caminho = f'/workspaces/projeto_ing/INGESTION/database/{bd}'\n",
    "conn = sqlite3.connect(banco_caminho)\n",
    "cursor = conn.cursor()"
   ]
  },
  {
   "cell_type": "code",
   "execution_count": null,
   "metadata": {},
   "outputs": [],
   "source": [
    "create_silver = \"\"\"\n",
    "create table if not exists ttbela_silver(\n",
    "    cep INTEGER,\n",
    "    logradouro TEXT,\n",
    "    bairro TEXT,\n",
    "    localidade TEXT,\n",
    "    uf TEXT,\n",
    "    ibge INTEGER,\n",
    "    gia INTEGER,\n",
    "    ddd INTEGER,\n",
    "    siafi INTEGER\n",
    "    \n",
    ")\n",
    "\"\"\""
   ]
  },
  {
   "cell_type": "code",
   "execution_count": null,
   "metadata": {},
   "outputs": [],
   "source": [
    "        {\"nome\": \"cep\", \"tipo\": \"string\"},\n",
    "        {\"nome\": \"logradouro\", \"tipo\": \"string\"},\n",
    "        {\"nome\": \"bairro\", \"tipo\": \"string\"},\n",
    "        {\"nome\": \"localidade\", \"tipo\": \"string\"},\n",
    "        {\"nome\": \"uf\", \"tipo\": \"string\"},\n",
    "        {\"nome\": \"ibge\", \"tipo\": \"string\"},\n",
    "        {\"nome\": \"gia\", \"tipo\": \"string\"},\n",
    "        {\"nome\": \"ddd\", \"tipo\": \"string\"},\n",
    "        {\"nome\": \"siafi\", \"tipo\": \"string\"}"
   ]
  },
  {
   "cell_type": "code",
   "execution_count": 6,
   "metadata": {},
   "outputs": [
    {
     "name": "stdout",
     "output_type": "stream",
     "text": [
      "Tabelas no banco de dados:\n",
      "('07601-345', 'Avenida Hum', \"Olho D'Água\", 'Mairiporã', 'SP', 3528502, 4339, 11, 6671)\n",
      "('07613-690', 'Avenida Rubi', 'Mantiqueira', 'Mairiporã', 'SP', 3528502, 4339, 11, 6671)\n",
      "('07613-655', 'Avenida Ouro', 'Mantiqueira', 'Mairiporã', 'SP', 3528502, 4339, 11, 6671)\n",
      "('07627-160', 'Avenida Berna', 'Luiz Fagundes', 'Mairiporã', 'SP', 3528502, 4339, 11, 6671)\n",
      "('07657-210', 'Avenida Alpes', 'Mato Dentro', 'Mairiporã', 'SP', 3528502, 4339, 11, 6671)\n",
      "('07613-680', 'Avenida Safira', 'Mantiqueira', 'Mairiporã', 'SP', 3528502, 4339, 11, 6671)\n",
      "('07631-320', 'Avenida Sandra', 'Rio acima', 'Mairiporã', 'SP', 3528502, 4339, 11, 6671)\n",
      "('07634-020', 'Avenida Brasil', 'Lavras', 'Mairiporã', 'SP', 3528502, 4339, 11, 6671)\n",
      "('07617-005', 'Avenida Acesso', 'Juqueri Mirim', 'Mairiporã', 'SP', 3528502, 4339, 11, 6671)\n",
      "('07631-570', 'Avenida do Sol', 'Rio acima', 'Mairiporã', 'SP', 3528502, 4339, 11, 6671)\n",
      "('07663-080', 'Avenida Brasil', 'Jundiaizinho (Terra Preta)', 'Mairiporã', 'SP', 3528502, 4339, 11, 6671)\n",
      "('07613-705', 'Avenida Galena', 'Mantiqueira', 'Mairiporã', 'SP', 3528502, 4339, 11, 6671)\n",
      "('07601-330', 'Avenida Suécia', \"Olho D'Água\", 'Mairiporã', 'SP', 3528502, 4339, 11, 6671)\n",
      "('07611-390', 'Avenida da Mata', 'Barreiro', 'Mairiporã', 'SP', 3528502, 4339, 11, 6671)\n",
      "('07613-710', 'Avenida Quartzo', 'Mantiqueira', 'Mairiporã', 'SP', 3528502, 4339, 11, 6671)\n",
      "('07619-028', 'Avenida Mariana', 'Roseira', 'Mairiporã', 'SP', 3528502, 4339, 11, 6671)\n",
      "('07613-715', 'Avenida Pérola', 'Mantiqueira', 'Mairiporã', 'SP', 3528502, 4339, 11, 6671)\n",
      "('07627-260', 'Avenida Zuriqui', 'Luiz Fagundes', 'Mairiporã', 'SP', 3528502, 4339, 11, 6671)\n",
      "('07657-205', 'Avenida Everest', 'Mato Dentro', 'Mairiporã', 'SP', 3528502, 4339, 11, 6671)\n",
      "('07613-720', 'Avenida Bauxita', 'Mantiqueira', 'Mairiporã', 'SP', 3528502, 4339, 11, 6671)\n",
      "('07602-280', 'Avenida Montreal', \"Olho D'Água\", 'Mairiporã', 'SP', 3528502, 4339, 11, 6671)\n",
      "('07607-515', 'Avenida Marginal', 'São Vicente', 'Mairiporã', 'SP', 3528502, 4339, 11, 6671)\n",
      "('07612-860', 'Avenida Colônia', 'Boa Vista', 'Mairiporã', 'SP', 3528502, 4339, 11, 6671)\n",
      "('07666-180', 'Avenida Nebraska', 'Corumbá (Terra Preta)', 'Mairiporã', 'SP', 3528502, 4339, 11, 6671)\n",
      "('07632-200', 'Avenida Marginal', 'Rio acima', 'Mairiporã', 'SP', 3528502, 4339, 11, 6671)\n",
      "('07657-180', 'Avenida Himalaia', 'Mato Dentro', 'Mairiporã', 'SP', 3528502, 4339, 11, 6671)\n",
      "('07606-090', 'Avenida Marginal', 'Rio abaixo', 'Mairiporã', 'SP', 3528502, 4339, 11, 6671)\n",
      "('07664-050', 'Avenida das Rosas', 'Jundiaizinho (Terra Preta)', 'Mairiporã', 'SP', 3528502, 4339, 11, 6671)\n",
      "('07621-885', 'Avenida das Rosas', 'Caraguatá', 'Mairiporã', 'SP', 3528502, 4339, 11, 6671)\n",
      "('07663-090', 'Avenida Brasília', 'Jundiaizinho (Terra Preta)', 'Mairiporã', 'SP', 3528502, 4339, 11, 6671)\n",
      "('07604-605', 'Avenida Maranduba', 'Caceia', 'Mairiporã', 'SP', 3528502, 4339, 11, 6671)\n",
      "('07619-188', 'Avenida dos Rubis', 'Roseira', 'Mairiporã', 'SP', 3528502, 4339, 11, 6671)\n",
      "('07664-110', 'Avenida Espraiada', 'Jundiaizinho (Terra Preta)', 'Mairiporã', 'SP', 3528502, 4339, 11, 6671)\n",
      "('07613-660', 'Avenida Esmeralda', 'Mantiqueira', 'Mairiporã', 'SP', 3528502, 4339, 11, 6671)\n",
      "('07625-480', 'Avenida Cancelata', 'Luiz Fagundes', 'Mairiporã', 'SP', 3528502, 4339, 11, 6671)\n",
      "('07664-495', 'Avenida Flamboyant', 'Jundiaizinho (Terra Preta)', 'Mairiporã', 'SP', 3528502, 4339, 11, 6671)\n",
      "('07618-862', 'Avenida São Paulo', 'Roseira', 'Mairiporã', 'SP', 3528502, 4339, 11, 6671)\n",
      "('07619-200', 'Avenida dos Cedros', 'Roseira', 'Mairiporã', 'SP', 3528502, 4339, 11, 6671)\n",
      "('07619-236', 'Avenida Pau Marfim', 'Roseira', 'Mairiporã', 'SP', 3528502, 4339, 11, 6671)\n",
      "('07601-050', 'Avenida Beira Lago', \"Olho D'Água\", 'Mairiporã', 'SP', 3528502, 4339, 11, 6671)\n",
      "('07619-024', 'Avenida Ouro Preto', 'Roseira', 'Mairiporã', 'SP', 3528502, 4339, 11, 6671)\n",
      "('07619-444', 'Avenida dos Bambus', 'Roseira', 'Mairiporã', 'SP', 3528502, 4339, 11, 6671)\n",
      "('07620-120', 'Avenida Caraguatá', 'Cumbari', 'Mairiporã', 'SP', 3528502, 4339, 11, 6671)\n",
      "('07620-100', 'Avenida Campo Baio', 'Cumbari', 'Mairiporã', 'SP', 3528502, 4339, 11, 6671)\n",
      "('07664-070', 'Avenida dos Cravos', 'Jundiaizinho (Terra Preta)', 'Mairiporã', 'SP', 3528502, 4339, 11, 6671)\n",
      "('07664-083', 'Avenida das Tulipas', 'Jundiaizinho (Terra Preta)', 'Mairiporã', 'SP', 3528502, 4339, 11, 6671)\n",
      "('07629-004', 'Avenida Neli Ladeia', 'Capoavinha', 'Mairiporã', 'SP', 3528502, 4339, 11, 6671)\n",
      "('07619-224', 'Avenida dos Angicos', 'Roseira', 'Mairiporã', 'SP', 3528502, 4339, 11, 6671)\n",
      "('07619-460', 'Avenida das Caviunas', 'Roseira', 'Mairiporã', 'SP', 3528502, 4339, 11, 6671)\n",
      "('07611-015', 'Avenida Serra Morena', 'Barreiro', 'Mairiporã', 'SP', 3528502, 4339, 11, 6671)\n"
     ]
    }
   ],
   "source": [
    "bd = 'banco_cep.db'\n",
    "banco_caminho = f'/workspaces/projeto_ing/INGESTION/database/{bd}'\n",
    "conn = sqlite3.connect(banco_caminho)\n",
    "cursor = conn.cursor()\n",
    "\n",
    "query = 'select * from tabela_cepavenidamairipora'\n",
    "cursor.execute(query)\n",
    "\n",
    "tables = cursor.fetchall()\n",
    "\n",
    "print(\"Tabelas no banco de dados:\")\n",
    "for table in tables:\n",
    "    print(table)"
   ]
  }
 ],
 "metadata": {
  "kernelspec": {
   "display_name": "Python 3",
   "language": "python",
   "name": "python3"
  },
  "language_info": {
   "codemirror_mode": {
    "name": "ipython",
    "version": 3
   },
   "file_extension": ".py",
   "mimetype": "text/x-python",
   "name": "python",
   "nbconvert_exporter": "python",
   "pygments_lexer": "ipython3",
   "version": "3.10.13"
  }
 },
 "nbformat": 4,
 "nbformat_minor": 2
}
