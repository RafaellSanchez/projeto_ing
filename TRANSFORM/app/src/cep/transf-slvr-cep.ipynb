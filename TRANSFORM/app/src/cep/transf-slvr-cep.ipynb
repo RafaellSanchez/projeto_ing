{
 "cells": [
  {
   "cell_type": "markdown",
   "metadata": {},
   "source": [
    "TRANFORMAÇÃO: Envio de fontes da camada bronze para silver\n",
    "Tabela origem: tabela_cepavenidamairipora \n",
    "Tabela destino: ttbela_slver_cep"
   ]
  },
  {
   "cell_type": "code",
   "execution_count": 13,
   "metadata": {},
   "outputs": [],
   "source": [
    "import pandas as pd\n",
    "import sqlite3\n",
    "import re \n",
    "from datetime import datetime"
   ]
  },
  {
   "cell_type": "code",
   "execution_count": 14,
   "metadata": {},
   "outputs": [
    {
     "name": "stdout",
     "output_type": "stream",
     "text": [
      "('07601-345', 'Avenida Hum', \"Olho D'Água\", 'Mairiporã', 'SP', 3528502, 4339, 11, 6671)\n",
      "('07613-690', 'Avenida Rubi', 'Mantiqueira', 'Mairiporã', 'SP', 3528502, 4339, 11, 6671)\n",
      "('07613-655', 'Avenida Ouro', 'Mantiqueira', 'Mairiporã', 'SP', 3528502, 4339, 11, 6671)\n",
      "('07627-160', 'Avenida Berna', 'Luiz Fagundes', 'Mairiporã', 'SP', 3528502, 4339, 11, 6671)\n",
      "('07657-210', 'Avenida Alpes', 'Mato Dentro', 'Mairiporã', 'SP', 3528502, 4339, 11, 6671)\n",
      "('07613-680', 'Avenida Safira', 'Mantiqueira', 'Mairiporã', 'SP', 3528502, 4339, 11, 6671)\n",
      "('07631-320', 'Avenida Sandra', 'Rio acima', 'Mairiporã', 'SP', 3528502, 4339, 11, 6671)\n",
      "('07634-020', 'Avenida Brasil', 'Lavras', 'Mairiporã', 'SP', 3528502, 4339, 11, 6671)\n",
      "('07617-005', 'Avenida Acesso', 'Juqueri Mirim', 'Mairiporã', 'SP', 3528502, 4339, 11, 6671)\n",
      "('07631-570', 'Avenida do Sol', 'Rio acima', 'Mairiporã', 'SP', 3528502, 4339, 11, 6671)\n",
      "('07663-080', 'Avenida Brasil', 'Jundiaizinho (Terra Preta)', 'Mairiporã', 'SP', 3528502, 4339, 11, 6671)\n",
      "('07613-705', 'Avenida Galena', 'Mantiqueira', 'Mairiporã', 'SP', 3528502, 4339, 11, 6671)\n",
      "('07601-330', 'Avenida Suécia', \"Olho D'Água\", 'Mairiporã', 'SP', 3528502, 4339, 11, 6671)\n",
      "('07611-390', 'Avenida da Mata', 'Barreiro', 'Mairiporã', 'SP', 3528502, 4339, 11, 6671)\n",
      "('07613-710', 'Avenida Quartzo', 'Mantiqueira', 'Mairiporã', 'SP', 3528502, 4339, 11, 6671)\n",
      "('07619-028', 'Avenida Mariana', 'Roseira', 'Mairiporã', 'SP', 3528502, 4339, 11, 6671)\n",
      "('07613-715', 'Avenida Pérola', 'Mantiqueira', 'Mairiporã', 'SP', 3528502, 4339, 11, 6671)\n",
      "('07627-260', 'Avenida Zuriqui', 'Luiz Fagundes', 'Mairiporã', 'SP', 3528502, 4339, 11, 6671)\n",
      "('07657-205', 'Avenida Everest', 'Mato Dentro', 'Mairiporã', 'SP', 3528502, 4339, 11, 6671)\n",
      "('07613-720', 'Avenida Bauxita', 'Mantiqueira', 'Mairiporã', 'SP', 3528502, 4339, 11, 6671)\n",
      "('07602-280', 'Avenida Montreal', \"Olho D'Água\", 'Mairiporã', 'SP', 3528502, 4339, 11, 6671)\n",
      "('07607-515', 'Avenida Marginal', 'São Vicente', 'Mairiporã', 'SP', 3528502, 4339, 11, 6671)\n",
      "('07612-860', 'Avenida Colônia', 'Boa Vista', 'Mairiporã', 'SP', 3528502, 4339, 11, 6671)\n",
      "('07666-180', 'Avenida Nebraska', 'Corumbá (Terra Preta)', 'Mairiporã', 'SP', 3528502, 4339, 11, 6671)\n",
      "('07632-200', 'Avenida Marginal', 'Rio acima', 'Mairiporã', 'SP', 3528502, 4339, 11, 6671)\n",
      "('07657-180', 'Avenida Himalaia', 'Mato Dentro', 'Mairiporã', 'SP', 3528502, 4339, 11, 6671)\n",
      "('07606-090', 'Avenida Marginal', 'Rio abaixo', 'Mairiporã', 'SP', 3528502, 4339, 11, 6671)\n",
      "('07664-050', 'Avenida das Rosas', 'Jundiaizinho (Terra Preta)', 'Mairiporã', 'SP', 3528502, 4339, 11, 6671)\n",
      "('07621-885', 'Avenida das Rosas', 'Caraguatá', 'Mairiporã', 'SP', 3528502, 4339, 11, 6671)\n",
      "('07663-090', 'Avenida Brasília', 'Jundiaizinho (Terra Preta)', 'Mairiporã', 'SP', 3528502, 4339, 11, 6671)\n",
      "('07604-605', 'Avenida Maranduba', 'Caceia', 'Mairiporã', 'SP', 3528502, 4339, 11, 6671)\n",
      "('07619-188', 'Avenida dos Rubis', 'Roseira', 'Mairiporã', 'SP', 3528502, 4339, 11, 6671)\n",
      "('07664-110', 'Avenida Espraiada', 'Jundiaizinho (Terra Preta)', 'Mairiporã', 'SP', 3528502, 4339, 11, 6671)\n",
      "('07613-660', 'Avenida Esmeralda', 'Mantiqueira', 'Mairiporã', 'SP', 3528502, 4339, 11, 6671)\n",
      "('07625-480', 'Avenida Cancelata', 'Luiz Fagundes', 'Mairiporã', 'SP', 3528502, 4339, 11, 6671)\n",
      "('07664-495', 'Avenida Flamboyant', 'Jundiaizinho (Terra Preta)', 'Mairiporã', 'SP', 3528502, 4339, 11, 6671)\n",
      "('07618-862', 'Avenida São Paulo', 'Roseira', 'Mairiporã', 'SP', 3528502, 4339, 11, 6671)\n",
      "('07619-200', 'Avenida dos Cedros', 'Roseira', 'Mairiporã', 'SP', 3528502, 4339, 11, 6671)\n",
      "('07619-236', 'Avenida Pau Marfim', 'Roseira', 'Mairiporã', 'SP', 3528502, 4339, 11, 6671)\n",
      "('07601-050', 'Avenida Beira Lago', \"Olho D'Água\", 'Mairiporã', 'SP', 3528502, 4339, 11, 6671)\n",
      "('07619-024', 'Avenida Ouro Preto', 'Roseira', 'Mairiporã', 'SP', 3528502, 4339, 11, 6671)\n",
      "('07619-444', 'Avenida dos Bambus', 'Roseira', 'Mairiporã', 'SP', 3528502, 4339, 11, 6671)\n",
      "('07620-120', 'Avenida Caraguatá', 'Cumbari', 'Mairiporã', 'SP', 3528502, 4339, 11, 6671)\n",
      "('07620-100', 'Avenida Campo Baio', 'Cumbari', 'Mairiporã', 'SP', 3528502, 4339, 11, 6671)\n",
      "('07664-070', 'Avenida dos Cravos', 'Jundiaizinho (Terra Preta)', 'Mairiporã', 'SP', 3528502, 4339, 11, 6671)\n",
      "('07664-083', 'Avenida das Tulipas', 'Jundiaizinho (Terra Preta)', 'Mairiporã', 'SP', 3528502, 4339, 11, 6671)\n",
      "('07629-004', 'Avenida Neli Ladeia', 'Capoavinha', 'Mairiporã', 'SP', 3528502, 4339, 11, 6671)\n",
      "('07619-224', 'Avenida dos Angicos', 'Roseira', 'Mairiporã', 'SP', 3528502, 4339, 11, 6671)\n",
      "('07619-460', 'Avenida das Caviunas', 'Roseira', 'Mairiporã', 'SP', 3528502, 4339, 11, 6671)\n",
      "('07611-015', 'Avenida Serra Morena', 'Barreiro', 'Mairiporã', 'SP', 3528502, 4339, 11, 6671)\n"
     ]
    }
   ],
   "source": [
    "bd = 'banco_cep.db'\n",
    "banco_caminho = f'/workspaces/projeto_ing/INGESTION/database/{bd}'\n",
    "conn = sqlite3.connect(banco_caminho)\n",
    "cursor = conn.cursor()\n",
    "query = 'select * from tabela_cepavenidamairipora'\n",
    "cursor.execute(query)\n",
    "resultado = cursor.fetchall()\n",
    "for linha in resultado:\n",
    "    print(linha)"
   ]
  },
  {
   "cell_type": "code",
   "execution_count": 15,
   "metadata": {},
   "outputs": [
    {
     "name": "stdout",
     "output_type": "stream",
     "text": [
      "      logradouro         bairro localidade  uf     ibge   gia  ddd  siafi  \\\n",
      "0    Avenida Hum    Olho D'Água  Mairiporã  SP  3528502  4339   11   6671   \n",
      "1   Avenida Rubi    Mantiqueira  Mairiporã  SP  3528502  4339   11   6671   \n",
      "2   Avenida Ouro    Mantiqueira  Mairiporã  SP  3528502  4339   11   6671   \n",
      "3  Avenida Berna  Luiz Fagundes  Mairiporã  SP  3528502  4339   11   6671   \n",
      "4  Avenida Alpes    Mato Dentro  Mairiporã  SP  3528502  4339   11   6671   \n",
      "\n",
      "       ccep ccep_loc ccep_compl    dt_igtao  \n",
      "0  07601345    07601        345  2024-08-21  \n",
      "1  07613690    07613        690  2024-08-21  \n",
      "2  07613655    07613        655  2024-08-21  \n",
      "3  07627160    07627        160  2024-08-21  \n",
      "4  07657210    07657        210  2024-08-21  \n"
     ]
    }
   ],
   "source": [
    "timestamp = datetime.now().strftime('%Y%m%d_%H%M%S')\n",
    "data_igtao = datetime.now().strftime('%Y-%m-%d')\n",
    "\n",
    "df = pd.DataFrame(resultado, columns=['cep', 'logradouro', 'bairro', 'localidade', 'uf', 'ibge', 'gia', 'ddd', 'siafi'])\n",
    "# print(df.head())\n",
    "df_ccep = df['cep'].str.replace(r'-', '')\n",
    "df_cep =df['cep'].str.extract(r'(\\d{5})-\\d{3}')\n",
    "df_cep_compl = df['cep'].str.extract(r'(-\\d{3})')\n",
    "df['ccep'] = df_ccep\n",
    "df['ccep_loc'] = df_cep\n",
    "df['cep_compl'] = df_cep_compl\n",
    "df_rplc = df['cep_compl'].str.replace('-', '')\n",
    "df['ccep_compl'] = df_rplc\n",
    "columns = ['cep', 'cep_compl']\n",
    "df.drop(columns, inplace=True, axis=1)\n",
    "df['ccep'].astype(int)\n",
    "df['ccep_loc'].astype(int)\n",
    "df['ccep_compl'].astype(int)\n",
    "df['dt_igtao'] = data_igtao\n",
    "print(df.head())"
   ]
  },
  {
   "cell_type": "code",
   "execution_count": 16,
   "metadata": {},
   "outputs": [
    {
     "name": "stdout",
     "output_type": "stream",
     "text": [
      "tabela ingerida\n"
     ]
    }
   ],
   "source": [
    "df.to_sql(name='ttbela_slver_cep', con=conn, if_exists = 'append', index = False)\n",
    "print('tabela ingerida')"
   ]
  },
  {
   "cell_type": "code",
   "execution_count": 17,
   "metadata": {},
   "outputs": [
    {
     "name": "stdout",
     "output_type": "stream",
     "text": [
      "('Avenida Hum', \"Olho D'Água\", 'Mairiporã', 'SP', 3528502, 4339, 11, 6671, 7601345, 7601, 345, '2024-08-21')\n",
      "('Avenida Rubi', 'Mantiqueira', 'Mairiporã', 'SP', 3528502, 4339, 11, 6671, 7613690, 7613, 690, '2024-08-21')\n",
      "('Avenida Ouro', 'Mantiqueira', 'Mairiporã', 'SP', 3528502, 4339, 11, 6671, 7613655, 7613, 655, '2024-08-21')\n",
      "('Avenida Berna', 'Luiz Fagundes', 'Mairiporã', 'SP', 3528502, 4339, 11, 6671, 7627160, 7627, 160, '2024-08-21')\n",
      "('Avenida Alpes', 'Mato Dentro', 'Mairiporã', 'SP', 3528502, 4339, 11, 6671, 7657210, 7657, 210, '2024-08-21')\n",
      "('Avenida Safira', 'Mantiqueira', 'Mairiporã', 'SP', 3528502, 4339, 11, 6671, 7613680, 7613, 680, '2024-08-21')\n",
      "('Avenida Sandra', 'Rio acima', 'Mairiporã', 'SP', 3528502, 4339, 11, 6671, 7631320, 7631, 320, '2024-08-21')\n",
      "('Avenida Brasil', 'Lavras', 'Mairiporã', 'SP', 3528502, 4339, 11, 6671, 7634020, 7634, 20, '2024-08-21')\n",
      "('Avenida Acesso', 'Juqueri Mirim', 'Mairiporã', 'SP', 3528502, 4339, 11, 6671, 7617005, 7617, 5, '2024-08-21')\n",
      "('Avenida do Sol', 'Rio acima', 'Mairiporã', 'SP', 3528502, 4339, 11, 6671, 7631570, 7631, 570, '2024-08-21')\n",
      "('Avenida Brasil', 'Jundiaizinho (Terra Preta)', 'Mairiporã', 'SP', 3528502, 4339, 11, 6671, 7663080, 7663, 80, '2024-08-21')\n",
      "('Avenida Galena', 'Mantiqueira', 'Mairiporã', 'SP', 3528502, 4339, 11, 6671, 7613705, 7613, 705, '2024-08-21')\n",
      "('Avenida Suécia', \"Olho D'Água\", 'Mairiporã', 'SP', 3528502, 4339, 11, 6671, 7601330, 7601, 330, '2024-08-21')\n",
      "('Avenida da Mata', 'Barreiro', 'Mairiporã', 'SP', 3528502, 4339, 11, 6671, 7611390, 7611, 390, '2024-08-21')\n",
      "('Avenida Quartzo', 'Mantiqueira', 'Mairiporã', 'SP', 3528502, 4339, 11, 6671, 7613710, 7613, 710, '2024-08-21')\n",
      "('Avenida Mariana', 'Roseira', 'Mairiporã', 'SP', 3528502, 4339, 11, 6671, 7619028, 7619, 28, '2024-08-21')\n",
      "('Avenida Pérola', 'Mantiqueira', 'Mairiporã', 'SP', 3528502, 4339, 11, 6671, 7613715, 7613, 715, '2024-08-21')\n",
      "('Avenida Zuriqui', 'Luiz Fagundes', 'Mairiporã', 'SP', 3528502, 4339, 11, 6671, 7627260, 7627, 260, '2024-08-21')\n",
      "('Avenida Everest', 'Mato Dentro', 'Mairiporã', 'SP', 3528502, 4339, 11, 6671, 7657205, 7657, 205, '2024-08-21')\n",
      "('Avenida Bauxita', 'Mantiqueira', 'Mairiporã', 'SP', 3528502, 4339, 11, 6671, 7613720, 7613, 720, '2024-08-21')\n",
      "('Avenida Montreal', \"Olho D'Água\", 'Mairiporã', 'SP', 3528502, 4339, 11, 6671, 7602280, 7602, 280, '2024-08-21')\n",
      "('Avenida Marginal', 'São Vicente', 'Mairiporã', 'SP', 3528502, 4339, 11, 6671, 7607515, 7607, 515, '2024-08-21')\n",
      "('Avenida Colônia', 'Boa Vista', 'Mairiporã', 'SP', 3528502, 4339, 11, 6671, 7612860, 7612, 860, '2024-08-21')\n",
      "('Avenida Nebraska', 'Corumbá (Terra Preta)', 'Mairiporã', 'SP', 3528502, 4339, 11, 6671, 7666180, 7666, 180, '2024-08-21')\n",
      "('Avenida Marginal', 'Rio acima', 'Mairiporã', 'SP', 3528502, 4339, 11, 6671, 7632200, 7632, 200, '2024-08-21')\n",
      "('Avenida Himalaia', 'Mato Dentro', 'Mairiporã', 'SP', 3528502, 4339, 11, 6671, 7657180, 7657, 180, '2024-08-21')\n",
      "('Avenida Marginal', 'Rio abaixo', 'Mairiporã', 'SP', 3528502, 4339, 11, 6671, 7606090, 7606, 90, '2024-08-21')\n",
      "('Avenida das Rosas', 'Jundiaizinho (Terra Preta)', 'Mairiporã', 'SP', 3528502, 4339, 11, 6671, 7664050, 7664, 50, '2024-08-21')\n",
      "('Avenida das Rosas', 'Caraguatá', 'Mairiporã', 'SP', 3528502, 4339, 11, 6671, 7621885, 7621, 885, '2024-08-21')\n",
      "('Avenida Brasília', 'Jundiaizinho (Terra Preta)', 'Mairiporã', 'SP', 3528502, 4339, 11, 6671, 7663090, 7663, 90, '2024-08-21')\n",
      "('Avenida Maranduba', 'Caceia', 'Mairiporã', 'SP', 3528502, 4339, 11, 6671, 7604605, 7604, 605, '2024-08-21')\n",
      "('Avenida dos Rubis', 'Roseira', 'Mairiporã', 'SP', 3528502, 4339, 11, 6671, 7619188, 7619, 188, '2024-08-21')\n",
      "('Avenida Espraiada', 'Jundiaizinho (Terra Preta)', 'Mairiporã', 'SP', 3528502, 4339, 11, 6671, 7664110, 7664, 110, '2024-08-21')\n",
      "('Avenida Esmeralda', 'Mantiqueira', 'Mairiporã', 'SP', 3528502, 4339, 11, 6671, 7613660, 7613, 660, '2024-08-21')\n",
      "('Avenida Cancelata', 'Luiz Fagundes', 'Mairiporã', 'SP', 3528502, 4339, 11, 6671, 7625480, 7625, 480, '2024-08-21')\n",
      "('Avenida Flamboyant', 'Jundiaizinho (Terra Preta)', 'Mairiporã', 'SP', 3528502, 4339, 11, 6671, 7664495, 7664, 495, '2024-08-21')\n",
      "('Avenida São Paulo', 'Roseira', 'Mairiporã', 'SP', 3528502, 4339, 11, 6671, 7618862, 7618, 862, '2024-08-21')\n",
      "('Avenida dos Cedros', 'Roseira', 'Mairiporã', 'SP', 3528502, 4339, 11, 6671, 7619200, 7619, 200, '2024-08-21')\n",
      "('Avenida Pau Marfim', 'Roseira', 'Mairiporã', 'SP', 3528502, 4339, 11, 6671, 7619236, 7619, 236, '2024-08-21')\n",
      "('Avenida Beira Lago', \"Olho D'Água\", 'Mairiporã', 'SP', 3528502, 4339, 11, 6671, 7601050, 7601, 50, '2024-08-21')\n",
      "('Avenida Ouro Preto', 'Roseira', 'Mairiporã', 'SP', 3528502, 4339, 11, 6671, 7619024, 7619, 24, '2024-08-21')\n",
      "('Avenida dos Bambus', 'Roseira', 'Mairiporã', 'SP', 3528502, 4339, 11, 6671, 7619444, 7619, 444, '2024-08-21')\n",
      "('Avenida Caraguatá', 'Cumbari', 'Mairiporã', 'SP', 3528502, 4339, 11, 6671, 7620120, 7620, 120, '2024-08-21')\n",
      "('Avenida Campo Baio', 'Cumbari', 'Mairiporã', 'SP', 3528502, 4339, 11, 6671, 7620100, 7620, 100, '2024-08-21')\n",
      "('Avenida dos Cravos', 'Jundiaizinho (Terra Preta)', 'Mairiporã', 'SP', 3528502, 4339, 11, 6671, 7664070, 7664, 70, '2024-08-21')\n",
      "('Avenida das Tulipas', 'Jundiaizinho (Terra Preta)', 'Mairiporã', 'SP', 3528502, 4339, 11, 6671, 7664083, 7664, 83, '2024-08-21')\n",
      "('Avenida Neli Ladeia', 'Capoavinha', 'Mairiporã', 'SP', 3528502, 4339, 11, 6671, 7629004, 7629, 4, '2024-08-21')\n",
      "('Avenida dos Angicos', 'Roseira', 'Mairiporã', 'SP', 3528502, 4339, 11, 6671, 7619224, 7619, 224, '2024-08-21')\n",
      "('Avenida das Caviunas', 'Roseira', 'Mairiporã', 'SP', 3528502, 4339, 11, 6671, 7619460, 7619, 460, '2024-08-21')\n",
      "('Avenida Serra Morena', 'Barreiro', 'Mairiporã', 'SP', 3528502, 4339, 11, 6671, 7611015, 7611, 15, '2024-08-21')\n"
     ]
    }
   ],
   "source": [
    "query = 'select * from ttbela_slver_cep'\n",
    "cursor.execute(query)\n",
    "resultado = cursor.fetchall()\n",
    "for linha in resultado:\n",
    "    print(linha)"
   ]
  },
  {
   "cell_type": "code",
   "execution_count": 18,
   "metadata": {},
   "outputs": [],
   "source": [
    "conn.commit()\n",
    "conn.close()"
   ]
  },
  {
   "cell_type": "code",
   "execution_count": 11,
   "metadata": {},
   "outputs": [
    {
     "name": "stdout",
     "output_type": "stream",
     "text": [
      "tabela excluida drop table ttbela_slver_cep\n"
     ]
    }
   ],
   "source": [
    "# query = 'drop table ttbela_slver_cep'\n",
    "# cursor.execute(query)\n",
    "# print(f'tabela excluida {query}')\n"
   ]
  },
  {
   "cell_type": "code",
   "execution_count": 16,
   "metadata": {},
   "outputs": [],
   "source": [
    "bd = 'banco_cep.db'\n",
    "banco_caminho = f'/workspaces/projeto_ing/INGESTION/database/{bd}'\n",
    "conn = sqlite3.connect(banco_caminho)\n",
    "cursor = conn.cursor()"
   ]
  },
  {
   "cell_type": "code",
   "execution_count": null,
   "metadata": {},
   "outputs": [],
   "source": [
    "#ajustar cep, está quebrando na hora de enviar para INTEGER "
   ]
  },
  {
   "cell_type": "code",
   "execution_count": null,
   "metadata": {},
   "outputs": [],
   "source": [
    "'''\n",
    "dados base:\n",
    "('07601-345', 'Avenida Hum', \"Olho D'Água\", 'Mairiporã', 'SP', 3528502, 4339, 11, 6671)\n",
    "\n",
    "dados depois da traformação:\n",
    "(7601, 'Avenida Hum', \"Olho D'Água\", 'Mairiporã', 'SP', 3528502, 4339, 11, 6671, '2024-07-24')\n",
    "\n",
    "realizar a quebra na primeira coluna, talvez um cast quebrando esse dado em duas novas colunas do cep \n",
    "ou remover o traço no meio que é contabilizado como string e não integer\n",
    " \n",
    "'''"
   ]
  },
  {
   "cell_type": "code",
   "execution_count": 18,
   "metadata": {},
   "outputs": [
    {
     "name": "stdout",
     "output_type": "stream",
     "text": [
      "resultado tabela:\n",
      "('07601-345', 'Avenida Hum', \"Olho D'Água\", 'Mairiporã', 'SP', 3528502, 4339, 11, 6671)\n",
      "('07613-690', 'Avenida Rubi', 'Mantiqueira', 'Mairiporã', 'SP', 3528502, 4339, 11, 6671)\n",
      "('07613-655', 'Avenida Ouro', 'Mantiqueira', 'Mairiporã', 'SP', 3528502, 4339, 11, 6671)\n",
      "('07627-160', 'Avenida Berna', 'Luiz Fagundes', 'Mairiporã', 'SP', 3528502, 4339, 11, 6671)\n",
      "('07657-210', 'Avenida Alpes', 'Mato Dentro', 'Mairiporã', 'SP', 3528502, 4339, 11, 6671)\n",
      "('07613-680', 'Avenida Safira', 'Mantiqueira', 'Mairiporã', 'SP', 3528502, 4339, 11, 6671)\n",
      "('07631-320', 'Avenida Sandra', 'Rio acima', 'Mairiporã', 'SP', 3528502, 4339, 11, 6671)\n",
      "('07634-020', 'Avenida Brasil', 'Lavras', 'Mairiporã', 'SP', 3528502, 4339, 11, 6671)\n",
      "('07617-005', 'Avenida Acesso', 'Juqueri Mirim', 'Mairiporã', 'SP', 3528502, 4339, 11, 6671)\n",
      "('07631-570', 'Avenida do Sol', 'Rio acima', 'Mairiporã', 'SP', 3528502, 4339, 11, 6671)\n",
      "('07663-080', 'Avenida Brasil', 'Jundiaizinho (Terra Preta)', 'Mairiporã', 'SP', 3528502, 4339, 11, 6671)\n",
      "('07613-705', 'Avenida Galena', 'Mantiqueira', 'Mairiporã', 'SP', 3528502, 4339, 11, 6671)\n",
      "('07601-330', 'Avenida Suécia', \"Olho D'Água\", 'Mairiporã', 'SP', 3528502, 4339, 11, 6671)\n",
      "('07611-390', 'Avenida da Mata', 'Barreiro', 'Mairiporã', 'SP', 3528502, 4339, 11, 6671)\n",
      "('07613-710', 'Avenida Quartzo', 'Mantiqueira', 'Mairiporã', 'SP', 3528502, 4339, 11, 6671)\n",
      "('07619-028', 'Avenida Mariana', 'Roseira', 'Mairiporã', 'SP', 3528502, 4339, 11, 6671)\n",
      "('07613-715', 'Avenida Pérola', 'Mantiqueira', 'Mairiporã', 'SP', 3528502, 4339, 11, 6671)\n",
      "('07627-260', 'Avenida Zuriqui', 'Luiz Fagundes', 'Mairiporã', 'SP', 3528502, 4339, 11, 6671)\n",
      "('07657-205', 'Avenida Everest', 'Mato Dentro', 'Mairiporã', 'SP', 3528502, 4339, 11, 6671)\n",
      "('07613-720', 'Avenida Bauxita', 'Mantiqueira', 'Mairiporã', 'SP', 3528502, 4339, 11, 6671)\n",
      "('07602-280', 'Avenida Montreal', \"Olho D'Água\", 'Mairiporã', 'SP', 3528502, 4339, 11, 6671)\n",
      "('07607-515', 'Avenida Marginal', 'São Vicente', 'Mairiporã', 'SP', 3528502, 4339, 11, 6671)\n",
      "('07612-860', 'Avenida Colônia', 'Boa Vista', 'Mairiporã', 'SP', 3528502, 4339, 11, 6671)\n",
      "('07666-180', 'Avenida Nebraska', 'Corumbá (Terra Preta)', 'Mairiporã', 'SP', 3528502, 4339, 11, 6671)\n",
      "('07632-200', 'Avenida Marginal', 'Rio acima', 'Mairiporã', 'SP', 3528502, 4339, 11, 6671)\n",
      "('07657-180', 'Avenida Himalaia', 'Mato Dentro', 'Mairiporã', 'SP', 3528502, 4339, 11, 6671)\n",
      "('07606-090', 'Avenida Marginal', 'Rio abaixo', 'Mairiporã', 'SP', 3528502, 4339, 11, 6671)\n",
      "('07664-050', 'Avenida das Rosas', 'Jundiaizinho (Terra Preta)', 'Mairiporã', 'SP', 3528502, 4339, 11, 6671)\n",
      "('07621-885', 'Avenida das Rosas', 'Caraguatá', 'Mairiporã', 'SP', 3528502, 4339, 11, 6671)\n",
      "('07663-090', 'Avenida Brasília', 'Jundiaizinho (Terra Preta)', 'Mairiporã', 'SP', 3528502, 4339, 11, 6671)\n",
      "('07604-605', 'Avenida Maranduba', 'Caceia', 'Mairiporã', 'SP', 3528502, 4339, 11, 6671)\n",
      "('07619-188', 'Avenida dos Rubis', 'Roseira', 'Mairiporã', 'SP', 3528502, 4339, 11, 6671)\n",
      "('07664-110', 'Avenida Espraiada', 'Jundiaizinho (Terra Preta)', 'Mairiporã', 'SP', 3528502, 4339, 11, 6671)\n",
      "('07613-660', 'Avenida Esmeralda', 'Mantiqueira', 'Mairiporã', 'SP', 3528502, 4339, 11, 6671)\n",
      "('07625-480', 'Avenida Cancelata', 'Luiz Fagundes', 'Mairiporã', 'SP', 3528502, 4339, 11, 6671)\n",
      "('07664-495', 'Avenida Flamboyant', 'Jundiaizinho (Terra Preta)', 'Mairiporã', 'SP', 3528502, 4339, 11, 6671)\n",
      "('07618-862', 'Avenida São Paulo', 'Roseira', 'Mairiporã', 'SP', 3528502, 4339, 11, 6671)\n",
      "('07619-200', 'Avenida dos Cedros', 'Roseira', 'Mairiporã', 'SP', 3528502, 4339, 11, 6671)\n",
      "('07619-236', 'Avenida Pau Marfim', 'Roseira', 'Mairiporã', 'SP', 3528502, 4339, 11, 6671)\n",
      "('07601-050', 'Avenida Beira Lago', \"Olho D'Água\", 'Mairiporã', 'SP', 3528502, 4339, 11, 6671)\n",
      "('07619-024', 'Avenida Ouro Preto', 'Roseira', 'Mairiporã', 'SP', 3528502, 4339, 11, 6671)\n",
      "('07619-444', 'Avenida dos Bambus', 'Roseira', 'Mairiporã', 'SP', 3528502, 4339, 11, 6671)\n",
      "('07620-120', 'Avenida Caraguatá', 'Cumbari', 'Mairiporã', 'SP', 3528502, 4339, 11, 6671)\n",
      "('07620-100', 'Avenida Campo Baio', 'Cumbari', 'Mairiporã', 'SP', 3528502, 4339, 11, 6671)\n",
      "('07664-070', 'Avenida dos Cravos', 'Jundiaizinho (Terra Preta)', 'Mairiporã', 'SP', 3528502, 4339, 11, 6671)\n",
      "('07664-083', 'Avenida das Tulipas', 'Jundiaizinho (Terra Preta)', 'Mairiporã', 'SP', 3528502, 4339, 11, 6671)\n",
      "('07629-004', 'Avenida Neli Ladeia', 'Capoavinha', 'Mairiporã', 'SP', 3528502, 4339, 11, 6671)\n",
      "('07619-224', 'Avenida dos Angicos', 'Roseira', 'Mairiporã', 'SP', 3528502, 4339, 11, 6671)\n",
      "('07619-460', 'Avenida das Caviunas', 'Roseira', 'Mairiporã', 'SP', 3528502, 4339, 11, 6671)\n",
      "('07611-015', 'Avenida Serra Morena', 'Barreiro', 'Mairiporã', 'SP', 3528502, 4339, 11, 6671)\n"
     ]
    }
   ],
   "source": [
    "select_brnz = f\"\"\"\n",
    "select \n",
    "     cep,\n",
    "     logradouro,\n",
    "     bairro,\n",
    "     localidade,\n",
    "     uf,\n",
    "     ibge,\n",
    "     gia,\n",
    "     ddd,\n",
    "     siafi\n",
    "from tabela_cepavenidamairipora\n",
    "\"\"\"\n",
    "cursor.execute(select_brnz)\n",
    "\n",
    "tables = cursor.fetchall()\n",
    "print(\"resultado tabela:\")\n",
    "for table in tables:\n",
    "    print(table)"
   ]
  },
  {
   "cell_type": "code",
   "execution_count": 19,
   "metadata": {},
   "outputs": [
    {
     "data": {
      "text/plain": [
       "<sqlite3.Cursor at 0x720e61e26340>"
      ]
     },
     "execution_count": 19,
     "metadata": {},
     "output_type": "execute_result"
    }
   ],
   "source": [
    "insert_silver = \"\"\"\n",
    "insert into ttbela_slver_cep(\n",
    "     cep,\n",
    "     logradouro,\n",
    "     bairro,\n",
    "     localidade,\n",
    "     uf,\n",
    "     ibge,\n",
    "     gia,\n",
    "     ddd,\n",
    "     siafi,\n",
    "     dt_igtao\n",
    "     )\n",
    "         select \n",
    "            cast(cep as INTEGER),\n",
    "            logradouro,\n",
    "            bairro,\n",
    "            localidade,\n",
    "            uf,\n",
    "            cast(ibge as INTEGER),\n",
    "            cast(gia as INTEGER),\n",
    "            cast(ddd as INTEGER),\n",
    "            cast(siafi as INTEGER),\n",
    "            strftime('%Y-%m-%d', 'now') AS dt_igtao\n",
    "        from tabela_cepavenidamairipora;\n",
    "\"\"\"\n",
    "cursor.execute(insert_silver)"
   ]
  },
  {
   "cell_type": "code",
   "execution_count": 21,
   "metadata": {},
   "outputs": [
    {
     "name": "stdout",
     "output_type": "stream",
     "text": [
      "Tabelas no banco de dados:\n",
      "tabela_cepavenidamairipora\n",
      "ttbela_slver_cep\n",
      "ttbela_gld_cep\n"
     ]
    }
   ],
   "source": [
    "show_tables_query = \"SELECT name FROM sqlite_master WHERE type='table';\"\n",
    "cursor.execute(show_tables_query)\n",
    "\n",
    "# Recuperar o resultado da consulta e imprimir as tabelas\n",
    "tables = cursor.fetchall()\n",
    "print(\"Tabelas no banco de dados:\")\n",
    "for table in tables:\n",
    "    print(table[0])"
   ]
  },
  {
   "cell_type": "code",
   "execution_count": 20,
   "metadata": {},
   "outputs": [
    {
     "name": "stdout",
     "output_type": "stream",
     "text": [
      "resultado tabela:\n",
      "(7601, 'Avenida Hum', \"Olho D'Água\", 'Mairiporã', 'SP', 3528502, 4339, 11, 6671, '2024-07-24')\n",
      "(7613, 'Avenida Rubi', 'Mantiqueira', 'Mairiporã', 'SP', 3528502, 4339, 11, 6671, '2024-07-24')\n",
      "(7613, 'Avenida Ouro', 'Mantiqueira', 'Mairiporã', 'SP', 3528502, 4339, 11, 6671, '2024-07-24')\n",
      "(7627, 'Avenida Berna', 'Luiz Fagundes', 'Mairiporã', 'SP', 3528502, 4339, 11, 6671, '2024-07-24')\n",
      "(7657, 'Avenida Alpes', 'Mato Dentro', 'Mairiporã', 'SP', 3528502, 4339, 11, 6671, '2024-07-24')\n",
      "(7613, 'Avenida Safira', 'Mantiqueira', 'Mairiporã', 'SP', 3528502, 4339, 11, 6671, '2024-07-24')\n",
      "(7631, 'Avenida Sandra', 'Rio acima', 'Mairiporã', 'SP', 3528502, 4339, 11, 6671, '2024-07-24')\n",
      "(7634, 'Avenida Brasil', 'Lavras', 'Mairiporã', 'SP', 3528502, 4339, 11, 6671, '2024-07-24')\n",
      "(7617, 'Avenida Acesso', 'Juqueri Mirim', 'Mairiporã', 'SP', 3528502, 4339, 11, 6671, '2024-07-24')\n",
      "(7631, 'Avenida do Sol', 'Rio acima', 'Mairiporã', 'SP', 3528502, 4339, 11, 6671, '2024-07-24')\n",
      "(7663, 'Avenida Brasil', 'Jundiaizinho (Terra Preta)', 'Mairiporã', 'SP', 3528502, 4339, 11, 6671, '2024-07-24')\n",
      "(7613, 'Avenida Galena', 'Mantiqueira', 'Mairiporã', 'SP', 3528502, 4339, 11, 6671, '2024-07-24')\n",
      "(7601, 'Avenida Suécia', \"Olho D'Água\", 'Mairiporã', 'SP', 3528502, 4339, 11, 6671, '2024-07-24')\n",
      "(7611, 'Avenida da Mata', 'Barreiro', 'Mairiporã', 'SP', 3528502, 4339, 11, 6671, '2024-07-24')\n",
      "(7613, 'Avenida Quartzo', 'Mantiqueira', 'Mairiporã', 'SP', 3528502, 4339, 11, 6671, '2024-07-24')\n",
      "(7619, 'Avenida Mariana', 'Roseira', 'Mairiporã', 'SP', 3528502, 4339, 11, 6671, '2024-07-24')\n",
      "(7613, 'Avenida Pérola', 'Mantiqueira', 'Mairiporã', 'SP', 3528502, 4339, 11, 6671, '2024-07-24')\n",
      "(7627, 'Avenida Zuriqui', 'Luiz Fagundes', 'Mairiporã', 'SP', 3528502, 4339, 11, 6671, '2024-07-24')\n",
      "(7657, 'Avenida Everest', 'Mato Dentro', 'Mairiporã', 'SP', 3528502, 4339, 11, 6671, '2024-07-24')\n",
      "(7613, 'Avenida Bauxita', 'Mantiqueira', 'Mairiporã', 'SP', 3528502, 4339, 11, 6671, '2024-07-24')\n",
      "(7602, 'Avenida Montreal', \"Olho D'Água\", 'Mairiporã', 'SP', 3528502, 4339, 11, 6671, '2024-07-24')\n",
      "(7607, 'Avenida Marginal', 'São Vicente', 'Mairiporã', 'SP', 3528502, 4339, 11, 6671, '2024-07-24')\n",
      "(7612, 'Avenida Colônia', 'Boa Vista', 'Mairiporã', 'SP', 3528502, 4339, 11, 6671, '2024-07-24')\n",
      "(7666, 'Avenida Nebraska', 'Corumbá (Terra Preta)', 'Mairiporã', 'SP', 3528502, 4339, 11, 6671, '2024-07-24')\n",
      "(7632, 'Avenida Marginal', 'Rio acima', 'Mairiporã', 'SP', 3528502, 4339, 11, 6671, '2024-07-24')\n",
      "(7657, 'Avenida Himalaia', 'Mato Dentro', 'Mairiporã', 'SP', 3528502, 4339, 11, 6671, '2024-07-24')\n",
      "(7606, 'Avenida Marginal', 'Rio abaixo', 'Mairiporã', 'SP', 3528502, 4339, 11, 6671, '2024-07-24')\n",
      "(7664, 'Avenida das Rosas', 'Jundiaizinho (Terra Preta)', 'Mairiporã', 'SP', 3528502, 4339, 11, 6671, '2024-07-24')\n",
      "(7621, 'Avenida das Rosas', 'Caraguatá', 'Mairiporã', 'SP', 3528502, 4339, 11, 6671, '2024-07-24')\n",
      "(7663, 'Avenida Brasília', 'Jundiaizinho (Terra Preta)', 'Mairiporã', 'SP', 3528502, 4339, 11, 6671, '2024-07-24')\n",
      "(7604, 'Avenida Maranduba', 'Caceia', 'Mairiporã', 'SP', 3528502, 4339, 11, 6671, '2024-07-24')\n",
      "(7619, 'Avenida dos Rubis', 'Roseira', 'Mairiporã', 'SP', 3528502, 4339, 11, 6671, '2024-07-24')\n",
      "(7664, 'Avenida Espraiada', 'Jundiaizinho (Terra Preta)', 'Mairiporã', 'SP', 3528502, 4339, 11, 6671, '2024-07-24')\n",
      "(7613, 'Avenida Esmeralda', 'Mantiqueira', 'Mairiporã', 'SP', 3528502, 4339, 11, 6671, '2024-07-24')\n",
      "(7625, 'Avenida Cancelata', 'Luiz Fagundes', 'Mairiporã', 'SP', 3528502, 4339, 11, 6671, '2024-07-24')\n",
      "(7664, 'Avenida Flamboyant', 'Jundiaizinho (Terra Preta)', 'Mairiporã', 'SP', 3528502, 4339, 11, 6671, '2024-07-24')\n",
      "(7618, 'Avenida São Paulo', 'Roseira', 'Mairiporã', 'SP', 3528502, 4339, 11, 6671, '2024-07-24')\n",
      "(7619, 'Avenida dos Cedros', 'Roseira', 'Mairiporã', 'SP', 3528502, 4339, 11, 6671, '2024-07-24')\n",
      "(7619, 'Avenida Pau Marfim', 'Roseira', 'Mairiporã', 'SP', 3528502, 4339, 11, 6671, '2024-07-24')\n",
      "(7601, 'Avenida Beira Lago', \"Olho D'Água\", 'Mairiporã', 'SP', 3528502, 4339, 11, 6671, '2024-07-24')\n",
      "(7619, 'Avenida Ouro Preto', 'Roseira', 'Mairiporã', 'SP', 3528502, 4339, 11, 6671, '2024-07-24')\n",
      "(7619, 'Avenida dos Bambus', 'Roseira', 'Mairiporã', 'SP', 3528502, 4339, 11, 6671, '2024-07-24')\n",
      "(7620, 'Avenida Caraguatá', 'Cumbari', 'Mairiporã', 'SP', 3528502, 4339, 11, 6671, '2024-07-24')\n",
      "(7620, 'Avenida Campo Baio', 'Cumbari', 'Mairiporã', 'SP', 3528502, 4339, 11, 6671, '2024-07-24')\n",
      "(7664, 'Avenida dos Cravos', 'Jundiaizinho (Terra Preta)', 'Mairiporã', 'SP', 3528502, 4339, 11, 6671, '2024-07-24')\n",
      "(7664, 'Avenida das Tulipas', 'Jundiaizinho (Terra Preta)', 'Mairiporã', 'SP', 3528502, 4339, 11, 6671, '2024-07-24')\n",
      "(7629, 'Avenida Neli Ladeia', 'Capoavinha', 'Mairiporã', 'SP', 3528502, 4339, 11, 6671, '2024-07-24')\n",
      "(7619, 'Avenida dos Angicos', 'Roseira', 'Mairiporã', 'SP', 3528502, 4339, 11, 6671, '2024-07-24')\n",
      "(7619, 'Avenida das Caviunas', 'Roseira', 'Mairiporã', 'SP', 3528502, 4339, 11, 6671, '2024-07-24')\n",
      "(7611, 'Avenida Serra Morena', 'Barreiro', 'Mairiporã', 'SP', 3528502, 4339, 11, 6671, '2024-07-24')\n"
     ]
    }
   ],
   "source": [
    "select_slver = 'select * from ttbela_slver_cep'\n",
    "cursor.execute(select_slver)\n",
    "tables = cursor.fetchall()\n",
    "print(\"resultado tabela:\")\n",
    "for table in tables:\n",
    "    print(table)"
   ]
  },
  {
   "cell_type": "code",
   "execution_count": 22,
   "metadata": {},
   "outputs": [
    {
     "name": "stdout",
     "output_type": "stream",
     "text": [
      "cep\n",
      "logradouro\n",
      "bairro\n",
      "localidade\n",
      "uf\n",
      "ibge\n",
      "gia\n",
      "ddd\n",
      "siafi\n",
      "dt_igtao\n"
     ]
    }
   ],
   "source": [
    "cursor.execute(\"PRAGMA table_info(ttbela_slver_cep)\")\n",
    "\n",
    "# Recupere os resultados da consulta\n",
    "colunas = cursor.fetchall()\n",
    "\n",
    "for coluna in colunas:\n",
    "    print(coluna[1])"
   ]
  },
  {
   "cell_type": "code",
   "execution_count": 23,
   "metadata": {},
   "outputs": [],
   "source": [
    "conn.commit()\n",
    "conn.close()"
   ]
  }
 ],
 "metadata": {
  "kernelspec": {
   "display_name": "Python 3",
   "language": "python",
   "name": "python3"
  },
  "language_info": {
   "codemirror_mode": {
    "name": "ipython",
    "version": 3
   },
   "file_extension": ".py",
   "mimetype": "text/x-python",
   "name": "python",
   "nbconvert_exporter": "python",
   "pygments_lexer": "ipython3",
   "version": "3.10.13"
  }
 },
 "nbformat": 4,
 "nbformat_minor": 2
}
