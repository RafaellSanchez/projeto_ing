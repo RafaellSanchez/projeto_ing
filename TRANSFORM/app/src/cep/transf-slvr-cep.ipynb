{
 "cells": [
  {
   "cell_type": "markdown",
   "metadata": {},
   "source": [
    "TRANFORMAÇÃO: Envio de fontes da camada bronze para silver\n",
    "Tabela origem: tabela_cepavenidamairipora \n",
    "Tabela destino: ttbela_slver_cep"
   ]
  },
  {
   "cell_type": "code",
   "execution_count": 15,
   "metadata": {},
   "outputs": [],
   "source": [
    "import pandas as pd\n",
    "import sqlite3"
   ]
  },
  {
   "cell_type": "code",
   "execution_count": 16,
   "metadata": {},
   "outputs": [],
   "source": [
    "bd = 'banco_cep.db'\n",
    "banco_caminho = f'/workspaces/projeto_ing/INGESTION/database/{bd}'\n",
    "conn = sqlite3.connect(banco_caminho)\n",
    "cursor = conn.cursor()"
   ]
  },
  {
   "cell_type": "code",
   "execution_count": 18,
   "metadata": {},
   "outputs": [
    {
     "name": "stdout",
     "output_type": "stream",
     "text": [
      "resultado tabela:\n",
      "('07601-345', 'Avenida Hum', \"Olho D'Água\", 'Mairiporã', 'SP', 3528502, 4339, 11, 6671)\n",
      "('07613-690', 'Avenida Rubi', 'Mantiqueira', 'Mairiporã', 'SP', 3528502, 4339, 11, 6671)\n",
      "('07613-655', 'Avenida Ouro', 'Mantiqueira', 'Mairiporã', 'SP', 3528502, 4339, 11, 6671)\n",
      "('07627-160', 'Avenida Berna', 'Luiz Fagundes', 'Mairiporã', 'SP', 3528502, 4339, 11, 6671)\n",
      "('07657-210', 'Avenida Alpes', 'Mato Dentro', 'Mairiporã', 'SP', 3528502, 4339, 11, 6671)\n",
      "('07613-680', 'Avenida Safira', 'Mantiqueira', 'Mairiporã', 'SP', 3528502, 4339, 11, 6671)\n",
      "('07631-320', 'Avenida Sandra', 'Rio acima', 'Mairiporã', 'SP', 3528502, 4339, 11, 6671)\n",
      "('07634-020', 'Avenida Brasil', 'Lavras', 'Mairiporã', 'SP', 3528502, 4339, 11, 6671)\n",
      "('07617-005', 'Avenida Acesso', 'Juqueri Mirim', 'Mairiporã', 'SP', 3528502, 4339, 11, 6671)\n",
      "('07631-570', 'Avenida do Sol', 'Rio acima', 'Mairiporã', 'SP', 3528502, 4339, 11, 6671)\n",
      "('07663-080', 'Avenida Brasil', 'Jundiaizinho (Terra Preta)', 'Mairiporã', 'SP', 3528502, 4339, 11, 6671)\n",
      "('07613-705', 'Avenida Galena', 'Mantiqueira', 'Mairiporã', 'SP', 3528502, 4339, 11, 6671)\n",
      "('07601-330', 'Avenida Suécia', \"Olho D'Água\", 'Mairiporã', 'SP', 3528502, 4339, 11, 6671)\n",
      "('07611-390', 'Avenida da Mata', 'Barreiro', 'Mairiporã', 'SP', 3528502, 4339, 11, 6671)\n",
      "('07613-710', 'Avenida Quartzo', 'Mantiqueira', 'Mairiporã', 'SP', 3528502, 4339, 11, 6671)\n",
      "('07619-028', 'Avenida Mariana', 'Roseira', 'Mairiporã', 'SP', 3528502, 4339, 11, 6671)\n",
      "('07613-715', 'Avenida Pérola', 'Mantiqueira', 'Mairiporã', 'SP', 3528502, 4339, 11, 6671)\n",
      "('07627-260', 'Avenida Zuriqui', 'Luiz Fagundes', 'Mairiporã', 'SP', 3528502, 4339, 11, 6671)\n",
      "('07657-205', 'Avenida Everest', 'Mato Dentro', 'Mairiporã', 'SP', 3528502, 4339, 11, 6671)\n",
      "('07613-720', 'Avenida Bauxita', 'Mantiqueira', 'Mairiporã', 'SP', 3528502, 4339, 11, 6671)\n",
      "('07602-280', 'Avenida Montreal', \"Olho D'Água\", 'Mairiporã', 'SP', 3528502, 4339, 11, 6671)\n",
      "('07607-515', 'Avenida Marginal', 'São Vicente', 'Mairiporã', 'SP', 3528502, 4339, 11, 6671)\n",
      "('07612-860', 'Avenida Colônia', 'Boa Vista', 'Mairiporã', 'SP', 3528502, 4339, 11, 6671)\n",
      "('07666-180', 'Avenida Nebraska', 'Corumbá (Terra Preta)', 'Mairiporã', 'SP', 3528502, 4339, 11, 6671)\n",
      "('07632-200', 'Avenida Marginal', 'Rio acima', 'Mairiporã', 'SP', 3528502, 4339, 11, 6671)\n",
      "('07657-180', 'Avenida Himalaia', 'Mato Dentro', 'Mairiporã', 'SP', 3528502, 4339, 11, 6671)\n",
      "('07606-090', 'Avenida Marginal', 'Rio abaixo', 'Mairiporã', 'SP', 3528502, 4339, 11, 6671)\n",
      "('07664-050', 'Avenida das Rosas', 'Jundiaizinho (Terra Preta)', 'Mairiporã', 'SP', 3528502, 4339, 11, 6671)\n",
      "('07621-885', 'Avenida das Rosas', 'Caraguatá', 'Mairiporã', 'SP', 3528502, 4339, 11, 6671)\n",
      "('07663-090', 'Avenida Brasília', 'Jundiaizinho (Terra Preta)', 'Mairiporã', 'SP', 3528502, 4339, 11, 6671)\n",
      "('07604-605', 'Avenida Maranduba', 'Caceia', 'Mairiporã', 'SP', 3528502, 4339, 11, 6671)\n",
      "('07619-188', 'Avenida dos Rubis', 'Roseira', 'Mairiporã', 'SP', 3528502, 4339, 11, 6671)\n",
      "('07664-110', 'Avenida Espraiada', 'Jundiaizinho (Terra Preta)', 'Mairiporã', 'SP', 3528502, 4339, 11, 6671)\n",
      "('07613-660', 'Avenida Esmeralda', 'Mantiqueira', 'Mairiporã', 'SP', 3528502, 4339, 11, 6671)\n",
      "('07625-480', 'Avenida Cancelata', 'Luiz Fagundes', 'Mairiporã', 'SP', 3528502, 4339, 11, 6671)\n",
      "('07664-495', 'Avenida Flamboyant', 'Jundiaizinho (Terra Preta)', 'Mairiporã', 'SP', 3528502, 4339, 11, 6671)\n",
      "('07618-862', 'Avenida São Paulo', 'Roseira', 'Mairiporã', 'SP', 3528502, 4339, 11, 6671)\n",
      "('07619-200', 'Avenida dos Cedros', 'Roseira', 'Mairiporã', 'SP', 3528502, 4339, 11, 6671)\n",
      "('07619-236', 'Avenida Pau Marfim', 'Roseira', 'Mairiporã', 'SP', 3528502, 4339, 11, 6671)\n",
      "('07601-050', 'Avenida Beira Lago', \"Olho D'Água\", 'Mairiporã', 'SP', 3528502, 4339, 11, 6671)\n",
      "('07619-024', 'Avenida Ouro Preto', 'Roseira', 'Mairiporã', 'SP', 3528502, 4339, 11, 6671)\n",
      "('07619-444', 'Avenida dos Bambus', 'Roseira', 'Mairiporã', 'SP', 3528502, 4339, 11, 6671)\n",
      "('07620-120', 'Avenida Caraguatá', 'Cumbari', 'Mairiporã', 'SP', 3528502, 4339, 11, 6671)\n",
      "('07620-100', 'Avenida Campo Baio', 'Cumbari', 'Mairiporã', 'SP', 3528502, 4339, 11, 6671)\n",
      "('07664-070', 'Avenida dos Cravos', 'Jundiaizinho (Terra Preta)', 'Mairiporã', 'SP', 3528502, 4339, 11, 6671)\n",
      "('07664-083', 'Avenida das Tulipas', 'Jundiaizinho (Terra Preta)', 'Mairiporã', 'SP', 3528502, 4339, 11, 6671)\n",
      "('07629-004', 'Avenida Neli Ladeia', 'Capoavinha', 'Mairiporã', 'SP', 3528502, 4339, 11, 6671)\n",
      "('07619-224', 'Avenida dos Angicos', 'Roseira', 'Mairiporã', 'SP', 3528502, 4339, 11, 6671)\n",
      "('07619-460', 'Avenida das Caviunas', 'Roseira', 'Mairiporã', 'SP', 3528502, 4339, 11, 6671)\n",
      "('07611-015', 'Avenida Serra Morena', 'Barreiro', 'Mairiporã', 'SP', 3528502, 4339, 11, 6671)\n"
     ]
    }
   ],
   "source": [
    "select_brnz = f\"\"\"\n",
    "select \n",
    "     cep,\n",
    "     logradouro,\n",
    "     bairro,\n",
    "     localidade,\n",
    "     uf,\n",
    "     ibge,\n",
    "     gia,\n",
    "     ddd,\n",
    "     siafi\n",
    "from tabela_cepavenidamairipora\n",
    "\"\"\"\n",
    "cursor.execute(select_brnz)\n",
    "\n",
    "tables = cursor.fetchall()\n",
    "print(\"resultado tabela:\")\n",
    "for table in tables:\n",
    "    print(table)"
   ]
  },
  {
   "cell_type": "code",
   "execution_count": 19,
   "metadata": {},
   "outputs": [
    {
     "data": {
      "text/plain": [
       "<sqlite3.Cursor at 0x720e61e26340>"
      ]
     },
     "execution_count": 19,
     "metadata": {},
     "output_type": "execute_result"
    }
   ],
   "source": [
    "insert_silver = \"\"\"\n",
    "insert into ttbela_slver_cep(\n",
    "     cep,\n",
    "     logradouro,\n",
    "     bairro,\n",
    "     localidade,\n",
    "     uf,\n",
    "     ibge,\n",
    "     gia,\n",
    "     ddd,\n",
    "     siafi,\n",
    "     dt_igtao\n",
    "     )\n",
    "         select \n",
    "            cast(cep as INTEGER),\n",
    "            logradouro,\n",
    "            bairro,\n",
    "            localidade,\n",
    "            uf,\n",
    "            cast(ibge as INTEGER),\n",
    "            cast(gia as INTEGER),\n",
    "            cast(ddd as INTEGER),\n",
    "            cast(siafi as INTEGER),\n",
    "            strftime('%Y-%m-%d', 'now') AS dt_igtao\n",
    "        from tabela_cepavenidamairipora;\n",
    "\"\"\"\n",
    "cursor.execute(insert_silver)"
   ]
  },
  {
   "cell_type": "code",
   "execution_count": 21,
   "metadata": {},
   "outputs": [
    {
     "name": "stdout",
     "output_type": "stream",
     "text": [
      "Tabelas no banco de dados:\n",
      "tabela_cepavenidamairipora\n",
      "ttbela_slver_cep\n",
      "ttbela_gld_cep\n"
     ]
    }
   ],
   "source": [
    "show_tables_query = \"SELECT name FROM sqlite_master WHERE type='table';\"\n",
    "cursor.execute(show_tables_query)\n",
    "\n",
    "# Recuperar o resultado da consulta e imprimir as tabelas\n",
    "tables = cursor.fetchall()\n",
    "print(\"Tabelas no banco de dados:\")\n",
    "for table in tables:\n",
    "    print(table[0])"
   ]
  },
  {
   "cell_type": "code",
   "execution_count": 20,
   "metadata": {},
   "outputs": [
    {
     "name": "stdout",
     "output_type": "stream",
     "text": [
      "resultado tabela:\n",
      "(7601, 'Avenida Hum', \"Olho D'Água\", 'Mairiporã', 'SP', 3528502, 4339, 11, 6671, '2024-07-24')\n",
      "(7613, 'Avenida Rubi', 'Mantiqueira', 'Mairiporã', 'SP', 3528502, 4339, 11, 6671, '2024-07-24')\n",
      "(7613, 'Avenida Ouro', 'Mantiqueira', 'Mairiporã', 'SP', 3528502, 4339, 11, 6671, '2024-07-24')\n",
      "(7627, 'Avenida Berna', 'Luiz Fagundes', 'Mairiporã', 'SP', 3528502, 4339, 11, 6671, '2024-07-24')\n",
      "(7657, 'Avenida Alpes', 'Mato Dentro', 'Mairiporã', 'SP', 3528502, 4339, 11, 6671, '2024-07-24')\n",
      "(7613, 'Avenida Safira', 'Mantiqueira', 'Mairiporã', 'SP', 3528502, 4339, 11, 6671, '2024-07-24')\n",
      "(7631, 'Avenida Sandra', 'Rio acima', 'Mairiporã', 'SP', 3528502, 4339, 11, 6671, '2024-07-24')\n",
      "(7634, 'Avenida Brasil', 'Lavras', 'Mairiporã', 'SP', 3528502, 4339, 11, 6671, '2024-07-24')\n",
      "(7617, 'Avenida Acesso', 'Juqueri Mirim', 'Mairiporã', 'SP', 3528502, 4339, 11, 6671, '2024-07-24')\n",
      "(7631, 'Avenida do Sol', 'Rio acima', 'Mairiporã', 'SP', 3528502, 4339, 11, 6671, '2024-07-24')\n",
      "(7663, 'Avenida Brasil', 'Jundiaizinho (Terra Preta)', 'Mairiporã', 'SP', 3528502, 4339, 11, 6671, '2024-07-24')\n",
      "(7613, 'Avenida Galena', 'Mantiqueira', 'Mairiporã', 'SP', 3528502, 4339, 11, 6671, '2024-07-24')\n",
      "(7601, 'Avenida Suécia', \"Olho D'Água\", 'Mairiporã', 'SP', 3528502, 4339, 11, 6671, '2024-07-24')\n",
      "(7611, 'Avenida da Mata', 'Barreiro', 'Mairiporã', 'SP', 3528502, 4339, 11, 6671, '2024-07-24')\n",
      "(7613, 'Avenida Quartzo', 'Mantiqueira', 'Mairiporã', 'SP', 3528502, 4339, 11, 6671, '2024-07-24')\n",
      "(7619, 'Avenida Mariana', 'Roseira', 'Mairiporã', 'SP', 3528502, 4339, 11, 6671, '2024-07-24')\n",
      "(7613, 'Avenida Pérola', 'Mantiqueira', 'Mairiporã', 'SP', 3528502, 4339, 11, 6671, '2024-07-24')\n",
      "(7627, 'Avenida Zuriqui', 'Luiz Fagundes', 'Mairiporã', 'SP', 3528502, 4339, 11, 6671, '2024-07-24')\n",
      "(7657, 'Avenida Everest', 'Mato Dentro', 'Mairiporã', 'SP', 3528502, 4339, 11, 6671, '2024-07-24')\n",
      "(7613, 'Avenida Bauxita', 'Mantiqueira', 'Mairiporã', 'SP', 3528502, 4339, 11, 6671, '2024-07-24')\n",
      "(7602, 'Avenida Montreal', \"Olho D'Água\", 'Mairiporã', 'SP', 3528502, 4339, 11, 6671, '2024-07-24')\n",
      "(7607, 'Avenida Marginal', 'São Vicente', 'Mairiporã', 'SP', 3528502, 4339, 11, 6671, '2024-07-24')\n",
      "(7612, 'Avenida Colônia', 'Boa Vista', 'Mairiporã', 'SP', 3528502, 4339, 11, 6671, '2024-07-24')\n",
      "(7666, 'Avenida Nebraska', 'Corumbá (Terra Preta)', 'Mairiporã', 'SP', 3528502, 4339, 11, 6671, '2024-07-24')\n",
      "(7632, 'Avenida Marginal', 'Rio acima', 'Mairiporã', 'SP', 3528502, 4339, 11, 6671, '2024-07-24')\n",
      "(7657, 'Avenida Himalaia', 'Mato Dentro', 'Mairiporã', 'SP', 3528502, 4339, 11, 6671, '2024-07-24')\n",
      "(7606, 'Avenida Marginal', 'Rio abaixo', 'Mairiporã', 'SP', 3528502, 4339, 11, 6671, '2024-07-24')\n",
      "(7664, 'Avenida das Rosas', 'Jundiaizinho (Terra Preta)', 'Mairiporã', 'SP', 3528502, 4339, 11, 6671, '2024-07-24')\n",
      "(7621, 'Avenida das Rosas', 'Caraguatá', 'Mairiporã', 'SP', 3528502, 4339, 11, 6671, '2024-07-24')\n",
      "(7663, 'Avenida Brasília', 'Jundiaizinho (Terra Preta)', 'Mairiporã', 'SP', 3528502, 4339, 11, 6671, '2024-07-24')\n",
      "(7604, 'Avenida Maranduba', 'Caceia', 'Mairiporã', 'SP', 3528502, 4339, 11, 6671, '2024-07-24')\n",
      "(7619, 'Avenida dos Rubis', 'Roseira', 'Mairiporã', 'SP', 3528502, 4339, 11, 6671, '2024-07-24')\n",
      "(7664, 'Avenida Espraiada', 'Jundiaizinho (Terra Preta)', 'Mairiporã', 'SP', 3528502, 4339, 11, 6671, '2024-07-24')\n",
      "(7613, 'Avenida Esmeralda', 'Mantiqueira', 'Mairiporã', 'SP', 3528502, 4339, 11, 6671, '2024-07-24')\n",
      "(7625, 'Avenida Cancelata', 'Luiz Fagundes', 'Mairiporã', 'SP', 3528502, 4339, 11, 6671, '2024-07-24')\n",
      "(7664, 'Avenida Flamboyant', 'Jundiaizinho (Terra Preta)', 'Mairiporã', 'SP', 3528502, 4339, 11, 6671, '2024-07-24')\n",
      "(7618, 'Avenida São Paulo', 'Roseira', 'Mairiporã', 'SP', 3528502, 4339, 11, 6671, '2024-07-24')\n",
      "(7619, 'Avenida dos Cedros', 'Roseira', 'Mairiporã', 'SP', 3528502, 4339, 11, 6671, '2024-07-24')\n",
      "(7619, 'Avenida Pau Marfim', 'Roseira', 'Mairiporã', 'SP', 3528502, 4339, 11, 6671, '2024-07-24')\n",
      "(7601, 'Avenida Beira Lago', \"Olho D'Água\", 'Mairiporã', 'SP', 3528502, 4339, 11, 6671, '2024-07-24')\n",
      "(7619, 'Avenida Ouro Preto', 'Roseira', 'Mairiporã', 'SP', 3528502, 4339, 11, 6671, '2024-07-24')\n",
      "(7619, 'Avenida dos Bambus', 'Roseira', 'Mairiporã', 'SP', 3528502, 4339, 11, 6671, '2024-07-24')\n",
      "(7620, 'Avenida Caraguatá', 'Cumbari', 'Mairiporã', 'SP', 3528502, 4339, 11, 6671, '2024-07-24')\n",
      "(7620, 'Avenida Campo Baio', 'Cumbari', 'Mairiporã', 'SP', 3528502, 4339, 11, 6671, '2024-07-24')\n",
      "(7664, 'Avenida dos Cravos', 'Jundiaizinho (Terra Preta)', 'Mairiporã', 'SP', 3528502, 4339, 11, 6671, '2024-07-24')\n",
      "(7664, 'Avenida das Tulipas', 'Jundiaizinho (Terra Preta)', 'Mairiporã', 'SP', 3528502, 4339, 11, 6671, '2024-07-24')\n",
      "(7629, 'Avenida Neli Ladeia', 'Capoavinha', 'Mairiporã', 'SP', 3528502, 4339, 11, 6671, '2024-07-24')\n",
      "(7619, 'Avenida dos Angicos', 'Roseira', 'Mairiporã', 'SP', 3528502, 4339, 11, 6671, '2024-07-24')\n",
      "(7619, 'Avenida das Caviunas', 'Roseira', 'Mairiporã', 'SP', 3528502, 4339, 11, 6671, '2024-07-24')\n",
      "(7611, 'Avenida Serra Morena', 'Barreiro', 'Mairiporã', 'SP', 3528502, 4339, 11, 6671, '2024-07-24')\n"
     ]
    }
   ],
   "source": [
    "select_slver = 'select * from ttbela_slver_cep'\n",
    "cursor.execute(select_slver)\n",
    "tables = cursor.fetchall()\n",
    "print(\"resultado tabela:\")\n",
    "for table in tables:\n",
    "    print(table)"
   ]
  },
  {
   "cell_type": "code",
   "execution_count": 22,
   "metadata": {},
   "outputs": [
    {
     "name": "stdout",
     "output_type": "stream",
     "text": [
      "cep\n",
      "logradouro\n",
      "bairro\n",
      "localidade\n",
      "uf\n",
      "ibge\n",
      "gia\n",
      "ddd\n",
      "siafi\n",
      "dt_igtao\n"
     ]
    }
   ],
   "source": [
    "cursor.execute(\"PRAGMA table_info(ttbela_slver_cep)\")\n",
    "\n",
    "# Recupere os resultados da consulta\n",
    "colunas = cursor.fetchall()\n",
    "\n",
    "for coluna in colunas:\n",
    "    print(coluna[1])"
   ]
  },
  {
   "cell_type": "code",
   "execution_count": 23,
   "metadata": {},
   "outputs": [],
   "source": [
    "conn.commit()\n",
    "conn.close()"
   ]
  }
 ],
 "metadata": {
  "kernelspec": {
   "display_name": "Python 3",
   "language": "python",
   "name": "python3"
  },
  "language_info": {
   "codemirror_mode": {
    "name": "ipython",
    "version": 3
   },
   "file_extension": ".py",
   "mimetype": "text/x-python",
   "name": "python",
   "nbconvert_exporter": "python",
   "pygments_lexer": "ipython3",
   "version": "3.10.13"
  }
 },
 "nbformat": 4,
 "nbformat_minor": 2
}
