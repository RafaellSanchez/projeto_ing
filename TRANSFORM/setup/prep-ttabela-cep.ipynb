{
 "cells": [
  {
   "cell_type": "code",
   "execution_count": 1,
   "metadata": {},
   "outputs": [],
   "source": [
    "import sqlite3"
   ]
  },
  {
   "cell_type": "code",
   "execution_count": 2,
   "metadata": {},
   "outputs": [],
   "source": [
    "bd = 'banco_cep.db'\n",
    "banco_caminho = f'/workspaces/projeto_ing/INGESTION/database/{bd}'\n",
    "conn = sqlite3.connect(banco_caminho)\n",
    "cursor = conn.cursor()"
   ]
  },
  {
   "cell_type": "code",
   "execution_count": 3,
   "metadata": {},
   "outputs": [
    {
     "data": {
      "text/plain": [
       "<sqlite3.Cursor at 0x79b03be82fc0>"
      ]
     },
     "execution_count": 3,
     "metadata": {},
     "output_type": "execute_result"
    }
   ],
   "source": [
    "delete = 'drop table ttbela_slver_cep'\n",
    "cursor.execute(delete)"
   ]
  },
  {
   "cell_type": "code",
   "execution_count": 4,
   "metadata": {},
   "outputs": [
    {
     "name": "stdout",
     "output_type": "stream",
     "text": [
      "tabela silver criada!\n"
     ]
    }
   ],
   "source": [
    "create_silver = \"\"\"\n",
    "create table if not exists ttbela_slver_cep(\n",
    "    logradouro TEXT,\n",
    "    bairro TEXT,\n",
    "    localidade TEXT,\n",
    "    uf TEXT,\n",
    "    ibge INTEGER,\n",
    "    gia INTEGER,\n",
    "    ddd INTEGER,\n",
    "    siafi INTEGER,\n",
    "    ccep INTEGER,\n",
    "    ccep_loc INTEGER,\n",
    "    ccep_compl INTEGER,\n",
    "    dt_igtao DATE \n",
    ");\n",
    "\"\"\"\n",
    "cursor.execute(create_silver)\n",
    "print('tabela silver criada!')"
   ]
  },
  {
   "cell_type": "code",
   "execution_count": 18,
   "metadata": {},
   "outputs": [
    {
     "name": "stdout",
     "output_type": "stream",
     "text": [
      "tabela gold criada!\n"
     ]
    }
   ],
   "source": [
    "create_gold = \"\"\"\n",
    "create table if not exists ttbela_gld_cep(\n",
    "    logradouro TEXT,\n",
    "    bairro TEXT,\n",
    "    localidade TEXT,\n",
    "    uf TEXT,\n",
    "    ibge INTEGER,\n",
    "    gia INTEGER,\n",
    "    ddd INTEGER,\n",
    "    siafi INTEGER,\n",
    "    ccep INTEGER,\n",
    "    ccep_loc INTEGER,\n",
    "    ccep_compl INTEGER,\n",
    "    dt_igtao DATE \n",
    ");\n",
    "\"\"\"\n",
    "cursor.execute(create_gold)\n",
    "print('tabela gold criada!')"
   ]
  },
  {
   "cell_type": "code",
   "execution_count": 19,
   "metadata": {},
   "outputs": [],
   "source": [
    "conn.commit()\n",
    "conn.close()"
   ]
  }
 ],
 "metadata": {
  "kernelspec": {
   "display_name": "Python 3",
   "language": "python",
   "name": "python3"
  },
  "language_info": {
   "codemirror_mode": {
    "name": "ipython",
    "version": 3
   },
   "file_extension": ".py",
   "mimetype": "text/x-python",
   "name": "python",
   "nbconvert_exporter": "python",
   "pygments_lexer": "ipython3",
   "version": "3.10.13"
  }
 },
 "nbformat": 4,
 "nbformat_minor": 2
}
