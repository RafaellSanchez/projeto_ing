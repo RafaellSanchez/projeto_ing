{
 "cells": [
  {
   "cell_type": "code",
   "execution_count": 20,
   "metadata": {},
   "outputs": [],
   "source": [
    "import os\n",
    "import json\n",
    "import sqlite3\n",
    "import pandas as pd\n",
    "import shutil\n",
    "from datetime import datetime\n",
    "\n",
    "timestamp = datetime.now().strftime('%Y%m%d_%H%M%S')\n",
    "data_igtao = datetime.now().strftime('%Y-%m-%d')\n",
    "\n",
    "caminho_backup = '/workspaces/projeto_ing/INGESTION/app/src/backp/'\n",
    "ctrl_ing = \"/workspaces/projeto_ing/INGESTION/app/src/archiving_ctrl/arquivo_controle.txt\"\n",
    "landing = '/workspaces/projeto_ing/INGESTION/app/src/landing/'\n",
    "layouts = '/workspaces/projeto_ing/INGESTION/app/src/tmp/layouts/'"
   ]
  },
  {
   "cell_type": "code",
   "execution_count": 21,
   "metadata": {},
   "outputs": [
    {
     "name": "stdout",
     "output_type": "stream",
     "text": [
      "Conteúdos do diretório 'landing': ['resultado_teste2_20242306_215405.txt']\n",
      "Conteúdos do diretório 'layouts': ['teste']\n",
      "===============================================\n"
     ]
    }
   ],
   "source": [
    "read_landing = os.listdir(landing)\n",
    "print(\"Conteúdos do diretório 'landing':\", read_landing)\n",
    "read_layouts = os.listdir(layouts)\n",
    "print(\"Conteúdos do diretório 'layouts':\", read_layouts)\n",
    "print('===============================================')"
   ]
  },
  {
   "cell_type": "code",
   "execution_count": 30,
   "metadata": {},
   "outputs": [
    {
     "name": "stdout",
     "output_type": "stream",
     "text": [
      "========================\n",
      "item encontrado no diretório: teste\n",
      "========================\n",
      " conteudo: ['estrutura.json', 'tabela_teste2.json', 'tabela_teste.json']\n",
      "Encontrado estrutura.json em teste\n",
      "Configuração estrutura: [{'nome_arquivo': 'resultado_teste_', 'descricao': 'tabela teste', 'chave': {'palavra_chave': 'teste', 'banco': 'banco_teste.db', 'tabela': 'tabela_teste'}}, {'nome_arquivo': 'resultado_teste2_', 'descricao': 'tabela teste 2', 'chave': {'palavra_chave': 'teste2', 'banco': 'banco_teste.db', 'tabela': 'tabela_teste_2'}}]\n",
      "=======================\n",
      "{'nome_arquivo': 'resultado_teste_', 'descricao': 'tabela teste', 'chave': {'palavra_chave': 'teste', 'banco': 'banco_teste.db', 'tabela': 'tabela_teste'}}\n",
      "resultado_teste_\n",
      "teste\n",
      "banco_teste.db\n",
      "tabela_teste\n",
      "=======================\n",
      "Procurando em /workspaces/projeto_ing/INGESTION/app/src/landing/...\n",
      "Verificando arquivo: resultado_teste2_20242306_215405.txt\n",
      "Arquivo contendo a chave encontrado: /workspaces/projeto_ing/INGESTION/app/src/landing/resultado_teste2_20242306_215405.txt\n",
      "Conteúdo a gravar: resultado_teste2_20242306_215405.txt\n",
      "Separando nome do arquivo: teste2\n",
      "=======================\n",
      "{'nome_arquivo': 'resultado_teste2_', 'descricao': 'tabela teste 2', 'chave': {'palavra_chave': 'teste2', 'banco': 'banco_teste.db', 'tabela': 'tabela_teste_2'}}\n",
      "resultado_teste2_\n",
      "teste2\n",
      "banco_teste.db\n",
      "tabela_teste_2\n",
      "=======================\n",
      "Procurando em /workspaces/projeto_ing/INGESTION/app/src/landing/...\n",
      "Verificando arquivo: resultado_teste2_20242306_215405.txt\n",
      "Arquivo contendo a chave encontrado: /workspaces/projeto_ing/INGESTION/app/src/landing/resultado_teste2_20242306_215405.txt\n",
      "Conteúdo a gravar: resultado_teste2_20242306_215405.txt\n",
      "Separando nome do arquivo: teste2\n"
     ]
    }
   ],
   "source": [
    "for item in read_layouts:\n",
    "    accept = os.path.join(layouts, item)\n",
    "    if os.path.isdir(accept):\n",
    "        print('========================')\n",
    "        print(f'item encontrado no diretório: {item}')\n",
    "        subconteudos = os.listdir(accept)\n",
    "        print('========================')\n",
    "        print(f' conteudo: {subconteudos}')\n",
    "        \n",
    "        caminho_estrutura_json = os.path.join(accept, 'estrutura.json')\n",
    "        if os.path.exists(caminho_estrutura_json):\n",
    "            print(f'Encontrado estrutura.json em {item}')\n",
    "            \n",
    "            with open(caminho_estrutura_json, 'r') as f:\n",
    "                    config_estrutura = json.load(f)\n",
    "                    print(\"Configuração estrutura:\", config_estrutura)\n",
    "                    \n",
    "                    for estr in config_estrutura:\n",
    "                        nm_arq = estr['nome_arquivo']\n",
    "                        key = estr['chave']['palavra_chave']\n",
    "                        banco = estr['chave']['banco']\n",
    "                        tabela = estr['chave']['tabela']\n",
    "                        print('=======================')\n",
    "                        print(estr)\n",
    "                        print(nm_arq)\n",
    "                        print(key)\n",
    "                        print(banco)\n",
    "                        print(tabela)\n",
    "                        print('=======================')\n",
    "                        \n",
    "                        for root, dirs, lista in os.walk(landing):\n",
    "                            print(f'Procurando em {root}...')\n",
    "                            for nome_arquivo in lista:\n",
    "                                print(f'Verificando arquivo: {nome_arquivo}')\n",
    "                                if key in nome_arquivo:\n",
    "                                    caminho_completo = os.path.join(root, nome_arquivo)\n",
    "                                    print(f'Arquivo contendo a chave encontrado: {caminho_completo}')\n",
    "                                    sav = os.path.basename(caminho_completo)\n",
    "                                    print(f'Conteúdo a gravar: {sav}')\n",
    "                                    \n",
    "                                    parte_util = sav.split('_')[1]\n",
    "                                    print(f'Separando nome do arquivo: {parte_util}')\n",
    "                        "
   ]
  },
  {
   "cell_type": "code",
   "execution_count": null,
   "metadata": {},
   "outputs": [],
   "source": []
  }
 ],
 "metadata": {
  "kernelspec": {
   "display_name": "Python 3",
   "language": "python",
   "name": "python3"
  },
  "language_info": {
   "codemirror_mode": {
    "name": "ipython",
    "version": 3
   },
   "file_extension": ".py",
   "mimetype": "text/x-python",
   "name": "python",
   "nbconvert_exporter": "python",
   "pygments_lexer": "ipython3",
   "version": "3.10.13"
  }
 },
 "nbformat": 4,
 "nbformat_minor": 2
}
