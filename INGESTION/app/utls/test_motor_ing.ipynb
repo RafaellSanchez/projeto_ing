{
 "cells": [
  {
   "cell_type": "code",
   "execution_count": 1,
   "metadata": {},
   "outputs": [],
   "source": [
    "import os\n",
    "import json\n",
    "import sqlite3\n",
    "import pandas as pd\n",
    "import shutil\n",
    "from datetime import datetime"
   ]
  },
  {
   "cell_type": "code",
   "execution_count": 2,
   "metadata": {},
   "outputs": [],
   "source": [
    "timestamp = datetime.now().strftime('%Y%m%d_%H%M%S')\n",
    "data_igtao = datetime.now().strftime('%Y-%m-%d')"
   ]
  },
  {
   "cell_type": "code",
   "execution_count": 15,
   "metadata": {},
   "outputs": [],
   "source": [
    "caminho_backup = '/workspaces/projeto_ing/INGESTION/app/src/backp/'\n",
    "ctrl_ing = \"/workspaces/projeto_ing/INGESTION/app/src/archiving_ctrl/arquivo_controle.txt\"\n",
    "landing = '/workspaces/projeto_ing/INGESTION/app/src/landing/'\n",
    "layouts = '/workspaces/projeto_ing/INGESTION/app/src/layouts/'"
   ]
  },
  {
   "cell_type": "code",
   "execution_count": 16,
   "metadata": {},
   "outputs": [
    {
     "name": "stdout",
     "output_type": "stream",
     "text": [
      "Conteúdos do diretório 'landing': []\n"
     ]
    }
   ],
   "source": [
    "read = os.listdir(landing)\n",
    "print(\"Conteúdos do diretório 'landing':\", read)"
   ]
  },
  {
   "cell_type": "code",
   "execution_count": 24,
   "metadata": {},
   "outputs": [],
   "source": [
    "def listando_landing (arquivo_landing):\n",
    "    read_landing = os.listdir(arquivo_landing)\n",
    "    print(\"Conteúdos do diretório 'landing':\", read_landing)\n",
    "    return read_landing\n",
    "\n",
    "def listando_layouts (arquivo_layouts):\n",
    "    read_layout = os.listdir(arquivo_layouts)\n",
    "    print(\"Conteúdos do diretório 'layouts':\", read_layout)\n",
    "    return read_layout\n"
   ]
  },
  {
   "cell_type": "code",
   "execution_count": 25,
   "metadata": {},
   "outputs": [
    {
     "name": "stdout",
     "output_type": "stream",
     "text": [
      "Conteúdos do diretório 'landing': ['resultado_teste_20242506_202032.txt']\n"
     ]
    },
    {
     "data": {
      "text/plain": [
       "['resultado_teste_20242506_202032.txt']"
      ]
     },
     "execution_count": 25,
     "metadata": {},
     "output_type": "execute_result"
    }
   ],
   "source": [
    "listando_landing(landing)"
   ]
  },
  {
   "cell_type": "code",
   "execution_count": 27,
   "metadata": {},
   "outputs": [
    {
     "name": "stdout",
     "output_type": "stream",
     "text": [
      "Conteúdos do diretório 'landing': ['resultado_teste_20242506_202032.txt']\n",
      "Conteúdos do diretório 'layouts': ['teste', 'geo', 'car', 'bank', 'cep', 'caldr']\n"
     ]
    },
    {
     "data": {
      "text/plain": [
       "['teste', 'geo', 'car', 'bank', 'cep', 'caldr']"
      ]
     },
     "execution_count": 27,
     "metadata": {},
     "output_type": "execute_result"
    }
   ],
   "source": [
    "listando_landing(landing)\n",
    "listando_layouts(layouts)"
   ]
  },
  {
   "cell_type": "code",
   "execution_count": 8,
   "metadata": {},
   "outputs": [],
   "source": [
    "def listando_landing (landing):\n",
    "    read_landing = os.listdir()\n",
    "    return read_landing"
   ]
  },
  {
   "cell_type": "code",
   "execution_count": 11,
   "metadata": {},
   "outputs": [
    {
     "name": "stdout",
     "output_type": "stream",
     "text": [
      "<function listando_landing at 0x75f6639a39a0>\n"
     ]
    }
   ],
   "source": []
  },
  {
   "cell_type": "code",
   "execution_count": null,
   "metadata": {},
   "outputs": [],
   "source": [
    "def listando_landing (read_landing):\n",
    "    read_landing = os.listdir()\n",
    "    return\n",
    "\n",
    "    \n",
    "\n",
    "\n",
    "read_landing = os.listdir(landing)\n",
    "print(\"Conteúdos do diretório 'landing':\", read_landing)\n",
    "read_layouts = os.listdir(layouts)\n",
    "print(\"Conteúdos do diretório 'layouts':\", read_layouts)\n",
    "print('===============================================')"
   ]
  }
 ],
 "metadata": {
  "kernelspec": {
   "display_name": "Python 3",
   "language": "python",
   "name": "python3"
  },
  "language_info": {
   "codemirror_mode": {
    "name": "ipython",
    "version": 3
   },
   "file_extension": ".py",
   "mimetype": "text/x-python",
   "name": "python",
   "nbconvert_exporter": "python",
   "pygments_lexer": "ipython3",
   "version": "3.10.13"
  }
 },
 "nbformat": 4,
 "nbformat_minor": 2
}
